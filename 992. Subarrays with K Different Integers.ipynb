{
 "cells": [
  {
   "cell_type": "markdown",
   "id": "923ef13c",
   "metadata": {},
   "source": [
    "# 992. Subarrays with K Different Integers"
   ]
  },
  {
   "cell_type": "markdown",
   "id": "4ec5950d",
   "metadata": {},
   "source": [
    "Given an integer array `nums` and an integer `k`, return the number of **good subarrays** of `nums`.\n",
    "\n",
    "A **good array** is an array where the number of different integers in that array is exactly `k`.\n",
    "\n",
    "* For example, `[1,2,3,1,2]` has `3` different integers: `1`, `2`, and `3`.\n",
    "\n",
    "A **subarray** is a **contiguous** part of an array.\n",
    "\n",
    "<https://leetcode.com/problems/subarrays-with-k-different-integers/?envType=daily-question&envId=2024-03-30>\n",
    "\n",
    "**Constraint:**\n",
    "* <code>1 <= nums.length <= 2 * 10<sup>4</sup></code>\n",
    "* `1 <= nums[i], k <= nums.length`"
   ]
  },
  {
   "cell_type": "markdown",
   "id": "f8c3990c",
   "metadata": {},
   "source": [
    "Example 1:  \n",
    "> **Input:** nums = [1,2,1,2,3], k = 2  \n",
    "> **Output:** 7  \n",
    "> **Explanation:** Subarrays formed with exactly 2 different integers: [1,2], [2,1], [1,2], [2,3], [1,2,1], [2,1,2], [1,2,1,2]"
   ]
  },
  {
   "cell_type": "markdown",
   "id": "ce81b863",
   "metadata": {},
   "source": [
    "Example 2:  \n",
    "> **Input:** nums = [1,2,1,3,4], k = 3  \n",
    "> **Output:** 3  \n",
    "> **Explanation:** Subarrays formed with exactly 3 different integers: [1,2,1,3], [2,1,3], [1,3,4]."
   ]
  },
  {
   "cell_type": "code",
   "execution_count": 1,
   "id": "e3f59cde",
   "metadata": {},
   "outputs": [],
   "source": [
    "from typing import List\n",
    "\n",
    "class Solution:\n",
    "    def subarraysWithKDistinct(self, nums: List[int], k: int) -> int:\n",
    "        record = {}\n",
    "        l = temp = result = 0\n",
    "        for r, n in enumerate(nums):\n",
    "            record[n] = record.get(n, 0) + 1\n",
    "            \n",
    "            while len(record) > k:\n",
    "                if record[nums[l]] == 1:\n",
    "                    del record[nums[l]]\n",
    "                else:\n",
    "                    record[nums[l]] -= 1\n",
    "                l += 1\n",
    "                temp = l\n",
    "            \n",
    "            while record[nums[l]] > 1 and len(record) == k:\n",
    "                record[nums[l]] -= 1\n",
    "                l += 1\n",
    "            \n",
    "            if len(record) == k:\n",
    "                result += l - temp + 1\n",
    "        \n",
    "        return result\n",
    "    \n",
    "    def display(self, nums: List[int], k: int) -> None:\n",
    "        result = self.subarraysWithKDistinct(nums, k)\n",
    "        print(f\"Result: {result}\")"
   ]
  },
  {
   "cell_type": "code",
   "execution_count": 2,
   "id": "ad284d0b",
   "metadata": {},
   "outputs": [
    {
     "name": "stdout",
     "output_type": "stream",
     "text": [
      "Result: 7\n"
     ]
    }
   ],
   "source": [
    "# Example 1\n",
    "\n",
    "nums = [1, 2, 1, 2, 3]\n",
    "k = 2\n",
    "Solution().display(nums, k)"
   ]
  },
  {
   "cell_type": "code",
   "execution_count": 3,
   "id": "423c4ee1",
   "metadata": {},
   "outputs": [
    {
     "name": "stdout",
     "output_type": "stream",
     "text": [
      "Result: 3\n"
     ]
    }
   ],
   "source": [
    "# Example 2\n",
    "\n",
    "nums = [1, 2, 1, 3, 4]\n",
    "k = 3\n",
    "Solution().display(nums, k)"
   ]
  },
  {
   "cell_type": "markdown",
   "id": "ad0774b8",
   "metadata": {},
   "source": [
    "**Idea:**  \n",
    "* Step1: Iterate the input list.\n",
    "* Step2: Record the current element.\n",
    "* Step3: Modifty the slide window and calculate the subarray.\n",
    "\n",
    "**Time Complexity:** $O(n)$  \n",
    "<img src=\"./Images/992-1.png\" width=\"500\">"
   ]
  }
 ],
 "metadata": {
  "kernelspec": {
   "display_name": "Python 3 (ipykernel)",
   "language": "python",
   "name": "python3"
  },
  "language_info": {
   "codemirror_mode": {
    "name": "ipython",
    "version": 3
   },
   "file_extension": ".py",
   "mimetype": "text/x-python",
   "name": "python",
   "nbconvert_exporter": "python",
   "pygments_lexer": "ipython3",
   "version": "3.9.13"
  }
 },
 "nbformat": 4,
 "nbformat_minor": 5
}
