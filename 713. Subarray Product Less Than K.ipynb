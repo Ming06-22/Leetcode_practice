{
 "cells": [
  {
   "cell_type": "markdown",
   "id": "923ef13c",
   "metadata": {},
   "source": [
    "# 713. Subarray Product Less Than K"
   ]
  },
  {
   "cell_type": "markdown",
   "id": "4ec5950d",
   "metadata": {},
   "source": [
    "Given an array of integers `nums` and an integer `k`, return the number of contiguous subarrays where the product of all the elements in the subarray is strictly less than `k`.\n",
    "\n",
    "<https://leetcode.com/problems/subarray-product-less-than-k/?envType=daily-question&envId=2024-03-27>\n",
    "\n",
    "**Constraint:**\n",
    "* <code>1 <= nums.length <= 3 * 10<sup>4</sup></code>\n",
    "* `1 <= nums[i] <= 1000`\n",
    "* <code>0 <= k <= 10<sup>6</sup></code>"
   ]
  },
  {
   "cell_type": "markdown",
   "id": "f8c3990c",
   "metadata": {},
   "source": [
    "Example 1:  \n",
    "> **Input:** nums = [10,5,2,6], k = 100  \n",
    "> **Output:** 8  \n",
    "> **Explanation:** The 8 subarrays that have product less than 100 are:  \n",
    "[10], [5], [2], [6], [10, 5], [5, 2], [2, 6], [5, 2, 6]  \n",
    "Note that [10, 5, 2] is not included as the product of 100 is not strictly less than k."
   ]
  },
  {
   "cell_type": "markdown",
   "id": "08db8c5f",
   "metadata": {},
   "source": [
    "Example 2:  \n",
    "> **Input:** nums = [1,2,3], k = 0  \n",
    "> **Output:** 0"
   ]
  },
  {
   "cell_type": "code",
   "execution_count": 1,
   "id": "e3f59cde",
   "metadata": {},
   "outputs": [],
   "source": [
    "from typing import List\n",
    "\n",
    "class Solution:\n",
    "    def numSubarrayProductLessThanK(self, nums: List[int], k: int) -> int:\n",
    "        result, product = 0, 1\n",
    "        left = 0\n",
    "        for right in range(len(nums)):\n",
    "            product *= nums[right]\n",
    "            while product >= k and left < right:\n",
    "                product /= nums[left]\n",
    "                left += 1\n",
    "            if product < k:\n",
    "                result += right - left + 1\n",
    "\n",
    "        return result\n",
    "    \n",
    "    def display(self, nums: List[int], k: int) -> None:\n",
    "        result = self.numSubarrayProductLessThanK(nums, k)\n",
    "        print(f\"Result: {result}\")"
   ]
  },
  {
   "cell_type": "code",
   "execution_count": 2,
   "id": "ad284d0b",
   "metadata": {},
   "outputs": [
    {
     "name": "stdout",
     "output_type": "stream",
     "text": [
      "Result: 8\n"
     ]
    }
   ],
   "source": [
    "# Example 1\n",
    "\n",
    "nums = [10, 5, 2, 6]\n",
    "k = 100\n",
    "Solution().display(nums, k)"
   ]
  },
  {
   "cell_type": "code",
   "execution_count": 3,
   "id": "7b8be14a",
   "metadata": {
    "scrolled": true
   },
   "outputs": [
    {
     "name": "stdout",
     "output_type": "stream",
     "text": [
      "Result: 0\n"
     ]
    }
   ],
   "source": [
    "# Example 2\n",
    "\n",
    "nums = [1, 2, 3]\n",
    "k = 0\n",
    "Solution().display(nums, k)"
   ]
  },
  {
   "cell_type": "markdown",
   "id": "ad0774b8",
   "metadata": {},
   "source": [
    "**Idea:**  \n",
    "* Step1: Iterate the input list.\n",
    "* Step2: Multiply the prdoct by the current value.\n",
    "* Step3: Move the window.\n",
    "\n",
    "**Time Complexity:** $O(n)$  \n",
    "<img src=\"./Images/713-1.png\" width=\"500\">"
   ]
  }
 ],
 "metadata": {
  "kernelspec": {
   "display_name": "Python 3 (ipykernel)",
   "language": "python",
   "name": "python3"
  },
  "language_info": {
   "codemirror_mode": {
    "name": "ipython",
    "version": 3
   },
   "file_extension": ".py",
   "mimetype": "text/x-python",
   "name": "python",
   "nbconvert_exporter": "python",
   "pygments_lexer": "ipython3",
   "version": "3.9.13"
  }
 },
 "nbformat": 4,
 "nbformat_minor": 5
}
