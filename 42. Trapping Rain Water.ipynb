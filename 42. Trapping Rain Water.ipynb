{
 "cells": [
  {
   "cell_type": "markdown",
   "id": "923ef13c",
   "metadata": {},
   "source": [
    "# 42. Trapping Rain Water"
   ]
  },
  {
   "cell_type": "markdown",
   "id": "4ec5950d",
   "metadata": {},
   "source": [
    "Given `n` non-negative integers representing an elevation map where the width of each bar is `1`, compute how much water it can trap after raining.\n",
    "\n",
    "<https://leetcode.com/problems/trapping-rain-water/?envType=daily-question&envId=2024-04-12>\n",
    "\n",
    "**Constraint:**\n",
    "* `n == height.length`\n",
    "* <code>1 <= n <= 2 * 10<sup>4</sup></code>\n",
    "* <code>0 <= height[i] <= 10<sup>5</sup></code>"
   ]
  },
  {
   "cell_type": "markdown",
   "id": "f8c3990c",
   "metadata": {},
   "source": [
    "Example 1:  \n",
    "\n",
    "<img src=\"./Images/42-1.png\" width=\"300\">\n",
    "\n",
    "> **Input:**: height = [0,1,0,2,1,0,1,3,2,1,2,1]  \n",
    "> **Output:** 6  \n",
    "> **Explanation:** The above elevation map (black section) is represented by array [0,1,0,2,1,0,1,3,2,1,2,1]. In this case, 6 units of rain water (blue section) are being trapped."
   ]
  },
  {
   "cell_type": "markdown",
   "id": "48215da1",
   "metadata": {},
   "source": [
    "Example 2:  \n",
    "> **Input:**: height = [4,2,0,3,2,5]  \n",
    "> **Output:** 9"
   ]
  },
  {
   "cell_type": "code",
   "execution_count": 1,
   "id": "e3f59cde",
   "metadata": {},
   "outputs": [],
   "source": [
    "from typing import List\n",
    "\n",
    "class Solution:\n",
    "    def trap(self, height: List[int]) -> int:\n",
    "        l, r = 0, len(height) - 1\n",
    "        l_max = r_max = 0\n",
    "        result = 0\n",
    "        \n",
    "        while l < r:\n",
    "            if height[l] < height[r]:\n",
    "                if height[l] >= l_max:\n",
    "                    l_max = height[l]\n",
    "                else:\n",
    "                    result += l_max - height[l]\n",
    "                l += 1\n",
    "            else:\n",
    "                if height[r] >= r_max:\n",
    "                    r_max = height[r]\n",
    "                else:\n",
    "                    result += r_max - height[r]\n",
    "                r -= 1\n",
    "                \n",
    "        return result\n",
    "    \n",
    "    def display(self, height: List[int]) -> None:\n",
    "        result = self.trap(heights)\n",
    "        print(f\"Result: {result}\")"
   ]
  },
  {
   "cell_type": "code",
   "execution_count": 2,
   "id": "ad284d0b",
   "metadata": {},
   "outputs": [
    {
     "name": "stdout",
     "output_type": "stream",
     "text": [
      "Result: 6\n"
     ]
    }
   ],
   "source": [
    "# Example 1\n",
    "\n",
    "heights = [0, 1, 0, 2, 1, 0, 1, 3, 2, 1, 2, 1]\n",
    "Solution().display(heights)"
   ]
  },
  {
   "cell_type": "code",
   "execution_count": 3,
   "id": "649c9d8f",
   "metadata": {},
   "outputs": [
    {
     "name": "stdout",
     "output_type": "stream",
     "text": [
      "Result: 9\n"
     ]
    }
   ],
   "source": [
    "# Example 2\n",
    "\n",
    "heights = [4, 2, 0, 3, 2, 5]\n",
    "Solution().display(heights)"
   ]
  },
  {
   "cell_type": "markdown",
   "id": "ad0774b8",
   "metadata": {},
   "source": [
    "**Idea:**  \n",
    "* Step1: Set two pointers to iterate the list.\n",
    "* Step2: Check for left and right limit with current value.\n",
    "* Step3: Return the final answer.\n",
    "\n",
    "**Time Complexity:** $O(n)$  \n",
    "<img src=\"./Images/42-2.png\" width=\"500\">"
   ]
  }
 ],
 "metadata": {
  "kernelspec": {
   "display_name": "Python 3 (ipykernel)",
   "language": "python",
   "name": "python3"
  },
  "language_info": {
   "codemirror_mode": {
    "name": "ipython",
    "version": 3
   },
   "file_extension": ".py",
   "mimetype": "text/x-python",
   "name": "python",
   "nbconvert_exporter": "python",
   "pygments_lexer": "ipython3",
   "version": "3.9.13"
  }
 },
 "nbformat": 4,
 "nbformat_minor": 5
}
