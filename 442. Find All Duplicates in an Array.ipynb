{
 "cells": [
  {
   "cell_type": "markdown",
   "id": "923ef13c",
   "metadata": {},
   "source": [
    "# 442. Find All Duplicates in an Array"
   ]
  },
  {
   "cell_type": "markdown",
   "id": "4ec5950d",
   "metadata": {},
   "source": [
    "Given an integer array `nums` of length `n` where all the integers of `nums` are in the range `[1, n]` and each integer appears **once** or **twice**, return an array of all the integers that appears **twice**.\n",
    "\n",
    "You must write an algorithm that runs in `O(n)` time and uses only constant extra space.\n",
    "\n",
    "<https://leetcode.com/problems/find-all-duplicates-in-an-array/?envType=daily-question&envId=2024-03-25>\n",
    "\n",
    "**Constraint:**\n",
    "* `n == nums.length`\n",
    "* <code>1 <= n <= 10<sup>5</sup></code>\n",
    "* `1 <= nums[i] <= n`\n",
    "* Each element in `nums` appears **once** or **twice**."
   ]
  },
  {
   "cell_type": "markdown",
   "id": "f8c3990c",
   "metadata": {},
   "source": [
    "Example 1:  \n",
    "> **Input:** nums = [4,3,2,7,8,2,3,1]  \n",
    "> **Output:** [2,3]"
   ]
  },
  {
   "cell_type": "markdown",
   "id": "090fb90d",
   "metadata": {},
   "source": [
    "Example 2:  \n",
    "> **Input:** nums = [1,1,2]  \n",
    "> **Output:** [1]"
   ]
  },
  {
   "cell_type": "markdown",
   "id": "8775ebc1",
   "metadata": {},
   "source": [
    "Example 3:  \n",
    "> **Input:** nums = [1]  \n",
    "> **Output:** []"
   ]
  },
  {
   "cell_type": "code",
   "execution_count": 1,
   "id": "e3f59cde",
   "metadata": {},
   "outputs": [],
   "source": [
    "from typing import List\n",
    "\n",
    "class Solution:\n",
    "    def findDuplicates(self, nums: List[int]) -> List[int]:\n",
    "        record = {}\n",
    "        result = []\n",
    "        for n in nums:\n",
    "            if n in record:\n",
    "                result.append(n)\n",
    "            else:\n",
    "                record[n] = True\n",
    "        \n",
    "        return result\n",
    "    \n",
    "    def display(self, nums: List[int]) -> None:\n",
    "        result = self.findDuplicates(nums)\n",
    "        print(f\"Result: {result}\")"
   ]
  },
  {
   "cell_type": "code",
   "execution_count": 2,
   "id": "ad284d0b",
   "metadata": {},
   "outputs": [
    {
     "name": "stdout",
     "output_type": "stream",
     "text": [
      "Result: [2, 3]\n"
     ]
    }
   ],
   "source": [
    "# Example 1\n",
    "\n",
    "nums = [4, 3, 2, 7, 8, 2, 3, 1]\n",
    "Solution().display(nums)"
   ]
  },
  {
   "cell_type": "code",
   "execution_count": 3,
   "id": "f4a4b30f",
   "metadata": {},
   "outputs": [
    {
     "name": "stdout",
     "output_type": "stream",
     "text": [
      "Result: [1]\n"
     ]
    }
   ],
   "source": [
    "# Example 2\n",
    "\n",
    "nums = [1, 1, 2]\n",
    "Solution().display(nums)"
   ]
  },
  {
   "cell_type": "code",
   "execution_count": 4,
   "id": "7c86c839",
   "metadata": {},
   "outputs": [
    {
     "name": "stdout",
     "output_type": "stream",
     "text": [
      "Result: []\n"
     ]
    }
   ],
   "source": [
    "# Example 3\n",
    "\n",
    "nums = [1]\n",
    "Solution().display(nums)"
   ]
  },
  {
   "cell_type": "markdown",
   "id": "ad0774b8",
   "metadata": {},
   "source": [
    "**Idea:**  \n",
    "* Step1: Initialize a dictionary to record elements.\n",
    "* Step2: Iterate the input llist.\n",
    "* Step3: If the element is in the record, append it to the result.\n",
    "\n",
    "**Time Complexity:** $O(n)$  \n",
    "<img src=\"./Images/442-1.png\" width=\"500\">"
   ]
  }
 ],
 "metadata": {
  "kernelspec": {
   "display_name": "Python 3 (ipykernel)",
   "language": "python",
   "name": "python3"
  },
  "language_info": {
   "codemirror_mode": {
    "name": "ipython",
    "version": 3
   },
   "file_extension": ".py",
   "mimetype": "text/x-python",
   "name": "python",
   "nbconvert_exporter": "python",
   "pygments_lexer": "ipython3",
   "version": "3.9.13"
  }
 },
 "nbformat": 4,
 "nbformat_minor": 5
}
