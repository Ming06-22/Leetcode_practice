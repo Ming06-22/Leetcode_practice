{
 "cells": [
  {
   "cell_type": "markdown",
   "id": "923ef13c",
   "metadata": {},
   "source": [
    "# 1481. Least Number of Unique Integers after K Removals"
   ]
  },
  {
   "cell_type": "markdown",
   "id": "4ec5950d",
   "metadata": {},
   "source": [
    "Given an array of integers `arr` and an integer `k`. Find the least number of unique integers after removing **exactly** `k` elements.\n",
    "\n",
    "<https://leetcode.com/problems/least-number-of-unique-integers-after-k-removals/description/?envType=daily-question&envId=2024-02-16>\n",
    "\n",
    "**Constraint:**\n",
    "* <code>1 <= arr.length <= 10<sup>5</sup></code>\n",
    "* <code>1 <= arr[i] <= 10<sup>9</sup></code>\n",
    "* `0 <= k <= arr.length`"
   ]
  },
  {
   "cell_type": "markdown",
   "id": "f8c3990c",
   "metadata": {},
   "source": [
    "Example 1:  \n",
    "> **Input:** arr = [5,5,4], k = 1  \n",
    "> **Output:** 1  \n",
    "> **Explanation:** Remove the single 4, only 5 is left."
   ]
  },
  {
   "cell_type": "markdown",
   "id": "99fab14f",
   "metadata": {},
   "source": [
    "Example 2:  \n",
    "> **Input:** arr = [4,3,1,1,3,3,2], k = 3  \n",
    "> **Output:** 2  \n",
    "> **Explanation:** Remove 4, 2 and either one of the two 1s or three 3s. 1 and 3 will be left."
   ]
  },
  {
   "cell_type": "code",
   "execution_count": 1,
   "id": "e3f59cde",
   "metadata": {},
   "outputs": [],
   "source": [
    "from typing import List\n",
    "from collections import Counter\n",
    "\n",
    "class Solution:\n",
    "    def findLeastNumOfUniqueInts(self, arr: List[int], k: int) -> int:\n",
    "        record = Counter(arr)\n",
    "        record = sorted(record.values())\n",
    "\n",
    "        result = len(record)\n",
    "        for r in record:\n",
    "            if k >= r:\n",
    "                k -= r\n",
    "                result -= 1\n",
    "            else:\n",
    "                return result\n",
    "        return result\n",
    "    \n",
    "    def display(self, arr: List[int], k: int) -> None:\n",
    "        result = self.findLeastNumOfUniqueInts(arr = arr, k = k)\n",
    "        print(f\"Result: {result}\")"
   ]
  },
  {
   "cell_type": "code",
   "execution_count": 2,
   "id": "ad284d0b",
   "metadata": {},
   "outputs": [
    {
     "name": "stdout",
     "output_type": "stream",
     "text": [
      "Result: 1\n"
     ]
    }
   ],
   "source": [
    "# Example 1\n",
    "\n",
    "arr = [5, 5, 4]\n",
    "k = 1\n",
    "Solution().display(arr = arr, k = k)"
   ]
  },
  {
   "cell_type": "code",
   "execution_count": 3,
   "id": "70a09a88",
   "metadata": {},
   "outputs": [
    {
     "name": "stdout",
     "output_type": "stream",
     "text": [
      "Result: 2\n"
     ]
    }
   ],
   "source": [
    "# Example 2\n",
    "\n",
    "arr = [4, 3, 1, 1, 3, 3, 2]\n",
    "k = 3\n",
    "Solution().display(arr = arr, k = k)"
   ]
  },
  {
   "cell_type": "markdown",
   "id": "ad0774b8",
   "metadata": {},
   "source": [
    "**Idea:**  \n",
    "* Step1: Calculate the frequency of the input array and sort it.\n",
    "* Step2: Iterate the frequency dictionary.\n",
    "* Step3: If the current frequent is larger than `k`, `result` minus equal 1; otherwise, return `result`.\n",
    "\n",
    "**Time Complexity:** $O(nlogn)$  \n",
    "<img src=\"./Images/1481-1.png\" width=\"500\">"
   ]
  }
 ],
 "metadata": {
  "kernelspec": {
   "display_name": "Python 3 (ipykernel)",
   "language": "python",
   "name": "python3"
  },
  "language_info": {
   "codemirror_mode": {
    "name": "ipython",
    "version": 3
   },
   "file_extension": ".py",
   "mimetype": "text/x-python",
   "name": "python",
   "nbconvert_exporter": "python",
   "pygments_lexer": "ipython3",
   "version": "3.9.13"
  }
 },
 "nbformat": 4,
 "nbformat_minor": 5
}
