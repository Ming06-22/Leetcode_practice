{
 "cells": [
  {
   "cell_type": "markdown",
   "id": "923ef13c",
   "metadata": {},
   "source": [
    "# 402. Remove K Digits"
   ]
  },
  {
   "cell_type": "markdown",
   "id": "4ec5950d",
   "metadata": {},
   "source": [
    "Given string num representing a non-negative integer `num`, and an integer `k`, return the smallest possible integer after removing `k` digits from `num`.\n",
    "\n",
    "<https://leetcode.com/problems/remove-k-digits/description/?envType=daily-question&envId=2024-04-11>\n",
    "\n",
    "**Constraint:**\n",
    "* <code>1 <= k <= num.length <= 10<sup>5</sup></code>\n",
    "* `num` consists of only digits.\n",
    "* `num` does not have any leading zeros except for the zero itself."
   ]
  },
  {
   "cell_type": "markdown",
   "id": "f8c3990c",
   "metadata": {},
   "source": [
    "Example 1:  \n",
    "> **Input:**: num = \"1432219\", k = 3  \n",
    "> **Output:** \"1219\"  \n",
    "> **Explanation:** Remove the three digits 4, 3, and 2 to form the new number 1219 which is the smallest."
   ]
  },
  {
   "cell_type": "markdown",
   "id": "63d70c4d",
   "metadata": {},
   "source": [
    "Example 2:  \n",
    "> **Input:**: num = \"10200\", k = 1  \n",
    "> **Output:** \"200\"  \n",
    "> **Explanation:** Remove the leading 1 and the number is 200. Note that the output must not contain leading zeroes."
   ]
  },
  {
   "cell_type": "markdown",
   "id": "f91639f7",
   "metadata": {},
   "source": [
    "Example 3:  \n",
    "> **Input:**: num = \"10\", k = 2  \n",
    "> **Output:** \"0\"  \n",
    "> **Explanation:** Remove all the digits from the number and it is left with nothing which is 0."
   ]
  },
  {
   "cell_type": "code",
   "execution_count": 1,
   "id": "e3f59cde",
   "metadata": {},
   "outputs": [],
   "source": [
    "class Solution:\n",
    "    def removeKdigits(self, num: str, k: int) -> str:\n",
    "        result = []\n",
    "        for n in num:\n",
    "            while result and k and result[-1] > n:\n",
    "                result.pop()\n",
    "                k -= 1\n",
    "            \n",
    "            if result or n != \"0\":\n",
    "                result.append(n)\n",
    "                \n",
    "        if k:\n",
    "            result = result[: -k]\n",
    "            \n",
    "        result = \"\".join(result)\n",
    "        \n",
    "        if result:\n",
    "            return result\n",
    "        return \"0\"\n",
    "    \n",
    "    def display(self, num: str, k: int) -> None:\n",
    "        result = self.removeKdigits(num, k)\n",
    "        print(f\"Result: {result}\")"
   ]
  },
  {
   "cell_type": "code",
   "execution_count": 2,
   "id": "ad284d0b",
   "metadata": {},
   "outputs": [
    {
     "name": "stdout",
     "output_type": "stream",
     "text": [
      "Result: 1219\n"
     ]
    }
   ],
   "source": [
    "# Example 1\n",
    "\n",
    "num = \"1432219\"\n",
    "k = 3\n",
    "Solution().display(num, k)"
   ]
  },
  {
   "cell_type": "code",
   "execution_count": 3,
   "id": "66b08412",
   "metadata": {},
   "outputs": [
    {
     "name": "stdout",
     "output_type": "stream",
     "text": [
      "Result: 200\n"
     ]
    }
   ],
   "source": [
    "# Example 2\n",
    "\n",
    "num = \"10200\"\n",
    "k = 1\n",
    "Solution().display(num, k)"
   ]
  },
  {
   "cell_type": "code",
   "execution_count": 4,
   "id": "ce2f2c0a",
   "metadata": {},
   "outputs": [
    {
     "name": "stdout",
     "output_type": "stream",
     "text": [
      "Result: 0\n"
     ]
    }
   ],
   "source": [
    "# Example 3\n",
    "\n",
    "num = \"10\"\n",
    "k = 2\n",
    "Solution().display(num, k)"
   ]
  },
  {
   "cell_type": "markdown",
   "id": "ad0774b8",
   "metadata": {},
   "source": [
    "**Idea:**  \n",
    "* Step1: Iterate the input string.\n",
    "* Step2: Compare the last element of record and current value.\n",
    "* Step3: Append the current value.\n",
    "\n",
    "**Time Complexity:** $O(n)$  \n",
    "<img src=\"./Images/402-1.png\" width=\"500\">"
   ]
  }
 ],
 "metadata": {
  "kernelspec": {
   "display_name": "Python 3 (ipykernel)",
   "language": "python",
   "name": "python3"
  },
  "language_info": {
   "codemirror_mode": {
    "name": "ipython",
    "version": 3
   },
   "file_extension": ".py",
   "mimetype": "text/x-python",
   "name": "python",
   "nbconvert_exporter": "python",
   "pygments_lexer": "ipython3",
   "version": "3.9.13"
  }
 },
 "nbformat": 4,
 "nbformat_minor": 5
}
