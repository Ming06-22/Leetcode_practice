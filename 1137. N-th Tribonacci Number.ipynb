{
 "cells": [
  {
   "cell_type": "markdown",
   "id": "923ef13c",
   "metadata": {},
   "source": [
    "# 1137. N-th Tribonacci Number"
   ]
  },
  {
   "cell_type": "markdown",
   "id": "4ec5950d",
   "metadata": {},
   "source": [
    "The Tribonacci sequence T<sub>n</sub> is defined as follows: \n",
    "\n",
    "T<sub>0</sub> = 0, T<sub>1</sub> = 1, T<sub>2</sub> = 1, and T<sub>n+3</sub> = T<sub>n</sub> + T<sub>n+1</sub> + T<sub>n+2</sub> for n >= 0.\n",
    "\n",
    "Given `n`, return the value of T<sub>n</sub>.\n",
    "\n",
    "<https://leetcode.com/problems/n-th-tribonacci-number/?envType=daily-question&envId=2024-04-24>\n",
    "\n",
    "**Constraint:**\n",
    "* `0 <= n <= 37`\n",
    "* The answer is guaranteed to fit within a 32-bit integer, ie. <code>answer <= 2<sup>31</sup> - 1</code>."
   ]
  },
  {
   "cell_type": "markdown",
   "id": "f8c3990c",
   "metadata": {},
   "source": [
    "Example 1:  \n",
    "> **Input:** n = 4  \n",
    "> **Output:** 4  \n",
    "> **Explanation:**  \n",
    "T_3 = 0 + 1 + 1 = 2  \n",
    "T_4 = 1 + 1 + 2 = 4"
   ]
  },
  {
   "cell_type": "markdown",
   "id": "3c07fee7",
   "metadata": {},
   "source": [
    "Example 2:  \n",
    "> **Input:** n = 25  \n",
    "> **Output:** 1389537  "
   ]
  },
  {
   "cell_type": "code",
   "execution_count": 1,
   "id": "e3f59cde",
   "metadata": {},
   "outputs": [],
   "source": [
    "class Solution:\n",
    "    def tribonacci(self, n: int) -> int:\n",
    "        record = [0, 1, 1]\n",
    "\n",
    "        if n <= 2:\n",
    "            return record[n]\n",
    "        \n",
    "        for _ in range(n - 2):\n",
    "            record.append(record[-1] + record[-2] + record[-3])\n",
    "        \n",
    "        return record[-1]\n",
    "    \n",
    "    def display(self, n: int) -> None:\n",
    "        result = self.tribonacci(n)\n",
    "        print(f\"Result: {result}\")"
   ]
  },
  {
   "cell_type": "code",
   "execution_count": 2,
   "id": "ad284d0b",
   "metadata": {},
   "outputs": [
    {
     "name": "stdout",
     "output_type": "stream",
     "text": [
      "Result: 4\n"
     ]
    }
   ],
   "source": [
    "# Example 1\n",
    "\n",
    "n = 4\n",
    "Solution().display(n)"
   ]
  },
  {
   "cell_type": "code",
   "execution_count": 3,
   "id": "6c338f9d",
   "metadata": {
    "scrolled": true
   },
   "outputs": [
    {
     "name": "stdout",
     "output_type": "stream",
     "text": [
      "Result: 1389537\n"
     ]
    }
   ],
   "source": [
    "# Example 2\n",
    "\n",
    "n = 25\n",
    "Solution().display(n)"
   ]
  },
  {
   "cell_type": "markdown",
   "id": "ad0774b8",
   "metadata": {},
   "source": [
    "**Idea:**  \n",
    "* Step1: Contruct a list to record the value of each tribonacci value.\n",
    "* Step2: Expand the record according to the value of `n`.\n",
    "* Step3: Return the tribonacci value of `n`.\n",
    "\n",
    "**Time Complexity:** $O(n)$  \n",
    "<img src=\"./Images/1137-1.png\" width=\"500\">"
   ]
  }
 ],
 "metadata": {
  "kernelspec": {
   "display_name": "Python 3 (ipykernel)",
   "language": "python",
   "name": "python3"
  },
  "language_info": {
   "codemirror_mode": {
    "name": "ipython",
    "version": 3
   },
   "file_extension": ".py",
   "mimetype": "text/x-python",
   "name": "python",
   "nbconvert_exporter": "python",
   "pygments_lexer": "ipython3",
   "version": "3.9.13"
  }
 },
 "nbformat": 4,
 "nbformat_minor": 5
}
