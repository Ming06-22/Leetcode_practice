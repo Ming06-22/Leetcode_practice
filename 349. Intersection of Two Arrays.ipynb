{
 "cells": [
  {
   "cell_type": "markdown",
   "id": "923ef13c",
   "metadata": {},
   "source": [
    "# 349. Intersection of Two Arrays"
   ]
  },
  {
   "cell_type": "markdown",
   "id": "4ec5950d",
   "metadata": {},
   "source": [
    "Given two integer arrays `nums1` and `nums2`, return an array of their intersection. Each element in the result must be **unique** and you may return the result in **any order**.\n",
    "\n",
    "<https://leetcode.com/problems/intersection-of-two-arrays/?envType=daily-question&envId=2024-03-10>\n",
    "\n",
    "**Constraint:**\n",
    "* `1 <= nums1.length, nums2.length <= 1000`\n",
    "* `0 <= nums1[i], nums2[i] <= 1000`"
   ]
  },
  {
   "cell_type": "markdown",
   "id": "f8c3990c",
   "metadata": {},
   "source": [
    "Example 1:  \n",
    "> **Input:** nums1 = [1,2,2,1], nums2 = [2,2]  \n",
    "> **Output:** [2]"
   ]
  },
  {
   "cell_type": "markdown",
   "id": "729cf8e5-86ec-4998-b4a6-dba88a4979c2",
   "metadata": {},
   "source": [
    "Example 2:  \n",
    "> **Input:** nums1 = [4,9,5], nums2 = [9,4,9,8,4]  \n",
    "> **Output:** [9,4]  \n",
    "> **Explanation:** [4,9] is also accepted."
   ]
  },
  {
   "cell_type": "code",
   "execution_count": 1,
   "id": "e3f59cde",
   "metadata": {},
   "outputs": [],
   "source": [
    "from typing import List\n",
    "\n",
    "class Solution:\n",
    "    def intersection(self, nums1: List[int], nums2: List[int]) -> List[int]:\n",
    "        nums1, nums2 = set(nums1), set(nums2)\n",
    "        result = []\n",
    "        for n1 in nums1:\n",
    "            if n1 in nums2:\n",
    "                result.append(n1)\n",
    "\n",
    "        return result\n",
    "\n",
    "    def display(self, nums1: List[int], nums2: List[int]) -> None:\n",
    "        result = self.intersection(nums1, nums2)\n",
    "        print(f\"Result: {result}\")"
   ]
  },
  {
   "cell_type": "code",
   "execution_count": 2,
   "id": "ad284d0b",
   "metadata": {},
   "outputs": [
    {
     "name": "stdout",
     "output_type": "stream",
     "text": [
      "Result: [2]\n"
     ]
    }
   ],
   "source": [
    "# Example 1\n",
    "\n",
    "nums1, nums2 = [1, 2, 2, 1], [2, 2]\n",
    "Solution().display(nums1, nums2)"
   ]
  },
  {
   "cell_type": "code",
   "execution_count": 3,
   "id": "10df37ae-b8c9-440e-b41c-b98f582ac741",
   "metadata": {},
   "outputs": [
    {
     "name": "stdout",
     "output_type": "stream",
     "text": [
      "Result: [9, 4]\n"
     ]
    }
   ],
   "source": [
    "# Example 2\n",
    "\n",
    "nums1, nums2 = [4, 9, 5], [9, 4, 9, 8, 4]\n",
    "Solution().display(nums1, nums2)"
   ]
  },
  {
   "cell_type": "markdown",
   "id": "ad0774b8",
   "metadata": {},
   "source": [
    "**Idea:**  \n",
    "* Step1: Convert two input list into set.\n",
    "* Step2: Iterate the first set to check whether the elements also in another set.\n",
    "\n",
    "**Time Complexity:** $O(m * n)$  \n",
    "<img src=\"./Images/349-1.png\" width=\"500\">"
   ]
  }
 ],
 "metadata": {
  "kernelspec": {
   "display_name": "Python 3 (ipykernel)",
   "language": "python",
   "name": "python3"
  },
  "language_info": {
   "codemirror_mode": {
    "name": "ipython",
    "version": 3
   },
   "file_extension": ".py",
   "mimetype": "text/x-python",
   "name": "python",
   "nbconvert_exporter": "python",
   "pygments_lexer": "ipython3",
   "version": "3.9.18"
  }
 },
 "nbformat": 4,
 "nbformat_minor": 5
}
