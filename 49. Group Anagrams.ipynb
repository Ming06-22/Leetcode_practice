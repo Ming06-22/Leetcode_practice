{
 "cells": [
  {
   "cell_type": "markdown",
   "id": "923ef13c",
   "metadata": {},
   "source": [
    "# 49. Group Anagrams"
   ]
  },
  {
   "cell_type": "markdown",
   "id": "4ec5950d",
   "metadata": {},
   "source": [
    "Given an array of strings `strs`, group **the anagrams** together. You can return the answer in **any order**.\n",
    "\n",
    "An **Anagram** is a word or phrase formed by rearranging the letters of a different word or phrase, typically using all the original letters exactly once.\n",
    "\n",
    "<https://leetcode.com/problems/group-anagrams/?envType=daily-question&envId=2024-02-06>\n",
    "\n",
    "**Constraint:**\n",
    "* `1 <= strs.length <= 104`\n",
    "* `0 <= strs[i].length <= 100`\n",
    "* `strs[i]` consists of lowercase English letters."
   ]
  },
  {
   "cell_type": "markdown",
   "id": "f8c3990c",
   "metadata": {},
   "source": [
    "Example 1:  \n",
    "> Input: strs = [\"eat\",\"tea\",\"tan\",\"ate\",\"nat\",\"bat\"]  \n",
    "> Output: [[\"bat\"],[\"nat\",\"tan\"],[\"ate\",\"eat\",\"tea\"]]  "
   ]
  },
  {
   "cell_type": "markdown",
   "id": "842d4e4f",
   "metadata": {},
   "source": [
    "Example 2:  \n",
    "> Input: strs = [\"\"]  \n",
    "> Output: [[\"\"]]  "
   ]
  },
  {
   "cell_type": "markdown",
   "id": "33d6eac1",
   "metadata": {},
   "source": [
    "Example 3:  \n",
    "> Input: strs = [\"a\"]  \n",
    "> Output: [[\"a\"]]  "
   ]
  },
  {
   "cell_type": "code",
   "execution_count": 1,
   "id": "e3f59cde",
   "metadata": {},
   "outputs": [],
   "source": [
    "from typing import List\n",
    "from collections import defaultdict\n",
    "\n",
    "class Solution:\n",
    "    def groupAnagrams(self, strs: List[str]) -> List[List[str]]:\n",
    "        dic = defaultdict(list)\n",
    "        for s in strs:\n",
    "            word = \"\".join(sorted(s))\n",
    "            dic[word].append(s)\n",
    "            \n",
    "        return dic.values()\n",
    "    \n",
    "    def display(self, strs: List[str]) -> None:\n",
    "        result = self.groupAnagrams(strs = strs)\n",
    "        print(f\"Result: {result}\")"
   ]
  },
  {
   "cell_type": "code",
   "execution_count": 2,
   "id": "ad284d0b",
   "metadata": {},
   "outputs": [
    {
     "name": "stdout",
     "output_type": "stream",
     "text": [
      "Result: dict_values([['eat', 'tea', 'ate'], ['tan', 'nat'], ['bat']])\n"
     ]
    }
   ],
   "source": [
    "# Example 1\n",
    "\n",
    "strs =  [\"eat\",\"tea\",\"tan\",\"ate\",\"nat\",\"bat\"]\n",
    "Solution().display(strs = strs)"
   ]
  },
  {
   "cell_type": "code",
   "execution_count": 3,
   "id": "8b44f05e",
   "metadata": {},
   "outputs": [
    {
     "name": "stdout",
     "output_type": "stream",
     "text": [
      "Result: dict_values([['']])\n"
     ]
    }
   ],
   "source": [
    "# Example 2\n",
    "\n",
    "strs =  [\"\"]\n",
    "Solution().display(strs = strs)"
   ]
  },
  {
   "cell_type": "code",
   "execution_count": 4,
   "id": "7dfd485b",
   "metadata": {},
   "outputs": [
    {
     "name": "stdout",
     "output_type": "stream",
     "text": [
      "Result: dict_values([['a']])\n"
     ]
    }
   ],
   "source": [
    "# Example 3\n",
    "\n",
    "strs =  [\"a\"]\n",
    "Solution().display(strs = strs)"
   ]
  },
  {
   "cell_type": "markdown",
   "id": "ad0774b8",
   "metadata": {},
   "source": [
    "**Idea:**  \n",
    "* Step1: Iterate the input list.\n",
    "* Step2: Sort the current word.\n",
    "* Step3: Add the word into correspond position of dictionary.\n",
    "\n",
    "**Time Complexity:** $O(n * mlogm)$\n",
    "<img src=\"./Images/49-1.png\" width=\"500\">"
   ]
  }
 ],
 "metadata": {
  "kernelspec": {
   "display_name": "Python 3 (ipykernel)",
   "language": "python",
   "name": "python3"
  },
  "language_info": {
   "codemirror_mode": {
    "name": "ipython",
    "version": 3
   },
   "file_extension": ".py",
   "mimetype": "text/x-python",
   "name": "python",
   "nbconvert_exporter": "python",
   "pygments_lexer": "ipython3",
   "version": "3.9.13"
  }
 },
 "nbformat": 4,
 "nbformat_minor": 5
}
