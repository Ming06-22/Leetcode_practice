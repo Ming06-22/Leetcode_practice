{
 "cells": [
  {
   "cell_type": "markdown",
   "id": "923ef13c",
   "metadata": {},
   "source": [
    "# 787. Cheapest Flights Within K Stops"
   ]
  },
  {
   "cell_type": "markdown",
   "id": "4ec5950d",
   "metadata": {},
   "source": [
    "There are `n` cities connected by some number of flights. You are given an array `flights` where <code>flights[i] = [from<sub>i</sub>, to<sub>i</sub>, price<sub>i</sub>]</code> indicates that there is a flight from city fromi to city toi with cost pricei.\n",
    "\n",
    "You are also given three integers `src`, `dst`, and `k`, return **the cheapest price** from `src` to `dst` with at most `k` stops. If there is no such route, return `-1`.\n",
    "\n",
    "**Constraint:**\n",
    "* `1 <= n <= 100`\n",
    "* `0 <= flights.length <= (n * (n - 1) / 2)`\n",
    "* `flights[i].length == 3`\n",
    "* <code>0 <= from<sub>i</sub>, to<sub>i</sub> < n</code>\n",
    "* <code>from<sub>i</sub> != to<sub>i</sub></code>\n",
    "* <code>1 <= price<sub>i</sub> <= 10<sub>4</sub></code>\n",
    "* There will not be any multiple flights between two cities.\n",
    "* `0 <= src, dst, k < n`\n",
    "* `src != dst`"
   ]
  },
  {
   "cell_type": "markdown",
   "id": "f8c3990c",
   "metadata": {},
   "source": [
    "Example 1:  \n",
    "\n",
    "<img src=\"./Images/787-1.png\" width=\"300\">\n",
    "\n",
    "> **Input:** n = 4, flights = [[0,1,100],[1,2,100],[2,0,100],[1,3,600],[2,3,200]], src = 0, dst = 3, k = 1  \n",
    "> **Output:** 700  \n",
    "> **Explanation:**  \n",
    "The graph is shown above.\n",
    "The optimal path with at most 1 stop from city 0 to 3 is marked in red and has cost 100 + 600 = 700.\n",
    "Note that the path through cities [0,1,2,3] is cheaper but is invalid because it uses 2 stops."
   ]
  },
  {
   "cell_type": "markdown",
   "id": "19cf04b0-c0cc-4f4d-a4fe-d78c30a92230",
   "metadata": {},
   "source": [
    "Example 2:\n",
    "\n",
    "<img src=\"./Images/787-2.png\" width=\"300\">\n",
    "\n",
    "> **Input:** n = 3, flights = [[0,1,100],[1,2,100],[0,2,500]], src = 0, dst = 2, k = 1  \n",
    "> **Output:** 200  \n",
    "> **Explanation:**  \n",
    "The graph is shown above.\n",
    "The optimal path with at most 1 stop from city 0 to 2 is marked in red and has cost 100 + 100 = 200."
   ]
  },
  {
   "cell_type": "markdown",
   "id": "25a83988-04ce-4dab-8200-271ff9b275c9",
   "metadata": {},
   "source": [
    "Example 3:\n",
    "\n",
    "<img src=\"./Images/787-3.png\" width=\"300\">\n",
    "\n",
    "> **Input:** n = 3, flights = [[0,1,100],[1,2,100],[0,2,500]], src = 0, dst = 2, k = 0  \n",
    "> **Output:** 500  \n",
    "> **Explanation:**  \n",
    "The graph is shown above.\n",
    "The optimal path with no stops from city 0 to 2 is marked in red and has cost 500."
   ]
  },
  {
   "cell_type": "code",
   "execution_count": 1,
   "id": "e3f59cde",
   "metadata": {},
   "outputs": [],
   "source": [
    "from typing import List\n",
    "from collections import defaultdict\n",
    "import math\n",
    "\n",
    "class Solution:\n",
    "    def findCheapestPrice(self, n: int, flights: List[List[int]], src: int, dst: int, k: int) -> int:\n",
    "        graph = defaultdict(list)\n",
    "        for f1, f2, cost in flights:\n",
    "            graph[f1].append((f2, cost))\n",
    "\n",
    "        def bfs():\n",
    "            nonlocal result, queue\n",
    "            temp = defaultdict(lambda: math.inf)\n",
    "            for node1, cost in queue.items():\n",
    "                for node2, value in graph[node1]:\n",
    "                    if cost + value < result:\n",
    "                        if node2 == dst:\n",
    "                            result = cost + value\n",
    "                        else:\n",
    "                            temp[node2] = min(temp[node2], cost + value)\n",
    "\n",
    "            queue = temp\n",
    "        \n",
    "        queue = {src: 0}\n",
    "        result = math.inf\n",
    "        while k >= 0:\n",
    "            k -= 1\n",
    "            bfs()\n",
    "\n",
    "        if result == math.inf:\n",
    "            return -1\n",
    "        return result\n",
    "\n",
    "    def display(self, n: int, flights: List[List[int]], src: int, dst: int, k: int) -> None:\n",
    "        result = self.findCheapestPrice(n, flights, src, dst, k)\n",
    "        print(f\"Result: {result} dollars\")"
   ]
  },
  {
   "cell_type": "code",
   "execution_count": 2,
   "id": "ad284d0b",
   "metadata": {},
   "outputs": [
    {
     "name": "stdout",
     "output_type": "stream",
     "text": [
      "Result: 700 dollars\n"
     ]
    }
   ],
   "source": [
    "# Example 1\n",
    "\n",
    "n, src, dst, k = 4, 0, 3, 1\n",
    "flights = [[0, 1, 100], [1, 2, 100], [2, 0, 100], [1, 3, 600], [2, 3, 200]]\n",
    "Solution().display(n, flights, src, dst, k)"
   ]
  },
  {
   "cell_type": "code",
   "execution_count": 3,
   "id": "b512d874-6c55-40c3-9eb3-b5e09d56fa45",
   "metadata": {},
   "outputs": [
    {
     "name": "stdout",
     "output_type": "stream",
     "text": [
      "Result: 200 dollars\n"
     ]
    }
   ],
   "source": [
    "# Example 2\n",
    "\n",
    "n, src, dst, k = 3, 0, 2, 1\n",
    "flights = [[0, 1, 100], [1, 2, 100], [0, 2, 500]]\n",
    "Solution().display(n, flights, src, dst, k)"
   ]
  },
  {
   "cell_type": "code",
   "execution_count": 4,
   "id": "4f62750b-2b58-4348-abb4-90ecd4365753",
   "metadata": {},
   "outputs": [
    {
     "name": "stdout",
     "output_type": "stream",
     "text": [
      "Result: 500 dollars\n"
     ]
    }
   ],
   "source": [
    "# Example 3\n",
    "\n",
    "n, src, dst, k = 3, 0, 2, 0\n",
    "flights = [[0, 1, 100], [1, 2, 100], [0, 2, 500]]\n",
    "Solution().display(n, flights, src, dst, k)"
   ]
  },
  {
   "cell_type": "markdown",
   "id": "ad0774b8",
   "metadata": {},
   "source": [
    "**Idea:**  \n",
    "* Step1: Convert the input array into a graph that record the cities it can reach and the prices.\n",
    "* Step2: Use A* algorithm to help us find the target by `k` times.\n",
    "* Step3: If the target is found, return `result`; otherwise, return `-1`.\n",
    "\n",
    "**Time Complexity:** $O(b^d)$, b is the brach factor, d is the number of nodes on the resulting path.  \n",
    "<img src=\"./Images/787-4.png\" width=\"500\">"
   ]
  }
 ],
 "metadata": {
  "kernelspec": {
   "display_name": "Python 3 (ipykernel)",
   "language": "python",
   "name": "python3"
  },
  "language_info": {
   "codemirror_mode": {
    "name": "ipython",
    "version": 3
   },
   "file_extension": ".py",
   "mimetype": "text/x-python",
   "name": "python",
   "nbconvert_exporter": "python",
   "pygments_lexer": "ipython3",
   "version": "3.9.18"
  }
 },
 "nbformat": 4,
 "nbformat_minor": 5
}
