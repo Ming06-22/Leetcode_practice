{
 "cells": [
  {
   "cell_type": "markdown",
   "id": "923ef13c",
   "metadata": {},
   "source": [
    "# 2108. Find First Palindromic String in the Array"
   ]
  },
  {
   "cell_type": "markdown",
   "id": "4ec5950d",
   "metadata": {},
   "source": [
    "Given an array of strings `words`, return the first **palindromic** string in the array. If there is no such string, return an **empty string** `\"\"`.\n",
    "\n",
    "A string is **palindromic** if it reads the same forward and backward.\n",
    "\n",
    "<https://leetcode.com/problems/find-first-palindromic-string-in-the-array/description/?envType=daily-question&envId=2024-02-13>\n",
    "\n",
    "**Constraint:**\n",
    "* `1 <= words.length <= 100`\n",
    "* `1 <= words[i].length <= 100`\n",
    "* `words[i]` consists only of lowercase English letters."
   ]
  },
  {
   "cell_type": "markdown",
   "id": "f8c3990c",
   "metadata": {},
   "source": [
    "Example 1:  \n",
    "> **Input:** words = [\"abc\",\"car\",\"ada\",\"racecar\",\"cool\"]  \n",
    "> **Output:** \"ada\"  \n",
    "> **Explanation:** The first string that is palindromic is \"ada\".  \n",
    "Note that \"racecar\" is also palindromic, but it is not the first."
   ]
  },
  {
   "cell_type": "markdown",
   "id": "5a4f79a3",
   "metadata": {},
   "source": [
    "Example 2:  \n",
    "> **Input:** words = [\"notapalindrome\",\"racecar\"]  \n",
    "> **Output:** \"racecar\"  \n",
    "> **Explanation:** The first and only string that is palindromic is \"racecar\"."
   ]
  },
  {
   "cell_type": "markdown",
   "id": "945b8168",
   "metadata": {},
   "source": [
    "Example 3:  \n",
    "> **Input:** words = [\"def\",\"ghi\"]  \n",
    "> **Output:** \"\"  \n",
    "> **Explanation:** There are no palindromic strings, so the empty string is returned."
   ]
  },
  {
   "cell_type": "code",
   "execution_count": 1,
   "id": "e3f59cde",
   "metadata": {},
   "outputs": [],
   "source": [
    "from typing import List\n",
    "\n",
    "class Solution:\n",
    "    def firstPalindrome(self, words: List[str]) -> str:\n",
    "        for w in words:\n",
    "            mid = len(w) // 2\n",
    "            if len(w) % 2 == 0:\n",
    "                if w[: mid] == w[mid: ][: : -1]:\n",
    "                    return w\n",
    "            else:\n",
    "                if w[: mid] == w[mid + 1: ][: : -1]:\n",
    "                    return w\n",
    "        \n",
    "        return \"\"\n",
    "    \n",
    "    def display(self, words: List[str]) -> None:\n",
    "        result = self.firstPalindrome(words = words)\n",
    "        print(f\"Result: \\\"{result}\\\"\")"
   ]
  },
  {
   "cell_type": "code",
   "execution_count": 2,
   "id": "ad284d0b",
   "metadata": {},
   "outputs": [
    {
     "name": "stdout",
     "output_type": "stream",
     "text": [
      "Result: \"ada\"\n"
     ]
    }
   ],
   "source": [
    "# Example 1\n",
    "\n",
    "words = [\"abc\", \"car\", \"ada\", \"racecar\", \"cool\"]\n",
    "Solution().display(words = words)"
   ]
  },
  {
   "cell_type": "code",
   "execution_count": 3,
   "id": "9e1eca4b",
   "metadata": {},
   "outputs": [
    {
     "name": "stdout",
     "output_type": "stream",
     "text": [
      "Result: \"racecar\"\n"
     ]
    }
   ],
   "source": [
    "# Example 2\n",
    "\n",
    "words = [\"notapalindrome\", \"racecar\"]\n",
    "Solution().display(words = words)"
   ]
  },
  {
   "cell_type": "code",
   "execution_count": 4,
   "id": "b3ce8de1",
   "metadata": {},
   "outputs": [
    {
     "name": "stdout",
     "output_type": "stream",
     "text": [
      "Result: \"\"\n"
     ]
    }
   ],
   "source": [
    "# Example 3\n",
    "\n",
    "words = [\"def\", \"ghi\"]\n",
    "Solution().display(words = words)"
   ]
  },
  {
   "cell_type": "markdown",
   "id": "ad0774b8",
   "metadata": {},
   "source": [
    "**Idea:**  \n",
    "* Step1: Iterate the input array.\n",
    "* Step2: Divide the word into two part, check whether it is palindrome.\n",
    "* Step3: If no word are found, return empty string.\n",
    "\n",
    "**Time Complexity:** $O(mn)$  \n",
    "<img src=\"./Images/2108-1.png\" width=\"500\">"
   ]
  }
 ],
 "metadata": {
  "kernelspec": {
   "display_name": "Python 3 (ipykernel)",
   "language": "python",
   "name": "python3"
  },
  "language_info": {
   "codemirror_mode": {
    "name": "ipython",
    "version": 3
   },
   "file_extension": ".py",
   "mimetype": "text/x-python",
   "name": "python",
   "nbconvert_exporter": "python",
   "pygments_lexer": "ipython3",
   "version": "3.9.13"
  }
 },
 "nbformat": 4,
 "nbformat_minor": 5
}
