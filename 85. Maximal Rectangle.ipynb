{
 "cells": [
  {
   "cell_type": "markdown",
   "id": "923ef13c",
   "metadata": {},
   "source": [
    "# 85. Maximal Rectangle"
   ]
  },
  {
   "cell_type": "markdown",
   "id": "4ec5950d",
   "metadata": {},
   "source": [
    "Given a `rows x cols` binary `matrix` filled with `0`'s and `1`'s, find the largest rectangle containing only `1`'s and return its area.\n",
    "\n",
    "<https://leetcode.com/problems/maximal-rectangle/description/?envType=daily-question&envId=2024-04-13>\n",
    "\n",
    "**Constraint:**\n",
    "* `rows == matrix.length`\n",
    "* `cols == matrix[i].length`\n",
    "* `1 <= row, cols <= 200`\n",
    "* `matrix[i][j]` is `'0'` or `'1'`."
   ]
  },
  {
   "cell_type": "markdown",
   "id": "f8c3990c",
   "metadata": {},
   "source": [
    "Example 1:  \n",
    "\n",
    "<img src=\"./Images/85-1.png\" width=\"300\">\n",
    "\n",
    "> **Input:** matrix = [[\"1\",\"0\",\"1\",\"0\",\"0\"],[\"1\",\"0\",\"1\",\"1\",\"1\"],[\"1\",\"1\",\"1\",\"1\",\"1\"],[\"1\",\"0\",\"0\",\"1\",\"0\"]]  \n",
    "> **Output:** 6  \n",
    "> **Explanation:** The maximal rectangle is shown in the above picture."
   ]
  },
  {
   "cell_type": "markdown",
   "id": "18fb964c",
   "metadata": {},
   "source": [
    "Example 2:  \n",
    "> **Input:** matrix = [[\"0\"]]  \n",
    "> **Output:** 0"
   ]
  },
  {
   "cell_type": "markdown",
   "id": "230106fa",
   "metadata": {},
   "source": [
    "Example 3:  \n",
    "> **Input:** matrix = [[\"1\"]]  \n",
    "> **Output:** 1"
   ]
  },
  {
   "cell_type": "code",
   "execution_count": 1,
   "id": "e3f59cde",
   "metadata": {},
   "outputs": [],
   "source": [
    "from typing import List\n",
    "\n",
    "class Solution:\n",
    "    def maximalRectangle(self, matrix: List[List[str]]) -> int:\n",
    "        for i in range(len(matrix)):\n",
    "            for j in range(len(matrix[0])):\n",
    "                matrix[i][j] = int(matrix[i][j])\n",
    "                if i > 0 and matrix[i][j] == 1:\n",
    "                    matrix[i][j] = 1 + matrix[i - 1][j] \n",
    "        \n",
    "        result = 0\n",
    "        for m in matrix:\n",
    "            m.append(0)\n",
    "            stack = [-1]\n",
    "            for i, height in enumerate(m):\n",
    "                while height < m[stack[-1]]:\n",
    "                    h = m[stack.pop()]\n",
    "                    width = i - 1 - stack[-1]\n",
    "                    result = max(result, h * width)\n",
    "                stack.append(i)\n",
    "                \n",
    "        return result\n",
    "    \n",
    "    def display(self, matrix: List[List[str]]) -> None:\n",
    "        result = self.maximalRectangle(matrix)\n",
    "        print(f\"Result: {result}\")"
   ]
  },
  {
   "cell_type": "code",
   "execution_count": 2,
   "id": "ad284d0b",
   "metadata": {},
   "outputs": [
    {
     "name": "stdout",
     "output_type": "stream",
     "text": [
      "Result: 6\n"
     ]
    }
   ],
   "source": [
    "# Example 1\n",
    "\n",
    "matrix = [[\"1\", \"0\", \"1\", \"0\", \"0\"], [\"1\", \"0\", \"1\", \"1\", \"1\"], [\"1\", \"1\", \"1\", \"1\", \"1\"], [\"1\", \"0\", \"0\", \"1\", \"0\"]]\n",
    "Solution().display(matrix)"
   ]
  },
  {
   "cell_type": "code",
   "execution_count": 3,
   "id": "6c9a9f4a",
   "metadata": {},
   "outputs": [
    {
     "name": "stdout",
     "output_type": "stream",
     "text": [
      "Result: 0\n"
     ]
    }
   ],
   "source": [
    "# Example 2\n",
    "\n",
    "matrix = [[\"0\"]]\n",
    "Solution().display(matrix)"
   ]
  },
  {
   "cell_type": "code",
   "execution_count": 4,
   "id": "aba7e870",
   "metadata": {},
   "outputs": [
    {
     "name": "stdout",
     "output_type": "stream",
     "text": [
      "Result: 1\n"
     ]
    }
   ],
   "source": [
    "# Example 3\n",
    "\n",
    "matrix = [[\"1\"]]\n",
    "Solution().display(matrix)"
   ]
  },
  {
   "cell_type": "markdown",
   "id": "ad0774b8",
   "metadata": {},
   "source": [
    "**Idea:**  \n",
    "* Step1: Accumulate the continuous `1`s by row.\n",
    "* Step2: Iterate the matrix.\n",
    "* Step3: Use the previous accumulation to find the maximum rectangle.\n",
    "\n",
    "**Time Complexity:** $O(m * n^2)$  \n",
    "<img src=\"./Images/85-2.png\" width=\"500\">"
   ]
  }
 ],
 "metadata": {
  "kernelspec": {
   "display_name": "Python 3 (ipykernel)",
   "language": "python",
   "name": "python3"
  },
  "language_info": {
   "codemirror_mode": {
    "name": "ipython",
    "version": 3
   },
   "file_extension": ".py",
   "mimetype": "text/x-python",
   "name": "python",
   "nbconvert_exporter": "python",
   "pygments_lexer": "ipython3",
   "version": "3.9.13"
  }
 },
 "nbformat": 4,
 "nbformat_minor": 5
}
