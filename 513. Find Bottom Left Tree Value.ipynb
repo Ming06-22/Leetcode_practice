{
 "cells": [
  {
   "cell_type": "markdown",
   "id": "923ef13c",
   "metadata": {},
   "source": [
    "# 513. Find Bottom Left Tree Value"
   ]
  },
  {
   "cell_type": "markdown",
   "id": "4ec5950d",
   "metadata": {},
   "source": [
    "Given the `root` of a binary tree, return the leftmost value in the last row of the tree.\n",
    "\n",
    "<https://leetcode.com/problems/find-bottom-left-tree-value/?envType=daily-question&envId=2024-02-28>\n",
    "\n",
    "**Constraint:**\n",
    "* The number of nodes in the tree is in the range <code>[1, 10<sup>4</sup>]</code>.\n",
    "* <code>-2<sup>31</sup> <= Node.val <= 2<sup>31</sup> - 1</code>"
   ]
  },
  {
   "cell_type": "markdown",
   "id": "f8c3990c",
   "metadata": {},
   "source": [
    "Example 1:  \n",
    "\n",
    "<img src=\"./Images/513-1.png\" width=\"300\">\n",
    "\n",
    "> **Input:** root = [2,1,3]  \n",
    "> **Output:** 1"
   ]
  },
  {
   "cell_type": "markdown",
   "id": "edca33e7-0ffd-4566-bac8-52a9e855cc72",
   "metadata": {},
   "source": [
    "Example 2:  \n",
    "\n",
    "<img src=\"./Images/513-2.png\" width=\"300\">\n",
    "\n",
    "> **Input:** root = [1,2,3,4,null,5,6,null,null,7]  \n",
    "> **Output:** 7"
   ]
  },
  {
   "cell_type": "code",
   "execution_count": 1,
   "id": "e3f59cde",
   "metadata": {},
   "outputs": [],
   "source": [
    "from typing import Optional\n",
    "\n",
    "class TreeNode:\n",
    "    def __init__(self, val = 0, left = None, right = None):\n",
    "        self.val = val\n",
    "        self.left = left\n",
    "        self.right = right\n",
    "\n",
    "class Solution:\n",
    "    def findBottomLeftValue(self, root: Optional[TreeNode]) -> int:\n",
    "        def bfs():\n",
    "            nonlocal queue\n",
    "            temp = []\n",
    "            for node in queue:\n",
    "                if node.left:\n",
    "                    temp.append(node.left)\n",
    "                if node.right:\n",
    "                    temp.append(node.right)\n",
    "            \n",
    "            if temp:\n",
    "                queue = temp\n",
    "                return False\n",
    "            return True\n",
    "\n",
    "        queue = [root]\n",
    "        while queue:\n",
    "            if bfs():\n",
    "                return queue[0].val\n",
    "\n",
    "    def display(self, root: Optional[TreeNode]) -> int:\n",
    "        result = self.findBottomLeftValue(root)\n",
    "        print(f\"Result: {result}\")"
   ]
  },
  {
   "cell_type": "code",
   "execution_count": 2,
   "id": "ad284d0b",
   "metadata": {},
   "outputs": [
    {
     "name": "stdout",
     "output_type": "stream",
     "text": [
      "Result: 1\n"
     ]
    }
   ],
   "source": [
    "# Example 1\n",
    "\n",
    "root = TreeNode(2, TreeNode(1), TreeNode(3))\n",
    "Solution().display(root)"
   ]
  },
  {
   "cell_type": "code",
   "execution_count": 3,
   "id": "3e04cebf-2866-413b-abb3-6d40d2ec5b9c",
   "metadata": {},
   "outputs": [
    {
     "name": "stdout",
     "output_type": "stream",
     "text": [
      "Result: 7\n"
     ]
    }
   ],
   "source": [
    "# Example 2\n",
    "\n",
    "root = TreeNode(1, TreeNode(2, TreeNode(4)), TreeNode(3, TreeNode(5, TreeNode(7)), TreeNode(6)))\n",
    "Solution().display(root)"
   ]
  },
  {
   "cell_type": "markdown",
   "id": "ad0774b8",
   "metadata": {},
   "source": [
    "**Idea:**  \n",
    "* Step1: Apply BFS.\n",
    "* Step2: If the next state is empty, return the first element of the current state.\n",
    "\n",
    "**Time Complexity:** $O(V + E)$  \n",
    "<img src=\"./Images/513-3.png\" width=\"500\">"
   ]
  }
 ],
 "metadata": {
  "kernelspec": {
   "display_name": "Python 3 (ipykernel)",
   "language": "python",
   "name": "python3"
  },
  "language_info": {
   "codemirror_mode": {
    "name": "ipython",
    "version": 3
   },
   "file_extension": ".py",
   "mimetype": "text/x-python",
   "name": "python",
   "nbconvert_exporter": "python",
   "pygments_lexer": "ipython3",
   "version": "3.9.18"
  }
 },
 "nbformat": 4,
 "nbformat_minor": 5
}
