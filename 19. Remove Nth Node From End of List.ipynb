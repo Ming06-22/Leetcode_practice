{
 "cells": [
  {
   "cell_type": "markdown",
   "id": "923ef13c",
   "metadata": {},
   "source": [
    "# 19. Remove Nth Node From End of List"
   ]
  },
  {
   "cell_type": "markdown",
   "id": "4ec5950d",
   "metadata": {},
   "source": [
    "Given the `head` of a linked list, remove the <code>n<sup>th</sup></code> node from the end of the list and return its head.\n",
    "\n",
    "<https://leetcode.com/problems/remove-nth-node-from-end-of-list/?envType=daily-question&envId=2024-03-03>\n",
    "\n",
    "**Constraint:**\n",
    "* The number of nodes in the list is `sz`.\n",
    "* `1 <= sz <= 30`\n",
    "* `0 <= Node.val <= 100`\n",
    "* `1 <= n <= sz`"
   ]
  },
  {
   "cell_type": "markdown",
   "id": "f8c3990c",
   "metadata": {},
   "source": [
    "Example 1:  \n",
    "\n",
    "<img src=\"./Images/19-1.png\" width=\"300\">\n",
    "\n",
    "> **Input:** head = [1,2,3,4,5], n = 2  \n",
    "> **Output:** [1,2,3,5]"
   ]
  },
  {
   "cell_type": "markdown",
   "id": "a7377215-ac79-4da4-bf16-ea36cbf61401",
   "metadata": {},
   "source": [
    "Example 2:  \n",
    "> **Input:** head = [1], n = 1  \n",
    "> **Output:** []"
   ]
  },
  {
   "cell_type": "markdown",
   "id": "cca28a54-899a-4896-b385-be5b7a7b63d3",
   "metadata": {},
   "source": [
    "Example 3:  \n",
    "> **Input:** head = [1,2], n = 1  \n",
    "> **Output:** [1]"
   ]
  },
  {
   "cell_type": "code",
   "execution_count": 1,
   "id": "e3f59cde",
   "metadata": {},
   "outputs": [],
   "source": [
    "from typing import Optional\n",
    "\n",
    "class ListNode:\n",
    "    def __init__(self, val = 0, next = None):\n",
    "        self.val = val\n",
    "        self.next = next\n",
    "        \n",
    "class Solution:\n",
    "    def removeNthFromEnd(self, head: Optional[ListNode], n: int) -> Optional[ListNode]:\n",
    "        front = head\n",
    "        behind = head\n",
    "        for _ in range(n):\n",
    "            behind = behind.next\n",
    "        \n",
    "        if not behind:\n",
    "            return head.next\n",
    "\n",
    "        while behind.next:\n",
    "            front = front.next\n",
    "            behind = behind.next\n",
    "        front.next = front.next.next\n",
    "\n",
    "        return head\n",
    "\n",
    "    def display(self, head: Optional[ListNode], n: int) -> None:\n",
    "        node = self.removeNthFromEnd(head, n)\n",
    "        result = []\n",
    "        while node:\n",
    "            result.append(node.val)\n",
    "            node = node.next\n",
    "        print(f\"Result: {result}\")"
   ]
  },
  {
   "cell_type": "code",
   "execution_count": 2,
   "id": "ad284d0b",
   "metadata": {},
   "outputs": [
    {
     "name": "stdout",
     "output_type": "stream",
     "text": [
      "Result: [1, 2, 3, 5]\n"
     ]
    }
   ],
   "source": [
    "# Example 1\n",
    "\n",
    "head = ListNode(1, ListNode(2, ListNode(3, ListNode(4, ListNode(5)))))\n",
    "n = 2\n",
    "Solution().display(head, n)"
   ]
  },
  {
   "cell_type": "code",
   "execution_count": 3,
   "id": "34c7ddd8-736a-45ff-ac08-46d92cccdf8f",
   "metadata": {},
   "outputs": [
    {
     "name": "stdout",
     "output_type": "stream",
     "text": [
      "Result: []\n"
     ]
    }
   ],
   "source": [
    "# Example 2\n",
    "\n",
    "head = ListNode(1)\n",
    "n = 1\n",
    "Solution().display(head, n)"
   ]
  },
  {
   "cell_type": "code",
   "execution_count": 4,
   "id": "3447b6d0-5c46-4996-9dac-201bff47892d",
   "metadata": {},
   "outputs": [
    {
     "name": "stdout",
     "output_type": "stream",
     "text": [
      "Result: [1]\n"
     ]
    }
   ],
   "source": [
    "# Example 1\n",
    "\n",
    "head = ListNode(1, ListNode(2))\n",
    "n = 1\n",
    "Solution().display(head, n)"
   ]
  },
  {
   "cell_type": "markdown",
   "id": "ad0774b8",
   "metadata": {},
   "source": [
    "**Idea:**  \n",
    "* Step1: Set two pointer, one points to the head of the linked list, another points to the node's next `n` node.\n",
    "* Step2: If the behind node is `None`, the node need to remove is the head.\n",
    "* Step3: Move back both pointer until the behind one to the end. Then, remove the next node of the previous pointer.\n",
    "\n",
    "**Time Complexity:** $O(n)$  \n",
    "<img src=\"./Images/19-2.png\" width=\"500\">"
   ]
  }
 ],
 "metadata": {
  "kernelspec": {
   "display_name": "Python 3 (ipykernel)",
   "language": "python",
   "name": "python3"
  },
  "language_info": {
   "codemirror_mode": {
    "name": "ipython",
    "version": 3
   },
   "file_extension": ".py",
   "mimetype": "text/x-python",
   "name": "python",
   "nbconvert_exporter": "python",
   "pygments_lexer": "ipython3",
   "version": "3.9.18"
  }
 },
 "nbformat": 4,
 "nbformat_minor": 5
}
