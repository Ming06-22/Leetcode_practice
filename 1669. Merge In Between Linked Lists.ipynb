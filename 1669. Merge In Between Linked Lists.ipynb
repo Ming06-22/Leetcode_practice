{
 "cells": [
  {
   "cell_type": "markdown",
   "id": "923ef13c",
   "metadata": {},
   "source": [
    "# 1669. Merge In Between Linked Lists"
   ]
  },
  {
   "cell_type": "markdown",
   "id": "4ec5950d",
   "metadata": {},
   "source": [
    "You are given two linked lists: `list1` and `list2` of sizes `n` and `m` respectively.\n",
    "\n",
    "Remove `list1`'s nodes from the <code>a<sup>th</sup></code> node to the <code>b<sup>th</sup></code> node, and put `list2` in their place.\n",
    "\n",
    "The blue edges and nodes in the following figure indicate the result:\n",
    "\n",
    "<img src=\"./Images/1669-1.png\" width=\"500\">\n",
    "\n",
    "Build the result list and return its head.\n",
    "\n",
    "<https://leetcode.com/problems/merge-in-between-linked-lists/description/?envType=daily-question&envId=2024-03-20>\n",
    "\n",
    "**Constraint:**\n",
    "* <code>3 <= list1.length <= 10<sup>4</sup></code>\n",
    "* `1 <= a <= b < list1.length - 1`\n",
    "* <code>1 <= list2.length <= 10<sup>4</sup></code>"
   ]
  },
  {
   "cell_type": "markdown",
   "id": "f8c3990c",
   "metadata": {},
   "source": [
    "Example 1:  \n",
    "<img src=\"./Images/1669-2.png\" width=\"350\">\n",
    "> **Input:** list1 = [10,1,13,6,9,5], a = 3, b = 4, list2 = [1000000,1000001,1000002]  \n",
    "> **Output:** [10,1,13,1000000,1000001,1000002,5]  \n",
    "> **Explanation:** We remove the nodes 3 and 4 and put the entire list2 in their place. The blue edges and nodes in the above figure indicate the result."
   ]
  },
  {
   "cell_type": "markdown",
   "id": "5bca6209-9acd-4793-a8f4-a2d179aacf78",
   "metadata": {},
   "source": [
    "Example 2:  \n",
    "<img src=\"./Images/1669-3.png\" width=\"350\">\n",
    "> **Input:** list1 = [0,1,2,3,4,5,6], a = 2, b = 5, list2 = [1000000,1000001,1000002,1000003,1000004]  \n",
    "> **Output:** [0,1,1000000,1000001,1000002,1000003,1000004,6]  \n",
    "> **Explanation:** The blue edges and nodes in the above figure indicate the result."
   ]
  },
  {
   "cell_type": "code",
   "execution_count": 1,
   "id": "e3f59cde",
   "metadata": {},
   "outputs": [],
   "source": [
    "class ListNode:\n",
    "    def __init__(self, val=0, next=None):\n",
    "        self.val = val\n",
    "        self.next = next\n",
    "\n",
    "class Solution:\n",
    "    def mergeInBetween(self, list1: ListNode, a: int, b: int, list2: ListNode) -> ListNode:\n",
    "        index = 0\n",
    "        current = list1\n",
    "        while True:\n",
    "            index += 1\n",
    "            if index == a:\n",
    "                node1 = current\n",
    "            if index == b:\n",
    "                node2 = current.next.next\n",
    "                break\n",
    "            current = current.next\n",
    "        \n",
    "        node3 = list2\n",
    "        while node3.next:\n",
    "            node3 = node3.next\n",
    "        \n",
    "        node1.next = list2\n",
    "        node3.next = node2\n",
    "\n",
    "        return list1\n",
    "\n",
    "    def display(self, list1: ListNode, a: int, b: int, list2: ListNode) -> None:\n",
    "        node = self.mergeInBetween(list1, a, b, list2)\n",
    "        result = []\n",
    "        while node:\n",
    "            result.append(node.val)\n",
    "            node = node.next\n",
    "            \n",
    "        print(f\"Result: {result}\")"
   ]
  },
  {
   "cell_type": "code",
   "execution_count": 2,
   "id": "ad284d0b",
   "metadata": {},
   "outputs": [
    {
     "name": "stdout",
     "output_type": "stream",
     "text": [
      "Result: [10, 1, 13, 1000000, 1000001, 1000002, 5]\n"
     ]
    }
   ],
   "source": [
    "# Example 1\n",
    "\n",
    "list1 = ListNode(10, ListNode(1, ListNode(13, ListNode(6, ListNode(9, ListNode(5))))))\n",
    "list2 = ListNode(1000000, ListNode(1000001, ListNode(1000002)))\n",
    "a, b = 3, 4\n",
    "Solution().display(list1, a, b, list2)"
   ]
  },
  {
   "cell_type": "code",
   "execution_count": 3,
   "id": "4bf3a048-e403-4332-b8aa-4a38e61b367f",
   "metadata": {},
   "outputs": [
    {
     "name": "stdout",
     "output_type": "stream",
     "text": [
      "Result: [0, 1, 1000000, 1000001, 1000002, 1000003, 1000004, 6]\n"
     ]
    }
   ],
   "source": [
    "# Example 2\n",
    "\n",
    "list1 = ListNode(0, ListNode(1, ListNode(2, ListNode(3, ListNode(4, ListNode(5, ListNode(6)))))))\n",
    "list2 = ListNode(1000000, ListNode(1000001, ListNode(1000002, ListNode(1000003, ListNode(1000004)))))\n",
    "a, b = 2, 5\n",
    "Solution().display(list1, a, b, list2)"
   ]
  },
  {
   "cell_type": "markdown",
   "id": "ad0774b8",
   "metadata": {},
   "source": [
    "**Idea:**  \n",
    "* Step1: Find the nodes which connected to the node's we want to remove.\n",
    "* Step2: Find the first and the last node of `list2`.\n",
    "* Step3: Connect the linked list by the nodes we found.\n",
    "\n",
    "**Time Complexity:** $O(m+n)$  \n",
    "<img src=\"./Images/1669-4.png\" width=\"500\">"
   ]
  }
 ],
 "metadata": {
  "kernelspec": {
   "display_name": "Python 3 (ipykernel)",
   "language": "python",
   "name": "python3"
  },
  "language_info": {
   "codemirror_mode": {
    "name": "ipython",
    "version": 3
   },
   "file_extension": ".py",
   "mimetype": "text/x-python",
   "name": "python",
   "nbconvert_exporter": "python",
   "pygments_lexer": "ipython3",
   "version": "3.9.18"
  }
 },
 "nbformat": 4,
 "nbformat_minor": 5
}
