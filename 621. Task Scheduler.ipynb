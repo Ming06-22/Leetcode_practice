{
 "cells": [
  {
   "cell_type": "markdown",
   "id": "923ef13c",
   "metadata": {},
   "source": [
    "# 621. Task Scheduler"
   ]
  },
  {
   "cell_type": "markdown",
   "id": "4ec5950d",
   "metadata": {},
   "source": [
    "You are given an array of CPU `tasks`, each represented by letters A to Z, and a cooling time, `n`. Each cycle or interval allows the completion of one task. Tasks can be completed in any order, but there's a constraint: **identical** tasks must be separated by at least `n` intervals due to cooling time.\n",
    "\n",
    "​Return the minimum number of intervals required to complete all tasks.\n",
    "\n",
    "<https://leetcode.com/problems/task-scheduler/description/?envType=daily-question&envId=2024-03-19>\n",
    "\n",
    "**Constraint:**\n",
    "* <code>1 <= tasks.length <= 10<sup>4</sup></code>\n",
    "* `tasks[i]` is an uppercase English letter.\n",
    "* `0 <= n <= 100`"
   ]
  },
  {
   "cell_type": "markdown",
   "id": "f8c3990c",
   "metadata": {},
   "source": [
    "Example 1:  \n",
    "> **Input:** tasks = [\"A\", \"A\", \"A\", \"B\", \"B\", \"B\"], n = 2  \n",
    "> **Output:** 8  \n",
    "> **Explanation:** A possible sequence is: A -> B -> idle -> A -> B -> idle -> A -> B.\n",
    "> \n",
    "> After completing task A, you must wait two cycles before doing A again. The same applies to task B. In the 3rd interval, neither A nor B can be done, so you idle. By the 4th cycle, you can do A again as 2 intervals have passed."
   ]
  },
  {
   "cell_type": "markdown",
   "id": "6bf7a12f-fa64-4b1e-8623-8dc7e800e777",
   "metadata": {},
   "source": [
    "Example 2:  \n",
    "> **Input:** tasks = [\"A\", \"C\", \"A\", \"B\", \"D\", \"B\"], n = 1  \n",
    "> **Output:** 6  \n",
    "> **Explanation:** A possible sequence is: A -> B -> C -> D -> A -> B.  \n",
    ">\n",
    "> With a cooling interval of 1, you can repeat a task after just one other task."
   ]
  },
  {
   "cell_type": "markdown",
   "id": "b1991e50-51af-4b48-9fed-ccecf4c328ed",
   "metadata": {},
   "source": [
    "Example 3:  \n",
    "> **Input:** tasks = [\"A\", \"A\", \"A\", \"B\", \"B\", \"B\"], n = 3  \n",
    "> **Output:** 10  \n",
    "> **Explanation:** A possible sequence is: A -> B -> idle -> idle -> A -> B -> idle -> idle -> A -> B.  \n",
    ">\n",
    "> There are only two types of tasks, A and B, which need to be separated by 3 intervals. This leads to idling twice between repetitions of these tasks."
   ]
  },
  {
   "cell_type": "code",
   "execution_count": 1,
   "id": "e3f59cde",
   "metadata": {},
   "outputs": [],
   "source": [
    "from typing import List\n",
    "from collections import Counter\n",
    "\n",
    "class Solution:\n",
    "    def leastInterval(self, tasks: List[str], n: int) -> int:\n",
    "        record = Counter(tasks)\n",
    "        maxValue = max(record.values())\n",
    "\n",
    "        num = 0\n",
    "        for v in record.values():\n",
    "            if v == maxValue:\n",
    "                num += 1\n",
    "\n",
    "        interval = (maxValue - 1) * (n + 1) + num\n",
    "\n",
    "        return max(interval, len(tasks))\n",
    "\n",
    "    def display(self, tasks: List[str], n: int) -> None:\n",
    "        result = self.leastInterval(tasks, n)\n",
    "        print(f\"Result: {result}\")"
   ]
  },
  {
   "cell_type": "code",
   "execution_count": 2,
   "id": "ad284d0b",
   "metadata": {},
   "outputs": [
    {
     "name": "stdout",
     "output_type": "stream",
     "text": [
      "Result: 8\n"
     ]
    }
   ],
   "source": [
    "# Example 1\n",
    "\n",
    "tasks = [\"A\", \"A\", \"A\", \"B\", \"B\", \"B\"]\n",
    "n = 2\n",
    "Solution().display(tasks, n)"
   ]
  },
  {
   "cell_type": "code",
   "execution_count": 3,
   "id": "38672157-2933-4f12-8a30-ce9c6554eb8e",
   "metadata": {},
   "outputs": [
    {
     "name": "stdout",
     "output_type": "stream",
     "text": [
      "Result: 6\n"
     ]
    }
   ],
   "source": [
    "# Example 2\n",
    "\n",
    "tasks = [\"A\", \"C\", \"A\", \"B\", \"D\", \"B\"]\n",
    "n = 1\n",
    "Solution().display(tasks, n)"
   ]
  },
  {
   "cell_type": "code",
   "execution_count": 4,
   "id": "1f34d2b1-0586-4448-9a6a-262c1dc55ed7",
   "metadata": {},
   "outputs": [
    {
     "name": "stdout",
     "output_type": "stream",
     "text": [
      "Result: 10\n"
     ]
    }
   ],
   "source": [
    "# Example 3\n",
    "\n",
    "tasks = [\"A\", \"A\", \"A\", \"B\", \"B\", \"B\"]\n",
    "n = 3\n",
    "Solution().display(tasks, n)"
   ]
  },
  {
   "cell_type": "markdown",
   "id": "ad0774b8",
   "metadata": {},
   "source": [
    "**Idea:**  \n",
    "* Step1: Record the frequency of all the numbers in the input list.\n",
    "* Step2: Record the number of unique numbers that has the highest frequency.\n",
    "* Step3: Compare the length of the input list and max frequency multiply the interval.\n",
    "\n",
    "**Time Complexity:** $O(n)$  \n",
    "<img src=\"./Images/621-1.png\" width=\"500\">"
   ]
  }
 ],
 "metadata": {
  "kernelspec": {
   "display_name": "Python 3 (ipykernel)",
   "language": "python",
   "name": "python3"
  },
  "language_info": {
   "codemirror_mode": {
    "name": "ipython",
    "version": 3
   },
   "file_extension": ".py",
   "mimetype": "text/x-python",
   "name": "python",
   "nbconvert_exporter": "python",
   "pygments_lexer": "ipython3",
   "version": "3.9.18"
  }
 },
 "nbformat": 4,
 "nbformat_minor": 5
}
