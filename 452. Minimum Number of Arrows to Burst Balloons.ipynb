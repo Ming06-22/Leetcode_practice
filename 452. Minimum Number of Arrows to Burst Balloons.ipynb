{
 "cells": [
  {
   "cell_type": "markdown",
   "id": "923ef13c",
   "metadata": {},
   "source": [
    "# 452. Minimum Number of Arrows to Burst Balloons"
   ]
  },
  {
   "cell_type": "markdown",
   "id": "4ec5950d",
   "metadata": {},
   "source": [
    "There are some spherical balloons taped onto a flat wall that represents the XY-plane. The balloons are represented as a 2D integer array `points` where <code>points[i] = [x<sub>start</sub>, x<sub>end</sub>]</code> denotes a balloon whose **horizontal diameter** stretches between <code>x<sub>start</sub></code> and <code>x<sub>end</sub></code>. You do not know the exact y-coordinates of the balloons.\n",
    "\n",
    "Arrows can be shot up **directly vertically** (in the positive y-direction) from different points along the x-axis. A balloon with <code>x<sub>start</sub></code> and <code>x<sub>end</sub></code> is **burst** by an arrow shot at `x` if <code>x<sub>start</sub> <= x <= x<sub>end</sub></code>. There is no limit to the number of arrows that can be shot. A shot arrow keeps traveling up infinitely, bursting any balloons in its path.\n",
    "\n",
    "Given the array `points`, return the **minimum** number of arrows that must be shot to burst all balloons.\n",
    "\n",
    "<https://leetcode.com/problems/minimum-number-of-arrows-to-burst-balloons/description/?envType=daily-question&envId=2024-03-18>\n",
    "\n",
    "**Constraint:**\n",
    "* <code>1 <= points.length <= 10<sup>5</sup></code>\n",
    "* `points[i].length == 2`\n",
    "* <code>-2<sup>31</sup> <= x<sub>start</sub> < x<sub>end</sub> <= 2<sup>31</sup> - 1</code>"
   ]
  },
  {
   "cell_type": "markdown",
   "id": "f8c3990c",
   "metadata": {},
   "source": [
    "Example 1:  \n",
    "> **Input:** points = [[10,16],[2,8],[1,6],[7,12]]  \n",
    "> **Output:** 2  \n",
    "> **Explanation:** The balloons can be burst by 2 arrows:  \n",
    "> - Shoot an arrow at x = 6, bursting the balloons [2,8] and [1,6].  \n",
    "> - Shoot an arrow at x = 11, bursting the balloons [10,16] and [7,12]."
   ]
  },
  {
   "cell_type": "markdown",
   "id": "d7e3a7be-700e-4214-993b-9fcf8d6bd03b",
   "metadata": {},
   "source": [
    "Example 2:\n",
    "> **Input:** points = [[1,2],[3,4],[5,6],[7,8]]  \n",
    "> **Output:** 4  \n",
    "> **Explanation:** One arrow needs to be shot for each balloon for a total of 4 arrows."
   ]
  },
  {
   "cell_type": "markdown",
   "id": "2ff9a501-bb71-4599-b4e8-09e6a4bce749",
   "metadata": {},
   "source": [
    "Example 3:  \n",
    "> **Input:** points = [[1,2],[2,3],[3,4],[4,5]]  \n",
    "> **Output:** 2  \n",
    "> **Explanation:** The balloons can be burst by 2 arrows:  \n",
    "> - Shoot an arrow at x = 2, bursting the balloons [1,2] and [2,3].  \n",
    "> - Shoot an arrow at x = 4, bursting the balloons [3,4] and [4,5]."
   ]
  },
  {
   "cell_type": "code",
   "execution_count": 1,
   "id": "e3f59cde",
   "metadata": {},
   "outputs": [],
   "source": [
    "from typing import List\n",
    "\n",
    "class Solution:\n",
    "    def findMinArrowShots(self, points: List[List[int]]) -> int:\n",
    "        points.sort()\n",
    "        result = 1\n",
    "        record = points[0][1]\n",
    "        for start, end in points[1: ]:\n",
    "            if start <= record:\n",
    "                record = min(record, end)\n",
    "            else:\n",
    "                result += 1\n",
    "                record = end\n",
    "\n",
    "        return result\n",
    "\n",
    "    def display(self, points: List[List[int]]) -> None:\n",
    "        result = self.findMinArrowShots(points)\n",
    "        print(f\"Result: {result}\")"
   ]
  },
  {
   "cell_type": "code",
   "execution_count": 2,
   "id": "ad284d0b",
   "metadata": {},
   "outputs": [
    {
     "name": "stdout",
     "output_type": "stream",
     "text": [
      "Result: 2\n"
     ]
    }
   ],
   "source": [
    "# Example 1\n",
    "\n",
    "points = [[10, 16], [2, 8], [1, 6], [7, 12]]\n",
    "Solution().display(points)"
   ]
  },
  {
   "cell_type": "code",
   "execution_count": 3,
   "id": "b90fc712-82da-47d2-8e17-a13a0d1f5fdb",
   "metadata": {},
   "outputs": [
    {
     "name": "stdout",
     "output_type": "stream",
     "text": [
      "Result: 4\n"
     ]
    }
   ],
   "source": [
    "# Example 2\n",
    "\n",
    "points = [[1, 2], [3, 4], [5, 6], [7, 8]]\n",
    "Solution().display(points)"
   ]
  },
  {
   "cell_type": "code",
   "execution_count": 4,
   "id": "3579bff9-fe67-4b6d-94a0-4d94d601668d",
   "metadata": {},
   "outputs": [
    {
     "name": "stdout",
     "output_type": "stream",
     "text": [
      "Result: 2\n"
     ]
    }
   ],
   "source": [
    "# Example 3\n",
    "\n",
    "points = [[1, 2], [2, 3], [3, 4], [4 ,5]]\n",
    "Solution().display(points)"
   ]
  },
  {
   "cell_type": "markdown",
   "id": "ad0774b8",
   "metadata": {},
   "source": [
    "**Idea:**  \n",
    "* Step1: Sort the input array.\n",
    "* Step2: Record the tail of the balloons.\n",
    "* Step3: Iterate the input array and compare the position.\n",
    "\n",
    "**Time Complexity:** $O(nlogn)$  \n",
    "<img src=\"./Images/452-1.png\" width=\"500\">"
   ]
  }
 ],
 "metadata": {
  "kernelspec": {
   "display_name": "Python 3 (ipykernel)",
   "language": "python",
   "name": "python3"
  },
  "language_info": {
   "codemirror_mode": {
    "name": "ipython",
    "version": 3
   },
   "file_extension": ".py",
   "mimetype": "text/x-python",
   "name": "python",
   "nbconvert_exporter": "python",
   "pygments_lexer": "ipython3",
   "version": "3.9.18"
  }
 },
 "nbformat": 4,
 "nbformat_minor": 5
}
