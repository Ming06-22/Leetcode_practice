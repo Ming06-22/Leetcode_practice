{
 "cells": [
  {
   "cell_type": "markdown",
   "id": "923ef13c",
   "metadata": {},
   "source": [
    "# 834. Sum of Distances in Tree"
   ]
  },
  {
   "cell_type": "markdown",
   "id": "4ec5950d",
   "metadata": {},
   "source": [
    "There is an undirected connected tree with `n` nodes labeled from `0` to `n - 1` and `n - 1` edges.\n",
    "\n",
    "You are given the integer `n` and the array `edges` where <code>edges[i] = [a<sub>i</sub>, b<sub>i</sub>]</code> indicates that there is an edge between nodes <code>a<sub>i</sub></code> and <code>b<sub>i</sub></code> in the tree.\n",
    "\n",
    "Return an array `answer` of length `n` where `answer[i]` is the sum of the distances between the <code>i<sup>th</sup></code> node in the tree and all other nodes.\n",
    "\n",
    "<https://leetcode.com/problems/sum-of-distances-in-tree/description/?envType=daily-question&envId=2024-04-28>\n",
    "\n",
    "**Constraint:**\n",
    "* <code>1 <= n <= 3 * 10<sup>4</sup></code>\n",
    "* `edges.length == n - 1`\n",
    "* `edges[i].length == 2`\n",
    "* <code>0 <= a<sub>i</sub>, b<sub>i</sub> < n</code>\n",
    "* <code>a<sub>i</sub> != b<sub>i</sub></code>\n",
    "* The given input represents a valid tree."
   ]
  },
  {
   "cell_type": "markdown",
   "id": "f8c3990c",
   "metadata": {},
   "source": [
    "Example 1:  \n",
    "\n",
    "<img src=\"./Images/834-1.png\" width=\"200\">\n",
    "\n",
    "> **Input:** n = 6, edges = [[0, 1], [0, 2], [2, 3], [2, 4], [2, 5]]  \n",
    "> **Output:** [8, 12, 6, 10, 10, 10]  \n",
    "> **Explanation:** The tree is shown above.  \n",
    "We can see that dist(0, 1) + dist(0, 2) + dist(0, 3) + dist(0, 4) + dist(0, 5)  \n",
    "equals 1 + 1 + 2 + 2 + 2 = 8.  \n",
    "Hence, answer[0] = 8, and so on."
   ]
  },
  {
   "cell_type": "markdown",
   "id": "7a7680b1",
   "metadata": {},
   "source": [
    "Example 2:  \n",
    "\n",
    "<img src=\"./Images/834-2.png\" width=\"50\">\n",
    "\n",
    "> **Input:** n = 1, edges = []  \n",
    "> **Output:** [0]"
   ]
  },
  {
   "cell_type": "markdown",
   "id": "4e3ff6c5",
   "metadata": {},
   "source": [
    "Example 3:  \n",
    "\n",
    "<img src=\"./Images/834-3.png\" width=\"100\">\n",
    "\n",
    "> **Input:** n = 2, edges = [[1, 0]]  \n",
    "> **Output:** [1, 1]"
   ]
  },
  {
   "cell_type": "code",
   "execution_count": 1,
   "id": "e3f59cde",
   "metadata": {},
   "outputs": [],
   "source": [
    "from typing import List\n",
    "from collections import defaultdict\n",
    "\n",
    "class Solution:\n",
    "    def sumOfDistancesInTree(self, n: int, edges: List[List[int]]) -> List[int]:\n",
    "        graph = defaultdict(list)\n",
    "        for x, y in edges:\n",
    "            graph[x].append(y)\n",
    "            graph[y].append(x)\n",
    "\n",
    "        def dfs1(node, parent):\n",
    "            for child in graph[node]:\n",
    "                if child != parent:\n",
    "                    dfs1(child, node)\n",
    "                    record[node] += record[child]\n",
    "                    result[node] += result[child] + record[child]\n",
    "\n",
    "        def dfs2(node, parent):\n",
    "            for child in graph[node]:\n",
    "                if child != parent:\n",
    "                    result[child] = result[node] - record[child] + (n - record[child])\n",
    "                    dfs2(child, node)\n",
    "\n",
    "        record, result = [1] * n, [0] * n\n",
    "        dfs1(0, -1)\n",
    "        dfs2(0, -1)\n",
    "        \n",
    "        return result\n",
    "    \n",
    "    def display(self, n: int, edges: List[List[int]]) -> None:\n",
    "        result = self.sumOfDistancesInTree(n, edges)\n",
    "        print(f\"Result: {result}\")"
   ]
  },
  {
   "cell_type": "code",
   "execution_count": 2,
   "id": "ad284d0b",
   "metadata": {},
   "outputs": [
    {
     "name": "stdout",
     "output_type": "stream",
     "text": [
      "Result: [8, 12, 6, 10, 10, 10]\n"
     ]
    }
   ],
   "source": [
    "# Example 1\n",
    "\n",
    "n = 6\n",
    "edges = [[0, 1], [0, 2], [2, 3], [2, 4], [2, 5]]\n",
    "Solution().display(n, edges)"
   ]
  },
  {
   "cell_type": "code",
   "execution_count": 3,
   "id": "66916805",
   "metadata": {},
   "outputs": [
    {
     "name": "stdout",
     "output_type": "stream",
     "text": [
      "Result: [0]\n"
     ]
    }
   ],
   "source": [
    "# Example 2\n",
    "\n",
    "n = 1\n",
    "edges = []\n",
    "Solution().display(n, edges)"
   ]
  },
  {
   "cell_type": "code",
   "execution_count": 4,
   "id": "f0bc0810",
   "metadata": {},
   "outputs": [
    {
     "name": "stdout",
     "output_type": "stream",
     "text": [
      "Result: [1, 1]\n"
     ]
    }
   ],
   "source": [
    "# Example 3\n",
    "\n",
    "n = 2\n",
    "edges = [[1, 0]]\n",
    "Solution().display(n, edges)"
   ]
  },
  {
   "cell_type": "markdown",
   "id": "ad0774b8",
   "metadata": {},
   "source": [
    "**Idea:**  \n",
    "* Step1: Convert edges into graph.\n",
    "* Step2: Compute the distance between nodes and their descendants.\n",
    "* Step3: Compute the final distances.\n",
    "\n",
    "**Time Complexity:** $O(V + E)$  \n",
    "<img src=\"./Images/834-4.png\" width=\"500\">"
   ]
  }
 ],
 "metadata": {
  "kernelspec": {
   "display_name": "Python 3 (ipykernel)",
   "language": "python",
   "name": "python3"
  },
  "language_info": {
   "codemirror_mode": {
    "name": "ipython",
    "version": 3
   },
   "file_extension": ".py",
   "mimetype": "text/x-python",
   "name": "python",
   "nbconvert_exporter": "python",
   "pygments_lexer": "ipython3",
   "version": "3.9.13"
  }
 },
 "nbformat": 4,
 "nbformat_minor": 5
}
