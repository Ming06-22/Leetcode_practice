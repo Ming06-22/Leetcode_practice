{
 "cells": [
  {
   "cell_type": "markdown",
   "id": "923ef13c",
   "metadata": {},
   "source": [
    "# 463. Island Perimeter"
   ]
  },
  {
   "cell_type": "markdown",
   "id": "4ec5950d",
   "metadata": {},
   "source": [
    "You are given `row x col` `grid` representing a map where `grid[i][j] = 1` represents land and `grid[i][j] = 0` represents water.\n",
    "\n",
    "Grid cells are connected **horizontally/vertically** (not diagonally). The `grid` is completely surrounded by water, and there is exactly one island (i.e., one or more connected land cells).\n",
    "\n",
    "The island doesn't have \"lakes\", meaning the water inside isn't connected to the water around the island. One cell is a square with side length 1. The grid is rectangular, width and height don't exceed 100. Determine the perimeter of the island.\n",
    "\n",
    "<https://leetcode.com/problems/smallest-string-starting-from-leaf/description/?envType=daily-question&envId=2024-04-17>\n",
    "\n",
    "**Constraint:**\n",
    "* `row == grid.length`\n",
    "* `col == grid[i].length`\n",
    "* `1 <= row, col <= 100`\n",
    "* `grid[i][j]` is `0` or `1`.\n",
    "* There is exactly one island in `grid`."
   ]
  },
  {
   "cell_type": "markdown",
   "id": "f8c3990c",
   "metadata": {},
   "source": [
    "Example 1:  \n",
    "\n",
    "<img src=\"./Images/463-1.png\" width=\"150\">\n",
    "\n",
    "> **Input:** grid = [[0,1,0,0],[1,1,1,0],[0,1,0,0],[1,1,0,0]]  \n",
    "> **Output:** 16  \n",
    "> **Explanation:** The perimeter is the 16 yellow stripes in the image above."
   ]
  },
  {
   "cell_type": "markdown",
   "id": "3c964cc3",
   "metadata": {},
   "source": [
    "Example 2: \n",
    "> **Input:** grid = [[1]]  \n",
    "> **Output:** 4"
   ]
  },
  {
   "cell_type": "markdown",
   "id": "5c2b86d9",
   "metadata": {},
   "source": [
    "Example 3: \n",
    "> **Input:** grid = [[1, 0]]  \n",
    "> **Output:** 4"
   ]
  },
  {
   "cell_type": "code",
   "execution_count": 1,
   "id": "e3f59cde",
   "metadata": {},
   "outputs": [],
   "source": [
    "from typing import List\n",
    "\n",
    "class Solution:\n",
    "    def islandPerimeter(self, grid: List[List[int]]) -> int:\n",
    "        result = 0\n",
    "        for i in range(len(grid)):\n",
    "            for j in range(len(grid[0])):\n",
    "                if grid[i][j]:\n",
    "                    result += 4\n",
    "                    if i > 0 and grid[i - 1][j]:\n",
    "                        result -= 2\n",
    "                    if j > 0 and grid[i][j - 1]:\n",
    "                        result -= 2\n",
    "        \n",
    "        return result\n",
    "    \n",
    "    def display(self, grid: List[List[int]]) -> None:\n",
    "        result = self.islandPerimeter(grid)\n",
    "        print(f\"Result: {result}\")"
   ]
  },
  {
   "cell_type": "code",
   "execution_count": 2,
   "id": "ad284d0b",
   "metadata": {},
   "outputs": [
    {
     "name": "stdout",
     "output_type": "stream",
     "text": [
      "Result: 16\n"
     ]
    }
   ],
   "source": [
    "# Example 1\n",
    "\n",
    "grid = [[0, 1, 0, 0], [1, 1, 1, 0], [0, 1, 0, 0], [1, 1, 0, 0]]\n",
    "Solution().display(grid)"
   ]
  },
  {
   "cell_type": "code",
   "execution_count": 3,
   "id": "887301d5",
   "metadata": {},
   "outputs": [
    {
     "name": "stdout",
     "output_type": "stream",
     "text": [
      "Result: 4\n"
     ]
    }
   ],
   "source": [
    "# Example 2\n",
    "\n",
    "grid = [[1]]\n",
    "Solution().display(grid)"
   ]
  },
  {
   "cell_type": "code",
   "execution_count": 4,
   "id": "6cbd6f73",
   "metadata": {},
   "outputs": [
    {
     "name": "stdout",
     "output_type": "stream",
     "text": [
      "Result: 4\n"
     ]
    }
   ],
   "source": [
    "# Example 3\n",
    "\n",
    "grid = [[1, 0]]\n",
    "Solution().display(grid)"
   ]
  },
  {
   "cell_type": "markdown",
   "id": "ad0774b8",
   "metadata": {},
   "source": [
    "**Idea:**  \n",
    "* Step1: Iterate the grid.\n",
    "* Step2: If the cell is an island, add the result by 4.\n",
    "* Step3: If the cell on the top or in the left of an island is also an island, minus the result by 2.\n",
    "\n",
    "**Time Complexity:** $O(m*n)$  \n",
    "<img src=\"./Images/463-2.png\" width=\"500\">"
   ]
  }
 ],
 "metadata": {
  "kernelspec": {
   "display_name": "Python 3 (ipykernel)",
   "language": "python",
   "name": "python3"
  },
  "language_info": {
   "codemirror_mode": {
    "name": "ipython",
    "version": 3
   },
   "file_extension": ".py",
   "mimetype": "text/x-python",
   "name": "python",
   "nbconvert_exporter": "python",
   "pygments_lexer": "ipython3",
   "version": "3.9.13"
  }
 },
 "nbformat": 4,
 "nbformat_minor": 5
}
