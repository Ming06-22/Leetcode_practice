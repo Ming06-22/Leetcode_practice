{
 "cells": [
  {
   "cell_type": "markdown",
   "id": "923ef13c",
   "metadata": {},
   "source": [
    "# 57. Insert Interval"
   ]
  },
  {
   "cell_type": "markdown",
   "id": "4ec5950d",
   "metadata": {},
   "source": [
    "You are given an array of non-overlapping intervals `intervals` where <code>intervals[i] = [start<sub>i</sub>, end<sub>i</sub>]</code> represent the start and the end of the <code>i<sup>th</sup></code> interval and `intervals` is sorted in ascending order by <code>start<sub>i</sub></code>. You are also given an interval `newInterval = [start, end]` that represents the start and end of another interval.\n",
    "\n",
    "Insert `newInterval` into `intervals` such that `intervals` is still sorted in ascending order by <code>start<sub>i</sub></code> and `intervals` still does not have any overlapping intervals (merge overlapping intervals if necessary).\n",
    "\n",
    "Return `intervals` after the insertion.\n",
    "\n",
    "**Note** that you don't need to modify `intervals` in-place. You can make a new array and return it.\n",
    "\n",
    "<https://leetcode.com/problems/insert-interval/?envType=daily-question&envId=2024-03-17>\n",
    "\n",
    "**Constraint:**\n",
    "* <code>0 <= intervals.length <= 10<sup>4</sup></code>\n",
    "* `intervals[i].length == 2`\n",
    "* <code>0 <= start<sub>i</sub> <= end<sub>i</sub> <= 10<sup>5</sup></code>\n",
    "* `intervals` is sorted by <code>start<sub>i</sub></code> in **ascending** order.\n",
    "* `newInterval.length == 2`\n",
    "* <code>0 <= start <= end <= 10<sup>5</sup></code>"
   ]
  },
  {
   "cell_type": "markdown",
   "id": "f8c3990c",
   "metadata": {},
   "source": [
    "Example 1:  \n",
    "> **Input:** intervals = [[1,3],[6,9]], newInterval = [2,5]  \n",
    "> **Output:** [[1,5],[6,9]]"
   ]
  },
  {
   "cell_type": "markdown",
   "id": "d3a865b2-f36e-48cb-ae8d-df3aca55bc7a",
   "metadata": {},
   "source": [
    "Example 2:  \n",
    "> **Input:** intervals = [[1,2],[3,5],[6,7],[8,10],[12,16]], newInterval = [4,8]  \n",
    "> **Output:** [[1,2],[3,10],[12,16]]  \n",
    "> **Explanation:** Because the new interval [4,8] overlaps with [3,5],[6,7],[8,10]."
   ]
  },
  {
   "cell_type": "code",
   "execution_count": 1,
   "id": "e3f59cde",
   "metadata": {},
   "outputs": [],
   "source": [
    "from typing import List\n",
    "\n",
    "class Solution:\n",
    "    def insert(self, intervals: List[List[int]], newInterval: List[int]) -> List[List[int]]:\n",
    "        result = []\n",
    "        i0, i1 = newInterval\n",
    "        index = 0\n",
    "        while index < len(intervals):\n",
    "            l, r = intervals[index]\n",
    "            if i0 <= l:\n",
    "                if i1 < l:\n",
    "                    return result + [[i0, i1], [l, r]] + intervals[index + 1: ]\n",
    "                elif l <= i1 <= r:\n",
    "                    return result + [[i0, r]] + intervals[index + 1: ]\n",
    "            elif l <= i0 <= r:\n",
    "                if l <= i1 <= r:\n",
    "                    return result + [[l, r]] + intervals[index + 1: ]\n",
    "                else:\n",
    "                    i0 = l\n",
    "            else:\n",
    "                result.append([l, r])\n",
    "            \n",
    "            index += 1\n",
    "        \n",
    "        return result + [[i0, i1]]\n",
    "\n",
    "    def display(self, intervals: List[List[int]], newInterval: List[int]) -> None:\n",
    "        result = self.insert(intervals, newInterval)\n",
    "        print(f\"Result: {result}\")"
   ]
  },
  {
   "cell_type": "code",
   "execution_count": 2,
   "id": "ad284d0b",
   "metadata": {},
   "outputs": [
    {
     "name": "stdout",
     "output_type": "stream",
     "text": [
      "Result: [[1, 5], [6, 9]]\n"
     ]
    }
   ],
   "source": [
    "# Example 1\n",
    "\n",
    "intervals = [[1, 3], [6, 9]]\n",
    "newInterval = [2, 5]\n",
    "Solution().display(intervals, newInterval)"
   ]
  },
  {
   "cell_type": "code",
   "execution_count": 3,
   "id": "46e1f22b-daaa-498e-be87-fb35de34b192",
   "metadata": {},
   "outputs": [
    {
     "name": "stdout",
     "output_type": "stream",
     "text": [
      "Result: [[1, 2], [3, 10], [12, 16]]\n"
     ]
    }
   ],
   "source": [
    "# Example 2\n",
    "\n",
    "intervals = [[1, 2], [3, 5], [6, 7], [8, 10], [12, 16]]\n",
    "newInterval = [4, 8]\n",
    "Solution().display(intervals, newInterval)"
   ]
  },
  {
   "cell_type": "markdown",
   "id": "ad0774b8",
   "metadata": {},
   "source": [
    "**Idea:**  \n",
    "* Step1: Use a stack to record the current result.\n",
    "* Step2: Iterate the input array.\n",
    "* Step3: Compare the current interval and the interval we want to insert.\n",
    "\n",
    "**Time Complexity:** $O(n)$  \n",
    "<img src=\"./Images/57-1.png\" width=\"500\">"
   ]
  }
 ],
 "metadata": {
  "kernelspec": {
   "display_name": "Python 3 (ipykernel)",
   "language": "python",
   "name": "python3"
  },
  "language_info": {
   "codemirror_mode": {
    "name": "ipython",
    "version": 3
   },
   "file_extension": ".py",
   "mimetype": "text/x-python",
   "name": "python",
   "nbconvert_exporter": "python",
   "pygments_lexer": "ipython3",
   "version": "3.9.18"
  }
 },
 "nbformat": 4,
 "nbformat_minor": 5
}
