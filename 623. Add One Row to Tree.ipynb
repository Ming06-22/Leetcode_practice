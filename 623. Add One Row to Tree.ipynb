{
 "cells": [
  {
   "cell_type": "markdown",
   "id": "923ef13c",
   "metadata": {},
   "source": [
    "# 623. Add One Row to Tree"
   ]
  },
  {
   "cell_type": "markdown",
   "id": "4ec5950d",
   "metadata": {},
   "source": [
    "Given the `root` of a binary tree and two integers `val` and `depth`, add a row of nodes with value `val` at the given `depth` depth.\n",
    "\n",
    "Note that the `root` node is at depth `1`.\n",
    "\n",
    "The adding rule is:\n",
    "\n",
    "* Given the integer `depth`, for each not null tree node `cur` at the depth `depth - 1`, create two tree nodes with value `val` as `cur`'s left subtree root and right subtree root.\n",
    "* `cur`'s original left subtree should be the left subtree of the new left subtree root.\n",
    "* `cur`'s original right subtree should be the right subtree of the new right subtree root.\n",
    "* If `depth == 1` that means there is no depth `depth - 1` at all, then create a tree node with value `val` as the new root of the whole original tree, and the original tree is the new root's left subtree.\n",
    "\n",
    "<https://leetcode.com/problems/add-one-row-to-tree/?envType=daily-question&envId=2024-04-16>\n",
    "\n",
    "**Constraint:**\n",
    "* The number of nodes in the tree is in the range <code>[1, 10<sup>4</sup>]</code>.\n",
    "* The depth of the tree is in the range <code>[1, 10<sup>4</sup>]</code>.\n",
    "* `-100 <= Node.val <= 100`\n",
    "* <code>-10<sup>5</sup> <= val <= 10<sup>5</sup></code>\n",
    "* `1 <= depth <= the depth of tree + 1`"
   ]
  },
  {
   "cell_type": "markdown",
   "id": "f8c3990c",
   "metadata": {},
   "source": [
    "Example 1:  \n",
    "\n",
    "<img src=\"./Images/623-1.png\" width=\"300\">\n",
    "\n",
    "> **Input:**: root = [4,2,6,3,1,5], val = 1, depth = 2  \n",
    "> **Output:**[4,1,1,2,null,null,6,3,1,5]"
   ]
  },
  {
   "cell_type": "markdown",
   "id": "0569d914",
   "metadata": {},
   "source": [
    "Example 2:  \n",
    "\n",
    "<img src=\"./Images/623-2.png\" width=\"300\">\n",
    "\n",
    "> **Input:** root = [4,2,null,3,1], val = 1, depth = 3  \n",
    "> **Output:** [4,2,null,1,1,3,null,null,1]"
   ]
  },
  {
   "cell_type": "code",
   "execution_count": 1,
   "id": "e3f59cde",
   "metadata": {},
   "outputs": [],
   "source": [
    "from typing import Optional\n",
    "\n",
    "class TreeNode:\n",
    "    def __init__(self, val = 0, left = None, right = None):\n",
    "        self.val = val\n",
    "        self.left = left\n",
    "        self.right = right\n",
    "        \n",
    "class Solution:\n",
    "    def addOneRow(self, root: Optional[TreeNode], val: int, depth: int) -> Optional[TreeNode]:\n",
    "        if depth == 1:\n",
    "            temp = TreeNode(val)\n",
    "            temp.left = root\n",
    "\n",
    "            return temp\n",
    "        \n",
    "        def bfs(d):\n",
    "            nonlocal nodes\n",
    "\n",
    "            if d == depth - 1:\n",
    "                for n in nodes:\n",
    "                    temp = n.left\n",
    "                    n.left = TreeNode(val)\n",
    "                    n.left.left = temp\n",
    "\n",
    "                    temp = n.right\n",
    "                    n.right = TreeNode(val)\n",
    "                    n.right.right = temp\n",
    "            else:\n",
    "                temp = []\n",
    "                for n in nodes:\n",
    "                    if n.left:\n",
    "                        temp.append(n.left)\n",
    "                    if n.right:\n",
    "                        temp.append(n.right)\n",
    "                \n",
    "                nodes = temp\n",
    "\n",
    "        nodes = [root]\n",
    "        d = 1\n",
    "        while nodes and d < depth:\n",
    "            bfs(d)\n",
    "            d += 1\n",
    "\n",
    "        return root\n",
    "    \n",
    "    def display(self, root: Optional[TreeNode], val: int, depth: int) -> None:\n",
    "        nodes = [self.addOneRow(root, val, depth)]\n",
    "        result = []\n",
    "        while nodes:\n",
    "            n = nodes.pop(0)\n",
    "            if n:\n",
    "                result.append(n.val)\n",
    "            else:\n",
    "                result.append(n)\n",
    "            if n:\n",
    "                nodes.append(n.left)\n",
    "                nodes.append(n.right)\n",
    "                \n",
    "        while result and result[-1] == None:\n",
    "            result.pop()\n",
    "                \n",
    "        print(f\"Result: {result}\")"
   ]
  },
  {
   "cell_type": "code",
   "execution_count": 2,
   "id": "ad284d0b",
   "metadata": {},
   "outputs": [
    {
     "name": "stdout",
     "output_type": "stream",
     "text": [
      "Result: [4, 1, 1, 2, None, None, 6, 3, 1, 5]\n"
     ]
    }
   ],
   "source": [
    "# Example 1\n",
    "\n",
    "root = TreeNode(4, TreeNode(2, TreeNode(3), TreeNode(1)), TreeNode(6, TreeNode(5)))\n",
    "val, depth = 1, 2\n",
    "Solution().display(root, val, depth)"
   ]
  },
  {
   "cell_type": "code",
   "execution_count": 3,
   "id": "8ca23845",
   "metadata": {},
   "outputs": [
    {
     "name": "stdout",
     "output_type": "stream",
     "text": [
      "Result: [4, 2, None, 1, 1, 3, None, None, 1]\n"
     ]
    }
   ],
   "source": [
    "# Example 2\n",
    "\n",
    "root = TreeNode(4, TreeNode(2, TreeNode(3), TreeNode(1)))\n",
    "val, depth = 1, 3\n",
    "Solution().display(root, val, depth)"
   ]
  },
  {
   "cell_type": "markdown",
   "id": "ad0774b8",
   "metadata": {},
   "source": [
    "**Idea:**  \n",
    "* Step1: Apply BFS.\n",
    "* Step2: If current layer is the previous layer of our target, add a layer of nodes with given value.\n",
    "* Step3: If current layer is smaller than our target, expand the nodes.\n",
    "\n",
    "**Time Complexity:** $O(n)$  \n",
    "<img src=\"./Images/623-3.png\" width=\"500\">"
   ]
  }
 ],
 "metadata": {
  "kernelspec": {
   "display_name": "Python 3 (ipykernel)",
   "language": "python",
   "name": "python3"
  },
  "language_info": {
   "codemirror_mode": {
    "name": "ipython",
    "version": 3
   },
   "file_extension": ".py",
   "mimetype": "text/x-python",
   "name": "python",
   "nbconvert_exporter": "python",
   "pygments_lexer": "ipython3",
   "version": "3.9.13"
  }
 },
 "nbformat": 4,
 "nbformat_minor": 5
}
