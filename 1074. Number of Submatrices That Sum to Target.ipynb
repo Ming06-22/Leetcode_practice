{
 "cells": [
  {
   "cell_type": "markdown",
   "id": "32d458f2",
   "metadata": {},
   "source": [
    "# 1074. Number of Submatrices That Sum to Target"
   ]
  },
  {
   "cell_type": "markdown",
   "id": "5d5e1e74",
   "metadata": {},
   "source": [
    "Given a `matrix` and a `target`, return the number of non-empty submatrices that sum to target.\n",
    "\n",
    "A submatrix `x1, y1, x2, y2` is the set of all cells `matrix[x][y]` with `x1 <= x <= x2` and `y1 <= y <= y2`.\n",
    "\n",
    "Two submatrices `(x1, y1, x2, y2)` and `(x1', y1', x2', y2')` are different if they have some coordinate that is different: for example, if `x1 != x1'`.\n",
    "\n",
    "<https://leetcode.com/problems/number-of-submatrices-that-sum-to-target/description/?envType=daily-question&envId=2024-01-28>"
   ]
  },
  {
   "cell_type": "markdown",
   "id": "dede468b",
   "metadata": {},
   "source": [
    "**Constraints:**  \n",
    "  - `1 <= matrix.length <= 100`\n",
    "  - `1 <= matrix[0].length <= 100`\n",
    "  - `-1000 <= matrix[i] <= 1000`\n",
    "  - <code>-10<sup>8</sup> <= target <= 10<sup>8</sup></code>"
   ]
  },
  {
   "cell_type": "markdown",
   "id": "1c7d3ca7",
   "metadata": {},
   "source": [
    "Example 1:  \n",
    "\n",
    "<img src=\"./Images/1074-1.png\" width=\"200\">\n",
    "\n",
    "> Input: matrix = [[0, 1, 0], [1, 1, 1], [0, 1, 0]], target = 0  \n",
    "> Output: 4  \n",
    "> Explanation: The four 1x1 submatrices that only contain 0.  "
   ]
  },
  {
   "cell_type": "markdown",
   "id": "3e073ee8",
   "metadata": {},
   "source": [
    "Example 2:  \n",
    "\n",
    "<img src=\"./Images/1074-2.png\" width=\"150\">\n",
    "\n",
    "> Input: matrix = [[1, -1], [-1, 1]], target = 0  \n",
    "> Output: 5  \n",
    "> Explamation: The two 1x2 submatrices, plus the two 2x1 submatrices, plus the 2x2 submatrix.  "
   ]
  },
  {
   "cell_type": "markdown",
   "id": "1edc7d7d",
   "metadata": {},
   "source": [
    "Example 3:  \n",
    "\n",
    "<img src=\"./Images/1074-3.png\" width=\"70\">\n",
    "\n",
    "> Input: matrix = [[904]], target = 0  \n",
    "> Output: 0"
   ]
  },
  {
   "cell_type": "code",
   "execution_count": 1,
   "id": "15148ace",
   "metadata": {
    "scrolled": true
   },
   "outputs": [],
   "source": [
    "from typing import List\n",
    "\n",
    "class Solution:\n",
    "    def numSubmatrixSumTarget(self, matrix: List[List[int]], target: int) -> int:\n",
    "        for i in range(len(matrix)):\n",
    "            for j in range(1, len(matrix[0])):\n",
    "                matrix[i][j] += matrix[i][j - 1]\n",
    "\n",
    "        result = 0\n",
    "        for i in range(len(matrix[0])):\n",
    "            for j in range(i, len(matrix[0])):\n",
    "                record = {0: 1}\n",
    "                temp = 0\n",
    "                for k in range(len(matrix)):\n",
    "                    if i > 0:\n",
    "                        temp += matrix[k][j] - matrix[k][i - 1]\n",
    "                    else:\n",
    "                        temp += matrix[k][j]\n",
    "                    result += record.get(temp - target, 0)\n",
    "                    record[temp] = record.get(temp, 0) + 1\n",
    "\n",
    "        return result\n",
    "    \n",
    "    def display(self, matrix: List[List[int]], target: int) -> None:\n",
    "        result = self.numSubmatrixSumTarget(matrix = matrix, target = target)\n",
    "        if result == 0 or result == 1:\n",
    "            print(f\"Result: {result} matrix\")\n",
    "        else:\n",
    "            print(f\"Result: {result} matrices\")"
   ]
  },
  {
   "cell_type": "code",
   "execution_count": 2,
   "id": "d6ac8f1f",
   "metadata": {},
   "outputs": [
    {
     "name": "stdout",
     "output_type": "stream",
     "text": [
      "Result: 4 matrices\n"
     ]
    }
   ],
   "source": [
    "# Example 1\n",
    "\n",
    "matrix = [[0, 1, 0], [1, 1, 1], [0, 1, 0]]\n",
    "target = 0\n",
    "Solution().display(matrix = matrix, target = target)"
   ]
  },
  {
   "cell_type": "code",
   "execution_count": 3,
   "id": "272cb617",
   "metadata": {},
   "outputs": [
    {
     "name": "stdout",
     "output_type": "stream",
     "text": [
      "Result: 5 matrices\n"
     ]
    }
   ],
   "source": [
    "# Example 2\n",
    "\n",
    "matrix = [[1, -1], [-1, 1]]\n",
    "target = 0\n",
    "Solution().display(matrix = matrix, target = target)"
   ]
  },
  {
   "cell_type": "code",
   "execution_count": 4,
   "id": "2daf5a48",
   "metadata": {},
   "outputs": [
    {
     "name": "stdout",
     "output_type": "stream",
     "text": [
      "Result: 0 matrix\n"
     ]
    }
   ],
   "source": [
    "# Example 3\n",
    "\n",
    "matrix = [[904]]\n",
    "target = 0\n",
    "Solution().display(matrix = matrix, target = target)"
   ]
  },
  {
   "cell_type": "markdown",
   "id": "ebd524ab",
   "metadata": {},
   "source": [
    "**Idea:**  \n",
    "  - Step1: Convert the original matrix into **prefix sum matrix**\n",
    "  - Step2: Use a **nested loop** to iterate the matrix\n",
    "  - Step3: Iterate rows to calculate the number of submatrices that sum to target\n",
    "  \n",
    "**Time Complexity:** $O(row * column^2)$  \n",
    "<img src=\"./Images/1074-4.png\" width=\"500\">"
   ]
  }
 ],
 "metadata": {
  "kernelspec": {
   "display_name": "Python 3 (ipykernel)",
   "language": "python",
   "name": "python3"
  },
  "language_info": {
   "codemirror_mode": {
    "name": "ipython",
    "version": 3
   },
   "file_extension": ".py",
   "mimetype": "text/x-python",
   "name": "python",
   "nbconvert_exporter": "python",
   "pygments_lexer": "ipython3",
   "version": "3.9.13"
  }
 },
 "nbformat": 4,
 "nbformat_minor": 5
}
