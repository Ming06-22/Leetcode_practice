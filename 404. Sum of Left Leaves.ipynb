{
 "cells": [
  {
   "cell_type": "markdown",
   "id": "923ef13c",
   "metadata": {},
   "source": [
    "# 404. Sum of Left Leaves"
   ]
  },
  {
   "cell_type": "markdown",
   "id": "4ec5950d",
   "metadata": {},
   "source": [
    "Given the `root` of a binary tree, return the sum of all left leaves.\n",
    "\n",
    "A **leaf** is a node with no children. A **left leaf** is a leaf that is the left child of another node.\n",
    "\n",
    "<https://leetcode.com/problems/sum-of-left-leaves/?envType=daily-question&envId=2024-04-14>\n",
    "\n",
    "**Constraint:**\n",
    "* The number of nodes in the tree is in the range `[1, 1000]`.\n",
    "* `-1000 <= Node.val <= 1000`"
   ]
  },
  {
   "cell_type": "markdown",
   "id": "f8c3990c",
   "metadata": {},
   "source": [
    "Example 1:  \n",
    "\n",
    "<img src=\"./Images/404-1.png\" width=\"150\">\n",
    "\n",
    "> **Input:**: root = [3,9,20,null,null,15,7]  \n",
    "> **Output:** 24  \n",
    "> **Explanation:** There are two left leaves in the binary tree, with values 9 and 15 respectively."
   ]
  },
  {
   "cell_type": "markdown",
   "id": "29ca72aa",
   "metadata": {},
   "source": [
    "Example 2:  \n",
    "> **Input:**: root = [1]  \n",
    "> **Output:** 0"
   ]
  },
  {
   "cell_type": "code",
   "execution_count": 1,
   "id": "e3f59cde",
   "metadata": {},
   "outputs": [],
   "source": [
    "from typing import Optional\n",
    "\n",
    "class TreeNode:\n",
    "    def __init__(self, val = 0, left = None, right = None):\n",
    "        self.val = val\n",
    "        self.left = left\n",
    "        self.right = right\n",
    "\n",
    "class Solution:\n",
    "    def sumOfLeftLeaves(self, root: Optional[TreeNode]) -> int:\n",
    "        def dfs(node):\n",
    "            nonlocal result\n",
    "            l, r = node.left, node.right\n",
    "            if l:\n",
    "                if not l.left and not l.right:\n",
    "                    result += l.val\n",
    "                else:\n",
    "                    dfs(l)\n",
    "            if r:\n",
    "                dfs(r)\n",
    "\n",
    "        result = 0\n",
    "        dfs(root)\n",
    "        return result\n",
    "    \n",
    "    def display(self, root: Optional[TreeNode]) -> None:\n",
    "        result = self.sumOfLeftLeaves(root)\n",
    "        print(f\"Result: {result}\")"
   ]
  },
  {
   "cell_type": "code",
   "execution_count": 2,
   "id": "ad284d0b",
   "metadata": {},
   "outputs": [
    {
     "name": "stdout",
     "output_type": "stream",
     "text": [
      "Result: 24\n"
     ]
    }
   ],
   "source": [
    "# Example 1\n",
    "\n",
    "root = TreeNode(3, TreeNode(9), TreeNode(20, TreeNode(15), TreeNode(7)))\n",
    "Solution().display(root)"
   ]
  },
  {
   "cell_type": "code",
   "execution_count": 3,
   "id": "2a02f95f",
   "metadata": {},
   "outputs": [
    {
     "name": "stdout",
     "output_type": "stream",
     "text": [
      "Result: 0\n"
     ]
    }
   ],
   "source": [
    "# Example 2\n",
    "\n",
    "root = TreeNode(1)\n",
    "Solution().display(root)"
   ]
  },
  {
   "cell_type": "markdown",
   "id": "ad0774b8",
   "metadata": {},
   "source": [
    "**Idea:**  \n",
    "* Step1: Apply DFS.\n",
    "* Step2: Check whether the left child is a left leaf.\n",
    "* Step3: Expand left child and right child if exist.\n",
    "\n",
    "**Time Complexity:** $O(n)$  \n",
    "<img src=\"./Images/404-2.png\" width=\"500\">"
   ]
  }
 ],
 "metadata": {
  "kernelspec": {
   "display_name": "Python 3 (ipykernel)",
   "language": "python",
   "name": "python3"
  },
  "language_info": {
   "codemirror_mode": {
    "name": "ipython",
    "version": 3
   },
   "file_extension": ".py",
   "mimetype": "text/x-python",
   "name": "python",
   "nbconvert_exporter": "python",
   "pygments_lexer": "ipython3",
   "version": "3.9.13"
  }
 },
 "nbformat": 4,
 "nbformat_minor": 5
}
