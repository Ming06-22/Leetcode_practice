{
 "cells": [
  {
   "cell_type": "markdown",
   "id": "923ef13c",
   "metadata": {},
   "source": [
    "# 287. Find the Duplicate Number"
   ]
  },
  {
   "cell_type": "markdown",
   "id": "4ec5950d",
   "metadata": {},
   "source": [
    "Given an array of integers `nums` containing `n + 1` integers where each integer is in the range `[1, n]` inclusive.\n",
    "\n",
    "There is only **one repeated number** in `nums`, return this repeated number.\n",
    "\n",
    "You must solve the problem **without** modifying the array `nums` and uses only constant extra space.\n",
    "\n",
    "<https://leetcode.com/problems/find-the-duplicate-number/?envType=daily-question&envId=2024-03-24>\n",
    "\n",
    "**Constraint:**\n",
    "* <code>1 <= n <= 10<sup>5</sup></code>\n",
    "* `nums.length == n + 1`\n",
    "* `1 <= nums[i] <= n`\n",
    "* All the integers in `nums` appear only **once** except for **precisely one integer** which appears **two or more** times."
   ]
  },
  {
   "cell_type": "markdown",
   "id": "f8c3990c",
   "metadata": {},
   "source": [
    "Example 1:  \n",
    "> **Input:** nums = [1,3,4,2,2]  \n",
    "> **Output:** 2"
   ]
  },
  {
   "cell_type": "markdown",
   "id": "5a38eb00",
   "metadata": {},
   "source": [
    "Example 2:  \n",
    "> **Input:** nums = [3,1,3,4,2]  \n",
    "> **Output:** 3"
   ]
  },
  {
   "cell_type": "markdown",
   "id": "e1aa3b23",
   "metadata": {},
   "source": [
    "Example 3:  \n",
    "> **Input:** nums = [3,3,3,3,3]  \n",
    "> **Output:** 3"
   ]
  },
  {
   "cell_type": "code",
   "execution_count": 1,
   "id": "e3f59cde",
   "metadata": {},
   "outputs": [],
   "source": [
    "from typing import List\n",
    "\n",
    "class Solution:\n",
    "    def findDuplicate(self, nums: List[int]) -> int:\n",
    "        record = {}\n",
    "        for n in nums:\n",
    "            if n in record:\n",
    "                return n\n",
    "            record[n] = True\n",
    "            \n",
    "    def display(self, nums: List[int]) -> None:\n",
    "        result = self.findDuplicate(nums)\n",
    "        print(f\"Result: {result}\")"
   ]
  },
  {
   "cell_type": "code",
   "execution_count": 2,
   "id": "ad284d0b",
   "metadata": {},
   "outputs": [
    {
     "name": "stdout",
     "output_type": "stream",
     "text": [
      "Result: 2\n"
     ]
    }
   ],
   "source": [
    "# Example 1\n",
    "\n",
    "nums = [1, 3, 4, 2, 2]\n",
    "Solution().display(nums)"
   ]
  },
  {
   "cell_type": "code",
   "execution_count": 3,
   "id": "b081c05b",
   "metadata": {},
   "outputs": [
    {
     "name": "stdout",
     "output_type": "stream",
     "text": [
      "Result: 3\n"
     ]
    }
   ],
   "source": [
    "# Example 2\n",
    "\n",
    "nums = [3, 1, 3, 4, 2]\n",
    "Solution().display(nums)"
   ]
  },
  {
   "cell_type": "code",
   "execution_count": 4,
   "id": "4a182355",
   "metadata": {},
   "outputs": [
    {
     "name": "stdout",
     "output_type": "stream",
     "text": [
      "Result: 3\n"
     ]
    }
   ],
   "source": [
    "# Example 3\n",
    "\n",
    "nums = [3, 3, 3, 3, 3]\n",
    "Solution().display(nums)"
   ]
  },
  {
   "cell_type": "markdown",
   "id": "ad0774b8",
   "metadata": {},
   "source": [
    "**Idea:**  \n",
    "* Step1: Construct a dictionary to record the elements.\n",
    "* Step2: Iterate the input list.\n",
    "* Step3: If the current element is in the record, return it. Otherwise, record the element.\n",
    "\n",
    "**Time Complexity:** $O(n)$  \n",
    "<img src=\"./Images/287-1.png\" width=\"500\">"
   ]
  }
 ],
 "metadata": {
  "kernelspec": {
   "display_name": "Python 3 (ipykernel)",
   "language": "python",
   "name": "python3"
  },
  "language_info": {
   "codemirror_mode": {
    "name": "ipython",
    "version": 3
   },
   "file_extension": ".py",
   "mimetype": "text/x-python",
   "name": "python",
   "nbconvert_exporter": "python",
   "pygments_lexer": "ipython3",
   "version": "3.9.13"
  }
 },
 "nbformat": 4,
 "nbformat_minor": 5
}
