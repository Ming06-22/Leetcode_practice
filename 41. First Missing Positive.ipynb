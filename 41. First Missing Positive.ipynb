{
 "cells": [
  {
   "cell_type": "markdown",
   "id": "923ef13c",
   "metadata": {},
   "source": [
    "# 41. First Missing Positive"
   ]
  },
  {
   "cell_type": "markdown",
   "id": "4ec5950d",
   "metadata": {},
   "source": [
    "Given an unsorted integer array `nums`. Return the smallest positive integer that is not present in `nums`.\n",
    "\n",
    "You must implement an algorithm that runs in `O(n)` time and uses `O(1)` auxiliary space.\n",
    "\n",
    "<https://leetcode.com/problems/first-missing-positive/description/?envType=daily-question&envId=2024-03-26>\n",
    "\n",
    "**Constraint:**\n",
    "* <code>1 <= nums.length <= 10<sup>5</sup></code>\n",
    "* <code>-2<sup>31</sup> <= nums[i] <= 2<sup>31</sup> - 1"
   ]
  },
  {
   "cell_type": "markdown",
   "id": "f8c3990c",
   "metadata": {},
   "source": [
    "Example 1:  \n",
    "> **Input:** nums = [1,2,0]  \n",
    "> **Output:** 3  \n",
    "> **Explanation:** The numbers in the range [1,2] are all in the array."
   ]
  },
  {
   "cell_type": "markdown",
   "id": "1f37b485",
   "metadata": {},
   "source": [
    "Example 2:  \n",
    "> **Input:** nums = [3,4,-1,1]  \n",
    "> **Output:** 2  \n",
    "> **Explanation:** 1 is in the array but 2 is missing."
   ]
  },
  {
   "cell_type": "markdown",
   "id": "ea3492c9",
   "metadata": {},
   "source": [
    "Example 3:  \n",
    "> **Input:** nums = [7,8,9,11,12]  \n",
    "> **Output:** 1  \n",
    "> **Explanation:** The smallest positive integer 1 is missing."
   ]
  },
  {
   "cell_type": "code",
   "execution_count": 1,
   "id": "e3f59cde",
   "metadata": {},
   "outputs": [],
   "source": [
    "from typing import List\n",
    "\n",
    "class Solution:\n",
    "    def firstMissingPositive(self, nums: List[int]) -> int:\n",
    "        for i in range(len(nums)):\n",
    "            temp1 = nums[i]\n",
    "            while temp1 and 0 < temp1 <= len(nums):\n",
    "                temp2 = nums[temp1 - 1]\n",
    "                nums[temp1 - 1] = None\n",
    "                temp1 = temp2\n",
    "                \n",
    "        for i in range(len(nums)):\n",
    "            if nums[i] != None:\n",
    "                return i + 1\n",
    "        return len(nums) + 1\n",
    "    \n",
    "    def display(self, nums: List[int]) -> None:\n",
    "        result = self.firstMissingPositive(nums)\n",
    "        print(f\"Result: {result}\")"
   ]
  },
  {
   "cell_type": "code",
   "execution_count": 2,
   "id": "ad284d0b",
   "metadata": {},
   "outputs": [
    {
     "name": "stdout",
     "output_type": "stream",
     "text": [
      "Result: 3\n"
     ]
    }
   ],
   "source": [
    "# Example 1\n",
    "\n",
    "nums = [1, 2, 0]\n",
    "Solution().display(nums)"
   ]
  },
  {
   "cell_type": "code",
   "execution_count": 3,
   "id": "82072a72",
   "metadata": {},
   "outputs": [
    {
     "name": "stdout",
     "output_type": "stream",
     "text": [
      "Result: 2\n"
     ]
    }
   ],
   "source": [
    "# Example 2\n",
    "\n",
    "nums = [3, 4, -1, 1]\n",
    "Solution().display(nums)"
   ]
  },
  {
   "cell_type": "code",
   "execution_count": 4,
   "id": "61f46acc",
   "metadata": {},
   "outputs": [
    {
     "name": "stdout",
     "output_type": "stream",
     "text": [
      "Result: 1\n"
     ]
    }
   ],
   "source": [
    "# Example 3\n",
    "\n",
    "nums = [7, 8, 9, 11, 12]\n",
    "Solution().display(nums)"
   ]
  },
  {
   "cell_type": "markdown",
   "id": "ad0774b8",
   "metadata": {},
   "source": [
    "**Idea:**  \n",
    "* Step1: Iterate the elements in the input list, change all the position of exist element to `None`.\n",
    "* Step2: Iterate the list after recorded.\n",
    "* Step3: Return the index if the element is not `None`.\n",
    "\n",
    "**Time Complexity:** $O(n)$  \n",
    "<img src=\"./Images/41-1.png\" width=\"500\">"
   ]
  }
 ],
 "metadata": {
  "kernelspec": {
   "display_name": "Python 3 (ipykernel)",
   "language": "python",
   "name": "python3"
  },
  "language_info": {
   "codemirror_mode": {
    "name": "ipython",
    "version": 3
   },
   "file_extension": ".py",
   "mimetype": "text/x-python",
   "name": "python",
   "nbconvert_exporter": "python",
   "pygments_lexer": "ipython3",
   "version": "3.9.13"
  }
 },
 "nbformat": 4,
 "nbformat_minor": 5
}
