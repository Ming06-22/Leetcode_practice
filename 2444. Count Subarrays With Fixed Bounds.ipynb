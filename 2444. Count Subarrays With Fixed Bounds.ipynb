{
 "cells": [
  {
   "cell_type": "markdown",
   "id": "923ef13c",
   "metadata": {},
   "source": [
    "# 2444. Count Subarrays With Fixed Bounds"
   ]
  },
  {
   "cell_type": "markdown",
   "id": "4ec5950d",
   "metadata": {},
   "source": [
    "You are given an integer array `nums` and two integers `minK` and `maxK`.\n",
    "\n",
    "A **fixed-bound subarray** of `nums` is a subarray that satisfies the following conditions:\n",
    "\n",
    "* The **minimum** value in the subarray is equal to `minK`.\n",
    "* The **maximum** value in the subarray is equal to `maxK`.\n",
    "\n",
    "Return the **number** of fixed-bound subarrays.\n",
    "\n",
    "A **subarray** is a **contiguous** part of an array.\n",
    "\n",
    "<https://leetcode.com/problems/count-subarrays-with-fixed-bounds/description/?envType=daily-question&envId=2024-03-31>\n",
    "\n",
    "**Constraint:**\n",
    "* <code>2 <= nums.length <= 10<sup>5</sup></code>\n",
    "* <code>1 <= nums[i], minK, maxK <= 10<sup>6</sup></code>"
   ]
  },
  {
   "cell_type": "markdown",
   "id": "f8c3990c",
   "metadata": {},
   "source": [
    "Example 1:  \n",
    "> **Input:** nums = [1,3,5,2,7,5], minK = 1, maxK = 5  \n",
    "> **Output:** 2  \n",
    "> **Explanation:** The fixed-bound subarrays are [1,3,5] and [1,3,5,2]."
   ]
  },
  {
   "cell_type": "markdown",
   "id": "78f7ea96",
   "metadata": {},
   "source": [
    "Example 2:  \n",
    "> **Input:** nums = [1,1,1,1], minK = 1, maxK = 1  \n",
    "> **Output:** 10  \n",
    "> **Explanation:** Every subarray of nums is a fixed-bound subarray. There are 10 possible subarrays."
   ]
  },
  {
   "cell_type": "code",
   "execution_count": 1,
   "id": "e3f59cde",
   "metadata": {},
   "outputs": [],
   "source": [
    "from typing import List\n",
    "\n",
    "class Solution:\n",
    "    def countSubarrays(self, nums: List[int], minK: int, maxK: int) -> int:\n",
    "        result = 0\n",
    "        temp = l = r = -1\n",
    "\n",
    "        for i, n in enumerate(nums) :\n",
    "            if not minK <= n <= maxK:\n",
    "                temp = i\n",
    "\n",
    "            if n == minK:\n",
    "                l = i\n",
    "            if n == maxK:\n",
    "                r = i\n",
    "\n",
    "            result += max(0, min(l, r) - temp)\n",
    "\n",
    "        return result\n",
    "    \n",
    "    def display(self, nums: List[int], minK: int, maxK: int) -> None:\n",
    "        result = self.countSubarrays(nums, minK, maxK)\n",
    "        print(f\"Result: {result}\")"
   ]
  },
  {
   "cell_type": "code",
   "execution_count": 2,
   "id": "ad284d0b",
   "metadata": {},
   "outputs": [
    {
     "name": "stdout",
     "output_type": "stream",
     "text": [
      "Result: 2\n"
     ]
    }
   ],
   "source": [
    "# Example 1\n",
    "\n",
    "nums = [1, 3, 5, 2, 7, 5]\n",
    "minK, maxK = 1, 5\n",
    "Solution().display(nums, minK, maxK)"
   ]
  },
  {
   "cell_type": "code",
   "execution_count": 3,
   "id": "f91d01dd",
   "metadata": {},
   "outputs": [
    {
     "name": "stdout",
     "output_type": "stream",
     "text": [
      "Result: 10\n"
     ]
    }
   ],
   "source": [
    "# Example 2\n",
    "\n",
    "nums = [1, 1, 1, 1]\n",
    "minK, maxK = 1, 1\n",
    "Solution().display(nums, minK, maxK)"
   ]
  },
  {
   "cell_type": "markdown",
   "id": "ad0774b8",
   "metadata": {},
   "source": [
    "**Idea:**  \n",
    "* Step1: Iterate the input list.\n",
    "* Step2: If the current element is not in the certain range, record it.\n",
    "* Step3: Modify the result.\n",
    "\n",
    "**Time Complexity:** $O(n)$  \n",
    "<img src=\"./Images/2444-1.png\" width=\"500\">"
   ]
  }
 ],
 "metadata": {
  "kernelspec": {
   "display_name": "Python 3 (ipykernel)",
   "language": "python",
   "name": "python3"
  },
  "language_info": {
   "codemirror_mode": {
    "name": "ipython",
    "version": 3
   },
   "file_extension": ".py",
   "mimetype": "text/x-python",
   "name": "python",
   "nbconvert_exporter": "python",
   "pygments_lexer": "ipython3",
   "version": "3.9.13"
  }
 },
 "nbformat": 4,
 "nbformat_minor": 5
}
