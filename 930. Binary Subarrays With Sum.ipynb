{
 "cells": [
  {
   "cell_type": "markdown",
   "id": "923ef13c",
   "metadata": {},
   "source": [
    "# 930. Binary Subarrays With Sum"
   ]
  },
  {
   "cell_type": "markdown",
   "id": "4ec5950d",
   "metadata": {},
   "source": [
    "Given a binary array `nums` and an integer `goal`, return the number of non-empty **subarrays** with a sum `goal`.\n",
    "\n",
    "A **subarray** is a contiguous part of the array.\n",
    "\n",
    "<https://leetcode.com/problems/binary-subarrays-with-sum/description/?envType=daily-question&envId=2024-03-14>\n",
    "\n",
    "**Constraint:**\n",
    "* <code>1 <= nums.length <= 3 * 10<sup>4</sup></code>\n",
    "* `nums[i]` is either `0` or `1`.\n",
    "* `0 <= goal <= nums.length`"
   ]
  },
  {
   "cell_type": "markdown",
   "id": "f8c3990c",
   "metadata": {},
   "source": [
    "Example 1:  \n",
    "> **Input:** nums = [1,0,1,0,1], goal = 2  \n",
    "> **Output:** 4  \n",
    "> **Explanation:** The 4 subarrays are bolded and underlined below:  \n",
    "[1,0,1,0,1]  \n",
    "[1,0,1,0,1]  \n",
    "[1,0,1,0,1]  \n",
    "[1,0,1,0,1]"
   ]
  },
  {
   "cell_type": "markdown",
   "id": "ca7c572d-15c6-4c9d-80b2-03f8bc254d42",
   "metadata": {},
   "source": [
    "Example 2:  \n",
    "> **Input:** nums = [0,0,0,0,0], goal = 0  \n",
    "> **Output:** 15"
   ]
  },
  {
   "cell_type": "code",
   "execution_count": 1,
   "id": "e3f59cde",
   "metadata": {},
   "outputs": [],
   "source": [
    "from typing import List\n",
    "\n",
    "class Solution:\n",
    "    def numSubarraysWithSum(self, nums: List[int], goal: int) -> int:\n",
    "        record = {0: 1}\n",
    "        temp = result = 0\n",
    "        for n in nums:\n",
    "            temp += n\n",
    "            if temp - goal in record:\n",
    "                result += record[temp - goal]\n",
    "            record[temp] = record.get(temp, 0) + 1\n",
    "        \n",
    "        return result\n",
    "\n",
    "    def display(self, nums: List[int], goal: int) -> None:\n",
    "        result = self.numSubarraysWithSum(nums, goal)\n",
    "        print(f\"Result: {result}\")"
   ]
  },
  {
   "cell_type": "code",
   "execution_count": 2,
   "id": "ad284d0b",
   "metadata": {},
   "outputs": [
    {
     "name": "stdout",
     "output_type": "stream",
     "text": [
      "Result: 4\n"
     ]
    }
   ],
   "source": [
    "# Example 1\n",
    "\n",
    "nums = [1, 0, 1, 0, 1]\n",
    "goal = 2\n",
    "Solution().display(nums, goal)"
   ]
  },
  {
   "cell_type": "code",
   "execution_count": 3,
   "id": "d4ee899e-7ae0-4d19-af25-900aaebd7757",
   "metadata": {},
   "outputs": [
    {
     "name": "stdout",
     "output_type": "stream",
     "text": [
      "Result: 15\n"
     ]
    }
   ],
   "source": [
    "# Example 2\n",
    "\n",
    "nums = [0, 0, 0, 0, 0]\n",
    "goal = 0\n",
    "Solution().display(nums, goal)"
   ]
  },
  {
   "cell_type": "markdown",
   "id": "ad0774b8",
   "metadata": {},
   "source": [
    "**Idea:**  \n",
    "* Step1: Construct a dictionary to record the frequency of accumulation.\n",
    "* Step2: Iterate the input array to update dictinary.\n",
    "* Step3: If the difference between `goal` and the current accumulation is in the record, there's an subarray that sum to the `goal`.\n",
    "\n",
    "**Time Complexity:** $O(n)$  \n",
    "<img src=\"./Images/930-1.png\" width=\"500\">"
   ]
  }
 ],
 "metadata": {
  "kernelspec": {
   "display_name": "Python 3 (ipykernel)",
   "language": "python",
   "name": "python3"
  },
  "language_info": {
   "codemirror_mode": {
    "name": "ipython",
    "version": 3
   },
   "file_extension": ".py",
   "mimetype": "text/x-python",
   "name": "python",
   "nbconvert_exporter": "python",
   "pygments_lexer": "ipython3",
   "version": "3.9.18"
  }
 },
 "nbformat": 4,
 "nbformat_minor": 5
}
