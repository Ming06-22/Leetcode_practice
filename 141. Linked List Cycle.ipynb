{
 "cells": [
  {
   "cell_type": "markdown",
   "id": "923ef13c",
   "metadata": {},
   "source": [
    "# 141. Linked List Cycle"
   ]
  },
  {
   "cell_type": "markdown",
   "id": "4ec5950d",
   "metadata": {},
   "source": [
    "Given `head`, the head of a linked list, determine if the linked list has a cycle in it.\n",
    "\n",
    "There is a cycle in a linked list if there is some node in the list that can be reached again by continuously following the `next` pointer. Internally, `pos` is used to denote the index of the node that tail's `next` pointer is connected to. **Note that** `pos` **is not passed as a parameter**.\n",
    "\n",
    "Return `true` if there is a cycle in the linked list. Otherwise, return `false`.\n",
    "\n",
    "<https://leetcode.com/problems/linked-list-cycle/?envType=daily-question&envId=2024-03-06>\n",
    "\n",
    "**Constraint:**\n",
    "* The number of the nodes in the list is in the range <code>[0, 10<sup>4</sup>]</code>.\n",
    "* <code>-10<sup>5</sup> <= Node.val <= 10<sup>5</sup></code>\n",
    "* `pos` is `-1` or a **valid index** in the linked-list."
   ]
  },
  {
   "cell_type": "markdown",
   "id": "f8c3990c",
   "metadata": {},
   "source": [
    "Example 1:  \n",
    "\n",
    "<img src=\"./Images/141-1.png\" width=\"300\">\n",
    "\n",
    "> **Input:** head = [3,2,0,-4], pos = 1  \n",
    "> **Output:** true  \n",
    "> **Explanation:** There is a cycle in the linked list, where the tail connects to the 1st node (0-indexed)."
   ]
  },
  {
   "cell_type": "markdown",
   "id": "81e19c3c-9db0-4b00-b732-ef354232eddd",
   "metadata": {},
   "source": [
    "Example 2:  \n",
    "\n",
    "<img src=\"./Images/141-2.png\" width=\"150\">\n",
    "\n",
    "> **Input:** head = [1,2], pos = 0  \n",
    "> **Output:** true  \n",
    "> **Explanation:** There is a cycle in the linked list, where the tail connects to the 0th node."
   ]
  },
  {
   "cell_type": "markdown",
   "id": "e28f3c9a-fa45-4e15-8700-c1f685ffb4c7",
   "metadata": {},
   "source": [
    "Example 3:  \n",
    "\n",
    "<img src=\"./Images/141-3.png\" width=\"50\">\n",
    "\n",
    "> **Input:** head = [1], pos = -1  \n",
    "> **Output:** false  \n",
    "> **Explanation:** There is no cycle in the linked list."
   ]
  },
  {
   "cell_type": "code",
   "execution_count": 1,
   "id": "e3f59cde",
   "metadata": {},
   "outputs": [],
   "source": [
    "from typing import Optional\n",
    "from collections import defaultdict\n",
    "\n",
    "class ListNode:\n",
    "    def __init__(self, x):\n",
    "        self.val = x\n",
    "        self.next = None\n",
    "\n",
    "class Solution:\n",
    "    def hasCycle(self, head: Optional[ListNode]) -> bool:\n",
    "        record = defaultdict(set)\n",
    "        while head:\n",
    "            if head in record[head.val]:\n",
    "                return True\n",
    "            record[head.val].add(head)\n",
    "            head = head.next\n",
    "\n",
    "        return False\n",
    "\n",
    "    def display(self, head: Optional[ListNode]) -> None:\n",
    "        result = self.hasCycle(head)\n",
    "        print(f\"Result: {result}\")"
   ]
  },
  {
   "cell_type": "code",
   "execution_count": 2,
   "id": "ad284d0b",
   "metadata": {},
   "outputs": [
    {
     "name": "stdout",
     "output_type": "stream",
     "text": [
      "Result: True\n"
     ]
    }
   ],
   "source": [
    "# Example 1\n",
    "\n",
    "a, b, c, d = ListNode(3), ListNode(2), ListNode(0), ListNode(-4)\n",
    "a.next, b.next, c.next, d.next = b, c, d, b\n",
    "\n",
    "head = a\n",
    "Solution().display(head)"
   ]
  },
  {
   "cell_type": "code",
   "execution_count": 3,
   "id": "15b86b74-2564-4590-8f52-67ec5bda2a5f",
   "metadata": {},
   "outputs": [
    {
     "name": "stdout",
     "output_type": "stream",
     "text": [
      "Result: True\n"
     ]
    }
   ],
   "source": [
    "# Example 2\n",
    "\n",
    "a, b = ListNode(1), ListNode(2)\n",
    "a.next, b.next = b, a\n",
    "\n",
    "head = a\n",
    "Solution().display(head)"
   ]
  },
  {
   "cell_type": "code",
   "execution_count": 4,
   "id": "8655797b-06b6-47e0-a2a8-d68451cc6854",
   "metadata": {},
   "outputs": [
    {
     "name": "stdout",
     "output_type": "stream",
     "text": [
      "Result: False\n"
     ]
    }
   ],
   "source": [
    "# Example 3\n",
    "\n",
    "a = ListNode(1)\n",
    "\n",
    "head = a\n",
    "Solution().display(head)"
   ]
  },
  {
   "cell_type": "markdown",
   "id": "ad0774b8",
   "metadata": {},
   "source": [
    "**Idea:**  \n",
    "* Step1: Construct a defaultdict to record the node's by their values.\n",
    "* Step2: Iterate the nodes until to the end or find a node appears two times.\n",
    "\n",
    "**Time Complexity:** $O(n^2)$  \n",
    "<img src=\"./Images/141-4.png\" width=\"500\">"
   ]
  }
 ],
 "metadata": {
  "kernelspec": {
   "display_name": "Python 3 (ipykernel)",
   "language": "python",
   "name": "python3"
  },
  "language_info": {
   "codemirror_mode": {
    "name": "ipython",
    "version": 3
   },
   "file_extension": ".py",
   "mimetype": "text/x-python",
   "name": "python",
   "nbconvert_exporter": "python",
   "pygments_lexer": "ipython3",
   "version": "3.9.18"
  }
 },
 "nbformat": 4,
 "nbformat_minor": 5
}
