{
 "cells": [
  {
   "cell_type": "markdown",
   "id": "923ef13c",
   "metadata": {},
   "source": [
    "# 200. Number of Islands"
   ]
  },
  {
   "cell_type": "markdown",
   "id": "4ec5950d",
   "metadata": {},
   "source": [
    "Given an `m x n` 2D binary grid `grid` which represents a map of `'1'`s (land) and `'0'`s (water), return the number of islands.\n",
    "\n",
    "An **island** is surrounded by water and is formed by connecting adjacent lands horizontally or vertically. You may assume all four edges of the grid are all surrounded by water.\n",
    "\n",
    "<https://leetcode.com/problems/number-of-islands/?envType=daily-question&envId=2024-04-19>\n",
    "\n",
    "**Constraint:**\n",
    "* `m == grid.length`\n",
    "* `n == grid[i].length`\n",
    "* `1 <= m, n <= 300`\n",
    "* `grid[i][j]` is `'0'` or `'1'`."
   ]
  },
  {
   "cell_type": "markdown",
   "id": "f8c3990c",
   "metadata": {},
   "source": [
    "Example 1:  \n",
    "> **Input:** grid = [\n",
    "  [\"1\",\"1\",\"1\",\"1\",\"0\"],\n",
    "  [\"1\",\"1\",\"0\",\"1\",\"0\"],\n",
    "  [\"1\",\"1\",\"0\",\"0\",\"0\"],\n",
    "  [\"0\",\"0\",\"0\",\"0\",\"0\"]\n",
    "]  \n",
    "> **Output:** 1"
   ]
  },
  {
   "cell_type": "markdown",
   "id": "a9d8649c",
   "metadata": {},
   "source": [
    "Example 2:  \n",
    "> **Input:** grid = [\n",
    "  [\"1\",\"1\",\"0\",\"0\",\"0\"],\n",
    "  [\"1\",\"1\",\"0\",\"0\",\"0\"],\n",
    "  [\"0\",\"0\",\"1\",\"0\",\"0\"],\n",
    "  [\"0\",\"0\",\"0\",\"1\",\"1\"]\n",
    "]  \n",
    "Output: 3"
   ]
  },
  {
   "cell_type": "code",
   "execution_count": 1,
   "id": "e3f59cde",
   "metadata": {},
   "outputs": [],
   "source": [
    "from typing import List\n",
    "\n",
    "class Solution:\n",
    "    def numIslands(self, grid: List[List[str]]) -> int:\n",
    "        def bfs():\n",
    "            nonlocal record\n",
    "\n",
    "            directions = [(-1, 0), (1, 0), (0, 1), (0, -1)]\n",
    "            while record:\n",
    "                i, j = record.pop()\n",
    "                grid[i][j] = \"0\"\n",
    "                for x, y in directions:\n",
    "                    if 0 <= i + x < len(grid) and 0 <= j + y < len(grid[0]) and grid[i + x][j + y] == \"1\":\n",
    "                        record.add((i + x, j + y))\n",
    "\n",
    "        result = 0\n",
    "        for i in range(len(grid)):\n",
    "            for j in range(len(grid[0])):\n",
    "                if grid[i][j] == \"1\":\n",
    "                    result += 1\n",
    "                    record = set([(i, j)])\n",
    "                    bfs()\n",
    "\n",
    "        return result\n",
    "    \n",
    "    def display(self, grid: List[List[str]]) -> None:\n",
    "        result = self.numIslands(grid)\n",
    "        print(f\"Result: {result}\")"
   ]
  },
  {
   "cell_type": "code",
   "execution_count": 2,
   "id": "ad284d0b",
   "metadata": {},
   "outputs": [
    {
     "name": "stdout",
     "output_type": "stream",
     "text": [
      "Result: 1\n"
     ]
    }
   ],
   "source": [
    "# Example 1\n",
    "\n",
    "grid = [[\"1\", \"1\", \"1\", \"1\", \"0\"], [\"1\", \"1\", \"0\", \"1\", \"0\"], [\"1\", \"1\", \"0\", \"0\", \"0\"], [\"0\", \"0\", \"0\", \"0\", \"0\"]]\n",
    "Solution().display(grid)"
   ]
  },
  {
   "cell_type": "code",
   "execution_count": 3,
   "id": "48445aff",
   "metadata": {},
   "outputs": [
    {
     "name": "stdout",
     "output_type": "stream",
     "text": [
      "Result: 3\n"
     ]
    }
   ],
   "source": [
    "# Example 2\n",
    "\n",
    "grid =  [[\"1\", \"1\", \"0\", \"0\", \"0\"], [\"1\", \"1\", \"0\", \"0\", \"0\"], [\"0\", \"0\", \"1\", \"0\", \"0\"], [\"0\", \"0\", \"0\", \"1\", \"1\"]]\n",
    "Solution().display(grid)"
   ]
  },
  {
   "cell_type": "markdown",
   "id": "ad0774b8",
   "metadata": {},
   "source": [
    "**Idea:**  \n",
    "* Step1: Iterate the grid, if the cell is `\"1\"`, applt BFS.\n",
    "* Step2: Change the value of the cell from `\"1\"` to `\"0\"`.\n",
    "* Step3: Expand the nodes.\n",
    "\n",
    "**Time Complexity:** $O(m*n)$  \n",
    "<img src=\"./Images/200-1.png\" width=\"500\">"
   ]
  }
 ],
 "metadata": {
  "kernelspec": {
   "display_name": "Python 3 (ipykernel)",
   "language": "python",
   "name": "python3"
  },
  "language_info": {
   "codemirror_mode": {
    "name": "ipython",
    "version": 3
   },
   "file_extension": ".py",
   "mimetype": "text/x-python",
   "name": "python",
   "nbconvert_exporter": "python",
   "pygments_lexer": "ipython3",
   "version": "3.9.13"
  }
 },
 "nbformat": 4,
 "nbformat_minor": 5
}
