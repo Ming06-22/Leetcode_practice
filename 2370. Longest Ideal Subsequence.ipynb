{
 "cells": [
  {
   "cell_type": "markdown",
   "id": "923ef13c",
   "metadata": {},
   "source": [
    "# 2370. Longest Ideal Subsequence"
   ]
  },
  {
   "cell_type": "markdown",
   "id": "4ec5950d",
   "metadata": {},
   "source": [
    "You are given a string `s` consisting of lowercase letters and an integer `k`. We call a string `t` **ideal** if the following conditions are satisfied:\n",
    "\n",
    "* `t` is a **subsequence** of the string `s`.\n",
    "* The absolute difference in the alphabet order of every two **adjacent** letters in `t` is less than or equal to `k`.\n",
    "\n",
    "Return the length of the **longest** ideal string.\n",
    "\n",
    "A **subsequence** is a string that can be derived from another string by deleting some or no characters without changing the order of the remaining characters.\n",
    "\n",
    "**Note** that the alphabet order is not cyclic. For example, the absolute difference in the alphabet order of `'a'` and `'z'` is `25`, not `1`.\n",
    "\n",
    "<https://leetcode.com/problems/longest-ideal-subsequence/description/?envType=daily-question&envId=2024-04-25>\n",
    "\n",
    "**Constraint:**\n",
    "* <code>1 <= s.length <= 10<sup>5</sup></code>\n",
    "* `0 <= k <= 25`\n",
    "* `s` consists of lowercase English letters."
   ]
  },
  {
   "cell_type": "markdown",
   "id": "f8c3990c",
   "metadata": {},
   "source": [
    "Example 1:  \n",
    "> **Input:** s = \"acfgbd\", k = 2  \n",
    "> **Output:** 4  \n",
    "> **Explanation:** The longest ideal string is \"acbd\". The length of this string is 4, so 4 is returned.  \n",
    "Note that \"acfgbd\" is not ideal because 'c' and 'f' have a difference of 3 in alphabet order."
   ]
  },
  {
   "cell_type": "markdown",
   "id": "88763dce",
   "metadata": {},
   "source": [
    "Example 2:  \n",
    "> **Input:** s = \"abcd\", k = 3  \n",
    "> **Output:** 4  \n",
    "> **Explanation:** The longest ideal string is \"abcd\". The length of this string is 4, so 4 is returned."
   ]
  },
  {
   "cell_type": "code",
   "execution_count": 1,
   "id": "e3f59cde",
   "metadata": {},
   "outputs": [],
   "source": [
    "class Solution:\n",
    "    def longestIdealString(self, s: str, k: int) -> int:\n",
    "        result = [0] * 26\n",
    "        for n in s:\n",
    "            i = ord(n) - 97\n",
    "            l, r = max(i - k, 0), min(i + k, 25)\n",
    "            result[i] = max(result[l: r + 1]) + 1\n",
    "\n",
    "        return max(result)\n",
    "    \n",
    "    def display(self, s: str, k: int) -> None:\n",
    "        result = self.longestIdealString(s, k)\n",
    "        print(f\"Result: {result}\")"
   ]
  },
  {
   "cell_type": "code",
   "execution_count": 2,
   "id": "ad284d0b",
   "metadata": {},
   "outputs": [
    {
     "name": "stdout",
     "output_type": "stream",
     "text": [
      "Result: 4\n"
     ]
    }
   ],
   "source": [
    "# Example 1\n",
    "\n",
    "s = \"acfgbd\"\n",
    "k = 2\n",
    "Solution().display(s, k)"
   ]
  },
  {
   "cell_type": "code",
   "execution_count": 3,
   "id": "fa111e2f",
   "metadata": {},
   "outputs": [
    {
     "name": "stdout",
     "output_type": "stream",
     "text": [
      "Result: 4\n"
     ]
    }
   ],
   "source": [
    "# Example 2\n",
    "\n",
    "s = \"abcd\"\n",
    "k = 3\n",
    "Solution().display(s, k)"
   ]
  },
  {
   "cell_type": "markdown",
   "id": "ad0774b8",
   "metadata": {},
   "source": [
    "**Idea:**  \n",
    "* Step1: Construct a list to record the value of each state.\n",
    "* Step2: Iterate the string to update the record.\n",
    "* Step3: Return the maximum value of the record.\n",
    "\n",
    "**Time Complexity:** $O(n)$  \n",
    "<img src=\"./Images/2370-1.png\" width=\"500\">"
   ]
  }
 ],
 "metadata": {
  "kernelspec": {
   "display_name": "Python 3 (ipykernel)",
   "language": "python",
   "name": "python3"
  },
  "language_info": {
   "codemirror_mode": {
    "name": "ipython",
    "version": 3
   },
   "file_extension": ".py",
   "mimetype": "text/x-python",
   "name": "python",
   "nbconvert_exporter": "python",
   "pygments_lexer": "ipython3",
   "version": "3.9.13"
  }
 },
 "nbformat": 4,
 "nbformat_minor": 5
}
