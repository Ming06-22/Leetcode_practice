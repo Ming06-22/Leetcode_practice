{
 "cells": [
  {
   "cell_type": "markdown",
   "id": "938a0c11",
   "metadata": {},
   "source": [
    "# 629. K Inverse Pairs Array"
   ]
  },
  {
   "cell_type": "markdown",
   "id": "7685f5d3",
   "metadata": {},
   "source": [
    "For an integer array `nums`, an **inverse pair** is a pair of integers `[i, j]` where `0 <= i < j < nums.length` and `nums[i] > nums[j]`.\n",
    "\n",
    "Given two integers n and k, return the number of different arrays consist of numbers from `1` to `n` such that there are exactly `k` **inverse pairs**. Since the answer can be huge, return it **modulo** <code>10<sup>9</sup> + 7</code>.\n",
    "\n",
    "<https://leetcode.com/problems/k-inverse-pairs-array/description/?envType=daily-question&envId=2024-01-27>"
   ]
  },
  {
   "cell_type": "markdown",
   "id": "22791fbc",
   "metadata": {},
   "source": [
    "**Constraints:**  \n",
    "  - `1 <= n <= 1000`\n",
    "  - `0 <= k <= 1000`"
   ]
  },
  {
   "cell_type": "markdown",
   "id": "bf306b64",
   "metadata": {},
   "source": [
    "Example 1:  \n",
    "\n",
    "\n",
    "\n",
    "> Input: n = 3, k = 0  \n",
    "> Output: 1  \n",
    "> Explanation: Only the array [1,2,3] which consists of numbers from 1 to 3 has exactly 0 inverse pairs."
   ]
  },
  {
   "cell_type": "markdown",
   "id": "629bfa8a",
   "metadata": {},
   "source": [
    "Example 2:  \n",
    "\n",
    "\n",
    "\n",
    "> Input: n = 3, k = 1  \n",
    "> Output: 2  \n",
    "> Explanation: The array [1,3,2] and [2,1,3] have exactly 1 inverse pair."
   ]
  },
  {
   "cell_type": "code",
   "execution_count": 1,
   "id": "9441aeee",
   "metadata": {},
   "outputs": [],
   "source": [
    "class Solution:\n",
    "    def kInversePairs(self, n: int, k: int) -> int:\n",
    "        dp = [[1] + [0] * k for _ in range(n + 1)]\n",
    "        dp[0][0] = 0\n",
    "\n",
    "        for i in range(1, n + 1):\n",
    "            for j in range(1, k + 1):\n",
    "                if j >= i:\n",
    "                    val = dp[i - 1][j] - dp[i - 1][j - i]\n",
    "                else:\n",
    "                    val = dp[i - 1][j]\n",
    "\n",
    "                dp[i][j] = (dp[i][j - 1] + val) % (10 ** 9 + 7)\n",
    "                \n",
    "        if k > 0:\n",
    "            return (dp[n][k] + (10**9 + 7) - dp[n][k - 1]) % (10 ** 9 + 7)\n",
    "        else:\n",
    "            return dp[n][k] % (10**9 + 7)\n",
    "    \n",
    "    def display(self, n: int, k: int) -> None:\n",
    "        result = self.kInversePairs(n = n, k = k)\n",
    "        print(f\"Result: {result} arrays\")"
   ]
  },
  {
   "cell_type": "code",
   "execution_count": 2,
   "id": "edf42796",
   "metadata": {},
   "outputs": [
    {
     "name": "stdout",
     "output_type": "stream",
     "text": [
      "Result: 1 arrays\n"
     ]
    }
   ],
   "source": [
    "# Example 1\n",
    "Solution().display(n = 3, k = 0)"
   ]
  },
  {
   "cell_type": "code",
   "execution_count": 3,
   "id": "9e053150",
   "metadata": {},
   "outputs": [
    {
     "name": "stdout",
     "output_type": "stream",
     "text": [
      "Result: 2 arrays\n"
     ]
    }
   ],
   "source": [
    "# Example 2\n",
    "Solution().display(n = 3, k = 1)"
   ]
  },
  {
   "cell_type": "markdown",
   "id": "489215bd",
   "metadata": {},
   "source": [
    "**Idea:**  \n",
    "  - Step1: Construct a matrix to store the accumualtion of each state of certain length of array. The row index means the length of the array, the column index means the number of the **inverse pairs**.\n",
    "  - Step2: Iterate the state to update the current state. Because the row index means the length of the array, if column index >= row index, the value become `dp[i - 1][j] - dp[i - 1][j - 1]`; otherwise, the value inherit the previous state. (`dp[i - 1][j]`)\n",
    "  - Step3: Return the value by the last accumulation minus previous accumulation. (`dp[n][k] - dp[n][k - 1]`)\n",
    "\n",
    "**Time Complexity:** $ O(n * k) $\n",
    "<img src=\"./Images/629-1.png\" width=\"500\">"
   ]
  }
 ],
 "metadata": {
  "kernelspec": {
   "display_name": "Python 3 (ipykernel)",
   "language": "python",
   "name": "python3"
  },
  "language_info": {
   "codemirror_mode": {
    "name": "ipython",
    "version": 3
   },
   "file_extension": ".py",
   "mimetype": "text/x-python",
   "name": "python",
   "nbconvert_exporter": "python",
   "pygments_lexer": "ipython3",
   "version": "3.9.13"
  }
 },
 "nbformat": 4,
 "nbformat_minor": 5
}
