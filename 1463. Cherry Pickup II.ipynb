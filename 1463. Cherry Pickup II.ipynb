{
 "cells": [
  {
   "cell_type": "markdown",
   "id": "923ef13c",
   "metadata": {},
   "source": [
    "# 1463. Cherry Pickup II"
   ]
  },
  {
   "cell_type": "markdown",
   "id": "4ec5950d",
   "metadata": {},
   "source": [
    "You are given a `rows x cols` matrix `grid` representing a field of cherries where `grid[i][j]` represents the number of cherries that you can collect from the `(i, j)` cell.\n",
    "\n",
    "You have two robots that can collect cherries for you:\n",
    "\n",
    "* **Robot #1** is located at the **top-left corner** `(0, 0)`, and\n",
    "* **Robot #2** is located at the **top-right corner** `(0, cols - 1)`.\n",
    "\n",
    "Return the maximum number of cherries collection using both robots by following the rules below:\n",
    "\n",
    "* From a cell `(i, j)`, robots can move to cell `(i + 1, j - 1)`, `(i + 1, j)`, or `(i + 1, j + 1)`.\n",
    "* When any robot passes through a cell, It picks up all cherries, and the cell becomes an empty cell.\n",
    "* When both robots stay in the same cell, only one takes the cherries.\n",
    "* Both robots cannot move outside of the grid at any moment.\n",
    "* Both robots should reach the bottom row in `grid`.\n",
    "\n",
    "<https://leetcode.com/problems/cherry-pickup-ii/description/?envType=daily-question&envId=2024-02-11>\n",
    "\n",
    "**Constraint:**\n",
    "* `rows == grid.length`\n",
    "* `cols == grid[i].length`\n",
    "* `2 <= rows, cols <= 70`\n",
    "* `0 <= grid[i][j] <= 100`"
   ]
  },
  {
   "cell_type": "markdown",
   "id": "f8c3990c",
   "metadata": {},
   "source": [
    "Example 1:  \n",
    "\n",
    "<img src=\"./Images/1463-1.png\" width=\"200\">\n",
    "\n",
    "> **Input:** grid = [[3,1,1],[2,5,1],[1,5,5],[2,1,1]]  \n",
    "> **Output:** 24  \n",
    "> **Explanation:** Path of robot #1 and #2 are described in color green and blue respectively.  \n",
    "Cherries taken by Robot #1, (3 + 2 + 5 + 2) = 12.  \n",
    "Cherries taken by Robot #2, (1 + 5 + 5 + 1) = 12.  \n",
    "Total of cherries: 12 + 12 = 24.  "
   ]
  },
  {
   "cell_type": "markdown",
   "id": "4b4cc852",
   "metadata": {},
   "source": [
    "Example 2:  \n",
    "\n",
    "<img src=\"./Images/1463-2.png\" width=\"200\">\n",
    "\n",
    "> **Input:** grid = [[1,0,0,0,0,0,1],[2,0,0,0,0,3,0],[2,0,9,0,0,0,0],[0,3,0,5,4,0,0],[1,0,2,3,0,0,6]]  \n",
    "> **Output:** 28  \n",
    "> **Explanation:** Path of robot #1 and #2 are described in color green and blue respectively.  \n",
    "Cherries taken by Robot #1, (1 + 9 + 5 + 2) = 17.  \n",
    "Cherries taken by Robot #2, (1 + 3 + 4 + 3) = 11.  \n",
    "Total of cherries: 17 + 11 = 28.  "
   ]
  },
  {
   "cell_type": "code",
   "execution_count": 1,
   "id": "e3f59cde",
   "metadata": {},
   "outputs": [],
   "source": [
    "from typing import List\n",
    "from functools import lru_cache\n",
    "import math\n",
    "\n",
    "class Solution:\n",
    "    def cherryPickup(self, grid: List[List[int]]) -> int:\n",
    "        m = len(grid)\n",
    "        n = len(grid[0])\n",
    "\n",
    "        @lru_cache(None)\n",
    "        def dfs(r, c1, c2):\n",
    "            if c1 < 0 or c1 >= n or c2 < 0 or c2 >= n:\n",
    "                return -math.inf\n",
    "\n",
    "            if c1 == c2:\n",
    "                result = grid[r][c1]\n",
    "            else:\n",
    "                result = grid[r][c1] + grid[r][c2]\n",
    "                \n",
    "            max_value = 0\n",
    "            if r < m - 1:\n",
    "                for i in [c1 - 1, c1, c1 + 1]:\n",
    "                    for j in [c2 - 1, c2, c2 + 1]:\n",
    "                        max_value = max(max_value, dfs(r + 1, i, j))\n",
    "                \n",
    "            return result + max_value\n",
    "        \n",
    "        return dfs(0, 0, n - 1)\n",
    "    \n",
    "    def display(self, grid: List[List[int]]) -> None:\n",
    "        result = self.cherryPickup(grid = grid)\n",
    "        print(f\"Result: {result}\")"
   ]
  },
  {
   "cell_type": "code",
   "execution_count": 2,
   "id": "ad284d0b",
   "metadata": {},
   "outputs": [
    {
     "name": "stdout",
     "output_type": "stream",
     "text": [
      "Result: 24\n"
     ]
    }
   ],
   "source": [
    "# Example 1\n",
    "\n",
    "grid = [[3,1,1],[2,5,1],[1,5,5],[2,1,1]]\n",
    "Solution().display(grid = grid)"
   ]
  },
  {
   "cell_type": "code",
   "execution_count": 3,
   "id": "ec26c093",
   "metadata": {},
   "outputs": [
    {
     "name": "stdout",
     "output_type": "stream",
     "text": [
      "Result: 28\n"
     ]
    }
   ],
   "source": [
    "# Example 2\n",
    "\n",
    "grid = [[1,0,0,0,0,0,1],[2,0,0,0,0,3,0],[2,0,9,0,0,0,0],[0,3,0,5,4,0,0],[1,0,2,3,0,0,6]]\n",
    "Solution().display(grid = grid)"
   ]
  },
  {
   "cell_type": "markdown",
   "id": "ad0774b8",
   "metadata": {},
   "source": [
    "**Idea:**  \n",
    "* Step1: Check whether column index is valid.\n",
    "* Step2: Add the current grid's value.\n",
    "* Step3: Use DFS to add the next layer's max value.\n",
    "\n",
    "**Time Complexity:** $O(9^n)$  \n",
    "<img src=\"./Images/1463-3.png\" width=\"500\">"
   ]
  }
 ],
 "metadata": {
  "kernelspec": {
   "display_name": "Python 3 (ipykernel)",
   "language": "python",
   "name": "python3"
  },
  "language_info": {
   "codemirror_mode": {
    "name": "ipython",
    "version": 3
   },
   "file_extension": ".py",
   "mimetype": "text/x-python",
   "name": "python",
   "nbconvert_exporter": "python",
   "pygments_lexer": "ipython3",
   "version": "3.9.13"
  }
 },
 "nbformat": 4,
 "nbformat_minor": 5
}
