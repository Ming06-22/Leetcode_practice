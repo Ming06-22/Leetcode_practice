{
 "cells": [
  {
   "cell_type": "markdown",
   "id": "923ef13c",
   "metadata": {},
   "source": [
    "# 387. First Unique Character in a String"
   ]
  },
  {
   "cell_type": "markdown",
   "id": "4ec5950d",
   "metadata": {},
   "source": [
    "Given a string `s`, find the first non-repeating character in it and return its index. If it does not exist, return `-1`.  \n",
    "\n",
    "https://leetcode.com/problems/first-unique-character-in-a-string/description/?envType=daily-question&envId=2024-02-05\n",
    "\n",
    "**Constraint:**\n",
    "* <code>1 <= s.length <= 10<sup>5</sup></code>\n",
    "* `s` consists of only lowercase English letters."
   ]
  },
  {
   "cell_type": "markdown",
   "id": "f8c3990c",
   "metadata": {},
   "source": [
    "Example 1:  \n",
    "> Input: s = \"leetcode\"  \n",
    "> Output: 0  "
   ]
  },
  {
   "cell_type": "markdown",
   "id": "fac0388b",
   "metadata": {},
   "source": [
    "Example 2:  \n",
    "> s = \"loveleetcode\"  \n",
    "> Output: 2  "
   ]
  },
  {
   "cell_type": "markdown",
   "id": "cf7702ec",
   "metadata": {},
   "source": [
    "Example 3:  \n",
    "> Input: s = \"aabb\"  \n",
    "> Output: -1  "
   ]
  },
  {
   "cell_type": "code",
   "execution_count": 1,
   "id": "e3f59cde",
   "metadata": {},
   "outputs": [],
   "source": [
    "from collections import defaultdict\n",
    "\n",
    "class Solution:\n",
    "    def firstUniqChar(self, s: str) -> int:\n",
    "        record = defaultdict(list)\n",
    "        for i, ss in enumerate(s):\n",
    "            record[ss].append(i)\n",
    "            \n",
    "        for _, v in record.items():\n",
    "            if len(v) == 1:\n",
    "                return v[0]\n",
    "            \n",
    "        return -1\n",
    "    \n",
    "    def display(self, s: str) -> None:\n",
    "        result = self.firstUniqChar(s = s)\n",
    "        print(f\"Result: index = {result}\")"
   ]
  },
  {
   "cell_type": "code",
   "execution_count": 2,
   "id": "ad284d0b",
   "metadata": {},
   "outputs": [
    {
     "name": "stdout",
     "output_type": "stream",
     "text": [
      "Result: index = 0\n"
     ]
    }
   ],
   "source": [
    "# Example 1\n",
    "\n",
    "s = \"leetcode\"\n",
    "Solution().display(s = s)"
   ]
  },
  {
   "cell_type": "code",
   "execution_count": 3,
   "id": "8b54ca67",
   "metadata": {},
   "outputs": [
    {
     "name": "stdout",
     "output_type": "stream",
     "text": [
      "Result: index = 2\n"
     ]
    }
   ],
   "source": [
    "# Example 2\n",
    "\n",
    "s = \"loveleetcode\"\n",
    "Solution().display(s = s)"
   ]
  },
  {
   "cell_type": "code",
   "execution_count": 4,
   "id": "a1c00eeb",
   "metadata": {},
   "outputs": [
    {
     "name": "stdout",
     "output_type": "stream",
     "text": [
      "Result: index = -1\n"
     ]
    }
   ],
   "source": [
    "# Example 3\n",
    "\n",
    "s = \"aabb\"\n",
    "Solution().display(s = s)"
   ]
  },
  {
   "cell_type": "markdown",
   "id": "ad0774b8",
   "metadata": {},
   "source": [
    "**Idea:**  \n",
    "* Step1: Iterate the input string and record each kind of character's index.\n",
    "* Step2: Iterate the record to find the distinct element and return its index.\n",
    "* Step3: If no result are found, return `-1`.\n",
    "\n",
    "**Time Complexity:** $O(n)$\n",
    "<img src=\"./Images/387-1.png\" width=\"500\">"
   ]
  }
 ],
 "metadata": {
  "kernelspec": {
   "display_name": "Python 3 (ipykernel)",
   "language": "python",
   "name": "python3"
  },
  "language_info": {
   "codemirror_mode": {
    "name": "ipython",
    "version": 3
   },
   "file_extension": ".py",
   "mimetype": "text/x-python",
   "name": "python",
   "nbconvert_exporter": "python",
   "pygments_lexer": "ipython3",
   "version": "3.9.13"
  }
 },
 "nbformat": 4,
 "nbformat_minor": 5
}
