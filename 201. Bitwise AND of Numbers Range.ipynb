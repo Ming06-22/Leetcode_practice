{
 "cells": [
  {
   "cell_type": "markdown",
   "id": "923ef13c",
   "metadata": {},
   "source": [
    "# 201. Bitwise AND of Numbers Range"
   ]
  },
  {
   "cell_type": "markdown",
   "id": "4ec5950d",
   "metadata": {},
   "source": [
    "Given two integers `left` and `right` that represent the range `[left, right]`, return the bitwise AND of all numbers in this range, inclusive.\n",
    "\n",
    "<https://leetcode.com/problems/bitwise-and-of-numbers-range/description/?envType=daily-question&envId=2024-02-21>\n",
    "\n",
    "**Constraint:**\n",
    "* <code>0 <= left <= right <= 2<sup>31</sup> - 1</code>"
   ]
  },
  {
   "cell_type": "markdown",
   "id": "f8c3990c",
   "metadata": {},
   "source": [
    "Example 1:  \n",
    "> **Input:** left = 5, right = 7  \n",
    "> **Output:** 4"
   ]
  },
  {
   "cell_type": "markdown",
   "id": "d8367280-d4f6-4f53-a4d9-c17f969a39c7",
   "metadata": {},
   "source": [
    "Example 2:  \n",
    "> **Input:** left = 0, right = 0  \n",
    "> **Output:** 0"
   ]
  },
  {
   "cell_type": "markdown",
   "id": "331863d5-63db-41fa-befb-ca8cb37f646b",
   "metadata": {},
   "source": [
    "Example 3:  \n",
    "> **Input:** left = 1, right = 2147483647  \n",
    "> **Output:** 0"
   ]
  },
  {
   "cell_type": "code",
   "execution_count": 1,
   "id": "e3f59cde",
   "metadata": {},
   "outputs": [],
   "source": [
    "class Solution:\n",
    "    def rangeBitwiseAnd(self, left: int, right: int) -> int:\n",
    "        result = 0\n",
    "        for i in range(32):\n",
    "            if left & 1 << i and right & 1 << i:\n",
    "                if right - left < 2 ** i:\n",
    "                    result += 2 ** i\n",
    "        \n",
    "        return result\n",
    "\n",
    "    def display(self, left: int, right: int) -> None:\n",
    "        result = self.rangeBitwiseAnd(left = left, right = right)\n",
    "        print(f\"Result: {result}\")"
   ]
  },
  {
   "cell_type": "code",
   "execution_count": 2,
   "id": "ad284d0b",
   "metadata": {},
   "outputs": [
    {
     "name": "stdout",
     "output_type": "stream",
     "text": [
      "Result: 4\n"
     ]
    }
   ],
   "source": [
    "# Example 1\n",
    "\n",
    "left, right = 5, 7\n",
    "Solution().display(left = left, right = right)"
   ]
  },
  {
   "cell_type": "code",
   "execution_count": 3,
   "id": "9835f205-2ab8-4aec-9492-3421c2504ca3",
   "metadata": {},
   "outputs": [
    {
     "name": "stdout",
     "output_type": "stream",
     "text": [
      "Result: 0\n"
     ]
    }
   ],
   "source": [
    "# Example 2\n",
    "\n",
    "left, right = 0, 0\n",
    "Solution().display(left = left, right = right)"
   ]
  },
  {
   "cell_type": "code",
   "execution_count": 4,
   "id": "f6f7e9a8-188e-40c5-bc25-e8dfe9b41930",
   "metadata": {},
   "outputs": [
    {
     "name": "stdout",
     "output_type": "stream",
     "text": [
      "Result: 0\n"
     ]
    }
   ],
   "source": [
    "# Example 3\n",
    "\n",
    "left, right = 1, 2147483647\n",
    "Solution().display(left = left, right = right)"
   ]
  },
  {
   "cell_type": "markdown",
   "id": "ad0774b8",
   "metadata": {},
   "source": [
    "**Idea:**  \n",
    "* Step1: Use a for loop to iterate each bits.\n",
    "* Step2: If both `ith` bit of `left` and `right` are `1`, continue step 3.\n",
    "* Step3: If `left - right < 2 ** i`, the difference won't make `ith` bit 0 between `left` and `right`, set result's `ith` bit to `1`.\n",
    "\n",
    "**Time Complexity:** $O(1)$  \n",
    "<img src=\"./Images/201-1.png\" width=\"500\">"
   ]
  }
 ],
 "metadata": {
  "kernelspec": {
   "display_name": "Python 3 (ipykernel)",
   "language": "python",
   "name": "python3"
  },
  "language_info": {
   "codemirror_mode": {
    "name": "ipython",
    "version": 3
   },
   "file_extension": ".py",
   "mimetype": "text/x-python",
   "name": "python",
   "nbconvert_exporter": "python",
   "pygments_lexer": "ipython3",
   "version": "3.9.18"
  }
 },
 "nbformat": 4,
 "nbformat_minor": 5
}
