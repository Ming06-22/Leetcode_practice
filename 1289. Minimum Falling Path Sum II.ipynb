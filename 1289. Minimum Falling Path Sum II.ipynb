{
 "cells": [
  {
   "cell_type": "markdown",
   "id": "923ef13c",
   "metadata": {},
   "source": [
    "# 1289. Minimum Falling Path Sum II"
   ]
  },
  {
   "cell_type": "markdown",
   "id": "4ec5950d",
   "metadata": {},
   "source": [
    "Given an `n x n` integer matrix `grid`, return the minimum sum of a **falling path with non-zero shifts**.\n",
    "\n",
    "A **falling path with non-zero shifts** is a choice of exactly one element from each row of `grid` such that no two elements chosen in adjacent rows are in the same column.\n",
    "\n",
    "<https://leetcode.com/problems/minimum-falling-path-sum-ii/?envType=daily-question&envId=2024-04-26>\n",
    "\n",
    "**Constraint:**\n",
    "* `n == grid.length == grid[i].length`\n",
    "* `1 <= n <= 200`\n",
    "* `-99 <= grid[i][j] <= 99`"
   ]
  },
  {
   "cell_type": "markdown",
   "id": "f8c3990c",
   "metadata": {},
   "source": [
    "Example 1:  \n",
    "\n",
    "<img src=\"./Images/1289-1.png\" width=\"150\">\n",
    "\n",
    "> **Input:** grid = [[1,2,3],[4,5,6],[7,8,9]]  \n",
    "> **Output:** 13  \n",
    "> **Explanation:**  \n",
    "The possible falling paths are:  \n",
    "[1,5,9], [1,5,7], [1,6,7], [1,6,8],  \n",
    "[2,4,8], [2,4,9], [2,6,7], [2,6,8],  \n",
    "[3,4,8], [3,4,9], [3,5,7], [3,5,9]  \n",
    "The falling path with the smallest sum is [1,5,7], so the answer is 13."
   ]
  },
  {
   "cell_type": "markdown",
   "id": "26e08737",
   "metadata": {},
   "source": [
    "Example 2:  \n",
    "> **Input:** grid = [[7]]  \n",
    "> **Output:** 7"
   ]
  },
  {
   "cell_type": "code",
   "execution_count": 1,
   "id": "e3f59cde",
   "metadata": {},
   "outputs": [],
   "source": [
    "from typing import List\n",
    "\n",
    "class Solution:\n",
    "    def minFallingPathSum(self, grid: List[List[int]]) -> int:\n",
    "        for i in range(1, len(grid)):\n",
    "            temp = sorted(grid[i - 1])\n",
    "            for j in range(len(grid[0])):\n",
    "                if grid[i - 1][j] == temp[0]:\n",
    "                    grid[i][j] += temp[1]\n",
    "                else:\n",
    "                    grid[i][j] += temp[0]\n",
    "        \n",
    "        return min(grid[-1])\n",
    "    \n",
    "    def display(self, grid: List[List[int]]) -> None:\n",
    "        result = self.minFallingPathSum(grid)\n",
    "        print(f\"Result: {result}\")"
   ]
  },
  {
   "cell_type": "code",
   "execution_count": 2,
   "id": "ad284d0b",
   "metadata": {},
   "outputs": [
    {
     "name": "stdout",
     "output_type": "stream",
     "text": [
      "Result: 13\n"
     ]
    }
   ],
   "source": [
    "# Example 1\n",
    "\n",
    "grid = grid = [[1, 2, 3], [4, 5, 6], [7, 8, 9]]\n",
    "Solution().display(grid)"
   ]
  },
  {
   "cell_type": "code",
   "execution_count": 3,
   "id": "a0eebd79",
   "metadata": {},
   "outputs": [
    {
     "name": "stdout",
     "output_type": "stream",
     "text": [
      "Result: 7\n"
     ]
    }
   ],
   "source": [
    "# Example 2\n",
    "\n",
    "grid = [[7]]\n",
    "Solution().display(grid)"
   ]
  },
  {
   "cell_type": "markdown",
   "id": "ad0774b8",
   "metadata": {},
   "source": [
    "**Idea:**  \n",
    "* Step1: Iterate the grid by row.\n",
    "* Step2: Sort the row.\n",
    "* Step3: Apply DP to accumulate the sum.\n",
    "\n",
    "**Time Complexity:** $O(n^2logn)$  \n",
    "<img src=\"./Images/1289-2.png\" width=\"500\">"
   ]
  }
 ],
 "metadata": {
  "kernelspec": {
   "display_name": "Python 3 (ipykernel)",
   "language": "python",
   "name": "python3"
  },
  "language_info": {
   "codemirror_mode": {
    "name": "ipython",
    "version": 3
   },
   "file_extension": ".py",
   "mimetype": "text/x-python",
   "name": "python",
   "nbconvert_exporter": "python",
   "pygments_lexer": "ipython3",
   "version": "3.9.13"
  }
 },
 "nbformat": 4,
 "nbformat_minor": 5
}
