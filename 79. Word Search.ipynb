{
 "cells": [
  {
   "cell_type": "markdown",
   "id": "923ef13c",
   "metadata": {},
   "source": [
    "# 79. Word Search"
   ]
  },
  {
   "cell_type": "markdown",
   "id": "4ec5950d",
   "metadata": {},
   "source": [
    "Given an `m x n` grid of characters `board` and a string `word`, return `true` if `word` exists in the grid.\n",
    "\n",
    "The word can be constructed from letters of sequentially adjacent cells, where adjacent cells are horizontally or vertically neighboring. The same letter cell may not be used more than once.\n",
    "\n",
    "<https://leetcode.com/problems/word-search/description/?envType=daily-question&envId=2024-04-03>\n",
    "\n",
    "**Constraint:**\n",
    "* `m == board.length`\n",
    "* `n = board[i].length`\n",
    "* `1 <= m, n <= 6`\n",
    "* `1 <= word.length <= 15`\n",
    "* `board` and `word` consists of only lowercase and uppercase English letters."
   ]
  },
  {
   "cell_type": "markdown",
   "id": "f8c3990c",
   "metadata": {},
   "source": [
    "Example 1:  \n",
    "\n",
    "<img src=\"./Images/79-1.png\" width=\"200\">\n",
    "\n",
    "> **Input:** board = [[\"A\",\"B\",\"C\",\"E\"],[\"S\",\"F\",\"C\",\"S\"],[\"A\",\"D\",\"E\",\"E\"]], word = \"ABCCED\"  \n",
    "> **Output:** true"
   ]
  },
  {
   "cell_type": "markdown",
   "id": "1857a089",
   "metadata": {},
   "source": [
    "Example 2:  \n",
    "\n",
    "<img src=\"./Images/79-2.png\" width=\"200\">\n",
    "\n",
    "> **Input:** board = [[\"A\",\"B\",\"C\",\"E\"],[\"S\",\"F\",\"C\",\"S\"],[\"A\",\"D\",\"E\",\"E\"]], word = \"SEE\"  \n",
    "> **Output:** true"
   ]
  },
  {
   "cell_type": "markdown",
   "id": "2a9ddfe0",
   "metadata": {},
   "source": [
    "Example 3:  \n",
    "\n",
    "<img src=\"./Images/79-3.png\" width=\"200\">\n",
    "\n",
    "> **Input:** board = [[\"A\",\"B\",\"C\",\"E\"],[\"S\",\"F\",\"C\",\"S\"],[\"A\",\"D\",\"E\",\"E\"]], word = \"ABCB\"  \n",
    "> **Output:** false"
   ]
  },
  {
   "cell_type": "code",
   "execution_count": 1,
   "id": "e3f59cde",
   "metadata": {},
   "outputs": [],
   "source": [
    "from typing import List\n",
    "from collections import Counter\n",
    "from itertools import chain\n",
    "\n",
    "class Solution:\n",
    "    def exist(self, board: List[List[str]], word: str) -> bool:\n",
    "        def dfs(r, c, i):\n",
    "            if i == len(word):\n",
    "                return True\n",
    "\n",
    "            directions = [(-1, 0), (1, 0), (0, 1), (0, -1)]\n",
    "            for x, y in directions:\n",
    "                if (r + x, c + y) not in record and 0 <= r + x < len(board) and 0 <= c + y < len(board[0]) and board[r + x][c + y] == word[i]:\n",
    "                    record.add((r + x, c + y))\n",
    "                    if dfs(r + x, c + y, i + 1):\n",
    "                        return True\n",
    "                    record.remove((r + x, c + y))\n",
    "            return False\n",
    "        \n",
    "        counter1, counter2 = Counter(chain(*board)), Counter(word)\n",
    "        if any(counter1[c] < counter2[c] for c in counter2):\n",
    "            return False\n",
    "\n",
    "        if counter2[word[-1]] < counter2[word[0]]:\n",
    "            word = word[: : -1]\n",
    "\n",
    "        record = set()\n",
    "        for r in range(len(board)):\n",
    "            for c in range(len(board[0])):\n",
    "                if board[r][c] == word[0]:\n",
    "                    record.add((r, c))\n",
    "                    if dfs(r, c, 1):\n",
    "                        return True\n",
    "                    record.remove((r, c))\n",
    "        return False\n",
    "    \n",
    "    def display(self, board: List[List[str]], word: str) -> None:\n",
    "        result = self.exist(board, word)\n",
    "        print(f\"Result: {result}\")"
   ]
  },
  {
   "cell_type": "code",
   "execution_count": 2,
   "id": "ad284d0b",
   "metadata": {},
   "outputs": [
    {
     "name": "stdout",
     "output_type": "stream",
     "text": [
      "Result: True\n"
     ]
    }
   ],
   "source": [
    "# Example 1\n",
    "\n",
    "board = [[\"A\", \"B\", \"C\", \"E\"], [\"S\", \"F\", \"C\", \"S\"], [\"A\", \"D\", \"E\", \"E\"]]\n",
    "word = \"ABCCED\"\n",
    "Solution().display(board, word)"
   ]
  },
  {
   "cell_type": "code",
   "execution_count": 3,
   "id": "f3af89d4",
   "metadata": {},
   "outputs": [
    {
     "name": "stdout",
     "output_type": "stream",
     "text": [
      "Result: True\n"
     ]
    }
   ],
   "source": [
    "# Example 2\n",
    "\n",
    "board = [[\"A\", \"B\", \"C\", \"E\"], [\"S\", \"F\", \"C\", \"S\"], [\"A\", \"D\", \"E\", \"E\"]]\n",
    "word = \"SEE\"\n",
    "Solution().display(board, word)"
   ]
  },
  {
   "cell_type": "code",
   "execution_count": 4,
   "id": "d8567502",
   "metadata": {},
   "outputs": [
    {
     "name": "stdout",
     "output_type": "stream",
     "text": [
      "Result: False\n"
     ]
    }
   ],
   "source": [
    "# Example 3\n",
    "\n",
    "board = [[\"A\", \"B\", \"C\", \"E\"], [\"S\", \"F\", \"C\", \"S\"], [\"A\", \"D\", \"E\", \"E\"]]\n",
    "word = \"ABCB\"\n",
    "Solution().display(board, word)"
   ]
  },
  {
   "cell_type": "markdown",
   "id": "ad0774b8",
   "metadata": {},
   "source": [
    "**Idea:**  \n",
    "* Step1: Record the frequency of `board` and `word`.\n",
    "* Step2: If any word's frequency is less than in board, return `False`. If the frequency of head is larger than the tail, reverse the `word`.\n",
    "* Step3: Use DFS to traverse the `board`.\n",
    "\n",
    "**Time Complexity:** $O(mn)$  \n",
    "<img src=\"./Images/79-4.png\" width=\"500\">"
   ]
  }
 ],
 "metadata": {
  "kernelspec": {
   "display_name": "Python 3 (ipykernel)",
   "language": "python",
   "name": "python3"
  },
  "language_info": {
   "codemirror_mode": {
    "name": "ipython",
    "version": 3
   },
   "file_extension": ".py",
   "mimetype": "text/x-python",
   "name": "python",
   "nbconvert_exporter": "python",
   "pygments_lexer": "ipython3",
   "version": "3.9.13"
  }
 },
 "nbformat": 4,
 "nbformat_minor": 5
}
