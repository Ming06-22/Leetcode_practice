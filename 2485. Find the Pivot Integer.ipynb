{
 "cells": [
  {
   "cell_type": "markdown",
   "id": "923ef13c",
   "metadata": {},
   "source": [
    "# 2485. Find the Pivot Integer"
   ]
  },
  {
   "cell_type": "markdown",
   "id": "4ec5950d",
   "metadata": {},
   "source": [
    "Given a positive integer `n`, find the **pivot integer** `x` such that:\n",
    "\n",
    "* The sum of all elements between `1` and `x` inclusively equals the sum of all elements between `x` and `n` inclusively.\n",
    "\n",
    "Return the pivot integer `x`. If no such integer exists, return `-1`. It is guaranteed that there will be at most one pivot index for the given input.\n",
    "\n",
    "<https://leetcode.com/problems/find-the-pivot-integer/description/?envType=daily-question&envId=2024-03-13>\n",
    "\n",
    "**Constraint:**\n",
    "* `1 <= n <= 1000`"
   ]
  },
  {
   "cell_type": "markdown",
   "id": "f8c3990c",
   "metadata": {},
   "source": [
    "Example 1:  \n",
    "> **Input:** n = 8  \n",
    "> **Output:** 6  \n",
    "> **Explanation:** 6 is the pivot integer since: 1 + 2 + 3 + 4"
   ]
  },
  {
   "cell_type": "markdown",
   "id": "6151bfe8-e230-4e8a-ada4-18fbb6112b96",
   "metadata": {},
   "source": [
    "Example 2:  \n",
    "> **Input:** n = 1  \n",
    "> **Output:** 1  \n",
    "> **Explanation:** 1 is the pivot integer since: 1 = 1."
   ]
  },
  {
   "cell_type": "markdown",
   "id": "798aef57-9c24-40b8-9276-b583f52b7beb",
   "metadata": {},
   "source": [
    "Example 3:  \n",
    "> **Input:** n = 4  \n",
    "> **Output:** -1  \n",
    "> **Explanation:** It can be proved that no such integer exist."
   ]
  },
  {
   "cell_type": "code",
   "execution_count": 1,
   "id": "e3f59cde",
   "metadata": {},
   "outputs": [],
   "source": [
    "import math\n",
    "\n",
    "class Solution:\n",
    "    def pivotInteger(self, n: int) -> int:\n",
    "        result = math.sqrt((n + n**2) // 2)\n",
    "        if int(result) == result:\n",
    "            return int(result)\n",
    "        return -1\n",
    "\n",
    "    def display(self, n: int) -> None:\n",
    "        result = self.pivotInteger(n)\n",
    "        print(f\"Result: {result}\")"
   ]
  },
  {
   "cell_type": "code",
   "execution_count": 2,
   "id": "ad284d0b",
   "metadata": {},
   "outputs": [
    {
     "name": "stdout",
     "output_type": "stream",
     "text": [
      "Result: 6\n"
     ]
    }
   ],
   "source": [
    "# Example 1\n",
    "\n",
    "n = 8\n",
    "Solution().display(n)"
   ]
  },
  {
   "cell_type": "code",
   "execution_count": 3,
   "id": "394edf1e-5312-40f7-91c4-e8a26f3731c3",
   "metadata": {},
   "outputs": [
    {
     "name": "stdout",
     "output_type": "stream",
     "text": [
      "Result: 1\n"
     ]
    }
   ],
   "source": [
    "# Example 2\n",
    "\n",
    "n = 1\n",
    "Solution().display(n)"
   ]
  },
  {
   "cell_type": "code",
   "execution_count": 4,
   "id": "986406c4-5daf-4d96-b4c6-f899fd4a8946",
   "metadata": {},
   "outputs": [
    {
     "name": "stdout",
     "output_type": "stream",
     "text": [
      "Result: -1\n"
     ]
    }
   ],
   "source": [
    "# Example 3\n",
    "\n",
    "n = 4\n",
    "Solution().display(n)"
   ]
  },
  {
   "cell_type": "markdown",
   "id": "ad0774b8",
   "metadata": {},
   "source": [
    "**Idea:**  \n",
    "* Step1: Simplify the math equation (1 + p) * p // 2 == (p + n) * (n - p + 1) // 2.\n",
    "* Step2: Check whether there's an integer answer for the equation.\n",
    "\n",
    "**Time Complexity:** $O(1)$  \n",
    "<img src=\"./Images/2485-1.png\" width=\"500\">"
   ]
  }
 ],
 "metadata": {
  "kernelspec": {
   "display_name": "Python 3 (ipykernel)",
   "language": "python",
   "name": "python3"
  },
  "language_info": {
   "codemirror_mode": {
    "name": "ipython",
    "version": 3
   },
   "file_extension": ".py",
   "mimetype": "text/x-python",
   "name": "python",
   "nbconvert_exporter": "python",
   "pygments_lexer": "ipython3",
   "version": "3.9.18"
  }
 },
 "nbformat": 4,
 "nbformat_minor": 5
}
