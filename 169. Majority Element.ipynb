{
 "cells": [
  {
   "cell_type": "markdown",
   "id": "923ef13c",
   "metadata": {},
   "source": [
    "# 169. Majority Element"
   ]
  },
  {
   "cell_type": "markdown",
   "id": "4ec5950d",
   "metadata": {},
   "source": [
    "Given an array `nums` of size `n`, return the majority element.\n",
    "\n",
    "The majority element is the element that appears more than `⌊n / 2⌋` times. You may assume that the majority element always exists in the array.\n",
    "\n",
    "<https://leetcode.com/problems/majority-element/description/?envType=daily-question&envId=2024-02-12>\n",
    "\n",
    "**Constraint:**\n",
    "* `n == nums.length`\n",
    "* <code>1 <= n <= 5 * 10<sup>4</sup></code>\n",
    "* <code>-10<sup>9</sup> <= nums[i] <= 10<sup>9</sup></code>"
   ]
  },
  {
   "cell_type": "markdown",
   "id": "f8c3990c",
   "metadata": {},
   "source": [
    "Example 1:  \n",
    "> **Input:** nums = [3,2,3]  \n",
    "> **Output:** 3  "
   ]
  },
  {
   "cell_type": "markdown",
   "id": "c006ce2a",
   "metadata": {},
   "source": [
    "Example 2:  \n",
    "> **Input:** nums = [2,2,1,1,1,2,2]  \n",
    "> **Output:** 2  "
   ]
  },
  {
   "cell_type": "code",
   "execution_count": 1,
   "id": "e3f59cde",
   "metadata": {},
   "outputs": [],
   "source": [
    "from typing import List\n",
    "from collections import defaultdict\n",
    "from math import floor\n",
    "\n",
    "class Solution:\n",
    "    def majorityElement(self, nums: List[int]) -> int:\n",
    "        record = defaultdict(int)\n",
    "        \n",
    "        for num in nums:\n",
    "            record[num] += 1\n",
    "            if record[num] > floor(len(nums) / 2):\n",
    "                return num\n",
    "            \n",
    "    def display(self, nums: List[int]) -> None:\n",
    "        result = self.majorityElement(nums = nums)\n",
    "        print(f\"Result: {result}\")"
   ]
  },
  {
   "cell_type": "code",
   "execution_count": 2,
   "id": "ad284d0b",
   "metadata": {},
   "outputs": [
    {
     "name": "stdout",
     "output_type": "stream",
     "text": [
      "Result: 3\n"
     ]
    }
   ],
   "source": [
    "# Example 1\n",
    "\n",
    "nums = [3, 2, 3]\n",
    "Solution().display(nums = nums)"
   ]
  },
  {
   "cell_type": "code",
   "execution_count": 3,
   "id": "a29f5a6e",
   "metadata": {},
   "outputs": [
    {
     "name": "stdout",
     "output_type": "stream",
     "text": [
      "Result: 2\n"
     ]
    }
   ],
   "source": [
    "# Example 2\n",
    "\n",
    "nums = [2, 2, 1, 1, 1, 2, 2]\n",
    "Solution().display(nums = nums)"
   ]
  },
  {
   "cell_type": "markdown",
   "id": "ad0774b8",
   "metadata": {},
   "source": [
    "**Idea:**  \n",
    "* Step1: Construct a defaultdict to record the frequency of the input array.\n",
    "* Step2: Iterate the input array to record the frequency.\n",
    "* Step3: When an element's frequency is larger than half of the length of the input array, return the element.\n",
    "\n",
    "**Time Complexity:** $O(n)$  \n",
    "<img src=\"./Images/169-1.png\" width=\"500\">"
   ]
  }
 ],
 "metadata": {
  "kernelspec": {
   "display_name": "Python 3 (ipykernel)",
   "language": "python",
   "name": "python3"
  },
  "language_info": {
   "codemirror_mode": {
    "name": "ipython",
    "version": 3
   },
   "file_extension": ".py",
   "mimetype": "text/x-python",
   "name": "python",
   "nbconvert_exporter": "python",
   "pygments_lexer": "ipython3",
   "version": "3.9.13"
  }
 },
 "nbformat": 4,
 "nbformat_minor": 5
}
