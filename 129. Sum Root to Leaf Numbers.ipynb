{
 "cells": [
  {
   "cell_type": "markdown",
   "id": "923ef13c",
   "metadata": {},
   "source": [
    "# 129. Sum Root to Leaf Numbers"
   ]
  },
  {
   "cell_type": "markdown",
   "id": "4ec5950d",
   "metadata": {},
   "source": [
    "You are given the `root` of a binary tree containing digits from `0` to `9` only.\n",
    "\n",
    "Each root-to-leaf path in the tree represents a number.\n",
    "\n",
    "* For example, the root-to-leaf path `1 -> 2 -> 3` represents the number `123`.\n",
    "\n",
    "Return the total sum of all root-to-leaf numbers. Test cases are generated so that the answer will fit in a **32-bit** integer.\n",
    "\n",
    "A **leaf** node is a node with no children.\n",
    "\n",
    "<https://leetcode.com/problems/sum-root-to-leaf-numbers/?envType=daily-question&envId=2024-04-15>\n",
    "\n",
    "**Constraint:**\n",
    "* The number of nodes in the tree is in the range `[1, 1000]`.\n",
    "* `0 <= Node.val <= 9`\n",
    "* The depth of the tree will not exceed `10`."
   ]
  },
  {
   "cell_type": "markdown",
   "id": "f8c3990c",
   "metadata": {},
   "source": [
    "Example 1:  \n",
    "\n",
    "<img src=\"./Images/129-1.png\" width=\"150\">\n",
    "\n",
    "> **Input:**: root = [1,2,3]  \n",
    "> **Output:** 25  \n",
    "> **Explanation:**  \n",
    "> The root-to-leaf path `1->2` represents the number `12`.  \n",
    "> The root-to-leaf path `1->3` represents the number `13`.  \n",
    "> Therefore, sum = 12 + 13 = `25`."
   ]
  },
  {
   "cell_type": "markdown",
   "id": "8a949acb",
   "metadata": {},
   "source": [
    "Example 2:  \n",
    "\n",
    "<img src=\"./Images/129-2.png\" width=\"150\">\n",
    "\n",
    "> **Input:**: [4,9,0,5,1]  \n",
    "> **Output:** 1026  \n",
    "> **Explanation:**  \n",
    "> The root-to-leaf path `4->9->5` represents the number 495.  \n",
    "> The root-to-leaf path `4->9->1` represents the number 491.  \n",
    "> The root-to-leaf path `4->0` represents the number 40.  \n",
    "> Therefore, sum = 495 + 491 + 40 = `1026`."
   ]
  },
  {
   "cell_type": "code",
   "execution_count": 1,
   "id": "e3f59cde",
   "metadata": {},
   "outputs": [],
   "source": [
    "from typing import Optional\n",
    "\n",
    "class TreeNode:\n",
    "    def __init__(self, val = 0, left = None, right = None):\n",
    "        self.val = val\n",
    "        self.left = left\n",
    "        self.right = right\n",
    "        \n",
    "class Solution:\n",
    "    def sumNumbers(self, root: Optional[TreeNode]) -> int:\n",
    "        def dfs(record, node):\n",
    "            nonlocal result\n",
    "            \n",
    "            record += str(node.val)\n",
    "            if not node.left and not node.right:\n",
    "                result += int(record)\n",
    "            \n",
    "            if node.left:\n",
    "                dfs(record, node.left)\n",
    "            if node.right:\n",
    "                dfs(record, node.right)\n",
    "\n",
    "        result = 0\n",
    "        dfs(\"\", root)\n",
    "        return result\n",
    "    \n",
    "    def display(self, root: Optional[TreeNode]) -> None:\n",
    "        result = self.sumNumbers(root)\n",
    "        print(f\"Result: {result}\")"
   ]
  },
  {
   "cell_type": "code",
   "execution_count": 2,
   "id": "ad284d0b",
   "metadata": {},
   "outputs": [
    {
     "name": "stdout",
     "output_type": "stream",
     "text": [
      "Result: 25\n"
     ]
    }
   ],
   "source": [
    "# Example 1\n",
    "\n",
    "root = TreeNode(1, TreeNode(2), TreeNode(3))\n",
    "Solution().display(root)"
   ]
  },
  {
   "cell_type": "code",
   "execution_count": 3,
   "id": "01c1d6a4",
   "metadata": {},
   "outputs": [
    {
     "name": "stdout",
     "output_type": "stream",
     "text": [
      "Result: 1026\n"
     ]
    }
   ],
   "source": [
    "# Example 2\n",
    "\n",
    "root = TreeNode(4, TreeNode(9, TreeNode(5), TreeNode(1)), TreeNode(0))\n",
    "Solution().display(root)"
   ]
  },
  {
   "cell_type": "markdown",
   "id": "ad0774b8",
   "metadata": {},
   "source": [
    "**Idea:**  \n",
    "* Step1: Apply DFS.\n",
    "* Step2: Append the current value if current node is a leaf.\n",
    "* Step3: Exapnd to left child and right child.\n",
    "\n",
    "**Time Complexity:** $O(n)$  \n",
    "<img src=\"./Images/129-3.png\" width=\"500\">"
   ]
  }
 ],
 "metadata": {
  "kernelspec": {
   "display_name": "Python 3 (ipykernel)",
   "language": "python",
   "name": "python3"
  },
  "language_info": {
   "codemirror_mode": {
    "name": "ipython",
    "version": 3
   },
   "file_extension": ".py",
   "mimetype": "text/x-python",
   "name": "python",
   "nbconvert_exporter": "python",
   "pygments_lexer": "ipython3",
   "version": "3.9.13"
  }
 },
 "nbformat": 4,
 "nbformat_minor": 5
}
