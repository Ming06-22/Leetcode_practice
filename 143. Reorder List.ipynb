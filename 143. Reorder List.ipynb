{
 "cells": [
  {
   "cell_type": "markdown",
   "id": "923ef13c",
   "metadata": {},
   "source": [
    "# 143. Reorder List"
   ]
  },
  {
   "cell_type": "markdown",
   "id": "4ec5950d",
   "metadata": {},
   "source": [
    "You are given the head of a singly linked-list. The list can be represented as:\n",
    "\n",
    "> L<sub>0</sub> → L<sub>1</sub> → … → L<sub>n - 1</sub> → L<sub>n</sub>  \n",
    "\n",
    "Reorder the list to be on the following form:\n",
    "\n",
    "> L<sub>0</sub> → L<sub>n</sub> → L<sub>1</sub> → L<sub>n - 1</sub> → L<sub>2</sub> → L<sub>n - 2</sub> → …  \n",
    "\n",
    "You may not modify the values in the list's nodes. Only nodes themselves may be changed.\n",
    "\n",
    "<https://leetcode.com/problems/reorder-list/description/?envType=daily-question&envId=2024-03-23>\n",
    "\n",
    "**Constraint:**\n",
    "* The number of nodes in the list is in the range <code>[1, 5 * 10<sup>4</sup>]</code>.\n",
    "* `1 <= Node.val <= 1000`"
   ]
  },
  {
   "cell_type": "markdown",
   "id": "f8c3990c",
   "metadata": {},
   "source": [
    "Example 1:  \n",
    "\n",
    "<img src=\"./Images/143-1.png\" width=\"300\">\n",
    "\n",
    "> **Input:** head = [1,2,3,4]  \n",
    "> **Output:** [1,4,2,3]"
   ]
  },
  {
   "cell_type": "markdown",
   "id": "64eb7e73",
   "metadata": {},
   "source": [
    "Example 2:\n",
    "\n",
    "<img src=\"./Images/143-2.png\" width=\"300\">\n",
    "\n",
    "> **Input:** head = [1,2,3,4,5]  \n",
    "> **Output:** [1,5,2,4,3]"
   ]
  },
  {
   "cell_type": "code",
   "execution_count": 1,
   "id": "e3f59cde",
   "metadata": {},
   "outputs": [],
   "source": [
    "from typing import Optional\n",
    "\n",
    "class ListNode:\n",
    "    def __init__(self, val = 0, next = None):\n",
    "        self.val = val\n",
    "        self.next = next\n",
    "        \n",
    "class Solution:\n",
    "    def reorderList(self, head: Optional[ListNode]) -> None:\n",
    "        \"\"\"\n",
    "        Do not return anything, modify head in-place instead.\n",
    "        \"\"\"\n",
    "        current = head\n",
    "        record = []\n",
    "        while current:\n",
    "            record.append(current)\n",
    "            current = current.next\n",
    "\n",
    "        dummy = ListNode(0)\n",
    "        current = dummy\n",
    "        index = 0\n",
    "        while index < len(record) // 2:\n",
    "            current.next = record[index]\n",
    "            current = current.next\n",
    "\n",
    "            current.next = record[len(record) - index - 1]\n",
    "            current = current.next\n",
    "\n",
    "            index += 1\n",
    "\n",
    "        if len(record) % 2 == 1:\n",
    "            current.next = record[index]\n",
    "            current = current.next\n",
    "        current.next = None\n",
    "        \n",
    "    def display(self, head: Optional[ListNode]) -> None:\n",
    "        self.reorderList(head)\n",
    "        current = head\n",
    "        result = []\n",
    "        while current:\n",
    "            result.append(current.val)\n",
    "            current = current.next\n",
    "        print(f\"Result: {result}\")"
   ]
  },
  {
   "cell_type": "code",
   "execution_count": 2,
   "id": "ad284d0b",
   "metadata": {},
   "outputs": [
    {
     "name": "stdout",
     "output_type": "stream",
     "text": [
      "Result: [1, 4, 2, 3]\n"
     ]
    }
   ],
   "source": [
    "# Example 1\n",
    "\n",
    "head = ListNode(1, ListNode(2, ListNode(3, ListNode(4))))\n",
    "Solution().display(head)"
   ]
  },
  {
   "cell_type": "code",
   "execution_count": 3,
   "id": "341aa841",
   "metadata": {},
   "outputs": [
    {
     "name": "stdout",
     "output_type": "stream",
     "text": [
      "Result: [1, 5, 2, 4, 3]\n"
     ]
    }
   ],
   "source": [
    "# Example 2\n",
    "\n",
    "head = ListNode(1, ListNode(2, ListNode(3, ListNode(4, ListNode(5)))))\n",
    "Solution().display(head)"
   ]
  },
  {
   "cell_type": "markdown",
   "id": "ad0774b8",
   "metadata": {},
   "source": [
    "**Idea:**  \n",
    "* Step1: Iterate the linked list to obtain the order of nodes.\n",
    "* Step2: Reorder the linked list by the record.\n",
    "* Step3: Point the tail to `None`.\n",
    "\n",
    "**Time Complexity:** $O(n)$  \n",
    "<img src=\"./Images/143-3.png\" width=\"500\">"
   ]
  }
 ],
 "metadata": {
  "kernelspec": {
   "display_name": "Python 3 (ipykernel)",
   "language": "python",
   "name": "python3"
  },
  "language_info": {
   "codemirror_mode": {
    "name": "ipython",
    "version": 3
   },
   "file_extension": ".py",
   "mimetype": "text/x-python",
   "name": "python",
   "nbconvert_exporter": "python",
   "pygments_lexer": "ipython3",
   "version": "3.9.13"
  }
 },
 "nbformat": 4,
 "nbformat_minor": 5
}
