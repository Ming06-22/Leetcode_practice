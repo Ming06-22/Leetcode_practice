{
 "cells": [
  {
   "cell_type": "markdown",
   "id": "923ef13c",
   "metadata": {},
   "source": [
    "# 525. Contiguous Array"
   ]
  },
  {
   "cell_type": "markdown",
   "id": "4ec5950d",
   "metadata": {},
   "source": [
    "Given a binary array `nums`, return the maximum length of a contiguous subarray with an equal number of `0` and `1`.\n",
    "\n",
    "<https://leetcode.com/problems/contiguous-array/description/?envType=daily-question&envId=2024-03-16>\n",
    "\n",
    "**Constraint:**\n",
    "* <code>1 <= nums.length <= 10<sup>5</sup></code>\n",
    "* `nums[i]` is either `0` or `1`."
   ]
  },
  {
   "cell_type": "markdown",
   "id": "f8c3990c",
   "metadata": {},
   "source": [
    "Example 1:  \n",
    "> **Input:** nums = [0,1]  \n",
    "> **Output:** 2  \n",
    "> **Explanation:** [0, 1] is the longest contiguous subarray with an equal number of 0 and 1."
   ]
  },
  {
   "cell_type": "markdown",
   "id": "d3c6dcc0-40ba-43ba-a775-b40265681322",
   "metadata": {},
   "source": [
    "Example 2:  \n",
    "> **Input:** nums = [0,1,0]  \n",
    "> **Output:** 2  \n",
    "> **Explanation:** [0, 1] (or [1, 0]) is a longest contiguous subarray with equal number of 0 and 1."
   ]
  },
  {
   "cell_type": "code",
   "execution_count": 1,
   "id": "e3f59cde",
   "metadata": {},
   "outputs": [],
   "source": [
    "from typing import List\n",
    "\n",
    "class Solution:\n",
    "    def findMaxLength(self, nums: List[int]) -> int:\n",
    "        temp = result = 0\n",
    "        record = {0: -1}\n",
    "\n",
    "        for i, n in enumerate(nums):\n",
    "            if n == 0:\n",
    "                temp -= 1\n",
    "            else:\n",
    "                temp += 1\n",
    "\n",
    "            if temp in record:\n",
    "                result = max(result, i - record[temp])\n",
    "            else:\n",
    "                record[temp] = i\n",
    "        \n",
    "        return result\n",
    "\n",
    "    def display(self, nums: List[int]) -> None:\n",
    "        result = self.findMaxLength(nums)\n",
    "        print(f\"Result: {result}\")"
   ]
  },
  {
   "cell_type": "code",
   "execution_count": 2,
   "id": "ad284d0b",
   "metadata": {},
   "outputs": [
    {
     "name": "stdout",
     "output_type": "stream",
     "text": [
      "Result: 2\n"
     ]
    }
   ],
   "source": [
    "# Example 1\n",
    "\n",
    "nums = [0, 1]\n",
    "Solution().display(nums)"
   ]
  },
  {
   "cell_type": "code",
   "execution_count": 3,
   "id": "d166380d-30fb-451a-8647-9a3b57fc22cf",
   "metadata": {},
   "outputs": [
    {
     "name": "stdout",
     "output_type": "stream",
     "text": [
      "Result: 2\n"
     ]
    }
   ],
   "source": [
    "# Example 2\n",
    "\n",
    "nums = [0, 1, 0]\n",
    "Solution().display(nums)"
   ]
  },
  {
   "cell_type": "markdown",
   "id": "ad0774b8",
   "metadata": {},
   "source": [
    "**Idea:**  \n",
    "* Step1: Iterate the input array.\n",
    "* Step2: If the current value is `0`, minus `temp` by `1`. If the current value is `1`, add `temp` by `1`.\n",
    "* Step3: If the value in `record` are same, represent the number of `1` and `0` between two values are equal.\n",
    "\n",
    "**Time Complexity:** $O(n)$  \n",
    "<img src=\"./Images/525-1.png\" width=\"500\">"
   ]
  }
 ],
 "metadata": {
  "kernelspec": {
   "display_name": "Python 3 (ipykernel)",
   "language": "python",
   "name": "python3"
  },
  "language_info": {
   "codemirror_mode": {
    "name": "ipython",
    "version": 3
   },
   "file_extension": ".py",
   "mimetype": "text/x-python",
   "name": "python",
   "nbconvert_exporter": "python",
   "pygments_lexer": "ipython3",
   "version": "3.9.18"
  }
 },
 "nbformat": 4,
 "nbformat_minor": 5
}
