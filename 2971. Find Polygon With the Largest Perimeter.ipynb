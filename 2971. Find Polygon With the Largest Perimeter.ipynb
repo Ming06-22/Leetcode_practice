{
 "cells": [
  {
   "cell_type": "markdown",
   "id": "923ef13c",
   "metadata": {},
   "source": [
    "# 2971. Find Polygon With the Largest Perimeter"
   ]
  },
  {
   "cell_type": "markdown",
   "id": "4ec5950d",
   "metadata": {},
   "source": [
    "You are given an array of **positive** integers `nums` of length `n`.\n",
    "\n",
    "A **polygon** is a closed plane figure that has at least `3` sides. The **longest side** of a polygon is **smaller** than the sum of its other sides.\n",
    "\n",
    "Conversely, if you have `k` (`k >= 3`) **positive** real numbers <code>a<sub>1</sub></code>, <code>a<sub>2</sub></code>, <code>a<sub>3</sub></code>, ..., <code>a<sub>k</sub></code> where <code>a<sub>1</sub> <= a<sub>2</sub> <= a<sub>3</sub> <= ... <= a<sub>k</sub></code> and <code>a<sub>1</sub> + a<sub>2</sub> + a<sub>3</sub> + ... + a<sub>k-1</sub> > a<sub>k</sib></code>, then there **always** exists a polygon with `k` sides whose lengths are <code>a<sub>1</sub></code>, <code>a<sub>2</sub></code>, <code>a<sub>3</sub></code>, ..., <code>a<sub>k</sub></code>.\n",
    "\n",
    "The **perimeter** of a polygon is the sum of lengths of its sides.\n",
    "\n",
    "Return the **largest** possible **perimeter** of a **polygon** whose sides can be formed from `nums`, or `-1` if it is not possible to create a polygon.\n",
    "\n",
    "<https://leetcode.com/problems/find-polygon-with-the-largest-perimeter/description/?envType=daily-question&envId=2024-02-15>\n",
    "\n",
    "**Constraint:**\n",
    "* <code>3 <= n <= 10<sup>5</sup></code>\n",
    "* <code>1 <= nums[i] <= 10<sup>9</sup><code>"
   ]
  },
  {
   "cell_type": "markdown",
   "id": "f8c3990c",
   "metadata": {},
   "source": [
    "Example 1:  \n",
    "> **Input:** nums = [5,5,5]  \n",
    "> **Output:** 15  \n",
    "> **Explanation:** The only possible polygon that can be made from nums has 3 sides: 5, 5, and 5. The perimeter is 5 + 5 + 5 = 15."
   ]
  },
  {
   "cell_type": "markdown",
   "id": "c7cb46ed",
   "metadata": {},
   "source": [
    "Example 2:  \n",
    "> **Input:** nums = [1,12,1,2,5,50,3]  \n",
    "> **Output:** 12  \n",
    "> **Explanation:** The polygon with the largest perimeter which can be made from nums has 5 sides: 1, 1, 2, 3, and 5. The perimeter is 1 + 1 + 2 + 3 + 5 = 12.  \n",
    "We cannot have a polygon with either 12 or 50 as the longest side because it is not possible to include 2 or more smaller sides that have a greater sum than either of them.  \n",
    "It can be shown that the largest possible perimeter is 12."
   ]
  },
  {
   "cell_type": "markdown",
   "id": "c255db83",
   "metadata": {},
   "source": [
    "Example 3:\n",
    "> **Input:** nums = [5,5,50]  \n",
    "> **Output:** -1  \n",
    "> **Explanation:** There is no possible way to form a polygon from nums, as a polygon has at least 3 sides and 50 > 5 + 5."
   ]
  },
  {
   "cell_type": "code",
   "execution_count": 1,
   "id": "e3f59cde",
   "metadata": {},
   "outputs": [],
   "source": [
    "from typing import List\n",
    "\n",
    "class Solution:\n",
    "    def largestPerimeter(self, nums: List[int]) -> int:\n",
    "        nums.sort()\n",
    "        target = nums.pop()\n",
    "        result = sum(nums)\n",
    "\n",
    "        while len(nums) >= 2:\n",
    "            if result > target:\n",
    "                return result + target\n",
    "            \n",
    "            target = nums.pop()\n",
    "            result -= target\n",
    "\n",
    "        return -1\n",
    "    \n",
    "    def display(self, nums: List[int]) -> None:\n",
    "        result = self.largestPerimeter(nums = nums)\n",
    "        print(f\"Result: {result}\")"
   ]
  },
  {
   "cell_type": "code",
   "execution_count": 2,
   "id": "ad284d0b",
   "metadata": {},
   "outputs": [
    {
     "name": "stdout",
     "output_type": "stream",
     "text": [
      "Result: 15\n"
     ]
    }
   ],
   "source": [
    "# Example 1\n",
    "\n",
    "nums = [5, 5, 5]\n",
    "Solution().display(nums = nums)"
   ]
  },
  {
   "cell_type": "code",
   "execution_count": 3,
   "id": "380ce733",
   "metadata": {},
   "outputs": [
    {
     "name": "stdout",
     "output_type": "stream",
     "text": [
      "Result: 12\n"
     ]
    }
   ],
   "source": [
    "# Example 2\n",
    "\n",
    "nums = [1, 12, 1, 2, 5, 50, 3]\n",
    "Solution().display(nums = nums)"
   ]
  },
  {
   "cell_type": "code",
   "execution_count": 4,
   "id": "335df28e",
   "metadata": {},
   "outputs": [
    {
     "name": "stdout",
     "output_type": "stream",
     "text": [
      "Result: -1\n"
     ]
    }
   ],
   "source": [
    "# Example 3\n",
    "\n",
    "nums = [5, 5, 50]\n",
    "Solution().display(nums = nums)"
   ]
  },
  {
   "cell_type": "markdown",
   "id": "ad0774b8",
   "metadata": {},
   "source": [
    "**Idea:**  \n",
    "* Step1: Sort the input array.\n",
    "* Step2: Sees the last element as `target`, the sum of the rest are `result`. If `result` is larger than `target`, return `result` + `target`.\n",
    "* Step3: Iterate the input array, sees the last element as `target`, `result` minus equal `target`. Check whether `result` is larger than `target`.\n",
    "* Step4: Repeat until the length of input array is smaller than 2, then return `-1`.\n",
    "\n",
    "**Time Complexity:** $O(nlogn)$  \n",
    "<img src=\"./Images/2971-1.png\" width=\"500\">"
   ]
  }
 ],
 "metadata": {
  "kernelspec": {
   "display_name": "Python 3 (ipykernel)",
   "language": "python",
   "name": "python3"
  },
  "language_info": {
   "codemirror_mode": {
    "name": "ipython",
    "version": 3
   },
   "file_extension": ".py",
   "mimetype": "text/x-python",
   "name": "python",
   "nbconvert_exporter": "python",
   "pygments_lexer": "ipython3",
   "version": "3.9.13"
  }
 },
 "nbformat": 4,
 "nbformat_minor": 5
}
