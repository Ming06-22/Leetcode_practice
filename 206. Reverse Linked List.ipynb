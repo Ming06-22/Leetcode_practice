{
 "cells": [
  {
   "cell_type": "markdown",
   "id": "923ef13c",
   "metadata": {},
   "source": [
    "# 206. Reverse Linked List"
   ]
  },
  {
   "cell_type": "markdown",
   "id": "4ec5950d",
   "metadata": {},
   "source": [
    "Given the `head` of a singly linked list, reverse the list, and return the reversed list.\n",
    "\n",
    "<https://leetcode.com/problems/reverse-linked-list/?envType=daily-question&envId=2024-03-21>\n",
    "\n",
    "**Constraint:**\n",
    "* The number of nodes in the list is the range `[0, 5000]`.\n",
    "* `-5000 <= Node.val <= 5000`"
   ]
  },
  {
   "cell_type": "markdown",
   "id": "f8c3990c",
   "metadata": {},
   "source": [
    "Example 1:  \n",
    "\n",
    "<img src=\"./Images/206-1.png\" width=\"300\">\n",
    "\n",
    "> **Input:** head = [1,2,3,4,5]  \n",
    "> **Output:** [5,4,3,2,1]"
   ]
  },
  {
   "cell_type": "markdown",
   "id": "f319a76f-8695-4369-abe7-dc889c6be0a0",
   "metadata": {},
   "source": [
    "Example 2:\n",
    "\n",
    "<img src=\"./Images/206-2.png\" width=\"100\">\n",
    "\n",
    "> **Input:** head = [1,2]  \n",
    "> **Output:** [2,1]"
   ]
  },
  {
   "cell_type": "markdown",
   "id": "cb4681a8-f371-4e00-a532-48663ed05d32",
   "metadata": {},
   "source": [
    "Example 3:  \n",
    "\n",
    "> **Input:** head = []  \n",
    "> **Output:** []"
   ]
  },
  {
   "cell_type": "code",
   "execution_count": 1,
   "id": "e3f59cde",
   "metadata": {},
   "outputs": [],
   "source": [
    "from typing import Optional\n",
    "\n",
    "class ListNode:\n",
    "    def __init__(self, val = 0, next = None):\n",
    "        self.val = val\n",
    "        self.next = next\n",
    "        \n",
    "class Solution:\n",
    "    def reverseList(self, head: Optional[ListNode]) -> Optional[ListNode]:\n",
    "        if not head or not head.next:\n",
    "            return head\n",
    "            \n",
    "        node1, node2, node3 = head, head.next, head.next.next\n",
    "        node1.next = None\n",
    "        while node3:\n",
    "            node2.next = node1\n",
    "            node1 = node2\n",
    "            node2 = node3\n",
    "            node3 = node3.next\n",
    "\n",
    "        node2.next = node1\n",
    "        return node2\n",
    "\n",
    "    def display(self, head: Optional[ListNode]) -> None:\n",
    "        node = self.reverseList(head)\n",
    "        result = []\n",
    "        while node:\n",
    "            result.append(node.val)\n",
    "            node = node.next\n",
    "\n",
    "        print(f\"Result: {result}\")"
   ]
  },
  {
   "cell_type": "code",
   "execution_count": 2,
   "id": "ad284d0b",
   "metadata": {},
   "outputs": [
    {
     "name": "stdout",
     "output_type": "stream",
     "text": [
      "Result: [5, 4, 3, 2, 1]\n"
     ]
    }
   ],
   "source": [
    "# Example 1\n",
    "\n",
    "head = ListNode(1, ListNode(2, ListNode(3, ListNode(4, ListNode(5)))))\n",
    "Solution().display(head)"
   ]
  },
  {
   "cell_type": "code",
   "execution_count": 3,
   "id": "8fcf7608-75ff-46cb-9692-9df3ff3c88cc",
   "metadata": {},
   "outputs": [
    {
     "name": "stdout",
     "output_type": "stream",
     "text": [
      "Result: [2, 1]\n"
     ]
    }
   ],
   "source": [
    "# Example 2\n",
    "\n",
    "head = ListNode(1, ListNode(2))\n",
    "Solution().display(head)"
   ]
  },
  {
   "cell_type": "code",
   "execution_count": 4,
   "id": "784f5338-0c94-444f-8a35-ed0154735649",
   "metadata": {},
   "outputs": [
    {
     "name": "stdout",
     "output_type": "stream",
     "text": [
      "Result: []\n"
     ]
    }
   ],
   "source": [
    "# Example 3\n",
    "\n",
    "head = None\n",
    "Solution().display(head)"
   ]
  },
  {
   "cell_type": "markdown",
   "id": "ad0774b8",
   "metadata": {},
   "source": [
    "**Idea:**  \n",
    "* Step1: If `head` or `head.next` is not exist, return `head` directly.\n",
    "* Step2: Use three pointer point to the first three nodes.\n",
    "* Step3: Change the child of the middle pointer to the first point, then move back until the end of the linked list.\n",
    "\n",
    "**Time Complexity:** $O(n)$  \n",
    "<img src=\"./Images/206-3.png\" width=\"500\">"
   ]
  }
 ],
 "metadata": {
  "kernelspec": {
   "display_name": "Python 3 (ipykernel)",
   "language": "python",
   "name": "python3"
  },
  "language_info": {
   "codemirror_mode": {
    "name": "ipython",
    "version": 3
   },
   "file_extension": ".py",
   "mimetype": "text/x-python",
   "name": "python",
   "nbconvert_exporter": "python",
   "pygments_lexer": "ipython3",
   "version": "3.9.18"
  }
 },
 "nbformat": 4,
 "nbformat_minor": 5
}
