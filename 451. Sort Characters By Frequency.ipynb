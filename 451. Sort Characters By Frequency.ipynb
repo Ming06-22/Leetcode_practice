{
 "cells": [
  {
   "cell_type": "markdown",
   "id": "923ef13c",
   "metadata": {},
   "source": [
    "# 451. Sort Characters By Frequency"
   ]
  },
  {
   "cell_type": "markdown",
   "id": "4ec5950d",
   "metadata": {},
   "source": [
    "Given a string `s`, sort it in **decreasing order** based on the **frequency** of the characters. The frequency of a character is the number of times it appears in the string.\n",
    "\n",
    "Return the sorted string. If there are multiple answers, return any of them.\n",
    "\n",
    "<https://leetcode.com/problems/sort-characters-by-frequency/description/?envType=daily-question&envId=2024-02-07>\n",
    "\n",
    "**Constraint:**\n",
    "* <code>1 <= s.length <= 5 * 10<sup>5</sup></code>\n",
    "* `s` consists of uppercase and lowercase English letters and digits."
   ]
  },
  {
   "cell_type": "markdown",
   "id": "f8c3990c",
   "metadata": {},
   "source": [
    "Example 1:  \n",
    "> **Input:** s = \"tree\"  \n",
    "> **Output:** \"eert\"  \n",
    "> **Explanation:** 'e' appears twice while 'r' and 't' both appear once. So 'e' must appear before both 'r' and 't'. Therefore \"eetr\" is also a valid answer.  "
   ]
  },
  {
   "cell_type": "markdown",
   "id": "2be27c6d",
   "metadata": {},
   "source": [
    "Example 2:  \n",
    "> **Input:** s = \"cccaaa\"  \n",
    "> **Output:** \"aaaccc\"  \n",
    "> **Explanation:** Both 'c' and 'a' appear three times, so both \"cccaaa\" and \"aaaccc\" are valid answers. Note that \"cacaca\" is incorrect, as the same characters must be together.  "
   ]
  },
  {
   "cell_type": "markdown",
   "id": "ae7a82b8",
   "metadata": {},
   "source": [
    "Example 3:  \n",
    "> **Input:** s = \"Aabb\"  \n",
    "> **Output:** \"bbAa\"  \n",
    "> **Explanation:** \"bbaA\" is also a valid answer, but \"Aabb\" is incorrect.\n",
    "Note that 'A' and 'a' are treated as two different characters."
   ]
  },
  {
   "cell_type": "code",
   "execution_count": 1,
   "id": "e3f59cde",
   "metadata": {},
   "outputs": [],
   "source": [
    "from collections import Counter\n",
    "\n",
    "class Solution:\n",
    "    def frequencySort(self, s: str) -> str:\n",
    "        record = Counter(s)\n",
    "        record = sorted(record.items(), key = lambda x: x[1], reverse = True)\n",
    "        \n",
    "        result = \"\"\n",
    "        for k, v in record:\n",
    "            result += k * v\n",
    "\n",
    "        return result\n",
    "    \n",
    "    def display(self, s: str) -> None:\n",
    "        result = self.frequencySort(s = s)\n",
    "        print(f\"Result: \\\"{result}\\\"\")"
   ]
  },
  {
   "cell_type": "code",
   "execution_count": 2,
   "id": "ad284d0b",
   "metadata": {},
   "outputs": [
    {
     "name": "stdout",
     "output_type": "stream",
     "text": [
      "Result: \"eetr\"\n"
     ]
    }
   ],
   "source": [
    "# Example 1\n",
    "\n",
    "s = \"tree\"\n",
    "Solution().display(s = s)"
   ]
  },
  {
   "cell_type": "code",
   "execution_count": 3,
   "id": "a11bcf47",
   "metadata": {},
   "outputs": [
    {
     "name": "stdout",
     "output_type": "stream",
     "text": [
      "Result: \"cccaaa\"\n"
     ]
    }
   ],
   "source": [
    "# Example 2\n",
    "\n",
    "s = \"cccaaa\"\n",
    "Solution().display(s = s)"
   ]
  },
  {
   "cell_type": "code",
   "execution_count": 4,
   "id": "3649a7e4",
   "metadata": {},
   "outputs": [
    {
     "name": "stdout",
     "output_type": "stream",
     "text": [
      "Result: \"bbAa\"\n"
     ]
    }
   ],
   "source": [
    "# Example 3\n",
    "\n",
    "s = \"Aabb\"\n",
    "Solution().display(s = s)"
   ]
  },
  {
   "cell_type": "markdown",
   "id": "ad0774b8",
   "metadata": {},
   "source": [
    "**Idea:**  \n",
    "* Step1: Use a `Counter` to record the frequency of each characters.\n",
    "* Step2: Sort the record by its frequency.\n",
    "* Step3: Construct the result by the record.\n",
    "\n",
    "**Time Complexity:** $O(nlogn)$\n",
    "<img src=\"./Images/451-1.png\" width=\"500\">"
   ]
  }
 ],
 "metadata": {
  "kernelspec": {
   "display_name": "Python 3 (ipykernel)",
   "language": "python",
   "name": "python3"
  },
  "language_info": {
   "codemirror_mode": {
    "name": "ipython",
    "version": 3
   },
   "file_extension": ".py",
   "mimetype": "text/x-python",
   "name": "python",
   "nbconvert_exporter": "python",
   "pygments_lexer": "ipython3",
   "version": "3.9.13"
  }
 },
 "nbformat": 4,
 "nbformat_minor": 5
}
