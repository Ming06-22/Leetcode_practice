{
 "cells": [
  {
   "cell_type": "markdown",
   "id": "923ef13c",
   "metadata": {},
   "source": [
    "# 2966. Divide Array Into Arrays With Max Difference"
   ]
  },
  {
   "cell_type": "markdown",
   "id": "4ec5950d",
   "metadata": {},
   "source": [
    "You are given an integer array `nums` of size `n` and a positive integer `k`.\n",
    "\n",
    "Divide the array into one or more arrays of size `3` satisfying the following conditions:\n",
    "\n",
    "* **Each** element of `nums` should be in **exactly** one array.\n",
    "* The difference between **any** two elements in one array is less than or equal to `k`.\n",
    "\n",
    "Return a **2D** array containing all the arrays. If it is impossible to satisfy the conditions, return an empty array. And if there are multiple answers, return **any** of them.\n",
    "\n",
    "<https://leetcode.com/problems/divide-array-into-arrays-with-max-difference/?envType=daily-question&envId=2024-02-01>\n",
    "\n",
    "**Constraint:**\n",
    "* `n == nums.length`\n",
    "* `1 <= n <= 105`\n",
    "* `n` is a multiple of `3`.\n",
    "* `1 <= nums[i] <= 105`\n",
    "* `1 <= k <= 105`"
   ]
  },
  {
   "cell_type": "markdown",
   "id": "f8c3990c",
   "metadata": {},
   "source": [
    "Example 1:  \n",
    "> Input: nums = [1,3,4,8,7,9,3,5,1], k = 2  \n",
    "> Output: [[1,1,3],[3,4,5],[7,8,9]]  \n",
    "> Explanation: We can divide the array into the following arrays: [1,1,3], [3,4,5] and [7,8,9].  \n",
    "The difference between any two elements in each array is less than or equal to 2.\n",
    "Note that the order of elements is not important."
   ]
  },
  {
   "cell_type": "markdown",
   "id": "9e995705",
   "metadata": {},
   "source": [
    "Example 2:  \n",
    "> Input: nums = [1,3,3,2,7,3], k = 3  \n",
    "> Output: []  \n",
    "> Explanation: It is not possible to divide the array satisfying all the conditions.  "
   ]
  },
  {
   "cell_type": "code",
   "execution_count": 1,
   "id": "e3f59cde",
   "metadata": {},
   "outputs": [],
   "source": [
    "from typing import List\n",
    "\n",
    "class Solution:\n",
    "    def divideArray(self, nums: List[int], k: int) -> List[List[int]]:\n",
    "        result = []\n",
    "        nums.sort()\n",
    "        count = 0\n",
    "        temp = []\n",
    "        for n in nums:\n",
    "            if temp and n - temp[0] > k:\n",
    "                return []\n",
    "\n",
    "            count += 1\n",
    "            temp.append(n)\n",
    "            if count == 3:\n",
    "                result.append(temp)\n",
    "                temp = []\n",
    "                count = 0\n",
    "\n",
    "        return result\n",
    "    \n",
    "    def display(self, nums: List[int], k: int) -> None:\n",
    "        result = self.divideArray(nums = nums, k = k)\n",
    "        print(f\"Result: {result}\")"
   ]
  },
  {
   "cell_type": "code",
   "execution_count": 2,
   "id": "ad284d0b",
   "metadata": {},
   "outputs": [
    {
     "name": "stdout",
     "output_type": "stream",
     "text": [
      "Result: [[1, 1, 3], [3, 4, 5], [7, 8, 9]]\n"
     ]
    }
   ],
   "source": [
    "# Example 1\n",
    "nums = [1,3,4,8,7,9,3,5,1]\n",
    "k = 2\n",
    "\n",
    "Solution().display(nums = nums, k = k)"
   ]
  },
  {
   "cell_type": "code",
   "execution_count": 3,
   "id": "366adf3f",
   "metadata": {},
   "outputs": [
    {
     "name": "stdout",
     "output_type": "stream",
     "text": [
      "Result: []\n"
     ]
    }
   ],
   "source": [
    "# Example 2\n",
    "nums = [1,3,3,2,7,3]\n",
    "k = 3\n",
    "\n",
    "Solution().display(nums = nums, k = k)"
   ]
  },
  {
   "cell_type": "markdown",
   "id": "ad0774b8",
   "metadata": {},
   "source": [
    "**Idea:**  \n",
    "* Step1: Sort `nums`.\n",
    "* Step2: Iterate `nums` in groups of three elements.\n",
    "* Step3: If the difference between the current number and the first number in `temp` larger than `k`, return `[]` and terminate the program; otherwise, append it to `temp`.\n",
    "\n",
    "**Time Complexity:** $O(n)$  \n",
    "<img src=\"./Images/2966-1.png\" width=\"500\">"
   ]
  }
 ],
 "metadata": {
  "kernelspec": {
   "display_name": "Python 3 (ipykernel)",
   "language": "python",
   "name": "python3"
  },
  "language_info": {
   "codemirror_mode": {
    "name": "ipython",
    "version": 3
   },
   "file_extension": ".py",
   "mimetype": "text/x-python",
   "name": "python",
   "nbconvert_exporter": "python",
   "pygments_lexer": "ipython3",
   "version": "3.9.13"
  }
 },
 "nbformat": 4,
 "nbformat_minor": 5
}
