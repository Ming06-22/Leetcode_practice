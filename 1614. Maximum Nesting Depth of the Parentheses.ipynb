{
 "cells": [
  {
   "cell_type": "markdown",
   "id": "923ef13c",
   "metadata": {},
   "source": [
    "# 1614. Maximum Nesting Depth of the Parentheses"
   ]
  },
  {
   "cell_type": "markdown",
   "id": "4ec5950d",
   "metadata": {},
   "source": [
    "A string is a **valid parentheses string** (denoted **VPS**) if it meets one of the following:\n",
    "\n",
    "* It is an empty string `\"\"`, or a single character not equal to `\"(\"` or `\")\"`,\n",
    "* It can be written as `AB` (`A` concatenated with `B`), where `A` and `B` are **VPS**'s, or\n",
    "* It can be written as `(A)`, where `A` is a **VPS**.\n",
    "\n",
    "We can similarly define the **nesting depth** `depth(S)` of any VPS `S` as follows:\n",
    "\n",
    "* `depth(\"\") = 0`\n",
    "* `depth(C) = 0`, where `C` is a string with a single character not equal to `\"(\"` or `\")\"`.\n",
    "* `depth(A + B) = max(depth(A), depth(B))`, where `A` and `B` are **VPS**'s.\n",
    "* `depth(\"(\" + A + \")\") = 1 + depth(A)`, where `A` is a **VPS**.\n",
    "\n",
    "For example, `\"\"`, `\"()()\"`, and `\"()(()())\"` are **VPS**'s (with nesting depths 0, 1, and 2), and `\")(\"` and `\"(()\"` are not **VPS**'s.\n",
    "\n",
    "Given a **VPS** represented as string `s`, return the **nesting depth** of `s`.\n",
    "\n",
    "<https://leetcode.com/problems/maximum-nesting-depth-of-the-parentheses/?envType=daily-question&envId=2024-04-04>\n",
    "\n",
    "**Constraint:**\n",
    "* `1 <= s.length <= 100`\n",
    "* `s` consists of digits `0-9` and characters `'+'`, `'-'`, `'*'`, `'/'`, `'('`, and `')'`.\n",
    "* It is guaranteed that parentheses expression `s` is a **VPS**."
   ]
  },
  {
   "cell_type": "markdown",
   "id": "f8c3990c",
   "metadata": {},
   "source": [
    "Example 1:  \n",
    "> **Input:** s = \"(1+(2*3)+((8)/4))+1\"  \n",
    "> **Output:** 3  \n",
    "> **Explanation:** Digit 8 is inside of 3 nested parentheses in the string."
   ]
  },
  {
   "cell_type": "markdown",
   "id": "b39da03e",
   "metadata": {},
   "source": [
    "Example 2:  \n",
    "> **Input:** s = \"(1)+((2))+(((3)))\"  \n",
    "> **Output:** 3"
   ]
  },
  {
   "cell_type": "code",
   "execution_count": 1,
   "id": "e3f59cde",
   "metadata": {},
   "outputs": [],
   "source": [
    "class Solution:\n",
    "    def maxDepth(self, s: str) -> int:\n",
    "        result = temp = 0\n",
    "        for n in s:\n",
    "            if n == \"(\":\n",
    "                temp += 1\n",
    "                result = max(result, temp)\n",
    "            elif n == \")\":\n",
    "                temp -= 1\n",
    "\n",
    "        return result\n",
    "    \n",
    "    def display(self, s: str) -> None:\n",
    "        result = self.maxDepth(s)\n",
    "        print(f\"Result: {result}\")"
   ]
  },
  {
   "cell_type": "code",
   "execution_count": 2,
   "id": "ad284d0b",
   "metadata": {},
   "outputs": [
    {
     "name": "stdout",
     "output_type": "stream",
     "text": [
      "Result: 3\n"
     ]
    }
   ],
   "source": [
    "# Example 1\n",
    "\n",
    "s = \"(1+(2*3)+((8)/4))+1\"\n",
    "Solution().display(s)"
   ]
  },
  {
   "cell_type": "code",
   "execution_count": 3,
   "id": "65600690",
   "metadata": {
    "scrolled": true
   },
   "outputs": [
    {
     "name": "stdout",
     "output_type": "stream",
     "text": [
      "Result: 3\n"
     ]
    }
   ],
   "source": [
    "# Example 2\n",
    "\n",
    "s = \"(1)+((2))+(((3)))\"\n",
    "Solution().display(s)"
   ]
  },
  {
   "cell_type": "markdown",
   "id": "ad0774b8",
   "metadata": {},
   "source": [
    "**Idea:**  \n",
    "* Step1: Iterate the input string.\n",
    "* Step2: If current character is `(`, add `temp` by `1`.\n",
    "* Step3: If current character is `)`, minus `temp` by `1`.\n",
    "\n",
    "**Time Complexity:** $O(n)$  \n",
    "<img src=\"./Images/1614-1.png\" width=\"500\">"
   ]
  }
 ],
 "metadata": {
  "kernelspec": {
   "display_name": "Python 3 (ipykernel)",
   "language": "python",
   "name": "python3"
  },
  "language_info": {
   "codemirror_mode": {
    "name": "ipython",
    "version": 3
   },
   "file_extension": ".py",
   "mimetype": "text/x-python",
   "name": "python",
   "nbconvert_exporter": "python",
   "pygments_lexer": "ipython3",
   "version": "3.9.13"
  }
 },
 "nbformat": 4,
 "nbformat_minor": 5
}
