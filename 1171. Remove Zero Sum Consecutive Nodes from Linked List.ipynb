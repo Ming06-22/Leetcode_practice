{
 "cells": [
  {
   "cell_type": "markdown",
   "id": "923ef13c",
   "metadata": {},
   "source": [
    "# 1171. Remove Zero Sum Consecutive Nodes from Linked List"
   ]
  },
  {
   "cell_type": "markdown",
   "id": "4ec5950d",
   "metadata": {},
   "source": [
    "Given the `head` of a linked list, we repeatedly delete consecutive sequences of nodes that sum to `0` until there are no such sequences.\n",
    "\n",
    "After doing so, return the head of the final linked list.  You may return any such answer.\n",
    "\n",
    "(Note that in the examples below, all sequences are serializations of `ListNode` objects.)\n",
    "\n",
    "<https://leetcode.com/problems/remove-zero-sum-consecutive-nodes-from-linked-list/?envType=daily-question&envId=2024-03-12>\n",
    "\n",
    "**Constraint:**\n",
    "* The given linked list will contain between `1` and `1000` nodes.\n",
    "* Each node in the linked list has `-1000 <= node.val <= 1000`."
   ]
  },
  {
   "cell_type": "markdown",
   "id": "f8c3990c",
   "metadata": {},
   "source": [
    "Example 1:  \n",
    "> **Input:** head = [1,2,-3,3,1]  \n",
    "> **Output:** [3,1]  \n",
    "> **Note:** The answer [1,2,1] would also be accepted."
   ]
  },
  {
   "cell_type": "markdown",
   "id": "7b5ef70e-6e2b-4142-85a6-0addc99feb3c",
   "metadata": {},
   "source": [
    "Example 2:\n",
    "> **Input:** head = [1,2,3,-3,4]  \n",
    "> **Output:** [1,2,4]"
   ]
  },
  {
   "cell_type": "markdown",
   "id": "9bb9d4dd-5de7-4096-9ec0-498a1114dcb8",
   "metadata": {},
   "source": [
    "Example 3:\n",
    "> **Input:** head = [1,2,3,-3,-2]  \n",
    "> **Output:** [1]"
   ]
  },
  {
   "cell_type": "code",
   "execution_count": 1,
   "id": "e3f59cde",
   "metadata": {},
   "outputs": [],
   "source": [
    "from typing import Optional\n",
    "\n",
    "class ListNode:\n",
    "    def __init__(self, val = 0, next = None):\n",
    "        self.val = val\n",
    "        self.next = next\n",
    "        \n",
    "class Solution:\n",
    "    def removeZeroSumSublists(self, head: Optional[ListNode]) -> Optional[ListNode]:\n",
    "        dummy = ListNode(0, head)\n",
    "\n",
    "        current = dummy\n",
    "        record = {}\n",
    "        temp = 0\n",
    "        while current:\n",
    "            temp += current.val\n",
    "            record[temp] = current\n",
    "\n",
    "            current = current.next\n",
    "        \n",
    "        current = dummy\n",
    "        temp = 0\n",
    "        while current:\n",
    "            temp += current.val\n",
    "            current.next = record[temp].next\n",
    "            \n",
    "            current = current.next\n",
    "\n",
    "        return dummy.next\n",
    "\n",
    "    def display(self, head: Optional[ListNode]) -> None:\n",
    "        node = self.removeZeroSumSublists(head)\n",
    "\n",
    "        result = []\n",
    "        while node:\n",
    "            result.append(node.val)\n",
    "            node = node.next\n",
    "        print(f\"Result: {result}\")"
   ]
  },
  {
   "cell_type": "code",
   "execution_count": 2,
   "id": "ad284d0b",
   "metadata": {},
   "outputs": [
    {
     "name": "stdout",
     "output_type": "stream",
     "text": [
      "Result: [3, 1]\n"
     ]
    }
   ],
   "source": [
    "# Example 1\n",
    "\n",
    "head = ListNode(1, ListNode(2, ListNode(-3, ListNode(3, ListNode(1)))))\n",
    "Solution().display(head)"
   ]
  },
  {
   "cell_type": "code",
   "execution_count": 3,
   "id": "bafe6788-60ab-40e4-990f-502d1b9409f0",
   "metadata": {},
   "outputs": [
    {
     "name": "stdout",
     "output_type": "stream",
     "text": [
      "Result: [1, 2, 4]\n"
     ]
    }
   ],
   "source": [
    "# Example 2\n",
    "\n",
    "head = ListNode(1, ListNode(2, ListNode(3, ListNode(-3, ListNode(4)))))\n",
    "Solution().display(head)"
   ]
  },
  {
   "cell_type": "code",
   "execution_count": 4,
   "id": "37f028a4-4e85-4fff-b7d9-17598c0cafac",
   "metadata": {},
   "outputs": [
    {
     "name": "stdout",
     "output_type": "stream",
     "text": [
      "Result: [1]\n"
     ]
    }
   ],
   "source": [
    "# Example 3\n",
    "\n",
    "head = ListNode(1, ListNode(2, ListNode(3, ListNode(-3, ListNode(-2)))))\n",
    "Solution().display(head)"
   ]
  },
  {
   "cell_type": "markdown",
   "id": "ad0774b8",
   "metadata": {},
   "source": [
    "**Idea:**  \n",
    "* Step1: Construct a dictionary to record the map of prefix sum.\n",
    "* Step2: Iterate the linked list.\n",
    "* Step3: Change the child of node by prefix sum map.\n",
    "\n",
    "**Time Complexity:** $O(n)$  \n",
    "<img src=\"./Images/1171-1.png\" width=\"500\">"
   ]
  }
 ],
 "metadata": {
  "kernelspec": {
   "display_name": "Python 3 (ipykernel)",
   "language": "python",
   "name": "python3"
  },
  "language_info": {
   "codemirror_mode": {
    "name": "ipython",
    "version": 3
   },
   "file_extension": ".py",
   "mimetype": "text/x-python",
   "name": "python",
   "nbconvert_exporter": "python",
   "pygments_lexer": "ipython3",
   "version": "3.9.18"
  }
 },
 "nbformat": 4,
 "nbformat_minor": 5
}
