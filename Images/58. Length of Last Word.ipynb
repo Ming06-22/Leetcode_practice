{
 "cells": [
  {
   "cell_type": "markdown",
   "id": "923ef13c",
   "metadata": {},
   "source": [
    "# 58. Length of Last Word"
   ]
  },
  {
   "cell_type": "markdown",
   "id": "4ec5950d",
   "metadata": {},
   "source": [
    "Given a string `s` consisting of words and spaces, return the length of the **last** word in the string.\n",
    "\n",
    "A **word** is a maximal substring consisting of non-space characters only.\n",
    "\n",
    "<https://leetcode.com/problems/length-of-last-word/description/?envType=daily-question&envId=2024-04-01>\n",
    "\n",
    "**Constraint:**\n",
    "* <code>1 <= s.length <= 10<sup>4</sup></code>\n",
    "* `s` consists of only English letters and spaces `' '`.\n",
    "* There will be at least one word in `s`."
   ]
  },
  {
   "cell_type": "markdown",
   "id": "f8c3990c",
   "metadata": {},
   "source": [
    "Example 1:  \n",
    "> **Input:** s = \"Hello World\"  \n",
    "> **Output:** 5  \n",
    "> **Explanation:** The last word is \"World\" with length 5."
   ]
  },
  {
   "cell_type": "markdown",
   "id": "c7a45937",
   "metadata": {},
   "source": [
    "Example 2:  \n",
    "> **Input:** s = \"   fly me   to   the moon  \"  \n",
    "> **Output:** 4  \n",
    "> **Explanation:** The last word is \"moon\" with length 4."
   ]
  },
  {
   "cell_type": "markdown",
   "id": "d93ee54d",
   "metadata": {},
   "source": [
    "Example 3:  \n",
    "> **Input:** s = \"luffy is still joyboy\"  \n",
    "> **Output:** 6  \n",
    "> **Explanation:** The last word is \"joyboy\" with length 6."
   ]
  },
  {
   "cell_type": "code",
   "execution_count": 1,
   "id": "e3f59cde",
   "metadata": {},
   "outputs": [],
   "source": [
    "class Solution:\n",
    "    def lengthOfLastWord(self, s: str) -> int:\n",
    "        s = s.split(\" \")\n",
    "        i = len(s) - 1\n",
    "        while s and len(s[i]) == 0:\n",
    "            i -= 1\n",
    "\n",
    "        return len(s[i])\n",
    "    \n",
    "    def display(self, s: str) -> None:\n",
    "        result = self.lengthOfLastWord(s)\n",
    "        print(f\"Result: {result}\")"
   ]
  },
  {
   "cell_type": "code",
   "execution_count": 2,
   "id": "ad284d0b",
   "metadata": {},
   "outputs": [
    {
     "name": "stdout",
     "output_type": "stream",
     "text": [
      "Result: 5\n"
     ]
    }
   ],
   "source": [
    "# Example 1\n",
    "\n",
    "s = \"Hello World\"\n",
    "Solution().display(s)"
   ]
  },
  {
   "cell_type": "code",
   "execution_count": 3,
   "id": "55751242",
   "metadata": {},
   "outputs": [
    {
     "name": "stdout",
     "output_type": "stream",
     "text": [
      "Result: 4\n"
     ]
    }
   ],
   "source": [
    "# Example 2\n",
    "\n",
    "s = \"fly me to the moon\"\n",
    "Solution().display(s)"
   ]
  },
  {
   "cell_type": "code",
   "execution_count": 4,
   "id": "a92d19f2",
   "metadata": {
    "scrolled": true
   },
   "outputs": [
    {
     "name": "stdout",
     "output_type": "stream",
     "text": [
      "Result: 6\n"
     ]
    }
   ],
   "source": [
    "# Example 3\n",
    "\n",
    "s = \"luffy is still joyboy\"\n",
    "Solution().display(s)"
   ]
  },
  {
   "cell_type": "markdown",
   "id": "ad0774b8",
   "metadata": {},
   "source": [
    "**Idea:**  \n",
    "* Step1: Split the input string by spaces.\n",
    "* Step2: Take out the last string slice.\n",
    "* Step3: Return the length of the last string slice.\n",
    "\n",
    "**Time Complexity:** $O(n)$  \n",
    "<img src=\"./Images/58-1.png\" width=\"500\">"
   ]
  }
 ],
 "metadata": {
  "kernelspec": {
   "display_name": "Python 3 (ipykernel)",
   "language": "python",
   "name": "python3"
  },
  "language_info": {
   "codemirror_mode": {
    "name": "ipython",
    "version": 3
   },
   "file_extension": ".py",
   "mimetype": "text/x-python",
   "name": "python",
   "nbconvert_exporter": "python",
   "pygments_lexer": "ipython3",
   "version": "3.9.13"
  }
 },
 "nbformat": 4,
 "nbformat_minor": 5
}
