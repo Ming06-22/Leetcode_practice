{
 "cells": [
  {
   "cell_type": "markdown",
   "id": "923ef13c",
   "metadata": {},
   "source": [
    "# 76. Minimum Window Substring"
   ]
  },
  {
   "cell_type": "markdown",
   "id": "4ec5950d",
   "metadata": {},
   "source": [
    "Given two strings `s` and `t` of lengths `m` and `n` respectively, return the **minimum window** <font color=\"0000ff\">substring</font> of `s` such that every character in `t` (**including duplicates**) is included in the window. If there is no such substring, return the empty string `\"\"`.\n",
    "\n",
    "The testcases will be generated such that the answer is **unique**.\n",
    "\n",
    "<https://leetcode.com/problems/minimum-window-substring/?envType=daily-question&envId=2024-02-04>\n",
    "\n",
    "**Constraint:**\n",
    "* `m == s.length`\n",
    "* `n == t.length`\n",
    "* `1 <= m, n <= 105`\n",
    "* `s` and `t` consist of uppercase and lowercase English letters."
   ]
  },
  {
   "cell_type": "markdown",
   "id": "f8c3990c",
   "metadata": {},
   "source": [
    "Example1:  \n",
    "> Input: s = \"ADOBECODEBANC\", t = \"ABC\"  \n",
    "> Output: \"BANC\"  \n",
    "> Explanation: The minimum window substring \"BANC\" includes 'A', 'B', and 'C' from string t.  "
   ]
  },
  {
   "cell_type": "markdown",
   "id": "03ee55c1",
   "metadata": {},
   "source": [
    "Example 2:  \n",
    "> Input: s = \"a\", t = \"a\"  \n",
    "> Output: \"a\"  \n",
    "> Explanation: The entire string s is the minimum window.  "
   ]
  },
  {
   "cell_type": "markdown",
   "id": "e58c71fb",
   "metadata": {},
   "source": [
    "Example 3:  \n",
    "> Input: s = \"a\", t = \"aa\"  \n",
    "> Output: \"\"  \n",
    "> Explanation: Both 'a's from t must be included in the window. Since the largest window of s only has one 'a', return empty string."
   ]
  },
  {
   "cell_type": "code",
   "execution_count": 1,
   "id": "e3f59cde",
   "metadata": {},
   "outputs": [],
   "source": [
    "from collections import Counter, defaultdict\n",
    "\n",
    "class Solution:\n",
    "    def minWindow(self, s: str, t: str) -> str:\n",
    "        n = 0\n",
    "        count = Counter(t)\n",
    "        record = defaultdict(list)\n",
    "        result = \"\"\n",
    "        \n",
    "        for i in range(len(s)):\n",
    "            if s[i] in t:\n",
    "                if len(record[s[i]]) == count[s[i]]:\n",
    "                    record[s[i]].pop(0)\n",
    "                    record[s[i]].append(i)\n",
    "                else:\n",
    "                    record[s[i]].append(i)\n",
    "                    n += 1\n",
    "                \n",
    "                if n == len(t):\n",
    "                    length = i - min(record.values())[0] + 1\n",
    "                    if length < len(result) or result == \"\":\n",
    "                        result = s[min(record.values())[0]: i + 1]\n",
    "        \n",
    "        return result\n",
    "    \n",
    "    def display(self, s: str, t: str) -> None:\n",
    "        result = self.minWindow(s = s, t = t)\n",
    "        print(f\"Result: \\\"{result}\\\"\")"
   ]
  },
  {
   "cell_type": "code",
   "execution_count": 2,
   "id": "ad284d0b",
   "metadata": {},
   "outputs": [
    {
     "name": "stdout",
     "output_type": "stream",
     "text": [
      "Result: \"BANC\"\n"
     ]
    }
   ],
   "source": [
    "# Example 1\n",
    "\n",
    "s = \"ADOBECODEBANC\"\n",
    "t = \"ABC\"\n",
    "Solution().display(s = s, t = t)"
   ]
  },
  {
   "cell_type": "code",
   "execution_count": 3,
   "id": "baeddef8",
   "metadata": {},
   "outputs": [
    {
     "name": "stdout",
     "output_type": "stream",
     "text": [
      "Result: \"a\"\n"
     ]
    }
   ],
   "source": [
    "# Example 2\n",
    "\n",
    "s = \"a\"\n",
    "t = \"a\"\n",
    "Solution().display(s = s, t = t)"
   ]
  },
  {
   "cell_type": "code",
   "execution_count": 4,
   "id": "813468b7",
   "metadata": {},
   "outputs": [
    {
     "name": "stdout",
     "output_type": "stream",
     "text": [
      "Result: \"\"\n"
     ]
    }
   ],
   "source": [
    "# Example 3\n",
    "\n",
    "s = \"a\"\n",
    "t = \"aa\"\n",
    "Solution().display(s = s, t = t)"
   ]
  },
  {
   "cell_type": "markdown",
   "id": "ad0774b8",
   "metadata": {},
   "source": [
    "**Idea:**  \n",
    "* Step1: Calculate the frequency of t.\n",
    "* Step2: Iterate the string record the index of target character.\n",
    "* Step3: If all the character are found, compare the length of it with the result. If the length is shorter, substitute the result.\n",
    "\n",
    "**Time Complexity:** $O($<code>len(s)</code> $*$ <code>len(t)</code>$)$\n",
    "<img src=\"./Images/76-1.png\" width=\"500\">"
   ]
  }
 ],
 "metadata": {
  "kernelspec": {
   "display_name": "Python 3 (ipykernel)",
   "language": "python",
   "name": "python3"
  },
  "language_info": {
   "codemirror_mode": {
    "name": "ipython",
    "version": 3
   },
   "file_extension": ".py",
   "mimetype": "text/x-python",
   "name": "python",
   "nbconvert_exporter": "python",
   "pygments_lexer": "ipython3",
   "version": "3.9.13"
  }
 },
 "nbformat": 4,
 "nbformat_minor": 5
}
