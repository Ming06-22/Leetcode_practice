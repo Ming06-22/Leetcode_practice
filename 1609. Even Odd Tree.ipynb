{
 "cells": [
  {
   "cell_type": "markdown",
   "id": "923ef13c",
   "metadata": {},
   "source": [
    "# 1609. Even Odd Tree"
   ]
  },
  {
   "cell_type": "markdown",
   "id": "4ec5950d",
   "metadata": {},
   "source": [
    "A binary tree is named **Even-Odd** if it meets the following conditions:\n",
    "\n",
    "* The root of the binary tree is at level index `0`, its children are at level index `1`, their children are at level index `2`, etc.  \n",
    "* For every **even-indexed** level, all nodes at the level have **odd** integer values in **strictly increasing** order (from left to right).\n",
    "* For every **odd-indexed** level, all nodes at the level have **even** integer values in **strictly decreasing** order (from left to right).\n",
    "\n",
    "Given the `root` of a binary tree, return `true` if the binary tree is **Even-Odd**, otherwise return `false`.\n",
    "\n",
    "<https://leetcode.com/problems/even-odd-tree/description/?envType=daily-question&envId=2024-02-29>\n",
    "\n",
    "**Constraint:**\n",
    "* The number of nodes in the tree is in the range <code>[1, 10<sup>5</sup>]</code>.\n",
    "* <code>1 <= Node.val <= 10<sup>6</sup></code>"
   ]
  },
  {
   "cell_type": "markdown",
   "id": "f8c3990c",
   "metadata": {},
   "source": [
    "Example 1:  \n",
    "\n",
    "<img src=\"./Images/1609-1.png\" width=\"300\">\n",
    "\n",
    "> **Input:** root = [1,10,4,3,null,7,9,12,8,6,null,null,2]  \n",
    "> **Output:** true  \n",
    "> **Explanation:** The node values on each level are:  \n",
    "Level 0: [1]  \n",
    "Level 1: [10,4]  \n",
    "Level 2: [3,7,9]  \n",
    "Level 3: [12,8,6,2]  \n",
    "Since levels 0 and 2 are all odd and increasing and levels 1 and 3 are all even and decreasing, the tree is Even-Odd."
   ]
  },
  {
   "cell_type": "markdown",
   "id": "64c4dd70-bba8-491a-9599-07d178fea113",
   "metadata": {},
   "source": [
    "Example 2:  \n",
    "\n",
    "<img src=\"./Images/1609-2.png\" width=\"300\">\n",
    "\n",
    "> **Input:** root = [5,4,2,3,3,7]  \n",
    "> **Output:** false  \n",
    "> **Explanation:** The node values on each level are:  \n",
    "Level 0: [5]  \n",
    "Level 1: [4,2]  \n",
    "Level 2: [3,3,7]  \n",
    "Node values in level 2 must be in strictly increasing order, so the tree is not Even-Odd."
   ]
  },
  {
   "cell_type": "markdown",
   "id": "f12fb852-1d9a-495c-bf52-6354f8bce8f7",
   "metadata": {},
   "source": [
    "Example 3:  \n",
    "\n",
    "<img src=\"./Images/1609-3.png\" width=\"300\">\n",
    "\n",
    "> **Input:** root = [5,9,1,3,5,7]  \n",
    "> **Output:** false  \n",
    "> **Explanation:** Node values in the level 1 should be even integers."
   ]
  },
  {
   "cell_type": "code",
   "execution_count": 1,
   "id": "e3f59cde",
   "metadata": {},
   "outputs": [],
   "source": [
    "from typing import Optional\n",
    "\n",
    "class TreeNode:\n",
    "    def __init__(self, val = 0, left = None, right = None):\n",
    "        self.val = val\n",
    "        self.left = left\n",
    "        self.right = right\n",
    "        \n",
    "class Solution:\n",
    "    def isEvenOddTree(self, root: Optional[TreeNode]) -> bool:\n",
    "        if root.val % 2 == 0:\n",
    "            return False\n",
    "\n",
    "        def bfs(layer):\n",
    "            nonlocal queue\n",
    "\n",
    "            temp1, temp2 = [], []\n",
    "            for node in queue:\n",
    "                if node.left:\n",
    "                    value = node.left.val\n",
    "                    if layer % 2 == 0:\n",
    "                        if value % 2 == 0:\n",
    "                            return False\n",
    "\n",
    "                        if temp1 and value <= temp1[-1]:\n",
    "                            return False\n",
    "                        else:\n",
    "                            temp1.append(node.left.val)\n",
    "                    else:\n",
    "                        if value % 2 == 1:\n",
    "                            return False\n",
    "\n",
    "                        if temp1 and value >= temp1[-1]:\n",
    "                            return False\n",
    "                        else:\n",
    "                            temp1.append(node.left.val)\n",
    "                    temp2.append(node.left)\n",
    "                if node.right:\n",
    "                    value = node.right.val\n",
    "                    if layer % 2 == 0:\n",
    "                        if value % 2 == 0:\n",
    "                            return False\n",
    "\n",
    "                        if temp1 and value <= temp1[-1]:\n",
    "                            return False\n",
    "                        else:\n",
    "                            temp1.append(node.right.val)\n",
    "                    else:\n",
    "                        if value % 2 == 1:\n",
    "                            return False\n",
    "\n",
    "                        if temp1 and value >= temp1[-1]:\n",
    "                            return False\n",
    "                        else:\n",
    "                            temp1.append(node.right.val)\n",
    "                    temp2.append(node.right)\n",
    "\n",
    "            queue = temp2\n",
    "            return True\n",
    "        \n",
    "        queue = [root]\n",
    "        layer = 0\n",
    "        while queue:\n",
    "            layer += 1\n",
    "            if not bfs(layer):\n",
    "                return False\n",
    "\n",
    "        return True\n",
    "\n",
    "    def display(self, root: Optional[TreeNode]) -> None:\n",
    "        result = self.isEvenOddTree(root)\n",
    "        print(f\"Result: {result}\")"
   ]
  },
  {
   "cell_type": "code",
   "execution_count": 2,
   "id": "ad284d0b",
   "metadata": {},
   "outputs": [
    {
     "name": "stdout",
     "output_type": "stream",
     "text": [
      "Result: True\n"
     ]
    }
   ],
   "source": [
    "# Example 1\n",
    "\n",
    "root = TreeNode(1, TreeNode(10, TreeNode(3, TreeNode(12), TreeNode(8))), TreeNode(4, TreeNode(7, TreeNode(6)), TreeNode(9, None, TreeNode(2))))\n",
    "Solution().display(root)"
   ]
  },
  {
   "cell_type": "code",
   "execution_count": 3,
   "id": "3ba2357d-95a5-425e-b5a6-114c92c8d3b6",
   "metadata": {},
   "outputs": [
    {
     "name": "stdout",
     "output_type": "stream",
     "text": [
      "Result: False\n"
     ]
    }
   ],
   "source": [
    "# Example 2\n",
    "\n",
    "root = TreeNode(6, TreeNode(4, TreeNode(3), TreeNode(3)), TreeNode(2, TreeNode(7)))\n",
    "Solution().display(root)"
   ]
  },
  {
   "cell_type": "code",
   "execution_count": 4,
   "id": "7ebe517d-ed30-4bb3-8822-02837798c0e4",
   "metadata": {},
   "outputs": [
    {
     "name": "stdout",
     "output_type": "stream",
     "text": [
      "Result: False\n"
     ]
    }
   ],
   "source": [
    "# Example 3\n",
    "\n",
    "root = TreeNode(5, TreeNode(9, TreeNode(3), TreeNode(5)), TreeNode(1, TreeNode(7)))\n",
    "Solution().display(root)"
   ]
  },
  {
   "cell_type": "markdown",
   "id": "ad0774b8",
   "metadata": {},
   "source": [
    "**Idea:**  \n",
    "* Step1: Check whether root's value is even.\n",
    "* Step2: Apply BFS. If the layer number is even, check whether all the elements are odd; if the layer number is odd, check whether all the elements are even.\n",
    "* Step3: Reapeat until end of iteration. Return `True`.\n",
    "\n",
    "**Time Complexity:** $O(V + E)$  \n",
    "<img src=\"./Images/1609-4.png\" width=\"500\">"
   ]
  }
 ],
 "metadata": {
  "kernelspec": {
   "display_name": "Python 3 (ipykernel)",
   "language": "python",
   "name": "python3"
  },
  "language_info": {
   "codemirror_mode": {
    "name": "ipython",
    "version": 3
   },
   "file_extension": ".py",
   "mimetype": "text/x-python",
   "name": "python",
   "nbconvert_exporter": "python",
   "pygments_lexer": "ipython3",
   "version": "3.9.18"
  }
 },
 "nbformat": 4,
 "nbformat_minor": 5
}
