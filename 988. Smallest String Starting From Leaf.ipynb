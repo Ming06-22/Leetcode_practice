{
 "cells": [
  {
   "cell_type": "markdown",
   "id": "923ef13c",
   "metadata": {},
   "source": [
    "# 988. Smallest String Starting From Leaf"
   ]
  },
  {
   "cell_type": "markdown",
   "id": "4ec5950d",
   "metadata": {},
   "source": [
    "You are given the `root` of a binary tree where each node has a value in the range `[0, 25]` representing the letters `'a'` to `'z'`.\n",
    "\n",
    "Return the **lexicographically smallest** string that starts at a leaf of this tree and ends at the root.\n",
    "\n",
    "As a reminder, any shorter prefix of a string is **lexicographically smaller**.\n",
    "\n",
    "* For example, `\"ab\"` is lexicographically smaller than `\"aba\"`.\n",
    "A leaf of a node is a node that has no children.\n",
    "\n",
    "<https://leetcode.com/problems/smallest-string-starting-from-leaf/?envType=daily-question&envId=2024-04-17>\n",
    "\n",
    "**Constraint:**\n",
    "* The number of nodes in the tree is in the range `[1, 8500]`.\n",
    "* `0 <= Node.val <= 25`"
   ]
  },
  {
   "cell_type": "markdown",
   "id": "f8c3990c",
   "metadata": {},
   "source": [
    "Example 1:  \n",
    "\n",
    "<img src=\"./Images/988-1.png\" width=\"300\">\n",
    "\n",
    "> **Input:**: root = [0,1,2,3,4,3,4]  \n",
    "> **Output:** \"dba\""
   ]
  },
  {
   "cell_type": "markdown",
   "id": "619e6914",
   "metadata": {},
   "source": [
    "Example 2:  \n",
    "\n",
    "<img src=\"./Images/988-2.png\" width=\"300\">\n",
    "\n",
    "> **Input:**: root = [25,1,3,1,3,0,2]  \n",
    "> **Output:** \"adz\""
   ]
  },
  {
   "cell_type": "markdown",
   "id": "afca6793",
   "metadata": {},
   "source": [
    "Example 3:  \n",
    "\n",
    "<img src=\"./Images/988-3.png\" width=\"300\">\n",
    "\n",
    "> **Input:**: root = [2,2,1,null,1,0,null,0]  \n",
    "> **Output:** \"abc\""
   ]
  },
  {
   "cell_type": "code",
   "execution_count": 1,
   "id": "e3f59cde",
   "metadata": {},
   "outputs": [],
   "source": [
    "from typing import Optional\n",
    "\n",
    "class TreeNode:\n",
    "    def __init__(self, val = 0, left = None, right = None):\n",
    "        self.val = val\n",
    "        self.left = left\n",
    "        self.right = right\n",
    "\n",
    "class Solution:\n",
    "    def smallestFromLeaf(self, root: Optional[TreeNode]) -> str:\n",
    "        def dfs(node):\n",
    "            nonlocal record, result\n",
    "\n",
    "            record = chr(97 + node.val) + record\n",
    "            if node.left:\n",
    "                dfs(node.left)\n",
    "            if node.right:\n",
    "                dfs(node.right)\n",
    "\n",
    "            if not node.left and not node.right:\n",
    "                result = min(result, record)\n",
    "            record = record[1: ]\n",
    "\n",
    "        record, result = \"\", \"z\" * 8500\n",
    "        dfs(root)\n",
    "\n",
    "        return result\n",
    "    \n",
    "    def display(self, root: Optional[TreeNode]) -> None:\n",
    "        result = self.smallestFromLeaf(root)\n",
    "        print(f\"Result: {result}\")"
   ]
  },
  {
   "cell_type": "code",
   "execution_count": 2,
   "id": "ad284d0b",
   "metadata": {},
   "outputs": [
    {
     "name": "stdout",
     "output_type": "stream",
     "text": [
      "Result: dba\n"
     ]
    }
   ],
   "source": [
    "# Example 1\n",
    "\n",
    "root = TreeNode(0, TreeNode(1, TreeNode(3), TreeNode(4)), TreeNode(2, TreeNode(5), TreeNode(6)))\n",
    "Solution().display(root)"
   ]
  },
  {
   "cell_type": "code",
   "execution_count": 3,
   "id": "7b25046a",
   "metadata": {},
   "outputs": [
    {
     "name": "stdout",
     "output_type": "stream",
     "text": [
      "Result: adz\n"
     ]
    }
   ],
   "source": [
    "# Example 2\n",
    "\n",
    "root = TreeNode(25, TreeNode(1, TreeNode(1), TreeNode(3)), TreeNode(3, TreeNode(0), TreeNode(2)))\n",
    "Solution().display(root)"
   ]
  },
  {
   "cell_type": "code",
   "execution_count": 4,
   "id": "ffc2c66b",
   "metadata": {},
   "outputs": [
    {
     "name": "stdout",
     "output_type": "stream",
     "text": [
      "Result: abc\n"
     ]
    }
   ],
   "source": [
    "# Example 3\n",
    "\n",
    "root = TreeNode(2, TreeNode(2, None, TreeNode(1, TreeNode(0))), TreeNode(1, TreeNode(0)))\n",
    "Solution().display(root)"
   ]
  },
  {
   "cell_type": "markdown",
   "id": "ad0774b8",
   "metadata": {},
   "source": [
    "**Idea:**  \n",
    "* Step1: Apply DFS.\n",
    "* Step2: Add the current value into record, then expand.\n",
    "* Step3: Compare the record of leaf and result.\n",
    "\n",
    "**Time Complexity:** $O(n)$  \n",
    "<img src=\"./Images/988-4.png\" width=\"500\">"
   ]
  }
 ],
 "metadata": {
  "kernelspec": {
   "display_name": "Python 3 (ipykernel)",
   "language": "python",
   "name": "python3"
  },
  "language_info": {
   "codemirror_mode": {
    "name": "ipython",
    "version": 3
   },
   "file_extension": ".py",
   "mimetype": "text/x-python",
   "name": "python",
   "nbconvert_exporter": "python",
   "pygments_lexer": "ipython3",
   "version": "3.9.13"
  }
 },
 "nbformat": 4,
 "nbformat_minor": 5
}
