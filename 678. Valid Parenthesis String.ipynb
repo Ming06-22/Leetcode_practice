{
 "cells": [
  {
   "cell_type": "markdown",
   "id": "923ef13c",
   "metadata": {},
   "source": [
    "# 678. Valid Parenthesis String"
   ]
  },
  {
   "cell_type": "markdown",
   "id": "4ec5950d",
   "metadata": {},
   "source": [
    "Given a string `s` containing only three types of characters: `'('`, `')'` and `'*'`, return `true` if `s` is **valid**.\n",
    "\n",
    "The following rules define a **valid** string:\n",
    "\n",
    "* Any left parenthesis `'('` must have a corresponding right parenthesis `')'`.\n",
    "* Any right parenthesis `')'` must have a corresponding left parenthesis `'('`.\n",
    "* Left parenthesis `'('` must go before the corresponding right parenthesis `')'`.\n",
    "* `'*'` could be treated as a single right parenthesis `')'` or a single left parenthesis `'('` or an empty string `\"\"`.\n",
    "\n",
    "<https://leetcode.com/problems/valid-parenthesis-string/description/?envType=daily-question&envId=2024-04-07>\n",
    "\n",
    "**Constraint:**\n",
    "* `1 <= s.length <= 100`\n",
    "* `s[i]` is `'('`, `')'` or `'*'`."
   ]
  },
  {
   "cell_type": "markdown",
   "id": "f8c3990c",
   "metadata": {},
   "source": [
    "Example 1:  \n",
    "> **Input:**: s = \"()\"  \n",
    "> **Output:** true"
   ]
  },
  {
   "cell_type": "markdown",
   "id": "e369e887",
   "metadata": {},
   "source": [
    "Example 2:  \n",
    "> **Input:**: s = \"(*)\"  \n",
    "> **Output:** true"
   ]
  },
  {
   "cell_type": "markdown",
   "id": "15ecb48c",
   "metadata": {},
   "source": [
    "Example 3:  \n",
    "> **Input:**: s = \"(*))\"  \n",
    "> **Output:** true"
   ]
  },
  {
   "cell_type": "code",
   "execution_count": 1,
   "id": "e3f59cde",
   "metadata": {},
   "outputs": [],
   "source": [
    "class Solution:\n",
    "    def checkValidString(self, s: str) -> bool:\n",
    "        l = r = 0\n",
    "        for c in s:\n",
    "            if c == \"(\":\n",
    "                l += 1\n",
    "                r += 1\n",
    "            elif c == \")\":\n",
    "                l -= 1\n",
    "                r -= 1\n",
    "            else:\n",
    "                l -= 1\n",
    "                r += 1\n",
    "            \n",
    "            if r < 0:\n",
    "                return False\n",
    "            if l < 0:\n",
    "                l = 0\n",
    "        \n",
    "        return l == 0\n",
    "    \n",
    "    def display(self, s: str) -> None:\n",
    "        result = self.checkValidString(s)\n",
    "        print(f\"Result: {result}\")"
   ]
  },
  {
   "cell_type": "code",
   "execution_count": 2,
   "id": "ad284d0b",
   "metadata": {},
   "outputs": [
    {
     "name": "stdout",
     "output_type": "stream",
     "text": [
      "Result: True\n"
     ]
    }
   ],
   "source": [
    "# Example 1\n",
    "\n",
    "s = \"()\"\n",
    "Solution().display(s)"
   ]
  },
  {
   "cell_type": "code",
   "execution_count": 3,
   "id": "bef4aca8",
   "metadata": {},
   "outputs": [
    {
     "name": "stdout",
     "output_type": "stream",
     "text": [
      "Result: True\n"
     ]
    }
   ],
   "source": [
    "# Example 2\n",
    "\n",
    "s = \"(*)\"\n",
    "Solution().display(s)"
   ]
  },
  {
   "cell_type": "code",
   "execution_count": 4,
   "id": "7eed595d",
   "metadata": {},
   "outputs": [
    {
     "name": "stdout",
     "output_type": "stream",
     "text": [
      "Result: True\n"
     ]
    }
   ],
   "source": [
    "# Example 3\n",
    "\n",
    "s = \"(*))\"\n",
    "Solution().display(s)"
   ]
  },
  {
   "cell_type": "markdown",
   "id": "ad0774b8",
   "metadata": {},
   "source": [
    "**Idea:**  \n",
    "* Step1: Initialize two variables to record upper limit and lower limit.\n",
    "* Step2: If the upper limit is smaller than `0`, return `False`.\n",
    "* Step3: Check whether the lower limit is equal to `0`.\n",
    "\n",
    "**Time Complexity:** $O(n)$  \n",
    "<img src=\"./Images/678-1.png\" width=\"500\">"
   ]
  }
 ],
 "metadata": {
  "kernelspec": {
   "display_name": "Python 3 (ipykernel)",
   "language": "python",
   "name": "python3"
  },
  "language_info": {
   "codemirror_mode": {
    "name": "ipython",
    "version": 3
   },
   "file_extension": ".py",
   "mimetype": "text/x-python",
   "name": "python",
   "nbconvert_exporter": "python",
   "pygments_lexer": "ipython3",
   "version": "3.9.13"
  }
 },
 "nbformat": 4,
 "nbformat_minor": 5
}
