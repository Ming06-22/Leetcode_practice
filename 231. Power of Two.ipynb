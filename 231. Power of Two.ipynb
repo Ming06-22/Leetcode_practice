{
 "cells": [
  {
   "cell_type": "markdown",
   "id": "923ef13c",
   "metadata": {},
   "source": [
    "# 231. Power of Two"
   ]
  },
  {
   "cell_type": "markdown",
   "id": "4ec5950d",
   "metadata": {},
   "source": [
    "Given an integer `n`, return `true` if it is a power of two. Otherwise, return `false`.\n",
    "\n",
    "An integer `n` is a power of two, if there exists an integer `x` such that <code>n == 2<sup>x</sup></code>.\n",
    "\n",
    "<https://leetcode.com/problems/power-of-two/description/?envType=daily-question&envId=2024-02-19>\n",
    "\n",
    "**Constraint:**\n",
    "* <code>-2<sup>31</sup> <= n <= 2<sup>31</sup> - 1</code>"
   ]
  },
  {
   "cell_type": "markdown",
   "id": "f8c3990c",
   "metadata": {},
   "source": [
    "Example 1:  \n",
    "> **Input:** n = 1  \n",
    "> **Output:** true  \n",
    "> **Explanation:** 2<sup>0</sup> = 1"
   ]
  },
  {
   "cell_type": "markdown",
   "id": "4dd2068e",
   "metadata": {},
   "source": [
    "Example 2:  \n",
    "> **Input:** n = 16  \n",
    "> **Output:** true  \n",
    "> **Explanation:** 2<sup>4</sup> = 16"
   ]
  },
  {
   "cell_type": "markdown",
   "id": "37999de4",
   "metadata": {},
   "source": [
    "Example 3:  \n",
    "> **Input:** n = 3  \n",
    "> **Output:** false  "
   ]
  },
  {
   "cell_type": "code",
   "execution_count": 1,
   "id": "e3f59cde",
   "metadata": {},
   "outputs": [],
   "source": [
    "class Solution:\n",
    "    def isPowerOfTwo(self, n: int) -> bool:\n",
    "        return n > 0 and n & (n - 1) == 0\n",
    "    \n",
    "    def display(self, n: int) -> None:\n",
    "        result = self.isPowerOfTwo(n = n)\n",
    "        print(f\"Result: {result}\")"
   ]
  },
  {
   "cell_type": "code",
   "execution_count": 2,
   "id": "ad284d0b",
   "metadata": {},
   "outputs": [
    {
     "name": "stdout",
     "output_type": "stream",
     "text": [
      "Result: True\n"
     ]
    }
   ],
   "source": [
    "# Example 1\n",
    "\n",
    "n = 1\n",
    "Solution().display(n = n)"
   ]
  },
  {
   "cell_type": "code",
   "execution_count": 3,
   "id": "6c63b97d",
   "metadata": {},
   "outputs": [
    {
     "name": "stdout",
     "output_type": "stream",
     "text": [
      "Result: True\n"
     ]
    }
   ],
   "source": [
    "# Example 2\n",
    "\n",
    "n = 16\n",
    "Solution().display(n = n)"
   ]
  },
  {
   "cell_type": "code",
   "execution_count": 4,
   "id": "8dbf43e9",
   "metadata": {},
   "outputs": [
    {
     "name": "stdout",
     "output_type": "stream",
     "text": [
      "Result: False\n"
     ]
    }
   ],
   "source": [
    "# Example 3\n",
    "\n",
    "n = 3\n",
    "Solution().display(n = n)"
   ]
  },
  {
   "cell_type": "markdown",
   "id": "ad0774b8",
   "metadata": {},
   "source": [
    "**Idea:**  \n",
    "* Step1: Check whether `n` is larger than 0.\n",
    "* Step2: If `n & (n - 1) = 0`, then return True. If `n` is the power of 2, it's binary expression will be `100000...` and `n - 1` will be `011111...`.\n",
    "\n",
    "**Time Complexity:** $O(1)$  \n",
    "<img src=\"./Images/231-1.png\" width=\"500\">"
   ]
  }
 ],
 "metadata": {
  "kernelspec": {
   "display_name": "Python 3 (ipykernel)",
   "language": "python",
   "name": "python3"
  },
  "language_info": {
   "codemirror_mode": {
    "name": "ipython",
    "version": 3
   },
   "file_extension": ".py",
   "mimetype": "text/x-python",
   "name": "python",
   "nbconvert_exporter": "python",
   "pygments_lexer": "ipython3",
   "version": "3.9.13"
  }
 },
 "nbformat": 4,
 "nbformat_minor": 5
}
