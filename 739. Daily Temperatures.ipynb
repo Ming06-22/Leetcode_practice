{
 "cells": [
  {
   "cell_type": "markdown",
   "id": "923ef13c",
   "metadata": {},
   "source": [
    "# 739. Daily Temperatures"
   ]
  },
  {
   "cell_type": "markdown",
   "id": "4ec5950d",
   "metadata": {},
   "source": [
    "Given an array of integers `temperatures` represents the daily temperatures, return an array `answer` such that `answer[i]` is the number of days you have to wait after the `ith` day to get a warmer temperature. If there is no future day for which this is possible, keep `answer[i] == 0` instead.\n",
    "\n",
    "**Constraint:**\n",
    "* `1 <= temperatures.length <= 105`\n",
    "* `30 <= temperatures[i] <= 100`\n",
    "\n",
    "<https://leetcode.com/problems/daily-temperatures/description/?envType=daily-question&envId=2024-01-31>"
   ]
  },
  {
   "cell_type": "markdown",
   "id": "f8c3990c",
   "metadata": {},
   "source": [
    "Example 1:  \n",
    "> Input: temperatures = [73,74,75,71,69,72,76,73]  \n",
    "> Output: [1,1,4,2,1,1,0,0]  "
   ]
  },
  {
   "cell_type": "markdown",
   "id": "3d4d70bb",
   "metadata": {},
   "source": [
    "Example 2:  \n",
    "> Input: temperatures = [30,40,50,60]  \n",
    "> Output: [1,1,1,0]  "
   ]
  },
  {
   "cell_type": "markdown",
   "id": "8ade3972",
   "metadata": {},
   "source": [
    "Example 3:  \n",
    "> Input: temperatures = [30,60,90]  \n",
    "> Output: [1,1,0]  "
   ]
  },
  {
   "cell_type": "code",
   "execution_count": 3,
   "id": "e3f59cde",
   "metadata": {},
   "outputs": [],
   "source": [
    "from typing import List\n",
    "\n",
    "class Solution:\n",
    "    def dailyTemperatures(self, temperatures: List[int]) -> List[int]:\n",
    "        stack = []\n",
    "        result = [0] * len(temperatures)\n",
    "        \n",
    "        for i, t in enumerate(temperatures):\n",
    "            while stack and t > stack[-1][1]:\n",
    "                temp = stack.pop()\n",
    "                result[temp[0]] = (i - temp[0])\n",
    "            stack.append([i, t])\n",
    "        \n",
    "        return result\n",
    "    \n",
    "    def display(self, temperatures: List[int]) -> None:\n",
    "        result = self.dailyTemperatures(temperatures = temperatures)\n",
    "        print(f\"Result: {result}\")"
   ]
  },
  {
   "cell_type": "code",
   "execution_count": 4,
   "id": "ad284d0b",
   "metadata": {},
   "outputs": [
    {
     "name": "stdout",
     "output_type": "stream",
     "text": [
      "Result: [1, 1, 4, 2, 1, 1, 0, 0]\n"
     ]
    }
   ],
   "source": [
    "# Example 1\n",
    "\n",
    "temperatures = [73,74,75,71,69,72,76,73]\n",
    "Solution().display(temperatures = temperatures)"
   ]
  },
  {
   "cell_type": "code",
   "execution_count": 5,
   "id": "ab453f39",
   "metadata": {},
   "outputs": [
    {
     "name": "stdout",
     "output_type": "stream",
     "text": [
      "Result: [1, 1, 1, 0]\n"
     ]
    }
   ],
   "source": [
    "# Example 2\n",
    "\n",
    "temperatures = [30,40,50,60]\n",
    "Solution().display(temperatures = temperatures)"
   ]
  },
  {
   "cell_type": "code",
   "execution_count": 6,
   "id": "a239aae9",
   "metadata": {},
   "outputs": [
    {
     "name": "stdout",
     "output_type": "stream",
     "text": [
      "Result: [1, 1, 0]\n"
     ]
    }
   ],
   "source": [
    "# Example 3\n",
    "\n",
    "temperatures = [30,60,90]\n",
    "Solution().display(temperatures = temperatures)"
   ]
  },
  {
   "cell_type": "markdown",
   "id": "ad0774b8",
   "metadata": {},
   "source": [
    "**Idea:**  \n",
    "* Step1: Construct a stack and initial the result to zero.\n",
    "* Step2: Iterate `temperatures`.\n",
    "* Step3: Iterate stack to check whether current temperature is higher than before, and append current temperature to the stack.\n",
    "\n",
    "**Time Complexity:** $O(n^2)$\n",
    "<img src=\"./Images/739-1.png\" width=\"500\">"
   ]
  }
 ],
 "metadata": {
  "kernelspec": {
   "display_name": "Python 3 (ipykernel)",
   "language": "python",
   "name": "python3"
  },
  "language_info": {
   "codemirror_mode": {
    "name": "ipython",
    "version": 3
   },
   "file_extension": ".py",
   "mimetype": "text/x-python",
   "name": "python",
   "nbconvert_exporter": "python",
   "pygments_lexer": "ipython3",
   "version": "3.9.13"
  }
 },
 "nbformat": 4,
 "nbformat_minor": 5
}
