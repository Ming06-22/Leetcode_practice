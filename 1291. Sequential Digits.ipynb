{
 "cells": [
  {
   "cell_type": "markdown",
   "id": "923ef13c",
   "metadata": {},
   "source": [
    "# 1291. Sequential Digits"
   ]
  },
  {
   "cell_type": "markdown",
   "id": "4ec5950d",
   "metadata": {},
   "source": [
    "An integer has sequential digits if and only if each digit in the number is one more than the previous digit.\n",
    "\n",
    "Return a **sorted** list of all the integers in the range `[low, high]` inclusive that have sequential digits.\n",
    "\n",
    "<https://leetcode.com/problems/sequential-digits/?envType=daily-question&envId=2024-02-02>\n",
    "\n",
    "**Constraint:**\n",
    "* `10 <= low <= high <= 10^9`"
   ]
  },
  {
   "cell_type": "markdown",
   "id": "f8c3990c",
   "metadata": {},
   "source": [
    "Example 1:  \n",
    "> Input: low = 100, high = 300  \n",
    "> Output: [123,234]  "
   ]
  },
  {
   "cell_type": "markdown",
   "id": "ae7cd898",
   "metadata": {},
   "source": [
    "Example 2:  \n",
    "> Input: low = 1000, high = 13000  \n",
    "> Output: [1234,2345,3456,4567,5678,6789,12345]  "
   ]
  },
  {
   "cell_type": "code",
   "execution_count": 1,
   "id": "e3f59cde",
   "metadata": {},
   "outputs": [],
   "source": [
    "from typing import List\n",
    "\n",
    "class Solution:\n",
    "    def sequentialDigits(self, low: int, high: int) -> List[int]:\n",
    "        result = []\n",
    "        for i in range(1, 10):\n",
    "            num = str(i)\n",
    "            temp = i + 1\n",
    "            while len(num) < len(str(low)) and temp < 10:\n",
    "                num += str(temp)\n",
    "                temp += 1\n",
    "\n",
    "            while int(num) <= high and temp <= 10:\n",
    "                if low <= int(num) <= high:\n",
    "                    result.append(int(num))\n",
    "                num += str(temp)\n",
    "                temp += 1\n",
    "\n",
    "        return sorted(result)\n",
    "    \n",
    "    def display(self, low: int, high: int) -> None:\n",
    "        result = self.sequentialDigits(low = low, high = high)\n",
    "        print(f\"Result: {result}\")"
   ]
  },
  {
   "cell_type": "code",
   "execution_count": 2,
   "id": "5296256d",
   "metadata": {},
   "outputs": [
    {
     "name": "stdout",
     "output_type": "stream",
     "text": [
      "Result: [123, 234]\n"
     ]
    }
   ],
   "source": [
    "# Example 1\n",
    "\n",
    "low, high = 100, 300\n",
    "Solution().display(low = low, high = high)"
   ]
  },
  {
   "cell_type": "code",
   "execution_count": 3,
   "id": "2bae74eb",
   "metadata": {},
   "outputs": [
    {
     "name": "stdout",
     "output_type": "stream",
     "text": [
      "Result: [1234, 2345, 3456, 4567, 5678, 6789, 12345]\n"
     ]
    }
   ],
   "source": [
    "# Example 2\n",
    "\n",
    "low, high = 1000, 13000\n",
    "Solution().display(low = low, high = high)"
   ]
  },
  {
   "cell_type": "markdown",
   "id": "ad0774b8",
   "metadata": {},
   "source": [
    "**Idea:**  \n",
    "* Step1: Use a loop to initialize the start of the number.\n",
    "* Step2: Increase the length of number until it's as long as the length of `low`.\n",
    "* Step3: Increase the number gradually and check whether it's in the range `[low, high]`. If it is, then add to result.\n",
    "* Step4: Return the sorted result.\n",
    "\n",
    "**Time Complexity:** $O(1)$  \n",
    "<img src=\"./Images/1291-1.png\" width=\"500\">"
   ]
  }
 ],
 "metadata": {
  "kernelspec": {
   "display_name": "Python 3 (ipykernel)",
   "language": "python",
   "name": "python3"
  },
  "language_info": {
   "codemirror_mode": {
    "name": "ipython",
    "version": 3
   },
   "file_extension": ".py",
   "mimetype": "text/x-python",
   "name": "python",
   "nbconvert_exporter": "python",
   "pygments_lexer": "ipython3",
   "version": "3.9.13"
  }
 },
 "nbformat": 4,
 "nbformat_minor": 5
}
