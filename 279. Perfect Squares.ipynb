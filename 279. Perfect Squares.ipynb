{
 "cells": [
  {
   "cell_type": "markdown",
   "id": "923ef13c",
   "metadata": {},
   "source": [
    "# 279. Perfect Squares"
   ]
  },
  {
   "cell_type": "markdown",
   "id": "4ec5950d",
   "metadata": {},
   "source": [
    "Given an integer `n`, return the least number of perfect square numbers that sum to `n`.\n",
    "\n",
    "A **perfect square** is an integer that is the square of an integer; in other words, it is the product of some integer with itself. For example, `1`, `4`, `9`, and `16` are perfect squares while `3` and `11` are not.\n",
    "\n",
    "<https://leetcode.com/problems/perfect-squares/description/?envType=daily-question&envId=2024-02-08>\n",
    "\n",
    "**Constraint:**\n",
    "* <code>1 <= n <= 10<sup>4</sup></code>"
   ]
  },
  {
   "cell_type": "markdown",
   "id": "f8c3990c",
   "metadata": {},
   "source": [
    "Example 1:  \n",
    "> **Input:** n = 12  \n",
    "> **Output:** 3  \n",
    "> **Explanation:** 12 = 4 + 4 + 4"
   ]
  },
  {
   "cell_type": "markdown",
   "id": "f70c32bd",
   "metadata": {},
   "source": [
    "Example 2:\n",
    "> **Input:** n = 13  \n",
    "> **Output:** 2  \n",
    "> **Explanation:** 13 = 4 + 9  "
   ]
  },
  {
   "cell_type": "code",
   "execution_count": 1,
   "id": "e3f59cde",
   "metadata": {},
   "outputs": [],
   "source": [
    "import math\n",
    "\n",
    "class Solution:\n",
    "    def numSquares(self, n: int) -> int:\n",
    "        def backtrack(i, target, currLen, minLen):\n",
    "            if target == 0:\n",
    "                return min(minLen, currLen)\n",
    "            \n",
    "            if i < 1 or currLen >= minLen:\n",
    "                return minLen\n",
    "\n",
    "            if i**2 <= target:\n",
    "                minLen = backtrack(i, target - i**2, currLen + 1, minLen)\n",
    "      \n",
    "            minLen = backtrack(i - 1, target, currLen, minLen)\n",
    "\n",
    "            return minLen\n",
    "\n",
    "        return backtrack(int(n ** (0.5)), n, 0, math.inf)\n",
    "    \n",
    "    def display(self, n: int) -> None:\n",
    "        result = self.numSquares(n = n)\n",
    "        print(f\"Result: {result}\")"
   ]
  },
  {
   "cell_type": "code",
   "execution_count": 2,
   "id": "ad284d0b",
   "metadata": {},
   "outputs": [
    {
     "name": "stdout",
     "output_type": "stream",
     "text": [
      "Result: 3\n"
     ]
    }
   ],
   "source": [
    "# Example 1\n",
    "\n",
    "n = 12\n",
    "Solution().display(n = n)"
   ]
  },
  {
   "cell_type": "code",
   "execution_count": 3,
   "id": "4d215785",
   "metadata": {},
   "outputs": [
    {
     "name": "stdout",
     "output_type": "stream",
     "text": [
      "Result: 2\n"
     ]
    }
   ],
   "source": [
    "# Example 2\n",
    "\n",
    "n = 13\n",
    "Solution().display(n = n)"
   ]
  },
  {
   "cell_type": "markdown",
   "id": "ad0774b8",
   "metadata": {},
   "source": [
    "**Idea:**  \n",
    "* Step1: If the target become 0, return the minimum length.\n",
    "* Step2: If the current length larger than minimum length or `i < 1`, terminate the thread.\n",
    "* Step3: If <code>i<sup>2</sup> <= target</code>, construct a fork to minus target by <code>i<sup>2</sup></code>\n",
    "\n",
    "**Time Complexity:** $O(n\\sqrt{n})$  \n",
    "<img src=\"./Images/279-1.png\" width=\"500\">"
   ]
  }
 ],
 "metadata": {
  "kernelspec": {
   "display_name": "Python 3 (ipykernel)",
   "language": "python",
   "name": "python3"
  },
  "language_info": {
   "codemirror_mode": {
    "name": "ipython",
    "version": 3
   },
   "file_extension": ".py",
   "mimetype": "text/x-python",
   "name": "python",
   "nbconvert_exporter": "python",
   "pygments_lexer": "ipython3",
   "version": "3.9.13"
  }
 },
 "nbformat": 4,
 "nbformat_minor": 5
}
