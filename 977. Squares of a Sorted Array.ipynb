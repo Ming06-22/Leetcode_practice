{
 "cells": [
  {
   "cell_type": "markdown",
   "id": "923ef13c",
   "metadata": {},
   "source": [
    "# 977. Squares of a Sorted Array"
   ]
  },
  {
   "cell_type": "markdown",
   "id": "4ec5950d",
   "metadata": {},
   "source": [
    "Given an integer array `nums` sorted in **non-decreasing** order, return an array of **the squares of each number** sorted in non-decreasing order.\n",
    "\n",
    "<https://leetcode.com/problems/squares-of-a-sorted-array/description/?envType=daily-question&envId=2024-03-02>\n",
    "\n",
    "**Constraint:**\n",
    "* <code>1 <= nums.length <= 10<sup>4</sup></code>\n",
    "* <code>-10<sup>4</sup> <= nums[i] <= 10<sup>4</sup></code>\n",
    "* `nums` is sorted in **non-decreasing** order."
   ]
  },
  {
   "cell_type": "markdown",
   "id": "f8c3990c",
   "metadata": {},
   "source": [
    "Example 1:  \n",
    "> **Input:** nums = [-4,-1,0,3,10]  \n",
    "> **Output:** [0,1,9,16,100]  \n",
    "> **Explanation:** After squaring, the array becomes [16,1,0,9,100].  \n",
    "After sorting, it becomes [0,1,9,16,100]."
   ]
  },
  {
   "cell_type": "markdown",
   "id": "add3c258-802d-4df8-978c-eb6c30fb1a75",
   "metadata": {},
   "source": [
    "Example 2:  \n",
    "> **Input:** nums = [-7,-3,2,3,11]  \n",
    "> **Output:** [4,9,9,49,121]  "
   ]
  },
  {
   "cell_type": "code",
   "execution_count": 1,
   "id": "e3f59cde",
   "metadata": {},
   "outputs": [],
   "source": [
    "from typing import List\n",
    "\n",
    "class Solution:\n",
    "    def sortedSquares(self, nums: List[int]) -> List[int]:\n",
    "        return sorted([n**2 for n in nums])\n",
    "\n",
    "    def display(self, nums: List[int]) -> None:\n",
    "        result = self.sortedSquares(nums)\n",
    "        print(f\"Result: {result}\")"
   ]
  },
  {
   "cell_type": "code",
   "execution_count": 2,
   "id": "ad284d0b",
   "metadata": {},
   "outputs": [
    {
     "name": "stdout",
     "output_type": "stream",
     "text": [
      "Result: [0, 1, 9, 16, 100]\n"
     ]
    }
   ],
   "source": [
    "# Example 1\n",
    "\n",
    "nums = [-4, -1, 0, 3, 10]\n",
    "Solution().display(nums)"
   ]
  },
  {
   "cell_type": "code",
   "execution_count": 3,
   "id": "493fc0eb-0c08-4ce0-a0ba-8f2bfe72acda",
   "metadata": {},
   "outputs": [
    {
     "name": "stdout",
     "output_type": "stream",
     "text": [
      "Result: [4, 9, 9, 49, 121]\n"
     ]
    }
   ],
   "source": [
    "# Example 2\n",
    "\n",
    "nums = [-7, -3, 2, 3, 11]\n",
    "Solution().display(nums)"
   ]
  },
  {
   "cell_type": "markdown",
   "id": "ad0774b8",
   "metadata": {},
   "source": [
    "**Idea:**  \n",
    "* Step1: Square all the numbers in the input array.\n",
    "* Step2: Return sorted result.\n",
    "\n",
    "**Time Complexity:** $O(nlogn)$  \n",
    "<img src=\"./Images/977-1.png\" width=\"500\">"
   ]
  }
 ],
 "metadata": {
  "kernelspec": {
   "display_name": "Python 3 (ipykernel)",
   "language": "python",
   "name": "python3"
  },
  "language_info": {
   "codemirror_mode": {
    "name": "ipython",
    "version": 3
   },
   "file_extension": ".py",
   "mimetype": "text/x-python",
   "name": "python",
   "nbconvert_exporter": "python",
   "pygments_lexer": "ipython3",
   "version": "3.9.18"
  }
 },
 "nbformat": 4,
 "nbformat_minor": 5
}
