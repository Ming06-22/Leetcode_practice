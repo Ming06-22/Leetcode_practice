{
 "cells": [
  {
   "cell_type": "markdown",
   "id": "2b77edb3",
   "metadata": {},
   "source": [
    "## 232. Implement Queue using Stacks"
   ]
  },
  {
   "cell_type": "markdown",
   "id": "484cd186",
   "metadata": {},
   "source": [
    "Implement a first in first out (FIFO) queue using only two stacks. The implemented queue should support all the functions of a normal queue (`push`, `peek`, `pop`, and `empty`).\n",
    "\n",
    "Implement the `MyQueue` class:\n",
    "\n",
    "* `void push(int x)` Pushes element x to the back of the queue.\n",
    "* `int pop()` Removes the element from the front of the queue and returns it.\n",
    "* `int peek()` Returns the element at the front of the queue.\n",
    "* `boolean empty()` Returns `true` if the queue is empty, `false` otherwise.\n",
    "\n",
    "\n",
    "**Notes:**\n",
    "\n",
    "* You must use **only** standard operations of a stack, which means only `push to top`, `peek/pop from top`, `size`, and `is empty` operations are valid.\n",
    "* Depending on your language, the stack may not be supported natively. You may simulate a stack using a list or deque (double-ended queue) as long as you use only a stack's standard operations.\n",
    "\n",
    "<https://leetcode.com/problems/implement-queue-using-stacks/description/?envType=daily-question&envId=2024-01-29>"
   ]
  },
  {
   "cell_type": "markdown",
   "id": "e534a127",
   "metadata": {},
   "source": [
    "**Constraint:**  \n",
    "* `1 <= x <= 9`\n",
    "* At most `100` calls will be made to `push`, `pop`, `peek`, and `empty`.\n",
    "* All the calls to `pop` and `peek` are valid."
   ]
  },
  {
   "cell_type": "markdown",
   "id": "98a2ff5c",
   "metadata": {},
   "source": [
    "Example 1:  \n",
    "> Input  \n",
    "> [\"MyQueue\", \"push\", \"push\", \"peek\", \"pop\", \"empty\"]  \n",
    "> [[], [1], [2], [], [], []]  \n",
    "\n",
    "> Output  \n",
    "> [null, null, null, 1, 1, false]  \n",
    "\n",
    "> Explanation  \n",
    "> MyQueue myQueue = new MyQueue();  \n",
    "> myQueue.push(1); // queue is: [1]  \n",
    "> myQueue.push(2); // queue is: [1, 2] (leftmost is front of the queue)  \n",
    "> myQueue.peek(); // return 1  \n",
    "> myQueue.pop(); // return 1, queue is [2]  \n",
    "> myQueue.empty(); // return false  "
   ]
  },
  {
   "cell_type": "code",
   "execution_count": 1,
   "id": "55567cc5",
   "metadata": {},
   "outputs": [],
   "source": [
    "class MyQueue:\n",
    "    def __init__(self):\n",
    "        self.stack1, self.stack2 = [], []\n",
    "\n",
    "    def push(self, x: int) -> None:\n",
    "        while self.stack1:\n",
    "            self.stack2.append(self.stack1.pop(-1))\n",
    "        self.stack1.append(x)\n",
    "        while self.stack2:\n",
    "            self.stack1.append(self.stack2.pop(-1))\n",
    "\n",
    "    def pop(self) -> int:\n",
    "        return self.stack1.pop(-1)\n",
    "\n",
    "    def peek(self) -> int:\n",
    "        return self.stack1[-1]\n",
    "\n",
    "    def empty(self) -> bool:\n",
    "        return len(self.stack1) == 0\n",
    "\n",
    "# Your MyQueue object will be instantiated and called as such:\n",
    "# obj = MyQueue()\n",
    "# obj.push(x)\n",
    "# param_2 = obj.pop()\n",
    "# param_3 = obj.peek()\n",
    "# param_4 = obj.empty()"
   ]
  },
  {
   "cell_type": "code",
   "execution_count": 2,
   "id": "0ba833f8",
   "metadata": {},
   "outputs": [
    {
     "name": "stdout",
     "output_type": "stream",
     "text": [
      "Original queue: []\n",
      "Queue after push(1): [1]\n",
      "Queue after psuh(2): [1, 2]\n",
      "Result of peek(): 1, queue: [1, 2]\n",
      "Result of pop(): 1, queue: [2]\n",
      "Result of empty(): False, queue: [2]\n"
     ]
    }
   ],
   "source": [
    "myQueue = MyQueue()\n",
    "print(f\"Original queue: {myQueue.queue}\")\n",
    "myQueue.push(1)\n",
    "print(f\"Queue after push(1): {myQueue.queue}\")\n",
    "myQueue.push(2)\n",
    "print(f\"Queue after psuh(2): {myQueue.queue}\")\n",
    "print(f\"Result of peek(): {myQueue.peek()}, queue: {myQueue.queue}\")\n",
    "print(f\"Result of pop(): {myQueue.pop()}, queue: {myQueue.queue}\")\n",
    "print(f\"Result of empty(): {myQueue.empty()}, queue: {myQueue.queue}\")"
   ]
  },
  {
   "cell_type": "markdown",
   "id": "01dc1d74",
   "metadata": {},
   "source": [
    "**Idea:**  \n",
    "* initialize: construct two list to store elements\n",
    "* push: move all the elements in stack1 into stack2, put the new element into stack1, move all the elements in stack2 back to stack1. \n",
    "* pop: remove and return the last element of the list\n",
    "* peek: return the last element of the list\n",
    "* empty: return whether the length of the list equal to 0\n",
    "\n",
    "**Time Coplexity:**  \n",
    "* push: $O(n)$  \n",
    "* pop: $O(1)$  \n",
    "* peek: $O(1)$  \n",
    "* empty: $O(1)$  \n",
    "<img src=\"./Images/232-1.png\" width=\"500\">"
   ]
  }
 ],
 "metadata": {
  "kernelspec": {
   "display_name": "Python 3 (ipykernel)",
   "language": "python",
   "name": "python3"
  },
  "language_info": {
   "codemirror_mode": {
    "name": "ipython",
    "version": 3
   },
   "file_extension": ".py",
   "mimetype": "text/x-python",
   "name": "python",
   "nbconvert_exporter": "python",
   "pygments_lexer": "ipython3",
   "version": "3.9.13"
  }
 },
 "nbformat": 4,
 "nbformat_minor": 5
}
