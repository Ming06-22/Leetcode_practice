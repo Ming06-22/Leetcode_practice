{
 "cells": [
  {
   "cell_type": "markdown",
   "id": "923ef13c",
   "metadata": {},
   "source": [
    "# 2092. Find All People With Secret"
   ]
  },
  {
   "cell_type": "markdown",
   "id": "4ec5950d",
   "metadata": {},
   "source": [
    "You are given an integer `n` indicating there are `n` people numbered from `0` to `n - 1`. You are also given a **0-indexed** 2D integer array `meetings` where <code>meetings[i] = [x<sub>i</sub>, y<sub>i</sub>, time<sub>i</sub>]</code> indicates that person <code>x<sub>i</sub></code> and person <code>y<sub>i</sub></code> have a meeting at <code>time<sub>i</sub></code>. A person may attend **multiple meetings** at the same time. Finally, you are given an integer `firstPerson`.\n",
    "\n",
    "Person `0` has a **secret** and initially shares the secret with a person `firstPerson` at time `0`. This secret is then shared every time a meeting takes place with a person that has the secret. More formally, for every meeting, if a person <code>x<sub>i</sub></code> has the secret at <code>time<sub>i</sub></code>, then they will share the secret with person <code>y<sub>i</sub></code>, and vice versa.\n",
    "\n",
    "The secrets are shared **instantaneously**. That is, a person may receive the secret and share it with people in other meetings within the same time frame.\n",
    "\n",
    "Return a list of all the people that have the secret after all the meetings have taken place. You may return the answer in **any order**.\n",
    "\n",
    "<https://leetcode.com/problems/find-all-people-with-secret/description/?envType=daily-question&envId=2024-02-24>\n",
    "\n",
    "**Constraint:**\n",
    "* <code>2 <= n <= 10<sup>5</sup></code>\n",
    "* <code>1 <= meetings.length <= 10<sup>5</sup></code>\n",
    "* `meetings[i].length == 3`\n",
    "* <code>0 <= x<sub>i</sub>, y<sub>i</sub> <= n - 1</code>\n",
    "* <code>x<sub>i</sub> != y<sub>i</sub></code>\n",
    "* <code>1 <= time<sub>i</sub> <= 10<sub>5</sub></code>\n",
    "* `1 <= firstPerson <= n - 1`"
   ]
  },
  {
   "cell_type": "markdown",
   "id": "f8c3990c",
   "metadata": {},
   "source": [
    "Example 1:  \n",
    "> **Input:** n = 6, meetings = [[1,2,5],[2,3,8],[1,5,10]], firstPerson = 1  \n",
    "> **Output:** [0,1,2,3,5]  \n",
    "> **Explanation:**  \n",
    "At time 0, person 0 shares the secret with person 1.  \n",
    "At time 5, person 1 shares the secret with person 2.  \n",
    "At time 8, person 2 shares the secret with person 3.  \n",
    "At time 10, person 1 shares the secret with person 5.​​​​  \n",
    "Thus, people 0, 1, 2, 3, and 5 know the secret after all the meetings."
   ]
  },
  {
   "cell_type": "markdown",
   "id": "facb7b98-e995-44b9-bc84-54d40ef0981e",
   "metadata": {},
   "source": [
    "Example 2:  \n",
    "> **Input:** n = 4, meetings = [[3,1,3],[1,2,2],[0,3,3]], firstPerson = 3  \n",
    "> **Output:** [0,1,3]  \n",
    "> **Explanation:**  \n",
    "At time 0, person 0 shares the secret with person 3.  \n",
    "At time 2, neither person 1 nor person 2 know the secret.  \n",
    "At time 3, person 3 shares the secret with person 0 and person 1.  \n",
    "Thus, people 0, 1, and 3 know the secret after all the meetings."
   ]
  },
  {
   "cell_type": "markdown",
   "id": "89f95e4c-50ef-45c3-bf6c-4101ade39b2d",
   "metadata": {},
   "source": [
    "Example 3:  \n",
    "> **Input:** n = 5, meetings = [[3,4,2],[1,2,1],[2,3,1]], firstPerson = 1  \n",
    "> **Output:** [0,1,2,3,4]  \n",
    "> **Explanation:**  \n",
    "At time 0, person 0 shares the secret with person 1.  \n",
    "At time 1, person 1 shares the secret with person 2, and person 2 shares the secret with person 3.  \n",
    "Note that person 2 can share the secret at the same time as receiving it.  \n",
    "At time 2, person 3 shares the secret with person 4.  \n",
    "Thus, people 0, 1, 2, 3, and 4 know the secret after all the meetings.  "
   ]
  },
  {
   "cell_type": "code",
   "execution_count": 1,
   "id": "e3f59cde",
   "metadata": {},
   "outputs": [],
   "source": [
    "from typing import List\n",
    "from collections import defaultdict\n",
    "import heapq\n",
    "\n",
    "class Solution:\n",
    "    def findAllPeople(self, n: int, meetings: List[List[int]], firstPerson: int) -> List[int]:\n",
    "        graph = defaultdict(list)\n",
    "        for p1,  p2, t in meetings:\n",
    "            graph[p1].append((t, p2))\n",
    "            graph[p2].append((t, p1))\n",
    "\n",
    "        queue = [(0, 0), (0, firstPerson)]\n",
    "        result = set()\n",
    "        while queue:\n",
    "            t1, p1 = heapq.heappop(queue)\n",
    "            if p1 in result:\n",
    "                continue\n",
    "\n",
    "            result.add(p1)\n",
    "            for t2, p2 in graph[p1]:\n",
    "                if t2 >= t1:\n",
    "                    heapq.heappush(queue, (t2, p2))\n",
    "\n",
    "        return list(result)\n",
    "\n",
    "    def display(self, n: int, meetings: List[List[int]], firstPerson: int) -> None:\n",
    "        result = self.findAllPeople(n, meetings, firstPerson)\n",
    "        print(f\"Result: {result}\")"
   ]
  },
  {
   "cell_type": "code",
   "execution_count": 2,
   "id": "ad284d0b",
   "metadata": {},
   "outputs": [
    {
     "name": "stdout",
     "output_type": "stream",
     "text": [
      "Result: [0, 1, 2, 3, 5]\n"
     ]
    }
   ],
   "source": [
    "# Example 1\n",
    "\n",
    "n = 6\n",
    "meetings = [[1, 2, 5], [2, 3, 8], [1, 5, 10]]\n",
    "firstPerson = 1\n",
    "Solution().display(n, meetings, firstPerson)"
   ]
  },
  {
   "cell_type": "code",
   "execution_count": 3,
   "id": "968ef41a-88e0-419e-9780-c0d7c20997e5",
   "metadata": {},
   "outputs": [
    {
     "name": "stdout",
     "output_type": "stream",
     "text": [
      "Result: [0, 1, 3]\n"
     ]
    }
   ],
   "source": [
    "# Example 2\n",
    "\n",
    "n = 4\n",
    "meetings = [[3, 1 ,3], [1, 2, 2], [0, 3, 3]]\n",
    "firstPerson = 3\n",
    "Solution().display(n, meetings, firstPerson)"
   ]
  },
  {
   "cell_type": "code",
   "execution_count": 4,
   "id": "8f0aa6da-13ce-46c1-9538-3da8fcf7a0d5",
   "metadata": {},
   "outputs": [
    {
     "name": "stdout",
     "output_type": "stream",
     "text": [
      "Result: [0, 1, 2, 3, 4]\n"
     ]
    }
   ],
   "source": [
    "# Example 3\n",
    "\n",
    "n = 5\n",
    "meetings = [[3, 4, 2], [1, 2, 1], [2, 3, 1]]\n",
    "firstPerson = 1\n",
    "Solution().display(n, meetings, firstPerson)"
   ]
  },
  {
   "cell_type": "markdown",
   "id": "ad0774b8",
   "metadata": {},
   "source": [
    "**Idea:**  \n",
    "* Step1: Convert `meetings` into a graph.\n",
    "* Step2: Initial the state by person 0 and `firstPerson` at time 0.\n",
    "* Step3: Use `heapq` to help us expand the secret.\n",
    "\n",
    "**Time Complexity:** $O(nlogn)$, n is the length of `meetings`  \n",
    "<img src=\"./Images/2092-1.png\" width=\"500\">"
   ]
  }
 ],
 "metadata": {
  "kernelspec": {
   "display_name": "Python 3 (ipykernel)",
   "language": "python",
   "name": "python3"
  },
  "language_info": {
   "codemirror_mode": {
    "name": "ipython",
    "version": 3
   },
   "file_extension": ".py",
   "mimetype": "text/x-python",
   "name": "python",
   "nbconvert_exporter": "python",
   "pygments_lexer": "ipython3",
   "version": "3.9.18"
  }
 },
 "nbformat": 4,
 "nbformat_minor": 5
}
