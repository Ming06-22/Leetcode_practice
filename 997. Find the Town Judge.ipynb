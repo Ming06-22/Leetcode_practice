{
 "cells": [
  {
   "cell_type": "markdown",
   "id": "923ef13c",
   "metadata": {},
   "source": [
    "# 997. Find the Town Judge"
   ]
  },
  {
   "cell_type": "markdown",
   "id": "4ec5950d",
   "metadata": {},
   "source": [
    "In a town, there are `n` people labeled from `1` to `n`. There is a rumor that one of these people is secretly the town judge.\n",
    "\n",
    "If the town judge exists, then:\n",
    "\n",
    "1. The town judge trusts nobody.\n",
    "2. Everybody (except for the town judge) trusts the town judge.\n",
    "3. There is exactly one person that satisfies properties **1** and **2**.\n",
    "\n",
    "You are given an array `trust` where <code>trust[i] = [a<sub>i</sub>, b<sub>i</sub>]</code> representing that the person labeled <code>a<sub>i</sub></code> trusts the person labeled <code>b<sub>i</sub></code>. If a trust relationship does not exist in `trust` array, then such a trust relationship does not exist.\n",
    "\n",
    "Return the label of the town judge if the town judge exists and can be identified, or return `-1` otherwise.\n",
    "\n",
    "<https://leetcode.com/problems/find-the-town-judge/description/?envType=daily-question&envId=2024-02-22>\n",
    "\n",
    "**Constraint:**\n",
    "* `1 <= n <= 1000`\n",
    "* <code>0 <= trust.length <= 10<sup>4</sup></code>\n",
    "* `trust[i].length == 2`\n",
    "* All the pairs of `trust` are **unique**.\n",
    "* <code>a<sub>i</sub> != b<sub>i</sub></code>\n",
    "* <code>1 <= a<sub>i</sub>, b<sub>i</sub> <= n</code>"
   ]
  },
  {
   "cell_type": "markdown",
   "id": "f8c3990c",
   "metadata": {},
   "source": [
    "Example 1:  \n",
    "> **Input:** n = 2, trust = [[1,2]]  \n",
    "> **Output:** 2"
   ]
  },
  {
   "cell_type": "markdown",
   "id": "293bcd84-df5c-427e-8c97-3162000450ed",
   "metadata": {},
   "source": [
    "Example 2:  \n",
    "> **Input:** n = 3, trust = [[1,3],[2,3]]  \n",
    "> **Output:** 3"
   ]
  },
  {
   "cell_type": "markdown",
   "id": "99ea2c90-f469-4aae-9232-655214d8ea75",
   "metadata": {},
   "source": [
    "Example 3:  \n",
    "> **Input:** n = 3, trust = [[1,3],[2,3],[3,1]]  \n",
    "> **Output:** -1"
   ]
  },
  {
   "cell_type": "code",
   "execution_count": 1,
   "id": "e3f59cde",
   "metadata": {},
   "outputs": [],
   "source": [
    "from typing import List\n",
    "from collections import defaultdict\n",
    "\n",
    "class Solution:\n",
    "    def findJudge(self, n: int, trust: List[List[int]]) -> int:\n",
    "        if len(trust) == 0:\n",
    "            if n == 1:\n",
    "                return 1\n",
    "            return -1\n",
    "\n",
    "        record1, record2 = defaultdict(int), defaultdict(int)\n",
    "        for i in range(len(trust)):\n",
    "            record1[trust[i][0]] += 1\n",
    "            record2[trust[i][1]] += 1\n",
    "            \n",
    "        result = -1\n",
    "        for k, v in record2.items():\n",
    "            if v == n - 1:\n",
    "                if result == -1:\n",
    "                    result = k\n",
    "                else:\n",
    "                    return -1\n",
    "        \n",
    "        if record1[result] == 0:\n",
    "            return result\n",
    "        return -1\n",
    "\n",
    "    def display(self, n: int, trust: List[List[int]]) -> int:\n",
    "        result = self.findJudge(n = n, trust = trust)\n",
    "        print(f\"Result: {result}\")"
   ]
  },
  {
   "cell_type": "code",
   "execution_count": 2,
   "id": "ad284d0b",
   "metadata": {},
   "outputs": [
    {
     "name": "stdout",
     "output_type": "stream",
     "text": [
      "Result: 2\n"
     ]
    }
   ],
   "source": [
    "# Example 1\n",
    "\n",
    "n = 2\n",
    "trust = [[1, 2]]\n",
    "Solution().display(n = n, trust = trust)"
   ]
  },
  {
   "cell_type": "code",
   "execution_count": 3,
   "id": "8b63789b-eb47-492c-bf7a-aa9a5952ec01",
   "metadata": {},
   "outputs": [
    {
     "name": "stdout",
     "output_type": "stream",
     "text": [
      "Result: 3\n"
     ]
    }
   ],
   "source": [
    "# Example 2\n",
    "\n",
    "n = 3\n",
    "trust = [[1, 3], [2, 3]]\n",
    "Solution().display(n = n, trust = trust)"
   ]
  },
  {
   "cell_type": "code",
   "execution_count": 4,
   "id": "163c195e-1c50-48fc-bd1d-40bcf272ae32",
   "metadata": {},
   "outputs": [
    {
     "name": "stdout",
     "output_type": "stream",
     "text": [
      "Result: -1\n"
     ]
    }
   ],
   "source": [
    "# Example 3\n",
    "\n",
    "n = 3\n",
    "trust = [[1, 3], [2, 3], [3, 1]]\n",
    "Solution().display(n = n, trust = trust)"
   ]
  },
  {
   "cell_type": "markdown",
   "id": "ad0774b8",
   "metadata": {},
   "source": [
    "**Idea:**  \n",
    "* Step1: Check one special condition, `trust` is a empty list.\n",
    "* Step2: Convert `trust` into two dictionary, the people trust me and which people I trust.\n",
    "* Step3: Check whether a town judge exist.\n",
    "\n",
    "**Time Complexity:** $O(n)$  \n",
    "<img src=\"./Images/997-1.png\" width=\"500\">"
   ]
  }
 ],
 "metadata": {
  "kernelspec": {
   "display_name": "Python 3 (ipykernel)",
   "language": "python",
   "name": "python3"
  },
  "language_info": {
   "codemirror_mode": {
    "name": "ipython",
    "version": 3
   },
   "file_extension": ".py",
   "mimetype": "text/x-python",
   "name": "python",
   "nbconvert_exporter": "python",
   "pygments_lexer": "ipython3",
   "version": "3.9.18"
  }
 },
 "nbformat": 4,
 "nbformat_minor": 5
}
