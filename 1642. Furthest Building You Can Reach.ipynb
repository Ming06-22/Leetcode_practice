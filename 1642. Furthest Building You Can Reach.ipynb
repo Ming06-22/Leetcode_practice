{
 "cells": [
  {
   "cell_type": "markdown",
   "id": "923ef13c",
   "metadata": {},
   "source": [
    "# 1642. Furthest Building You Can Reach"
   ]
  },
  {
   "cell_type": "markdown",
   "id": "4ec5950d",
   "metadata": {},
   "source": [
    "You are given an integer array `heights` representing the heights of buildings, some `bricks`, and some `ladders`.\n",
    "\n",
    "You start your journey from building `0` and move to the next building by possibly using bricks or ladders.\n",
    "\n",
    "While moving from building `i` to building `i+1` (**0-indexed**),\n",
    "\n",
    "* If the current building's height is **greater than or equal** to the next building's height, you do **not** need a ladder or bricks.\n",
    "* If the current building's height is **less than** the next building's height, you can either use **one ladder** or `(h[i+1] - h[i])` bricks.\n",
    "\n",
    "Return the furthest building index (0-indexed) you can reach if you use the given ladders and bricks optimally.\n",
    "\n",
    "<https://leetcode.com/problems/furthest-building-you-can-reach/description/?envType=daily-question&envId=2024-02-17>\n",
    "\n",
    "**Constraint:**\n",
    "* <code>1 <= heights.length <= 10<sup>5</sup></code>\n",
    "* <code>1 <= heights[i] <= 10<sup>6</sup></code>\n",
    "* <code>0 <= bricks <= 10<sup>9</sup></code>\n",
    "* `0 <= ladders <= heights.length`"
   ]
  },
  {
   "cell_type": "markdown",
   "id": "f8c3990c",
   "metadata": {},
   "source": [
    "Example 1:  \n",
    "\n",
    "<img src=\"./Images/1642-1.png\" width=\"400\">\n",
    "\n",
    "> **Input:** heights = [4,2,7,6,9,14,12], bricks = 5, ladders = 1  \n",
    "> **Output:** 4  \n",
    "> **Explanation:** Starting at building 0, you can follow these steps:  \n",
    "> - Go to building 1 without using ladders nor bricks since 4 >= 2.  \n",
    "> - Go to building 2 using 5 bricks. You must use either bricks or ladders because 2 < 7.  \n",
    "> - Go to building 3 without using ladders nor bricks since 7 >= 6.\n",
    "> - Go to building 4 using your only ladder. You must use either bricks or ladders because 6 < 9.  \n",
    "> It is impossible to go beyond building 4 because you do not have any more bricks or ladders."
   ]
  },
  {
   "cell_type": "markdown",
   "id": "4d881023",
   "metadata": {},
   "source": [
    "Example 2:  \n",
    "> **Input:** heights = [4,12,2,7,3,18,20,3,19], bricks = 10, ladders = 2  \n",
    "> **Output:** 7  "
   ]
  },
  {
   "cell_type": "markdown",
   "id": "e9133485",
   "metadata": {},
   "source": [
    "Example 3:  \n",
    "> **Input:** heights = [14,3,19,3], bricks = 17, ladders = 0  \n",
    "> **Output:** 3  "
   ]
  },
  {
   "cell_type": "code",
   "execution_count": 1,
   "id": "ebf113c1",
   "metadata": {},
   "outputs": [],
   "source": [
    "from typing import List\n",
    "import heapq\n",
    "\n",
    "class Solution:\n",
    "    def furthestBuilding(self, heights: List[int], bricks: int, ladders: int) -> int:\n",
    "        previous = heights[0]\n",
    "        record = []\n",
    "        for i, current in enumerate(heights[1: ]):\n",
    "            if previous < current:\n",
    "                diff = current - previous\n",
    "                heapq.heappush(record, -diff)\n",
    "                \n",
    "                bricks -= diff\n",
    "                if bricks < 0:\n",
    "                    bricks -= heapq.heappop(record)\n",
    "                    ladders -= 1\n",
    "                \n",
    "                if ladders < 0:\n",
    "                    return i\n",
    "\n",
    "            previous = current\n",
    "            \n",
    "        return len(heights) - 1\n",
    "    \n",
    "    def display(self, heights: List[int], bricks: int, ladders: int) -> None:\n",
    "        result = self.furthestBuilding(heights = heights, bricks = bricks, ladders = ladders)\n",
    "        print(f\"Result: {result} building\")"
   ]
  },
  {
   "cell_type": "code",
   "execution_count": 2,
   "id": "ad284d0b",
   "metadata": {},
   "outputs": [
    {
     "name": "stdout",
     "output_type": "stream",
     "text": [
      "Result: 4 building\n"
     ]
    }
   ],
   "source": [
    "# Example 1\n",
    "\n",
    "heights = [4, 2, 7, 6, 9, 14, 12]\n",
    "bricks, ladders = 5, 1\n",
    "Solution().display(heights = heights, bricks = bricks, ladders = ladders)"
   ]
  },
  {
   "cell_type": "code",
   "execution_count": 3,
   "id": "a0e1576d",
   "metadata": {},
   "outputs": [
    {
     "name": "stdout",
     "output_type": "stream",
     "text": [
      "Result: 7 building\n"
     ]
    }
   ],
   "source": [
    "# Example 2\n",
    "\n",
    "heights = [4, 12, 2, 7, 3, 18, 20, 3, 19]\n",
    "bricks, ladders = 10, 2\n",
    "Solution().display(heights = heights, bricks = bricks, ladders = ladders)"
   ]
  },
  {
   "cell_type": "code",
   "execution_count": 4,
   "id": "d143a1e7",
   "metadata": {},
   "outputs": [
    {
     "name": "stdout",
     "output_type": "stream",
     "text": [
      "Result: 3 building\n"
     ]
    }
   ],
   "source": [
    "# Example 3\n",
    "\n",
    "heights = [14, 3, 19, 3]\n",
    "bricks, ladders = 17, 0\n",
    "Solution().display(heights = heights, bricks = bricks, ladders = ladders)"
   ]
  },
  {
   "cell_type": "markdown",
   "id": "ad0774b8",
   "metadata": {},
   "source": [
    "**Idea:**  \n",
    "* Step1: Iterate the input list.\n",
    "* Step2: If the current height is larger than the previous height, heappush the difference to record, and minus the bricks by the difference.\n",
    "* Step3: If the bircks is not enough, change the highest diffence by using a ladder. If the ladder is not enough, return the current number of the building.\n",
    "\n",
    "**Time Complexity:** $O(nlogn)$  \n",
    "<img src=\"./Images/1642-2.png\" width=\"500\">"
   ]
  }
 ],
 "metadata": {
  "kernelspec": {
   "display_name": "Python 3 (ipykernel)",
   "language": "python",
   "name": "python3"
  },
  "language_info": {
   "codemirror_mode": {
    "name": "ipython",
    "version": 3
   },
   "file_extension": ".py",
   "mimetype": "text/x-python",
   "name": "python",
   "nbconvert_exporter": "python",
   "pygments_lexer": "ipython3",
   "version": "3.9.13"
  }
 },
 "nbformat": 4,
 "nbformat_minor": 5
}
