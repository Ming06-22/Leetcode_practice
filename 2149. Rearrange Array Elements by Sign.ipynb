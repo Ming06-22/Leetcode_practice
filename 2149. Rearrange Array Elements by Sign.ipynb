{
 "cells": [
  {
   "cell_type": "markdown",
   "id": "923ef13c",
   "metadata": {},
   "source": [
    "# 2149. Rearrange Array Elements by Sign"
   ]
  },
  {
   "cell_type": "markdown",
   "id": "4ec5950d",
   "metadata": {},
   "source": [
    "You are given a **0-indexed** integer array `nums` of **even** length consisting of an **equal** number of positive and negative integers.\n",
    "\n",
    "You should **rearrange** the elements of nums such that the modified array follows the given conditions:\n",
    "\n",
    "1. Every **consecutive pair** of integers have **opposite signs**.\n",
    "2. For all integers with the same sign, the **order** in which they were present in `nums` is **preserved**.\n",
    "3. The rearranged array begins with a positive integer.\n",
    "\n",
    "Return the modified array after rearranging the elements to satisfy the aforementioned conditions.\n",
    "\n",
    "<https://leetcode.com/problems/rearrange-array-elements-by-sign/description/?envType=daily-question&envId=2024-02-14>\n",
    "\n",
    "**Constraint:**\n",
    "* <code>2 <= nums.length <= 2 * 10<sup>5</sup></code>\n",
    "* `nums.length` is **even**\n",
    "* <code>1 <= |nums[i]| <= 10<sup>5</sup></code>\n",
    "* `nums` consists of **equal** number of positive and negative integers."
   ]
  },
  {
   "cell_type": "markdown",
   "id": "f8c3990c",
   "metadata": {},
   "source": [
    "Example 1:  \n",
    "> **Input:** nums = [3,1,-2,-5,2,-4]  \n",
    "> **Output:** [3,-2,1,-5,2,-4]  \n",
    "> **Explanation:**  \n",
    "The positive integers in nums are [3,1,2]. The negative integers are [-2,-5,-4].  \n",
    "The only possible way to rearrange them such that they satisfy all conditions is [3,-2,1,-5,2,-4].  \n",
    "Other ways such as [1,-2,2,-5,3,-4], [3,1,2,-2,-5,-4], [-2,3,-5,1,-4,2] are incorrect because they do not satisfy one or more conditions.  "
   ]
  },
  {
   "cell_type": "markdown",
   "id": "271dc714",
   "metadata": {},
   "source": [
    "Example 2:  \n",
    "> **Input:** nums = [-1,1]  \n",
    "> **Output:** [1,-1]  \n",
    "> **Explanation:**  \n",
    "1 is the only positive integer and -1 the only negative integer in nums.  \n",
    "So nums is rearranged to [1,-1]."
   ]
  },
  {
   "cell_type": "code",
   "execution_count": 1,
   "id": "e3f59cde",
   "metadata": {},
   "outputs": [],
   "source": [
    "from typing import List\n",
    "\n",
    "class Solution:\n",
    "    def rearrangeArray(self, nums: List[int]) -> List[int]:\n",
    "        result = [0] * len(nums)\n",
    "        pos, neg = 0, 1\n",
    "        for n in nums:\n",
    "            if n > 0:\n",
    "                result[pos] = n\n",
    "                pos += 2\n",
    "            else:\n",
    "                result[neg] = n\n",
    "                neg += 2\n",
    "\n",
    "        return result\n",
    "    \n",
    "    def display(self, nums: List[int]) -> None:\n",
    "        result = self.rearrangeArray(nums = nums)\n",
    "        print(f\"Result: {result}\")"
   ]
  },
  {
   "cell_type": "code",
   "execution_count": 2,
   "id": "ad284d0b",
   "metadata": {},
   "outputs": [
    {
     "name": "stdout",
     "output_type": "stream",
     "text": [
      "Result: [3, -2, 1, -5, 2, -4]\n"
     ]
    }
   ],
   "source": [
    "# Example 1\n",
    "\n",
    "nums = [3, 1, -2, -5, 2, -4]\n",
    "Solution().display(nums = nums)"
   ]
  },
  {
   "cell_type": "code",
   "execution_count": 3,
   "id": "9c47945c",
   "metadata": {},
   "outputs": [
    {
     "name": "stdout",
     "output_type": "stream",
     "text": [
      "Result: [1, -1]\n"
     ]
    }
   ],
   "source": [
    "# Example 2\n",
    "\n",
    "nums = [-1, 1]\n",
    "Solution().display(nums = nums)"
   ]
  },
  {
   "cell_type": "markdown",
   "id": "ad0774b8",
   "metadata": {},
   "source": [
    "**Idea:**  \n",
    "* Step1: Initial the result list with empty value.\n",
    "* Step2: Iterate the input array.\n",
    "* Step3: If the current number is odd, replace result list at `pos` index, and add `pos` by 2; if the current number is even, replace result list at `neg` index, and add `neg` by 2.\n",
    "\n",
    "**Time Complexity:** $O(n)$  \n",
    "\n",
    "<img src=\"./Images/2149-1.png\" width=\"500\">"
   ]
  }
 ],
 "metadata": {
  "kernelspec": {
   "display_name": "Python 3 (ipykernel)",
   "language": "python",
   "name": "python3"
  },
  "language_info": {
   "codemirror_mode": {
    "name": "ipython",
    "version": 3
   },
   "file_extension": ".py",
   "mimetype": "text/x-python",
   "name": "python",
   "nbconvert_exporter": "python",
   "pygments_lexer": "ipython3",
   "version": "3.9.13"
  }
 },
 "nbformat": 4,
 "nbformat_minor": 5
}
