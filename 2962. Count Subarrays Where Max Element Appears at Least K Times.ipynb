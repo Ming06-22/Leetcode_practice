{
 "cells": [
  {
   "cell_type": "markdown",
   "id": "923ef13c",
   "metadata": {},
   "source": [
    "# 2962. Count Subarrays Where Max Element Appears at Least K Times"
   ]
  },
  {
   "cell_type": "markdown",
   "id": "4ec5950d",
   "metadata": {},
   "source": [
    "You are given an integer array `nums` and a **positive** integer k.\n",
    "\n",
    "Return the number of subarrays where the **maximum** element of `nums` appears **at least** `k` times in that subarray.\n",
    "\n",
    "A **subarray** is a contiguous sequence of elements within an array.\n",
    "\n",
    "<https://leetcode.com/problems/count-subarrays-where-max-element-appears-at-least-k-times/?envType=daily-question&envId=2024-03-29>\n",
    "\n",
    "**Constraint:**\n",
    "* <code>1 <= nums.length <= 10<sup>5</sup></code>\n",
    "* <code>1 <= nums[i] <= 10<sup>6</sup></code>\n",
    "* <code>1 <= k <= 10<sup>5</sup></code>"
   ]
  },
  {
   "cell_type": "markdown",
   "id": "f8c3990c",
   "metadata": {},
   "source": [
    "Example 1:  \n",
    "> **Input:** nums = [1,3,2,3,3], k = 2  \n",
    "> **Output:** 6  \n",
    "> **Explanation:** The subarrays that contain the element 3 at least 2 times are: [1,3,2,3], [1,3,2,3,3], [3,2,3], [3,2,3,3], [2,3,3] and [3,3]."
   ]
  },
  {
   "cell_type": "markdown",
   "id": "7c831a26",
   "metadata": {},
   "source": [
    "Example 2:  \n",
    "> **Input:** nums = [1,4,2,1], k = 3  \n",
    "> **Output:** 0  \n",
    "> **Explanation:** No subarray contains the element 4 at least 3 times."
   ]
  },
  {
   "cell_type": "code",
   "execution_count": 1,
   "id": "e3f59cde",
   "metadata": {},
   "outputs": [],
   "source": [
    "from typing import List\n",
    "from collections import deque\n",
    "\n",
    "class Solution:\n",
    "    def countSubarrays(self, nums: List[int], k: int) -> int:\n",
    "        target, record, l, result = max(nums), deque([]), -1, 0\n",
    "        for r, n in enumerate(nums):\n",
    "            if n == target:\n",
    "                record.append(r)\n",
    "                if len(record) == k:\n",
    "                    temp = l\n",
    "                    l = record.popleft()\n",
    "                    result += (len(nums) - r) * (l - temp)\n",
    "\n",
    "        return result\n",
    "    \n",
    "    def display(self, nums: List[int], k: int) -> None:\n",
    "        result = self.countSubarrays(nums, k)\n",
    "        print(f\"Result: {result}\")"
   ]
  },
  {
   "cell_type": "code",
   "execution_count": 2,
   "id": "ad284d0b",
   "metadata": {},
   "outputs": [
    {
     "name": "stdout",
     "output_type": "stream",
     "text": [
      "Result: 6\n"
     ]
    }
   ],
   "source": [
    "# Example 1\n",
    "\n",
    "nums = [1, 3, 2, 3, 3]\n",
    "k = 2\n",
    "Solution().display(nums, k)"
   ]
  },
  {
   "cell_type": "code",
   "execution_count": 3,
   "id": "5c377c24",
   "metadata": {},
   "outputs": [
    {
     "name": "stdout",
     "output_type": "stream",
     "text": [
      "Result: 0\n"
     ]
    }
   ],
   "source": [
    "# Example 2\n",
    "\n",
    "nums = [1, 4, 2, 1]\n",
    "k = 3\n",
    "Solution().display(nums, k)"
   ]
  },
  {
   "cell_type": "markdown",
   "id": "ad0774b8",
   "metadata": {},
   "source": [
    "**Idea:**  \n",
    "* Step1: Iterate the input list.\n",
    "* Step2: If the element is our target, record its index.\n",
    "* Step3: If the length of record is equal to `k`, update the result.\n",
    "\n",
    "**Time Complexity:** $O(n)$  \n",
    "<img src=\"./Images/2962-1.png\" width=\"500\">"
   ]
  }
 ],
 "metadata": {
  "kernelspec": {
   "display_name": "Python 3 (ipykernel)",
   "language": "python",
   "name": "python3"
  },
  "language_info": {
   "codemirror_mode": {
    "name": "ipython",
    "version": 3
   },
   "file_extension": ".py",
   "mimetype": "text/x-python",
   "name": "python",
   "nbconvert_exporter": "python",
   "pygments_lexer": "ipython3",
   "version": "3.9.13"
  }
 },
 "nbformat": 4,
 "nbformat_minor": 5
}
