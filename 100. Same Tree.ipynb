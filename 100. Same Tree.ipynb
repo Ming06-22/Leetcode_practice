{
 "cells": [
  {
   "cell_type": "markdown",
   "id": "923ef13c",
   "metadata": {},
   "source": [
    "# 100. Same Tree"
   ]
  },
  {
   "cell_type": "markdown",
   "id": "4ec5950d",
   "metadata": {},
   "source": [
    "Given the roots of two binary trees `p` and `q`, write a function to check if they are the same or not.\n",
    "\n",
    "Two binary trees are considered the same if they are structurally identical, and the nodes have the same value.\n",
    "\n",
    "<https://leetcode.com/problems/same-tree/description/?envType=daily-question&envId=2024-02-26>\n",
    "\n",
    "**Constraint:**\n",
    "* The number of nodes in both trees is in the range `[0, 100]`.\n",
    "* <code>-10<sup>4</sup> <= Node.val <= 10<sup>4</sup></code>"
   ]
  },
  {
   "cell_type": "markdown",
   "id": "f8c3990c",
   "metadata": {},
   "source": [
    "Example 1:  \n",
    "\n",
    "<img src=\"./Images/100-1.png\" width=\"300\">\n",
    "\n",
    "> **Input:** p = [1,2,3], q = [1,2,3]  \n",
    "> **Output:** true"
   ]
  },
  {
   "cell_type": "markdown",
   "id": "fea25d35-131d-4539-9588-f25baacebb4b",
   "metadata": {},
   "source": [
    "Example 2:  \n",
    "\n",
    "<img src=\"./Images/100-2.png\" width=\"200\">\n",
    "\n",
    "> **Input:** p = [1,2], q = [1,null,2]  \n",
    "> **Output:** false"
   ]
  },
  {
   "cell_type": "markdown",
   "id": "60376dca-b2a3-4d19-bada-d07c1f24783d",
   "metadata": {},
   "source": [
    "Example 3:  \n",
    "\n",
    "<img src=\"./Images/100-3.png\" width=\"300\">\n",
    "\n",
    "> **Input:** p = [1,2,1], q = [1,1,2]  \n",
    "> **Output:** false"
   ]
  },
  {
   "cell_type": "code",
   "execution_count": 1,
   "id": "e3f59cde",
   "metadata": {},
   "outputs": [],
   "source": [
    "from typing import Optional\n",
    "\n",
    "class TreeNode:\n",
    "    def __init__(self, val = 0, left = None, right = None):\n",
    "        self.val = val\n",
    "        self.left = left\n",
    "        self.right = right\n",
    "\n",
    "class Solution:\n",
    "    def isSameTree(self, p: Optional[TreeNode], q: Optional[TreeNode]) -> bool:\n",
    "        if not p and q:\n",
    "            return False\n",
    "        if not q and p:\n",
    "            return False\n",
    "        if not p and not q:\n",
    "            return True\n",
    "        \n",
    "        def dfs(node1, node2):\n",
    "            if node1.val != node2.val:\n",
    "                return False\n",
    "\n",
    "            if node1.left:\n",
    "                if node2.left:\n",
    "                    if not dfs(node1.left, node2.left):\n",
    "                        return False\n",
    "                else:\n",
    "                    return False\n",
    "            elif node2.left:\n",
    "                return False\n",
    "            \n",
    "            if node1.right:\n",
    "                if node2.right:\n",
    "                    if not dfs(node1.right, node2.right):\n",
    "                        return False\n",
    "                else:\n",
    "                    return False\n",
    "            elif node2.right:\n",
    "                return False\n",
    "\n",
    "            return True\n",
    "\n",
    "        return dfs(p, q)\n",
    "\n",
    "    def display(self, p: Optional[TreeNode], q: Optional[TreeNode]) -> None:\n",
    "        result = self.isSameTree(p, q)\n",
    "        print(f\"Result: {result}\")"
   ]
  },
  {
   "cell_type": "code",
   "execution_count": 2,
   "id": "ad284d0b",
   "metadata": {},
   "outputs": [
    {
     "name": "stdout",
     "output_type": "stream",
     "text": [
      "Result: True\n"
     ]
    }
   ],
   "source": [
    "# Example 1\n",
    "\n",
    "p = TreeNode(val = 1, left = TreeNode(val = 2), right = TreeNode(val = 3))\n",
    "q = TreeNode(val = 1, left = TreeNode(val = 2), right = TreeNode(val = 3))\n",
    "Solution().display(p, q)"
   ]
  },
  {
   "cell_type": "code",
   "execution_count": 3,
   "id": "bd34e21b-7f1b-4ff2-8c26-4fe67028343d",
   "metadata": {},
   "outputs": [
    {
     "name": "stdout",
     "output_type": "stream",
     "text": [
      "Result: False\n"
     ]
    }
   ],
   "source": [
    "# Example 2\n",
    "\n",
    "p = TreeNode(val = 1, left = TreeNode(val = 2))\n",
    "q = TreeNode(val = 1, right = TreeNode(val = 2))\n",
    "Solution().display(p, q)"
   ]
  },
  {
   "cell_type": "code",
   "execution_count": 4,
   "id": "f065ec22-37ed-4fb6-8f6f-02c30f088fdb",
   "metadata": {},
   "outputs": [
    {
     "name": "stdout",
     "output_type": "stream",
     "text": [
      "Result: False\n"
     ]
    }
   ],
   "source": [
    "# Example 3\n",
    "\n",
    "p = TreeNode(val = 1, left = TreeNode(val = 2), right = TreeNode(val = 1))\n",
    "q = TreeNode(val = 1, left = TreeNode(val = 1), right = TreeNode(val = 2))\n",
    "Solution().display(p, q)"
   ]
  },
  {
   "cell_type": "markdown",
   "id": "ad0774b8",
   "metadata": {},
   "source": [
    "**Idea:**  \n",
    "* Step1: Check whether `p` or `q` is empty.\n",
    "* Step2: Apply DFS to check whether two trees are the same.\n",
    "* Step3: Check whether current value is the same. Then, check for their children until getting the final answer.\n",
    "\n",
    "**Time Complexity:** $O(V + E)$  \n",
    "<img src=\"./Images/100-4.png\" width=\"500\">"
   ]
  }
 ],
 "metadata": {
  "kernelspec": {
   "display_name": "Python 3 (ipykernel)",
   "language": "python",
   "name": "python3"
  },
  "language_info": {
   "codemirror_mode": {
    "name": "ipython",
    "version": 3
   },
   "file_extension": ".py",
   "mimetype": "text/x-python",
   "name": "python",
   "nbconvert_exporter": "python",
   "pygments_lexer": "ipython3",
   "version": "3.9.18"
  }
 },
 "nbformat": 4,
 "nbformat_minor": 5
}
