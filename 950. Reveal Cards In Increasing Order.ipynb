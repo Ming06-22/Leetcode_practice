{
 "cells": [
  {
   "cell_type": "markdown",
   "id": "923ef13c",
   "metadata": {},
   "source": [
    "# 950. Reveal Cards In Increasing Order"
   ]
  },
  {
   "cell_type": "markdown",
   "id": "4ec5950d",
   "metadata": {},
   "source": [
    "You are given an integer array `deck`. There is a deck of cards where every card has a unique integer. The integer on the <code>i<sup>th</sup></code> card is `deck[i]`.\n",
    "\n",
    "You can order the deck in any order you want. Initially, all the cards start face down (unrevealed) in one deck.\n",
    "\n",
    "You will do the following steps repeatedly until all cards are revealed:\n",
    "\n",
    "1. Take the top card of the deck, reveal it, and take it out of the deck.\n",
    "2. If there are still cards in the deck then put the next top card of the deck at the bottom of the deck.\n",
    "3. If there are still unrevealed cards, go back to step 1. Otherwise, stop.\n",
    "\n",
    "Return an ordering of the deck that would reveal the cards in increasing order.\n",
    "\n",
    "**Note** that the first entry in the answer is considered to be the top of the deck.\n",
    "\n",
    "<https://leetcode.com/problems/reveal-cards-in-increasing-order/description/?envType=daily-question&envId=2024-04-10>\n",
    "\n",
    "**Constraint:**\n",
    "* `1 <= deck.length <= 1000`\n",
    "* <code>1 <= deck[i] <= 10<sup>6</sup></code>\n",
    "* All the values of deck are **unique**."
   ]
  },
  {
   "cell_type": "markdown",
   "id": "f8c3990c",
   "metadata": {},
   "source": [
    "Example 1:  \n",
    "> **Input:** deck = [17,13,11,2,3,5,7]  \n",
    "> **Output:** [2,13,3,11,5,17,7]  \n",
    "> **Explanation:**  \n",
    "We get the deck in the order [17,13,11,2,3,5,7] (this order does not matter), and reorder it.  \n",
    "After reordering, the deck starts as [2,13,3,11,5,17,7], where 2 is the top of the deck.  \n",
    "We reveal 2, and move 13 to the bottom. The deck is now [3,11,5,17,7,13].  \n",
    "We reveal 3, and move 11 to the bottom. The deck is now [5,17,7,13,11].  \n",
    "We reveal 5, and move 17 to the bottom. The deck is now [7,13,11,17].  \n",
    "We reveal 7, and move 13 to the bottom. The deck is now [11,17,13].  \n",
    "We reveal 11, and move 17 to the bottom. The deck is now [13,17].  \n",
    "We reveal 13, and move 17 to the bottom. The deck is now [17].  \n",
    "We reveal 17.  \n",
    "Since all the cards revealed are in increasing order, the answer is correct."
   ]
  },
  {
   "cell_type": "markdown",
   "id": "6e66b85d",
   "metadata": {},
   "source": [
    "Example 2:\n",
    "> **Input:** deck = [1,1000]  \n",
    "> **Output:** [1,1000]"
   ]
  },
  {
   "cell_type": "code",
   "execution_count": 1,
   "id": "e3f59cde",
   "metadata": {},
   "outputs": [],
   "source": [
    "from typing import List\n",
    "\n",
    "class Solution:\n",
    "    def deckRevealedIncreasing(self, deck: List[int]) -> List[int]:\n",
    "        deck.sort()\n",
    "        record = []\n",
    "        record.append(deck[-1])\n",
    "        for i in range(len(deck) - 2, -1, -1):\n",
    "            temp = record.pop()\n",
    "            record = [temp] + record\n",
    "            record = [deck[i]] + record\n",
    "\n",
    "        return record\n",
    "    \n",
    "    def display(self, deck: List[int]) -> List[int]:\n",
    "        result = self.deckRevealedIncreasing(deck)\n",
    "        print(f\"Result: {result}\")"
   ]
  },
  {
   "cell_type": "code",
   "execution_count": 2,
   "id": "ad284d0b",
   "metadata": {},
   "outputs": [
    {
     "name": "stdout",
     "output_type": "stream",
     "text": [
      "Result: [2, 13, 3, 11, 5, 17, 7]\n"
     ]
    }
   ],
   "source": [
    "# Example 1\n",
    "\n",
    "deck = [17, 13, 11, 2, 3, 5, 7]\n",
    "Solution().display(deck)"
   ]
  },
  {
   "cell_type": "code",
   "execution_count": 3,
   "id": "797b9f91",
   "metadata": {},
   "outputs": [
    {
     "name": "stdout",
     "output_type": "stream",
     "text": [
      "Result: [1, 1000]\n"
     ]
    }
   ],
   "source": [
    "# Example 2\n",
    "\n",
    "deck = [1, 1000]\n",
    "Solution().display(deck)"
   ]
  },
  {
   "cell_type": "markdown",
   "id": "ad0774b8",
   "metadata": {},
   "source": [
    "**Idea:**  \n",
    "* Step1: Sort the input list.\n",
    "* Step2: Move the last element to the front.\n",
    "* Step3: Iterate input list, and add the current value into record.\n",
    "\n",
    "**Time Complexity:** $O(nlogn)$  \n",
    "<img src=\"./Images/950-1.png\" width=\"500\">"
   ]
  }
 ],
 "metadata": {
  "kernelspec": {
   "display_name": "Python 3 (ipykernel)",
   "language": "python",
   "name": "python3"
  },
  "language_info": {
   "codemirror_mode": {
    "name": "ipython",
    "version": 3
   },
   "file_extension": ".py",
   "mimetype": "text/x-python",
   "name": "python",
   "nbconvert_exporter": "python",
   "pygments_lexer": "ipython3",
   "version": "3.9.13"
  }
 },
 "nbformat": 4,
 "nbformat_minor": 5
}
