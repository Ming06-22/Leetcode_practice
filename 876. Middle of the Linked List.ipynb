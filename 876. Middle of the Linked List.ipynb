{
 "cells": [
  {
   "cell_type": "markdown",
   "id": "923ef13c",
   "metadata": {},
   "source": [
    "# 876. Middle of the Linked List"
   ]
  },
  {
   "cell_type": "markdown",
   "id": "4ec5950d",
   "metadata": {},
   "source": [
    "Given the `head` of a singly linked list, return the middle node of the linked list.\n",
    "\n",
    "If there are two middle nodes, return **the second middle** node.\n",
    "\n",
    "\n",
    "\n",
    "**Constraint:**\n",
    "* The number of nodes in the list is in the range `[1, 100]`.\n",
    "* `1 <= Node.val <= 100`"
   ]
  },
  {
   "cell_type": "markdown",
   "id": "f8c3990c",
   "metadata": {},
   "source": [
    "Example 1:  \n",
    "\n",
    "<img src=\"./Images/876-1.png\" width=\"300\">\n",
    "\n",
    "> **Input:** head = [1,2,3,4,5]  \n",
    "> **Output:** [3,4,5]  \n",
    "> **Explanation:** The middle node of the list is node 3."
   ]
  },
  {
   "cell_type": "markdown",
   "id": "8ec89303-aaf7-43f3-8771-5d576ee84746",
   "metadata": {},
   "source": [
    "Example 2:  \n",
    "\n",
    "<img src=\"./Images/876-2.png\" width=\"300\">\n",
    "\n",
    "> **Input:** head = [1,2,3,4,5,6]  \n",
    "> **Output:** [4,5,6]  \n",
    "> **Explanation:** Since the list has two middle nodes with values 3 and 4, we return the second one."
   ]
  },
  {
   "cell_type": "code",
   "execution_count": 1,
   "id": "e3f59cde",
   "metadata": {},
   "outputs": [],
   "source": [
    "from typing import Optional\n",
    "\n",
    "class ListNode:\n",
    "    def __init__(self, val = 0, next = None):\n",
    "        self.val = val\n",
    "        self.next = next\n",
    "        \n",
    "class Solution:\n",
    "    def middleNode(self, head: Optional[ListNode]) -> Optional[ListNode]:\n",
    "        result = head\n",
    "        current = head\n",
    "        \n",
    "        while current != None and current.next != None:\n",
    "            current = current.next.next\n",
    "            result = result.next\n",
    "        \n",
    "        return result\n",
    "\n",
    "    def display(self, head: Optional[ListNode]) -> None:\n",
    "        node = self.middleNode(head)\n",
    "        result = []\n",
    "        while node:\n",
    "            result.append(node.val)\n",
    "            node = node.next\n",
    "            \n",
    "        print(f\"Result: {result}\")"
   ]
  },
  {
   "cell_type": "code",
   "execution_count": 2,
   "id": "ad284d0b",
   "metadata": {},
   "outputs": [
    {
     "name": "stdout",
     "output_type": "stream",
     "text": [
      "Result: [3, 4, 5]\n"
     ]
    }
   ],
   "source": [
    "# Example 1\n",
    "\n",
    "head = ListNode(1, ListNode(2, ListNode(3, ListNode(4, ListNode(5)))))\n",
    "Solution().display(head)"
   ]
  },
  {
   "cell_type": "code",
   "execution_count": 3,
   "id": "9e7e4d00-56cf-4b50-95c4-89ea54f48a09",
   "metadata": {},
   "outputs": [
    {
     "name": "stdout",
     "output_type": "stream",
     "text": [
      "Result: [4, 5, 6]\n"
     ]
    }
   ],
   "source": [
    "# Example 2\n",
    "\n",
    "head = ListNode(1, ListNode(2, ListNode(3, ListNode(4, ListNode(5, ListNode(6))))))\n",
    "Solution().display(head)"
   ]
  },
  {
   "cell_type": "markdown",
   "id": "ad0774b8",
   "metadata": {},
   "source": [
    "**Idea:**  \n",
    "* Step1: Construct two pointers point the head of the linked list.\n",
    "* Step2: Move one pointer a step, another for two steps.\n",
    "* Step3: Repeat step2 until we reach the end.\n",
    "\n",
    "**Time Complexity:** $O(n)$  \n",
    "<img src=\"./Images/876-3.png\" width=\"500\">"
   ]
  }
 ],
 "metadata": {
  "kernelspec": {
   "display_name": "Python 3 (ipykernel)",
   "language": "python",
   "name": "python3"
  },
  "language_info": {
   "codemirror_mode": {
    "name": "ipython",
    "version": 3
   },
   "file_extension": ".py",
   "mimetype": "text/x-python",
   "name": "python",
   "nbconvert_exporter": "python",
   "pygments_lexer": "ipython3",
   "version": "3.9.18"
  }
 },
 "nbformat": 4,
 "nbformat_minor": 5
}
