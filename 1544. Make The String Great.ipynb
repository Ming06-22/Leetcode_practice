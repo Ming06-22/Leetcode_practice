{
 "cells": [
  {
   "cell_type": "markdown",
   "id": "923ef13c",
   "metadata": {},
   "source": [
    "# 1544. Make The String Great"
   ]
  },
  {
   "cell_type": "markdown",
   "id": "4ec5950d",
   "metadata": {},
   "source": [
    "Given a string `s` of lower and upper case English letters.\n",
    "\n",
    "A good string is a string which doesn't have **two adjacent characters** `s[i]` and `s[i + 1]` where:\n",
    "\n",
    "* `0 <= i <= s.length - 2`\n",
    "* `s[i]` is a lower-case letter and `s[i + 1]` is the same letter but in upper-case or **vice-versa**.\n",
    "\n",
    "To make the string good, you can choose **two adjacent** characters that make the string bad and remove them. You can keep doing this until the string becomes good.\n",
    "\n",
    "Return the string after making it good. The answer is guaranteed to be unique under the given constraints.\n",
    "\n",
    "**Notice** that an empty string is also good.\n",
    "\n",
    "<https://leetcode.com/problems/make-the-string-great/?envType=daily-question&envId=2024-04-05>\n",
    "\n",
    "**Constraint:**\n",
    "* `1 <= s.length <= 100`\n",
    "* `s` contains only lower and upper case English letters."
   ]
  },
  {
   "cell_type": "markdown",
   "id": "f8c3990c",
   "metadata": {},
   "source": [
    "Example 1:  \n",
    "> **Input:**: s = \"leEeetcode\"  \n",
    "> **Output:** \"leetcode\"  \n",
    "> **Explanation:** In the first step, either you choose i = 1 or i = 2, both will result \"leEeetcode\" to be reduced to \"leetcode\"."
   ]
  },
  {
   "cell_type": "markdown",
   "id": "9a615b74",
   "metadata": {},
   "source": [
    "Example 2:  \n",
    "> **Input:**: s = \"abBAcC\"  \n",
    "> **Output:** \"\"  \n",
    "> **Explanation:** We have many possible scenarios, and all lead to the same answer. For example:  \n",
    "\"abBAcC\" --> \"aAcC\" --> \"cC\" --> \"\"  \n",
    "\"abBAcC\" --> \"abBA\" --> \"aA\" --> \"\""
   ]
  },
  {
   "cell_type": "markdown",
   "id": "29b67b02",
   "metadata": {},
   "source": [
    "Example 3:  \n",
    "> **Input:**: s = \"s\"  \n",
    "> **Output:** \"s\""
   ]
  },
  {
   "cell_type": "code",
   "execution_count": 1,
   "id": "e3f59cde",
   "metadata": {},
   "outputs": [],
   "source": [
    "class Solution:\n",
    "    def makeGood(self, s: str) -> str:\n",
    "        i = 0\n",
    "        while i < len(s) - 1:\n",
    "            a, b = ord(s[i]), ord(s[i + 1])\n",
    "            if a + 32 == b or a - 32 == b:\n",
    "                s = s[: i] + s[i + 2: ]\n",
    "                i = max(0, i - 1)\n",
    "            else:\n",
    "                i += 1\n",
    "\n",
    "        return s\n",
    "    \n",
    "    def display(self, s: str) -> None:\n",
    "        result = self.makeGood(s)\n",
    "        print(f\"Result: \\\"{result}\\\"\")"
   ]
  },
  {
   "cell_type": "code",
   "execution_count": 2,
   "id": "ad284d0b",
   "metadata": {},
   "outputs": [
    {
     "name": "stdout",
     "output_type": "stream",
     "text": [
      "Result: \"leetcode\"\n"
     ]
    }
   ],
   "source": [
    "# Example 1\n",
    "\n",
    "s = \"leEeetcode\"\n",
    "Solution().display(s)"
   ]
  },
  {
   "cell_type": "code",
   "execution_count": 3,
   "id": "94d656f6",
   "metadata": {},
   "outputs": [
    {
     "name": "stdout",
     "output_type": "stream",
     "text": [
      "Result: \"\"\n"
     ]
    }
   ],
   "source": [
    "# Example 2\n",
    "\n",
    "s = \"abBAcC\"\n",
    "Solution().display(s)"
   ]
  },
  {
   "cell_type": "code",
   "execution_count": 4,
   "id": "71181751",
   "metadata": {},
   "outputs": [
    {
     "name": "stdout",
     "output_type": "stream",
     "text": [
      "Result: \"s\"\n"
     ]
    }
   ],
   "source": [
    "# Example 3\n",
    "\n",
    "s = \"s\"\n",
    "Solution().display(s)"
   ]
  },
  {
   "cell_type": "markdown",
   "id": "ad0774b8",
   "metadata": {},
   "source": [
    "**Idea:**  \n",
    "* Step1: Initialize a pointer point to the head of the input string.\n",
    "* Step2: If the adjacent characters are same, remove them.\n",
    "* Step3: Return the final answer after pointer point to the tail of the string.\n",
    "\n",
    "**Time Complexity:** $O(n)$  \n",
    "<img src=\"./Images/1544-1.png\" width=\"500\">"
   ]
  }
 ],
 "metadata": {
  "kernelspec": {
   "display_name": "Python 3 (ipykernel)",
   "language": "python",
   "name": "python3"
  },
  "language_info": {
   "codemirror_mode": {
    "name": "ipython",
    "version": 3
   },
   "file_extension": ".py",
   "mimetype": "text/x-python",
   "name": "python",
   "nbconvert_exporter": "python",
   "pygments_lexer": "ipython3",
   "version": "3.9.13"
  }
 },
 "nbformat": 4,
 "nbformat_minor": 5
}
