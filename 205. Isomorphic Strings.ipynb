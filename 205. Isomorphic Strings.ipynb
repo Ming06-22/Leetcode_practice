{
 "cells": [
  {
   "cell_type": "markdown",
   "id": "923ef13c",
   "metadata": {},
   "source": [
    "# 205. Isomorphic Strings"
   ]
  },
  {
   "cell_type": "markdown",
   "id": "4ec5950d",
   "metadata": {},
   "source": [
    "Given two strings `s` and `t`, determine if they are isomorphic.\n",
    "\n",
    "Two strings `s` and `t` are isomorphic if the characters in `s` can be replaced to get `t`.\n",
    "\n",
    "All occurrences of a character must be replaced with another character while preserving the order of characters. No two characters may map to the same character, but a character may map to itself.\n",
    "\n",
    "<https://leetcode.com/problems/isomorphic-strings/?envType=daily-question&envId=2024-04-02>\n",
    "\n",
    "**Constraint:**\n",
    "* <code>1 <= s.length <= 5 * 10<sup>4</sup></code>\n",
    "* `t.length == s.length`\n",
    "* `s` and `t` consist of any valid ascii character."
   ]
  },
  {
   "cell_type": "markdown",
   "id": "f8c3990c",
   "metadata": {},
   "source": [
    "Example 1:  \n",
    "> **Input:** s = \"egg\", t = \"add\"  \n",
    "> **Output:** true"
   ]
  },
  {
   "cell_type": "markdown",
   "id": "42034b90",
   "metadata": {},
   "source": [
    "Example 2:  \n",
    "> **Input:** s = \"foo\", t = \"bar\"  \n",
    "> **Output:** false"
   ]
  },
  {
   "cell_type": "markdown",
   "id": "c06d8e8e",
   "metadata": {},
   "source": [
    "Example 3:  \n",
    "> **Input:** s = \"paper\", t = \"title\"  \n",
    "> **Output:** true"
   ]
  },
  {
   "cell_type": "code",
   "execution_count": 1,
   "id": "e3f59cde",
   "metadata": {},
   "outputs": [],
   "source": [
    "from collections import defaultdict\n",
    "\n",
    "class Solution:\n",
    "    def isIsomorphic(self, s: str, t: str) -> bool:\n",
    "        record1, record2 = defaultdict(list), defaultdict(list)\n",
    "        for i, c in enumerate(s):\n",
    "            record1[c].append(i)\n",
    "        for i, c in enumerate(t):\n",
    "            record2[c].append(i)\n",
    "            \n",
    "        for r in record1.values():\n",
    "            if r != record2[t[r[0]]]:\n",
    "                return False\n",
    "        return True\n",
    "    \n",
    "    def display(self, s: str, t: str) -> None:\n",
    "        result = self.isIsomorphic(s, t)\n",
    "        print(f\"Result: {result}\")"
   ]
  },
  {
   "cell_type": "code",
   "execution_count": 2,
   "id": "ad284d0b",
   "metadata": {},
   "outputs": [
    {
     "name": "stdout",
     "output_type": "stream",
     "text": [
      "Result: True\n"
     ]
    }
   ],
   "source": [
    "# Example 1\n",
    "\n",
    "s, t = \"egg\", \"add\"\n",
    "Solution().display(s, t)"
   ]
  },
  {
   "cell_type": "code",
   "execution_count": 3,
   "id": "48b4983f",
   "metadata": {},
   "outputs": [
    {
     "name": "stdout",
     "output_type": "stream",
     "text": [
      "Result: False\n"
     ]
    }
   ],
   "source": [
    "# Example 2\n",
    "\n",
    "s, t = \"foo\", \"bar\"\n",
    "Solution().display(s, t)"
   ]
  },
  {
   "cell_type": "code",
   "execution_count": 4,
   "id": "92e12821",
   "metadata": {},
   "outputs": [
    {
     "name": "stdout",
     "output_type": "stream",
     "text": [
      "Result: True\n"
     ]
    }
   ],
   "source": [
    "# Example 3\n",
    "\n",
    "s, t = \"paper\", \"title\"\n",
    "Solution().display(s, t)"
   ]
  },
  {
   "cell_type": "markdown",
   "id": "ad0774b8",
   "metadata": {},
   "source": [
    "**Idea:**  \n",
    "* Step1: Record the index of elements in two input string.\n",
    "* Step2: Iterate the record.\n",
    "* Step3: Check whether all the indices can be corresponded.\n",
    "\n",
    "**Time Complexity:** $O(n)$  \n",
    "<img src=\"./Images/205-1.png\" width=\"500\">"
   ]
  }
 ],
 "metadata": {
  "kernelspec": {
   "display_name": "Python 3 (ipykernel)",
   "language": "python",
   "name": "python3"
  },
  "language_info": {
   "codemirror_mode": {
    "name": "ipython",
    "version": 3
   },
   "file_extension": ".py",
   "mimetype": "text/x-python",
   "name": "python",
   "nbconvert_exporter": "python",
   "pygments_lexer": "ipython3",
   "version": "3.9.13"
  }
 },
 "nbformat": 4,
 "nbformat_minor": 5
}
