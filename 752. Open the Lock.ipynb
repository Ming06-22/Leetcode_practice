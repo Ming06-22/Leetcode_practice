{
 "cells": [
  {
   "cell_type": "markdown",
   "id": "923ef13c",
   "metadata": {},
   "source": [
    "# 752. Open the Lock"
   ]
  },
  {
   "cell_type": "markdown",
   "id": "4ec5950d",
   "metadata": {},
   "source": [
    "You have a lock in front of you with 4 circular wheels. Each wheel has 10 slots: `'0', '1', '2', '3', '4', '5', '6', '7', '8', '9'`. The wheels can rotate freely and wrap around: for example we can turn `'9'` to be `'0'`, or `'0'` to be `'9'`. Each move consists of turning one wheel one slot.\n",
    "\n",
    "The lock initially starts at `'0000'`, a string representing the state of the 4 wheels.\n",
    "\n",
    "You are given a list of `deadends` dead ends, meaning if the lock displays any of these codes, the wheels of the lock will stop turning and you will be unable to open it.\n",
    "\n",
    "Given a `target` representing the value of the wheels that will unlock the lock, return the minimum total number of turns required to open the lock, or -1 if it is impossible.\n",
    "\n",
    "<https://leetcode.com/problems/open-the-lock/description/?envType=daily-question&envId=2024-04-22>\n",
    "\n",
    "**Constraint:**\n",
    "* `1 <= deadends.length <= 500`\n",
    "* `deadends[i].length == 4`\n",
    "* `target.length == 4`\n",
    "* target **will not be** in the list `deadends`.\n",
    "* `target` and `deadends[i]` consist of digits only."
   ]
  },
  {
   "cell_type": "markdown",
   "id": "f8c3990c",
   "metadata": {},
   "source": [
    "Example 1:  \n",
    "> **Input:** deadends = [\"0201\",\"0101\",\"0102\",\"1212\",\"2002\"], target = \"0202\"  \n",
    "> **Output:** 6  \n",
    "> **Explanation:**  \n",
    "> A sequence of valid moves would be \"0000\" -> \"1000\" -> \"1100\" -> \"1200\" -> \"1201\" -> \"1202\" -> \"0202\".  \n",
    "Note that a sequence like \"0000\" -> \"0001\" -> \"0002\" -> \"0102\" -> \"0202\" would be invalid, because the wheels of the lock become stuck after the display becomes the dead end \"0102\"."
   ]
  },
  {
   "cell_type": "markdown",
   "id": "aae5c943",
   "metadata": {},
   "source": [
    "Example 2:  \n",
    "> **Input:** deadends = [\"8888\"], target = \"0009\"  \n",
    "> **Output:** 1  \n",
    "> **Explanation:** We can turn the last wheel in reverse to move from \"0000\" -> \"0009\"."
   ]
  },
  {
   "cell_type": "markdown",
   "id": "0ca9507f",
   "metadata": {},
   "source": [
    "Example 3:  \n",
    "> **Input:** deadends = [\"8887\",\"8889\",\"8878\",\"8898\",\"8788\",\"8988\",\"7888\",\"9888\"], target = \"8888\"  \n",
    "> **Output:** -1  \n",
    "> **Explanation:** We cannot reach the target without getting stuck."
   ]
  },
  {
   "cell_type": "code",
   "execution_count": 1,
   "id": "f2be0910",
   "metadata": {},
   "outputs": [],
   "source": [
    "from typing import List\n",
    "\n",
    "class Solution:\n",
    "    def openLock(self, deadends: List[str], target: str) -> int:\n",
    "        if \"0000\" in deadends:\n",
    "            return -1\n",
    "        if target == \"0000\":\n",
    "            return 0\n",
    "        \n",
    "        def bfs():\n",
    "            temp = set()\n",
    "            for q in queue:\n",
    "                for i in range(4):\n",
    "                    a = str((int(q[i]) + 1) % 10)\n",
    "                    b = str((int(q[i]) - 1) % 10)\n",
    "\n",
    "                    a = q[: i] + a + q[i + 1: ]\n",
    "                    b = q[: i] + b + q[i + 1: ]\n",
    "\n",
    "                    if a not in deadends:\n",
    "                        temp.add(a)\n",
    "                        deadends.add(a)\n",
    "                    if b not in deadends:\n",
    "                        temp.add(b)\n",
    "                        deadends.add(b)\n",
    "\n",
    "            return temp\n",
    "                    \n",
    "        queue = set([\"0000\"])\n",
    "        deadends = set(deadends)\n",
    "        deadends.add(\"0000\")\n",
    "        result = 0\n",
    "        while queue:\n",
    "            result += 1\n",
    "            queue = bfs()\n",
    "            \n",
    "            if target in queue:\n",
    "                return result\n",
    "        return -1\n",
    "    \n",
    "    def display(self, deadends: List[str], target: str) -> None:\n",
    "        result = self.openLock(deadends, target)\n",
    "        print(f\"Result: {result}\")"
   ]
  },
  {
   "cell_type": "code",
   "execution_count": 2,
   "id": "ad284d0b",
   "metadata": {},
   "outputs": [
    {
     "name": "stdout",
     "output_type": "stream",
     "text": [
      "Result: 6\n"
     ]
    }
   ],
   "source": [
    "# Example 1\n",
    "\n",
    "deadends = [\"0201\", \"0101\", \"0102\", \"1212\", \"2002\"]\n",
    "target = \"0202\"\n",
    "Solution().display(deadends, target)"
   ]
  },
  {
   "cell_type": "code",
   "execution_count": 3,
   "id": "f03cf266",
   "metadata": {},
   "outputs": [
    {
     "name": "stdout",
     "output_type": "stream",
     "text": [
      "Result: 1\n"
     ]
    }
   ],
   "source": [
    "# Example 2\n",
    "\n",
    "deadends = [\"8888\"]\n",
    "target = \"0009\"\n",
    "Solution().display(deadends, target)"
   ]
  },
  {
   "cell_type": "code",
   "execution_count": 4,
   "id": "f2d626e5",
   "metadata": {},
   "outputs": [
    {
     "name": "stdout",
     "output_type": "stream",
     "text": [
      "Result: -1\n"
     ]
    }
   ],
   "source": [
    "# Example 3\n",
    "\n",
    "deadends = [\"8887\", \"8889\", \"8878\", \"8898\", \"8788\", \"8988\", \"7888\", \"9888\"]\n",
    "target = \"8888\"\n",
    "Solution().display(deadends, target)"
   ]
  },
  {
   "cell_type": "markdown",
   "id": "ad0774b8",
   "metadata": {},
   "source": [
    "**Idea:**  \n",
    "* Step1: Check whether the initial state is a deadend or the target.\n",
    "* Step2: Apply BFS to expand the nodes.\n",
    "* Step3: Check whether the target is found.\n",
    "\n",
    "**Time Complexity:** $O(V + E)$  \n",
    "<img src=\"./Images/752-1.png\" width=\"500\">"
   ]
  }
 ],
 "metadata": {
  "kernelspec": {
   "display_name": "Python 3 (ipykernel)",
   "language": "python",
   "name": "python3"
  },
  "language_info": {
   "codemirror_mode": {
    "name": "ipython",
    "version": 3
   },
   "file_extension": ".py",
   "mimetype": "text/x-python",
   "name": "python",
   "nbconvert_exporter": "python",
   "pygments_lexer": "ipython3",
   "version": "3.9.13"
  }
 },
 "nbformat": 4,
 "nbformat_minor": 5
}
