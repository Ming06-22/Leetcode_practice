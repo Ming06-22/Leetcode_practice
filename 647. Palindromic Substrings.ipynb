{
 "cells": [
  {
   "cell_type": "markdown",
   "id": "923ef13c",
   "metadata": {},
   "source": [
    "# 647. Palindromic Substrings"
   ]
  },
  {
   "cell_type": "markdown",
   "id": "4ec5950d",
   "metadata": {},
   "source": [
    "Given a string `s`, return the number of **palindromic substrings** in it.\n",
    "\n",
    "A string is a **palindrome** when it reads the same backward as forward.\n",
    "\n",
    "A **substring** is a contiguous sequence of characters within the string.\n",
    "\n",
    "<https://leetcode.com/problems/palindromic-substrings/?envType=daily-question&envId=2024-02-10>\n",
    "\n",
    "**Constraint:**\n",
    "* `1 <= s.length <= 1000`\n",
    "* `s` consists of lowercase English letters."
   ]
  },
  {
   "cell_type": "markdown",
   "id": "f8c3990c",
   "metadata": {},
   "source": [
    "Example 1:  \n",
    "> **Input:** s = \"abc\"  \n",
    "> **Output:** 3  \n",
    "> **Explanation:** Three palindromic strings: \"a\", \"b\", \"c\".  "
   ]
  },
  {
   "cell_type": "markdown",
   "id": "b1c5e40a",
   "metadata": {},
   "source": [
    "Example 2:\n",
    "> **Input:** s = \"aaa\"  \n",
    "> **Output:** 6  \n",
    "> **Explanation:** Six palindromic strings: \"a\", \"a\", \"a\", \"aa\", \"aa\", \"aaa\".  "
   ]
  },
  {
   "cell_type": "code",
   "execution_count": 1,
   "id": "e3f59cde",
   "metadata": {},
   "outputs": [],
   "source": [
    "class Solution:\n",
    "    def countSubstrings(self, s: str) -> int:\n",
    "        n = len(s)\n",
    "        result = 0\n",
    "        for a in range(n):\n",
    "            i, j = a, a\n",
    "            while 0 <= i < n and 0 <= j < n and s[i] == s[j]:\n",
    "                result += 1\n",
    "                i -= 1\n",
    "                j += 1\n",
    "\n",
    "            i, j = a, a + 1\n",
    "            while 0 <= i < n and 0 <= j < n and s[i] == s[j]:\n",
    "                result += 1\n",
    "                i -= 1\n",
    "                j += 1\n",
    "\n",
    "        return result\n",
    "    \n",
    "    def display(self, s: str) -> None:\n",
    "        result = self.countSubstrings(s = s)\n",
    "        print(f\"Result: {result}\")"
   ]
  },
  {
   "cell_type": "code",
   "execution_count": 2,
   "id": "ad284d0b",
   "metadata": {},
   "outputs": [
    {
     "name": "stdout",
     "output_type": "stream",
     "text": [
      "Result: 3\n"
     ]
    }
   ],
   "source": [
    "# Example 1\n",
    "\n",
    "s = \"abc\"\n",
    "Solution().display(s = s)"
   ]
  },
  {
   "cell_type": "code",
   "execution_count": 3,
   "id": "2a1910da",
   "metadata": {},
   "outputs": [
    {
     "name": "stdout",
     "output_type": "stream",
     "text": [
      "Result: 6\n"
     ]
    }
   ],
   "source": [
    "# Example 2\n",
    "\n",
    "s = \"aaa\"\n",
    "Solution().display(s = s)"
   ]
  },
  {
   "cell_type": "markdown",
   "id": "ad0774b8",
   "metadata": {},
   "source": [
    "**Idea:**  \n",
    "* Step1: Iterate the input string.\n",
    "* Step2: Center at the current point, expand gradually to check whether is palindrome.\n",
    "* Step3: Center at the current point and next point, expand gradually to check whether is palindrome.\n",
    "\n",
    "**Time Complexity:** $O(n^2)$\n",
    "<img src=\"./Images/647-1.png\" width=\"500\">"
   ]
  }
 ],
 "metadata": {
  "kernelspec": {
   "display_name": "Python 3 (ipykernel)",
   "language": "python",
   "name": "python3"
  },
  "language_info": {
   "codemirror_mode": {
    "name": "ipython",
    "version": 3
   },
   "file_extension": ".py",
   "mimetype": "text/x-python",
   "name": "python",
   "nbconvert_exporter": "python",
   "pygments_lexer": "ipython3",
   "version": "3.9.13"
  }
 },
 "nbformat": 4,
 "nbformat_minor": 5
}
