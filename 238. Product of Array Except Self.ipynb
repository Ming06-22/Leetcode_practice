{
 "cells": [
  {
   "cell_type": "markdown",
   "id": "923ef13c",
   "metadata": {},
   "source": [
    "# 238. Product of Array Except Self"
   ]
  },
  {
   "cell_type": "markdown",
   "id": "4ec5950d",
   "metadata": {},
   "source": [
    "Given an integer array `nums`, return an array `answer` such that `answer[i]` is equal to the product of all the elements of `nums` except `nums[i]`.\n",
    "\n",
    "The product of any prefix or suffix of `nums` is **guaranteed** to fit in a **32-bit** integer.\n",
    "\n",
    "You must write an algorithm that runs in `O(n)` time and without using the division operation.\n",
    "\n",
    "<https://leetcode.com/problems/product-of-array-except-self/?envType=daily-question&envId=2024-03-15>\n",
    "\n",
    "**Constraint:**\n",
    "* <code>2 <= nums.length <= 10<sup>5</sup></code>\n",
    "* `-30 <= nums[i] <= 30`\n",
    "* The product of any prefix or suffix of `nums` is **guaranteed** to fit in a **32-bit** integer."
   ]
  },
  {
   "cell_type": "markdown",
   "id": "f8c3990c",
   "metadata": {},
   "source": [
    "Example 1:  \n",
    "> **Input:** nums = [1,2,3,4]  \n",
    "> **Output:** [24,12,8,6]"
   ]
  },
  {
   "cell_type": "markdown",
   "id": "05507951-06a0-4904-a660-f9019b27ce66",
   "metadata": {},
   "source": [
    "Example 2:  \n",
    "> **Input:** nums = [-1,1,0,-3,3]  \n",
    "> **Output:** [0,0,9,0,0]"
   ]
  },
  {
   "cell_type": "code",
   "execution_count": 1,
   "id": "e3f59cde",
   "metadata": {},
   "outputs": [],
   "source": [
    "from typing import List\n",
    "\n",
    "class Solution:\n",
    "    def productExceptSelf(self, nums: List[int]) -> List[int]:\n",
    "        result = [1] * len(nums)\n",
    "        temp = 1\n",
    "        for i, n in enumerate(nums):\n",
    "            result[i] *= temp\n",
    "            temp *= n\n",
    "            \n",
    "        temp = 1\n",
    "        for i, n in enumerate(nums[: : -1]):\n",
    "            result[len(nums) - i - 1] *= temp\n",
    "            temp *= n\n",
    "        \n",
    "        return result\n",
    "\n",
    "    def display(self, nums: List[int]) -> None:\n",
    "        result = self.productExceptSelf(nums)\n",
    "        print(f\"Result: {result}\")"
   ]
  },
  {
   "cell_type": "code",
   "execution_count": 2,
   "id": "ad284d0b",
   "metadata": {},
   "outputs": [
    {
     "name": "stdout",
     "output_type": "stream",
     "text": [
      "Result: [24, 12, 8, 6]\n"
     ]
    }
   ],
   "source": [
    "# Example 1\n",
    "\n",
    "nums = [1, 2, 3, 4]\n",
    "Solution().display(nums)"
   ]
  },
  {
   "cell_type": "code",
   "execution_count": 3,
   "id": "d4f363f7-fdc6-4bb3-a8f3-d26bc935a39a",
   "metadata": {},
   "outputs": [
    {
     "name": "stdout",
     "output_type": "stream",
     "text": [
      "Result: [0, 0, 9, 0, 0]\n"
     ]
    }
   ],
   "source": [
    "# Example 2\n",
    "\n",
    "nums = [-1, 1, 0, -3, 3]\n",
    "Solution().display(nums)"
   ]
  },
  {
   "cell_type": "markdown",
   "id": "ad0774b8",
   "metadata": {},
   "source": [
    "**Idea:**  \n",
    "* Step1: Construct an initial result list with value of `1`.\n",
    "* Step2: Multiply prefix product.\n",
    "* Step3: Multiply suffix product.\n",
    "\n",
    "**Time Complexity:** $O(n)$  \n",
    "<img src=\"./Images/238-1.png\" width=\"500\">"
   ]
  }
 ],
 "metadata": {
  "kernelspec": {
   "display_name": "Python 3 (ipykernel)",
   "language": "python",
   "name": "python3"
  },
  "language_info": {
   "codemirror_mode": {
    "name": "ipython",
    "version": 3
   },
   "file_extension": ".py",
   "mimetype": "text/x-python",
   "name": "python",
   "nbconvert_exporter": "python",
   "pygments_lexer": "ipython3",
   "version": "3.9.18"
  }
 },
 "nbformat": 4,
 "nbformat_minor": 5
}
