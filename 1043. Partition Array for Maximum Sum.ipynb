{
 "cells": [
  {
   "cell_type": "markdown",
   "id": "923ef13c",
   "metadata": {},
   "source": [
    "# 1043. Partition Array for Maximum Sum"
   ]
  },
  {
   "cell_type": "markdown",
   "id": "4ec5950d",
   "metadata": {},
   "source": [
    "Given an integer array `arr`, partition the array into (contiguous) subarrays of length **at most** `k`. After partitioning, each subarray has their values changed to become the maximum value of that subarray.\n",
    "\n",
    "Return the largest sum of the given array after partitioning. Test cases are generated so that the answer fits in a **32-bit** integer.\n",
    "\n",
    "<https://leetcode.com/problems/partition-array-for-maximum-sum/?envType=daily-question&envId=2024-02-03>\n",
    "\n",
    "**Constraint:**\n",
    "* `1 <= arr.length <= 500`\n",
    "* `0 <= arr[i] <= 109`\n",
    "* `1 <= k <= arr.length`"
   ]
  },
  {
   "cell_type": "markdown",
   "id": "f8c3990c",
   "metadata": {},
   "source": [
    "Example 1:  \n",
    "> Input: arr = [1,15,7,9,2,5,10], k = 3  \n",
    "> Output: 84  \n",
    "> Explanation: arr becomes [15,15,15,9,10,10,10]  "
   ]
  },
  {
   "cell_type": "markdown",
   "id": "9615ee54",
   "metadata": {},
   "source": [
    "Example 2:  \n",
    "> Input: arr = [1,4,1,5,7,3,6,1,9,9,3], k = 4  \n",
    "> Output: 83  "
   ]
  },
  {
   "cell_type": "markdown",
   "id": "a72212de",
   "metadata": {},
   "source": [
    "Example 3:  \n",
    "> Input: arr = [1], k = 1  \n",
    "> Output: 1  "
   ]
  },
  {
   "cell_type": "code",
   "execution_count": 1,
   "id": "e3f59cde",
   "metadata": {},
   "outputs": [],
   "source": [
    "from typing import List\n",
    "\n",
    "class Solution:\n",
    "    def maxSumAfterPartitioning(self, arr: List[int], k: int) -> int:\n",
    "        result = [0] * (len(arr) + 1)\n",
    "        for i in range(1, len(arr) + 1):\n",
    "            temp = temp_sum = 0\n",
    "            for j in range(1, k + 1):\n",
    "                if i >= j:\n",
    "                    temp = max(temp, arr[i - j])\n",
    "                    temp_sum = max(temp_sum, result[i - j] + temp * j)\n",
    "            result[i] = temp_sum\n",
    "\n",
    "        return result[-1]\n",
    "    \n",
    "    def display(self, arr: List[int], k: int) -> None:\n",
    "        result = self.maxSumAfterPartitioning(arr = arr, k = k)\n",
    "        print(f\"Result: {result}\")"
   ]
  },
  {
   "cell_type": "code",
   "execution_count": 2,
   "id": "ad284d0b",
   "metadata": {},
   "outputs": [
    {
     "name": "stdout",
     "output_type": "stream",
     "text": [
      "Result: 84\n"
     ]
    }
   ],
   "source": [
    "# Example 1\n",
    "\n",
    "arr = [1,15,7,9,2,5,10]\n",
    "k = 3\n",
    "Solution().display(arr = arr, k = k)"
   ]
  },
  {
   "cell_type": "code",
   "execution_count": 3,
   "id": "ee7d8f8d",
   "metadata": {},
   "outputs": [
    {
     "name": "stdout",
     "output_type": "stream",
     "text": [
      "Result: 83\n"
     ]
    }
   ],
   "source": [
    "# Example 2\n",
    "\n",
    "arr = [1,4,1,5,7,3,6,1,9,9,3]\n",
    "k = 4\n",
    "Solution().display(arr = arr, k = k)"
   ]
  },
  {
   "cell_type": "code",
   "execution_count": 4,
   "id": "4b321477",
   "metadata": {},
   "outputs": [
    {
     "name": "stdout",
     "output_type": "stream",
     "text": [
      "Result: 1\n"
     ]
    }
   ],
   "source": [
    "# Example 3\n",
    "\n",
    "arr = [1]\n",
    "k = 1\n",
    "Solution().display(arr = arr, k = k)"
   ]
  },
  {
   "cell_type": "markdown",
   "id": "ad0774b8",
   "metadata": {},
   "source": [
    "**Idea:**  \n",
    "* Step1: Construct a dp array to store the result.\n",
    "* Step2: Iterate the dp array with dynammic programming.\n",
    "* Step3: Modifiy the dp array by the range of `k`.\n",
    "\n",
    "**Time Complexity:** $O($<code>len(arr)</code> $*$ <code>k</code>$)$\n",
    "<img src=\"./Images/1043-1.png\" width=\"500\">"
   ]
  }
 ],
 "metadata": {
  "kernelspec": {
   "display_name": "Python 3 (ipykernel)",
   "language": "python",
   "name": "python3"
  },
  "language_info": {
   "codemirror_mode": {
    "name": "ipython",
    "version": 3
   },
   "file_extension": ".py",
   "mimetype": "text/x-python",
   "name": "python",
   "nbconvert_exporter": "python",
   "pygments_lexer": "ipython3",
   "version": "3.9.13"
  }
 },
 "nbformat": 4,
 "nbformat_minor": 5
}
