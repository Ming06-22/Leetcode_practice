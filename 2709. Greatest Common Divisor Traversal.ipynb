{
 "cells": [
  {
   "cell_type": "markdown",
   "id": "923ef13c",
   "metadata": {},
   "source": [
    "# 2709. Greatest Common Divisor Traversal"
   ]
  },
  {
   "cell_type": "markdown",
   "id": "4ec5950d",
   "metadata": {},
   "source": [
    "You are given a **0-indexed** integer array `nums`, and you are allowed to **traverse** between its indices. You can traverse between index `i` and index `j`, `i != j`, if and only if `gcd(nums[i], nums[j]) > 1`, where `gcd` is the **greatest common divisor**.\n",
    "\n",
    "Your task is to determine if for **every pair** of indices `i` and `j` in nums, where `i < j`, there exists a **sequence of traversals** that can take us from `i` to `j`.\n",
    "\n",
    "Return `true` if it is possible to traverse between all such pairs of indices, or `false` otherwise.\n",
    "\n",
    "<https://leetcode.com/problems/greatest-common-divisor-traversal/description/?envType=daily-question&envId=2024-02-25>\n",
    "\n",
    "**Constraint:**\n",
    "* <code>1 <= nums.length <= 10<sup>5</sup></code>\n",
    "* <code>1 <= nums[i] <= 10<sup>5</sup></code>"
   ]
  },
  {
   "cell_type": "markdown",
   "id": "f8c3990c",
   "metadata": {},
   "source": [
    "Example 1:  \n",
    "> **Input:** nums = [2,3,6]  \n",
    "> **Output:** true  \n",
    "> **Explanation:** In this example, there are 3 possible pairs of indices: (0, 1), (0, 2), and (1, 2).  \n",
    "To go from index 0 to index 1, we can use the sequence of traversals 0 -> 2 -> 1, where we move from index 0 to index 2 because gcd(nums[0], nums[2]) = gcd(2, 6) = 2 > 1, and then move from index 2 to index 1 because gcd(nums[2], nums[1]) = gcd(6, 3) = 3 > 1.\n",
    "  To go from index 0 to index 2, we can just go directly because gcd(nums[0], nums[2]) = gcd(2, 6) = 2 > 1. Likewise, to go from index 1 to index 2, we can just go directly because gcd(nums[1], nums[2]) = gcd(3, 6) = 3 > 1."
   ]
  },
  {
   "cell_type": "markdown",
   "id": "78467731-dc82-48aa-8cec-3a5223910204",
   "metadata": {},
   "source": [
    "Example 2:  \n",
    "> **Input:** nums = [3,9,5]  \n",
    "> **Output:** false  \n",
    "> **Explanation:** No sequence of traversals can take us from index 0 to index 2 in this example. So, we return false."
   ]
  },
  {
   "cell_type": "markdown",
   "id": "d3ec549a-0bc0-4525-8eb2-c0a3122e0fc8",
   "metadata": {},
   "source": [
    "Example 3:  \n",
    "> **Input:** nums = [4,3,12,8]  \n",
    "> **Output:** true  \n",
    "> **Explanation:** There are 6 possible pairs of indices to traverse between: (0, 1), (0, 2), (0, 3), (1, 2), (1, 3), and (2, 3). A valid sequence of traversals exists for each pair, so we return true."
   ]
  },
  {
   "cell_type": "code",
   "execution_count": 1,
   "id": "e3f59cde",
   "metadata": {},
   "outputs": [],
   "source": [
    "from typing import List\n",
    "import math\n",
    "\n",
    "class Solution:\n",
    "    def canTraverseAllPairs(self, nums: List[int]) -> bool:\n",
    "        if len(nums) == 1:\n",
    "            return True\n",
    "\n",
    "        nums = set(nums)\n",
    "        if 1 in nums:\n",
    "            return False\n",
    "        if len(nums) == 1:\n",
    "            return True\n",
    "        \n",
    "        nums = sorted(nums, reverse = True)\n",
    "        for i in range(len(nums) - 1):\n",
    "            for j in range(i + 1, len(nums)):\n",
    "                if math.gcd(nums[i], nums[j]) != 1:\n",
    "                    nums[j] *= nums[i]\n",
    "                    break\n",
    "            else:\n",
    "                return False\n",
    "        return True\n",
    "\n",
    "    def display(self, nums: List[int]) -> None:\n",
    "        result = self.canTraverseAllPairs(nums)\n",
    "        print(f\"Result: {result}\")"
   ]
  },
  {
   "cell_type": "code",
   "execution_count": 2,
   "id": "ad284d0b",
   "metadata": {},
   "outputs": [
    {
     "name": "stdout",
     "output_type": "stream",
     "text": [
      "Result: True\n"
     ]
    }
   ],
   "source": [
    "# Example 1\n",
    "\n",
    "nums = [2, 3, 6]\n",
    "Solution().display(nums)"
   ]
  },
  {
   "cell_type": "code",
   "execution_count": 3,
   "id": "e6b440d4-8290-4e58-9d1e-02500bb9e9a2",
   "metadata": {},
   "outputs": [
    {
     "name": "stdout",
     "output_type": "stream",
     "text": [
      "Result: False\n"
     ]
    }
   ],
   "source": [
    "# Example 2\n",
    "\n",
    "nums = [3, 9, 5]\n",
    "Solution().display(nums)"
   ]
  },
  {
   "cell_type": "code",
   "execution_count": 4,
   "id": "210e0ab8-f324-4915-97bd-41a2cdd4da63",
   "metadata": {},
   "outputs": [
    {
     "name": "stdout",
     "output_type": "stream",
     "text": [
      "Result: True\n"
     ]
    }
   ],
   "source": [
    "# Example 1\n",
    "\n",
    "nums = [4, 3, 12, 8]\n",
    "Solution().display(nums)"
   ]
  },
  {
   "cell_type": "markdown",
   "id": "ad0774b8",
   "metadata": {},
   "source": [
    "**Idea:**  \n",
    "* Step1: Check whether the length of `nums` is 1.\n",
    "* Step2: Check whether `1` is in `nums` and whether all the numbers in `nums` are the same.\n",
    "* Step3: Sort `nums` by descending order.\n",
    "* Step4: Use a nested loop to help us iterate the `nums`, checking whether all the rotes are exists.\n",
    "\n",
    "**Time Complexity:** $O(n^2)$  \n",
    "<img src=\"./Images/2709-1.png\" width=\"500\">"
   ]
  }
 ],
 "metadata": {
  "kernelspec": {
   "display_name": "Python 3 (ipykernel)",
   "language": "python",
   "name": "python3"
  },
  "language_info": {
   "codemirror_mode": {
    "name": "ipython",
    "version": 3
   },
   "file_extension": ".py",
   "mimetype": "text/x-python",
   "name": "python",
   "nbconvert_exporter": "python",
   "pygments_lexer": "ipython3",
   "version": "3.9.18"
  }
 },
 "nbformat": 4,
 "nbformat_minor": 5
}
