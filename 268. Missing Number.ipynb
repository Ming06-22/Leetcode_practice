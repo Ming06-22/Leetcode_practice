{
 "cells": [
  {
   "cell_type": "markdown",
   "id": "923ef13c",
   "metadata": {},
   "source": [
    "# 268. Missing Number"
   ]
  },
  {
   "cell_type": "markdown",
   "id": "4ec5950d",
   "metadata": {},
   "source": [
    "Given an array `nums` containing `n` distinct numbers in the range `[0, n]`, return the only number in the range that is missing from the array.\n",
    "\n",
    "**Constraint:**\n",
    "* `n == nums.length`\n",
    "* <code>1 <= n <= 10<sup>4</sup></code>\n",
    "* `0 <= nums[i] <= n`\n",
    "* All the numbers of `nums` are unique."
   ]
  },
  {
   "cell_type": "markdown",
   "id": "f8c3990c",
   "metadata": {},
   "source": [
    "Example 1:  \n",
    "> **Input:** nums = [3,0,1]  \n",
    "> **Output:** 2  \n",
    "> **Explanation:** n = 3 since there are 3 numbers, so all numbers are in the range [0,3]. 2 is the missing number in the range since it does not appear in nums."
   ]
  },
  {
   "cell_type": "markdown",
   "id": "30bf20d6",
   "metadata": {},
   "source": [
    "Example 2:  \n",
    "> **Input:** nums = [0,1]  \n",
    "> **Output:** 2  \n",
    "> **Explanation:** n = 2 since there are 2 numbers, so all numbers are in the range [0,2]. 2 is the missing number in the range since it does not appear in nums."
   ]
  },
  {
   "cell_type": "markdown",
   "id": "c2c46c22",
   "metadata": {},
   "source": [
    "Example 3:  \n",
    "> **Input:** nums = [9,6,4,2,3,5,7,0,1]  \n",
    "> **Output:** 8  \n",
    "> **Explanation:** n = 9 since there are 9 numbers, so all numbers are in the range [0,9]. 8 is the missing number in the range since it does not appear in nums."
   ]
  },
  {
   "cell_type": "code",
   "execution_count": 1,
   "id": "e3f59cde",
   "metadata": {},
   "outputs": [],
   "source": [
    "from typing import List\n",
    "\n",
    "class Solution:\n",
    "    def missingNumber(self, nums: List[int]) -> int:\n",
    "        return (1 + len(nums)) * len(nums) // 2 - sum(nums)\n",
    "    \n",
    "    def display(self, nums: List[int]) -> None:\n",
    "        result = self.missingNumber(nums = nums)\n",
    "        print(f\"Result: {result}\")"
   ]
  },
  {
   "cell_type": "code",
   "execution_count": 2,
   "id": "ad284d0b",
   "metadata": {},
   "outputs": [
    {
     "name": "stdout",
     "output_type": "stream",
     "text": [
      "Result: 2\n"
     ]
    }
   ],
   "source": [
    "# Example 1\n",
    "\n",
    "nums = [3, 0, 1]\n",
    "Solution().display(nums = nums)"
   ]
  },
  {
   "cell_type": "code",
   "execution_count": 3,
   "id": "9df17679",
   "metadata": {},
   "outputs": [
    {
     "name": "stdout",
     "output_type": "stream",
     "text": [
      "Result: 2\n"
     ]
    }
   ],
   "source": [
    "# Example 2\n",
    "\n",
    "nums = [0, 1]\n",
    "Solution().display(nums = nums)"
   ]
  },
  {
   "cell_type": "code",
   "execution_count": 4,
   "id": "e8d95826",
   "metadata": {},
   "outputs": [
    {
     "name": "stdout",
     "output_type": "stream",
     "text": [
      "Result: 8\n"
     ]
    }
   ],
   "source": [
    "# Example 3\n",
    "\n",
    "nums = [9, 6, 4, 2, 3, 5, 7, 0, 1]\n",
    "Solution().display(nums = nums)"
   ]
  },
  {
   "cell_type": "markdown",
   "id": "ad0774b8",
   "metadata": {},
   "source": [
    "**Idea:**  \n",
    "* Step1: Summarize the elements in the input array.\n",
    "* Step2: Summarize the target numbers.\n",
    "* Step3: Return `Step2 - Step1` as result.\n",
    "\n",
    "**Time Complexity:** $O(n)$  \n",
    "<img src=\"./Images/268-1.png\" width=\"500\">"
   ]
  }
 ],
 "metadata": {
  "kernelspec": {
   "display_name": "Python 3 (ipykernel)",
   "language": "python",
   "name": "python3"
  },
  "language_info": {
   "codemirror_mode": {
    "name": "ipython",
    "version": 3
   },
   "file_extension": ".py",
   "mimetype": "text/x-python",
   "name": "python",
   "nbconvert_exporter": "python",
   "pygments_lexer": "ipython3",
   "version": "3.9.13"
  }
 },
 "nbformat": 4,
 "nbformat_minor": 5
}
