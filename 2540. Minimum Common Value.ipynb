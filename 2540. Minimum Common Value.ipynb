{
 "cells": [
  {
   "cell_type": "markdown",
   "id": "923ef13c",
   "metadata": {},
   "source": [
    "# 2540. Minimum Common Value"
   ]
  },
  {
   "cell_type": "markdown",
   "id": "4ec5950d",
   "metadata": {},
   "source": [
    "Given two integer arrays `nums1` and `nums2`, sorted in non-decreasing order, return the **minimum integer common** to both arrays. If there is no common integer amongst `nums1` and `nums2`, return `-1`.\n",
    "\n",
    "Note that an integer is said to be **common** to `nums1` and `nums2` if both arrays have **at least one** occurrence of that integer.\n",
    "\n",
    "<https://leetcode.com/problems/minimum-common-value/?envType=daily-question&envId=2024-03-09>\n",
    "\n",
    "**Constraint:**\n",
    "* <code>1 <= nums1.length, nums2.length <= 10<sup>5</sup></code>\n",
    "* <code>1 <= nums1[i], nums2[j] <= 10<sup>9</sup></code>\n",
    "* Both `nums1` and `nums2` are sorted in **non-decreasing** order."
   ]
  },
  {
   "cell_type": "markdown",
   "id": "f8c3990c",
   "metadata": {},
   "source": [
    "Example 1:  \n",
    "> **Input:** nums1 = [1,2,3], nums2 = [2,4]  \n",
    "> **Output:** 2  \n",
    "> **Explanation:** The smallest element common to both arrays is 2, so we return 2."
   ]
  },
  {
   "cell_type": "markdown",
   "id": "2fa51e04-d5f6-40b3-b7bc-22c78e55ba4d",
   "metadata": {},
   "source": [
    "Example 2:  \n",
    "> **Input:** nums1 = [1,2,3,6], nums2 = [2,3,4,5]  \n",
    "> **Output:** 2  \n",
    "> **Explanation:** There are two common elements in the array 2 and 3 out of which 2 is the smallest, so 2 is returned."
   ]
  },
  {
   "cell_type": "code",
   "execution_count": 1,
   "id": "e3f59cde",
   "metadata": {},
   "outputs": [],
   "source": [
    "from typing import List\n",
    "\n",
    "class Solution:\n",
    "    def getCommon(self, nums1: List[int], nums2: List[int]) -> int:\n",
    "        i1 = i2 = 0\n",
    "        while i1 < len(nums1) and i2 < len(nums2):\n",
    "            if nums1[i1] == nums2[i2]:\n",
    "                return nums1[i1]\n",
    "            elif nums1[i1] < nums2[i2]:\n",
    "                i1 += 1\n",
    "            else:\n",
    "                i2 += 1\n",
    "            \n",
    "        return -1\n",
    "\n",
    "    def display(self, nums1: List[int], nums2: List[int]) -> None:\n",
    "        result = self.getCommon(nums1, nums2)\n",
    "        print(f\"Result: {result}\")"
   ]
  },
  {
   "cell_type": "code",
   "execution_count": 2,
   "id": "ad284d0b",
   "metadata": {},
   "outputs": [
    {
     "name": "stdout",
     "output_type": "stream",
     "text": [
      "Result: 2\n"
     ]
    }
   ],
   "source": [
    "# Example 1\n",
    "\n",
    "nums1 = [1, 2, 3]\n",
    "nums2 = [2, 4]\n",
    "Solution().display(nums1, nums2)"
   ]
  },
  {
   "cell_type": "code",
   "execution_count": 3,
   "id": "81aa2a4f-a721-4083-b422-3c7e9e5e4690",
   "metadata": {},
   "outputs": [
    {
     "name": "stdout",
     "output_type": "stream",
     "text": [
      "Result: 2\n"
     ]
    }
   ],
   "source": [
    "# Example 2\n",
    "\n",
    "nums1 = [1, 2, 3, 6]\n",
    "nums2 = [2, 3, 4, 5]\n",
    "Solution().display(nums1, nums2)"
   ]
  },
  {
   "cell_type": "markdown",
   "id": "ad0774b8",
   "metadata": {},
   "source": [
    "**Idea:**  \n",
    "* Step1: Construct two pointers point to the head of two input list respectly.\n",
    "* Step2: If the value of first pointer point to is smaller than the second one, move the first pointer back, and vice versa.\n",
    "* Step3: If the value of two pointers point to are same, return the number.\n",
    "\n",
    "**Time Complexity:** $O(n)$  \n",
    "<img src=\"./Images/2540-1.png\" width=\"500\">"
   ]
  }
 ],
 "metadata": {
  "kernelspec": {
   "display_name": "Python 3 (ipykernel)",
   "language": "python",
   "name": "python3"
  },
  "language_info": {
   "codemirror_mode": {
    "name": "ipython",
    "version": 3
   },
   "file_extension": ".py",
   "mimetype": "text/x-python",
   "name": "python",
   "nbconvert_exporter": "python",
   "pygments_lexer": "ipython3",
   "version": "3.9.18"
  }
 },
 "nbformat": 4,
 "nbformat_minor": 5
}
