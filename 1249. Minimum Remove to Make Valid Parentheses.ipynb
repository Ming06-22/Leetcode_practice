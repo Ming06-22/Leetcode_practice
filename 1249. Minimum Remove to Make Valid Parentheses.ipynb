{
 "cells": [
  {
   "cell_type": "markdown",
   "id": "923ef13c",
   "metadata": {},
   "source": [
    "# 1249. Minimum Remove to Make Valid Parentheses"
   ]
  },
  {
   "cell_type": "markdown",
   "id": "4ec5950d",
   "metadata": {},
   "source": [
    "Given a string s of `'('` , `')'` and lowercase English characters.\n",
    "\n",
    "Your task is to remove the minimum number of parentheses (`'('` or `')'`, in any positions) so that the resulting parentheses string is valid and return **any** valid string.\n",
    "\n",
    "Formally, a parentheses string is valid if and only if:\n",
    "\n",
    "* It is the empty string, contains only lowercase characters, or\n",
    "* It can be written as `AB` (`A` concatenated with `B`), where `A` and `B` are valid strings, or\n",
    "* It can be written as `(A)`, where `A` is a valid string.\n",
    "\n",
    "<https://leetcode.com/problems/minimum-remove-to-make-valid-parentheses/description/?envType=daily-question&envId=2024-04-06>\n",
    "\n",
    "**Constraint:**\n",
    "* <code>1 <= s.length <= 10<sup>5</sup></code>\n",
    "* `s[i]` is either `'('`, `')'`, or lowercase English letter."
   ]
  },
  {
   "cell_type": "markdown",
   "id": "f8c3990c",
   "metadata": {},
   "source": [
    "Example 1:  \n",
    "> **Input:**: s = \"lee(t(c)o)de)\"  \n",
    "> **Output:** \"lee(t(c)o)de\"  \n",
    "> **Explanation:** \"lee(t(co)de)\" , \"lee(t(c)ode)\" would also be accepted.  "
   ]
  },
  {
   "cell_type": "markdown",
   "id": "e2bddb4e",
   "metadata": {},
   "source": [
    "Example 2:  \n",
    "> **Input:**: s = \"a)b(c)d\"  \n",
    "> **Output:** \"ab(c)d\""
   ]
  },
  {
   "cell_type": "markdown",
   "id": "a0dc34ec",
   "metadata": {},
   "source": [
    "Example 3:  \n",
    "> **Input:**: s = \"))((\"  \n",
    "> **Output:** \"\"  \n",
    "> **Explanation:** An empty string is also valid."
   ]
  },
  {
   "cell_type": "code",
   "execution_count": 1,
   "id": "e3f59cde",
   "metadata": {},
   "outputs": [],
   "source": [
    "class Solution:\n",
    "    def minRemoveToMakeValid(self, s: str) -> str:\n",
    "        stack = []\n",
    "        i = 0\n",
    "        while i < len(s):\n",
    "            if s[i] == \"(\":\n",
    "                stack.append(i)\n",
    "                i += 1\n",
    "            elif s[i] == \")\":\n",
    "                if stack:\n",
    "                    stack.pop()\n",
    "                    i += 1\n",
    "                else:\n",
    "                    s = s[: i] + s[i + 1: ]\n",
    "            else:\n",
    "                i += 1\n",
    "        \n",
    "        while stack:\n",
    "            i = stack.pop()\n",
    "            s = s[: i] + s[i + 1: ]\n",
    "\n",
    "        return s\n",
    "    \n",
    "    def display(self, s: str) -> None:\n",
    "        result = self.minRemoveToMakeValid(s)\n",
    "        print(f\"Result: \\\"{result}\\\"\")"
   ]
  },
  {
   "cell_type": "code",
   "execution_count": 2,
   "id": "ad284d0b",
   "metadata": {},
   "outputs": [
    {
     "name": "stdout",
     "output_type": "stream",
     "text": [
      "Result: \"lee(t(c)o)de\"\n"
     ]
    }
   ],
   "source": [
    "# Example 1\n",
    "\n",
    "s = \"lee(t(c)o)de)\"\n",
    "Solution().display(s)"
   ]
  },
  {
   "cell_type": "code",
   "execution_count": 3,
   "id": "e4deaf08",
   "metadata": {},
   "outputs": [
    {
     "name": "stdout",
     "output_type": "stream",
     "text": [
      "Result: \"ab(c)d\"\n"
     ]
    }
   ],
   "source": [
    "# Example 2\n",
    "\n",
    "s = \"a)b(c)d\"\n",
    "Solution().display(s)"
   ]
  },
  {
   "cell_type": "code",
   "execution_count": 4,
   "id": "8a0e55a6",
   "metadata": {},
   "outputs": [
    {
     "name": "stdout",
     "output_type": "stream",
     "text": [
      "Result: \"\"\n"
     ]
    }
   ],
   "source": [
    "# Example 3\n",
    "\n",
    "s = \"))((\"\n",
    "Solution().display(s)"
   ]
  },
  {
   "cell_type": "markdown",
   "id": "ad0774b8",
   "metadata": {},
   "source": [
    "**Idea:**  \n",
    "* Step1: Iterate the input string.\n",
    "* Step2: Find the indices we need to remove.\n",
    "* Step3: Remove the indices.\n",
    "\n",
    "**Time Complexity:** $O(n)$  \n",
    "<img src=\"./Images/1249-1.png\" width=\"500\">"
   ]
  }
 ],
 "metadata": {
  "kernelspec": {
   "display_name": "Python 3 (ipykernel)",
   "language": "python",
   "name": "python3"
  },
  "language_info": {
   "codemirror_mode": {
    "name": "ipython",
    "version": 3
   },
   "file_extension": ".py",
   "mimetype": "text/x-python",
   "name": "python",
   "nbconvert_exporter": "python",
   "pygments_lexer": "ipython3",
   "version": "3.9.13"
  }
 },
 "nbformat": 4,
 "nbformat_minor": 5
}
