{
 "cells": [
  {
   "cell_type": "markdown",
   "id": "13c465da",
   "metadata": {},
   "source": [
    "# 576. Out of Boundary Paths"
   ]
  },
  {
   "cell_type": "markdown",
   "id": "b8429580",
   "metadata": {},
   "source": [
    "There is an `m x n` grid with a ball. The ball is initially at the position `[startRow, startColumn]`. You are allowed to move the ball to one of the four adjacent cells in the grid (possibly out of the grid crossing the grid boundary). You can apply **at most** `maxMove` moves to the ball.  \n",
    "\n",
    "Given the five integers `m`, `n`, `maxMove`, `startRow`, `startColumn`, return the number of paths to move the ball out of the grid boundary. Since the answer can be very large, return it **modulo** <code>10<sup>9</sup> + 7</code>.  \n",
    " \n",
    "https://leetcode.com/problems/out-of-boundary-paths/description/?envType=daily-question&envId=2024-01-26"
   ]
  },
  {
   "cell_type": "markdown",
   "id": "b5ba5db0",
   "metadata": {},
   "source": [
    "**Constraints**\n",
    " - `1 <= m, n <= 50`\n",
    " - `0 <= maxMove <= 50`\n",
    " - `0 <= startRow < m`\n",
    " - `0 <= startColumn < n`"
   ]
  },
  {
   "cell_type": "markdown",
   "id": "e1db80c3",
   "metadata": {},
   "source": [
    "Example 1:  \n",
    "\n",
    "<img src=\"./Images/576-1.png\" width=\"500\">\n",
    "\n",
    "> Input: m = 2, n = 2, maxMove = 2, startRow = 0, startColumn = 0  \n",
    "> Output: 6"
   ]
  },
  {
   "cell_type": "markdown",
   "id": "33d632fe",
   "metadata": {},
   "source": [
    "Example 2: \n",
    "\n",
    "<img src=\"./Images/576-2.png\" width=\"500\">\n",
    "\n",
    "> Input: m = 1, n = 3, maxMove = 3, startRow = 0, startColumn = 1  \n",
    "> Output: 12  "
   ]
  },
  {
   "cell_type": "code",
   "execution_count": 1,
   "id": "16434167",
   "metadata": {},
   "outputs": [],
   "source": [
    "class Solution:\n",
    "    def findPaths(self, m: int, n: int, maxMove: int, startRow: int, startColumn: int) -> int:\n",
    "        dp = [[[0] * (maxMove + 1) for _ in range(n)] for _ in range(m)]\n",
    "        dp[startRow][startColumn][0] = 1\n",
    "        result = 0\n",
    "\n",
    "        directions = [(-1, 0), (1, 0), (0, 1), (0, -1)]\n",
    "        for move in range(maxMove):\n",
    "            for x in range(m):\n",
    "                for y in range(n):\n",
    "                    if dp[x][y][move] > 0:\n",
    "                        for dx, dy in directions:\n",
    "                            if 0 <= x + dx < m and 0 <= y + dy < n:\n",
    "                                dp[x + dx][y + dy][move + 1] = dp[x + dx][y + dy][move + 1] + dp[x][y][move]\n",
    "                            else:\n",
    "                                result += dp[x][y][move]\n",
    "\n",
    "        return result % (10 ** 9 + 7)\n",
    "    \n",
    "    def display(self, m: int, n: int, maxMove: int, startRow: int, startColumn: int) -> None:\n",
    "        result = self.findPaths(m = m, n = n, maxMove = maxMove, startRow = startRow, startColumn = startColumn)\n",
    "        print(f\"Result: {result} paths\")"
   ]
  },
  {
   "cell_type": "code",
   "execution_count": 2,
   "id": "5273d24b",
   "metadata": {},
   "outputs": [
    {
     "name": "stdout",
     "output_type": "stream",
     "text": [
      "Result: 6 paths\n"
     ]
    }
   ],
   "source": [
    "# Example 1\n",
    "Solution().display(m = 2, n = 2, maxMove = 2, startRow = 0, startColumn = 0)"
   ]
  },
  {
   "cell_type": "code",
   "execution_count": 3,
   "id": "23cb43aa",
   "metadata": {},
   "outputs": [
    {
     "name": "stdout",
     "output_type": "stream",
     "text": [
      "Result: 12 paths\n"
     ]
    }
   ],
   "source": [
    "# Example 2\n",
    "Solution().display(m = 1, n = 3, maxMove = 3, startRow = 0, startColumn = 1)"
   ]
  },
  {
   "cell_type": "markdown",
   "id": "63998e9d",
   "metadata": {},
   "source": [
    "**Idea:** \n",
    "  - Step1: Construct dynamic programming matrix to store every move's state\n",
    "  - Step2: Iterate every moves to update the current state of the possible position of the ball\n",
    "  - Step3: Summarize the number of balls out of boundary\n",
    "\n",
    "**Time Complexity:** $ O (m * n * maxMove) $  \n",
    "<img src=\"./Images/576-3.png\" width=\"500\">"
   ]
  }
 ],
 "metadata": {
  "kernelspec": {
   "display_name": "Python 3 (ipykernel)",
   "language": "python",
   "name": "python3"
  },
  "language_info": {
   "codemirror_mode": {
    "name": "ipython",
    "version": 3
   },
   "file_extension": ".py",
   "mimetype": "text/x-python",
   "name": "python",
   "nbconvert_exporter": "python",
   "pygments_lexer": "ipython3",
   "version": "3.9.13"
  }
 },
 "nbformat": 4,
 "nbformat_minor": 5
}
