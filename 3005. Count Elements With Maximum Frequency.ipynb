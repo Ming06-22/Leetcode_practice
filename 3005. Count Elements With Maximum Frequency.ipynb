{
 "cells": [
  {
   "cell_type": "markdown",
   "id": "923ef13c",
   "metadata": {},
   "source": [
    "# 3005. Count Elements With Maximum Frequency"
   ]
  },
  {
   "cell_type": "markdown",
   "id": "4ec5950d",
   "metadata": {},
   "source": [
    "You are given an array `nums` consisting of **positive** integers.\n",
    "\n",
    "Return the **total frequencies** of elements in `nums` such that those elements all have the **maximum** frequency.\n",
    "\n",
    "The **frequency** of an element is the number of occurrences of that element in the array.\n",
    "\n",
    "\n",
    "\n",
    "**Constraint:**\n",
    "* `1 <= nums.length <= 100`\n",
    "* `1 <= nums[i] <= 100`"
   ]
  },
  {
   "cell_type": "markdown",
   "id": "f8c3990c",
   "metadata": {},
   "source": [
    "Example 1:  \n",
    "> **Input:** nums = [1,2,2,3,1,4]  \n",
    "> **Output:** 4  \n",
    "> **Explanation:** The elements 1 and 2 have a frequency of 2 which is the maximum frequency in the array.  \n",
    "So the number of elements in the array with maximum frequency is 4."
   ]
  },
  {
   "cell_type": "markdown",
   "id": "99fdfa08-f6b8-4c03-aca7-d4a081bc220c",
   "metadata": {},
   "source": [
    "Example 2:  \n",
    "> **Input:** nums = [1,2,3,4,5]  \n",
    "> **Output:** 5  \n",
    "> **Explanation:** All elements of the array have a frequency of 1 which is the maximum.  \n",
    "So the number of elements in the array with maximum frequency is 5."
   ]
  },
  {
   "cell_type": "code",
   "execution_count": 1,
   "id": "e3f59cde",
   "metadata": {},
   "outputs": [],
   "source": [
    "from collections import Counter\n",
    "from typing import List\n",
    "\n",
    "class Solution:\n",
    "    def maxFrequencyElements(self, nums: List[int]) -> int:\n",
    "        record = Counter(nums)\n",
    "        result = temp = 0\n",
    "        for v in record.values():\n",
    "            if v > temp:\n",
    "                temp = v\n",
    "                result = v\n",
    "            elif v == temp:\n",
    "                result += v\n",
    "        \n",
    "        return result\n",
    "\n",
    "    def display(self, nums: List[int]) -> None:\n",
    "        result = self.maxFrequencyElements(nums)\n",
    "        print(f\"Result: {result}\")"
   ]
  },
  {
   "cell_type": "code",
   "execution_count": 2,
   "id": "ad284d0b",
   "metadata": {},
   "outputs": [
    {
     "name": "stdout",
     "output_type": "stream",
     "text": [
      "Result: 4\n"
     ]
    }
   ],
   "source": [
    "# Example 1\n",
    "\n",
    "nums = [1, 2, 2, 3, 1, 4]\n",
    "Solution().display(nums)"
   ]
  },
  {
   "cell_type": "code",
   "execution_count": 3,
   "id": "68c57d86-8ce4-4667-92cb-bee2f6712f2d",
   "metadata": {},
   "outputs": [
    {
     "name": "stdout",
     "output_type": "stream",
     "text": [
      "Result: 5\n"
     ]
    }
   ],
   "source": [
    "# Example 2\n",
    "\n",
    "nums = [1, 2, 3, 4, 5]\n",
    "Solution().display(nums)"
   ]
  },
  {
   "cell_type": "markdown",
   "id": "ad0774b8",
   "metadata": {},
   "source": [
    "**Idea:**  \n",
    "* Step1: Record the frequency of the input list.\n",
    "* Step2: Iterate the frequency record.\n",
    "* Step3: Sum up the number of maximum frequency.\n",
    "\n",
    "**Time Complexity:** $O(n)$  \n",
    "<img src=\"./Images/3005-1.png\" width=\"500\">"
   ]
  }
 ],
 "metadata": {
  "kernelspec": {
   "display_name": "Python 3 (ipykernel)",
   "language": "python",
   "name": "python3"
  },
  "language_info": {
   "codemirror_mode": {
    "name": "ipython",
    "version": 3
   },
   "file_extension": ".py",
   "mimetype": "text/x-python",
   "name": "python",
   "nbconvert_exporter": "python",
   "pygments_lexer": "ipython3",
   "version": "3.9.18"
  }
 },
 "nbformat": 4,
 "nbformat_minor": 5
}
