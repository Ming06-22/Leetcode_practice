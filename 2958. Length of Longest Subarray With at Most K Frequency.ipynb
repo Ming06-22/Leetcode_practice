{
 "cells": [
  {
   "cell_type": "markdown",
   "id": "923ef13c",
   "metadata": {},
   "source": [
    "# 2958. Length of Longest Subarray With at Most K Frequency"
   ]
  },
  {
   "cell_type": "markdown",
   "id": "4ec5950d",
   "metadata": {},
   "source": [
    "You are given an integer array `nums` and an integer `k`.\n",
    "\n",
    "The **frequency** of an element `x` is the number of times it occurs in an array.\n",
    "\n",
    "An array is called **good** if the frequency of each element in this array is **less than or equal** to `k`.\n",
    "\n",
    "Return the length of the **longest good** subarray of `nums`.\n",
    "\n",
    "A **subarray** is a contiguous non-empty sequence of elements within an array.\n",
    "\n",
    "<https://leetcode.com/problems/length-of-longest-subarray-with-at-most-k-frequency/description/?envType=daily-question&envId=2024-03-28>\n",
    "\n",
    "**Constraint:**\n",
    "* <code>1 <= nums.length <= 10<sup>5</sup></code>\n",
    "* <code>1 <= nums[i] <= 10<sup>9</sup></code>\n",
    "* `1 <= k <= nums.length`"
   ]
  },
  {
   "cell_type": "markdown",
   "id": "f8c3990c",
   "metadata": {},
   "source": [
    "Example 1:  \n",
    "> **Input:** nums = [1,2,3,1,2,3,1,2], k = 2  \n",
    "> **Output:** 6  \n",
    "> **Explanation:** The longest possible good subarray is [1,2,3,1,2,3] since the values 1, 2, and 3 occur at most twice in this subarray. Note that the subarrays [2,3,1,2,3,1] and [3,1,2,3,1,2] are also good.  \n",
    "It can be shown that there are no good subarrays with length more than 6."
   ]
  },
  {
   "cell_type": "markdown",
   "id": "c8747ed9",
   "metadata": {},
   "source": [
    "Example 2:  \n",
    "> **Input:** nums = [1,2,1,2,1,2,1,2], k = 1  \n",
    "> **Output:** 2  \n",
    "> **Explanation:** The longest possible good subarray is [1,2] since the values 1 and 2 occur at most once in this subarray. Note that the subarray [2,1] is also good.  \n",
    "It can be shown that there are no good subarrays with length more than 2."
   ]
  },
  {
   "cell_type": "markdown",
   "id": "50ca7fca",
   "metadata": {},
   "source": [
    "Example 3:  \n",
    "> **Input:** nums = [5,5,5,5,5,5,5], k = 4  \n",
    "> **Output:** 4  \n",
    "> **Explanation:** The longest possible good subarray is [5,5,5,5] since the value 5 occurs 4 times in this subarray.  \n",
    "It can be shown that there are no good subarrays with length more than 4."
   ]
  },
  {
   "cell_type": "code",
   "execution_count": 1,
   "id": "e3f59cde",
   "metadata": {},
   "outputs": [],
   "source": [
    "from typing import List\n",
    "from collections import defaultdict\n",
    "\n",
    "class Solution:\n",
    "    def maxSubarrayLength(self, nums: List[int], k: int) -> int:\n",
    "        record = defaultdict(list)\n",
    "        result = l = 0\n",
    "        for r, n in enumerate(nums):\n",
    "            if len(record[n]) < k:\n",
    "                record[n].append(r)\n",
    "                result = max(r - l + 1, result)\n",
    "            else:\n",
    "                temp = record[n][0] + 1\n",
    "                record[n].append(r)\n",
    "                for i in range(l, temp):\n",
    "                    record[nums[i]].pop(0)\n",
    "                l = temp\n",
    "        \n",
    "        return result\n",
    "    \n",
    "    def display(self, nums: List[int], k: int) -> None:\n",
    "        result = self.maxSubarrayLength(nums, k)\n",
    "        print(f\"Result: {result}\")"
   ]
  },
  {
   "cell_type": "code",
   "execution_count": 2,
   "id": "ad284d0b",
   "metadata": {},
   "outputs": [
    {
     "name": "stdout",
     "output_type": "stream",
     "text": [
      "Result: 6\n"
     ]
    }
   ],
   "source": [
    "# Example 1\n",
    "\n",
    "nums = [1, 2, 3, 1, 2, 3, 1, 2]\n",
    "k = 2\n",
    "Solution().display(nums, k)"
   ]
  },
  {
   "cell_type": "code",
   "execution_count": 3,
   "id": "7ab827a1",
   "metadata": {},
   "outputs": [
    {
     "name": "stdout",
     "output_type": "stream",
     "text": [
      "Result: 2\n"
     ]
    }
   ],
   "source": [
    "# Example 2\n",
    "\n",
    "nums = [1, 2, 1, 2, 1, 2, 1, 2]\n",
    "k = 1\n",
    "Solution().display(nums, k)"
   ]
  },
  {
   "cell_type": "code",
   "execution_count": 4,
   "id": "a3b1d1f4",
   "metadata": {},
   "outputs": [
    {
     "name": "stdout",
     "output_type": "stream",
     "text": [
      "Result: 4\n"
     ]
    }
   ],
   "source": [
    "# Example 3\n",
    "\n",
    "nums = [5, 5, 5, 5, 5, 5, 5]\n",
    "k = 4\n",
    "Solution().display(nums, k)"
   ]
  },
  {
   "cell_type": "markdown",
   "id": "ad0774b8",
   "metadata": {},
   "source": [
    "**Idea:**  \n",
    "* Step1: Initialize a dictionary to record the index of each elements.\n",
    "* Step2: Iterate the input list.\n",
    "* Step3: Move the slide window and modify the result of longest subarray.\n",
    "\n",
    "**Time Complexity:** $O(n)$  \n",
    "<img src=\"./Images/2958-1.png\" width=\"500\">"
   ]
  }
 ],
 "metadata": {
  "kernelspec": {
   "display_name": "Python 3 (ipykernel)",
   "language": "python",
   "name": "python3"
  },
  "language_info": {
   "codemirror_mode": {
    "name": "ipython",
    "version": 3
   },
   "file_extension": ".py",
   "mimetype": "text/x-python",
   "name": "python",
   "nbconvert_exporter": "python",
   "pygments_lexer": "ipython3",
   "version": "3.9.13"
  }
 },
 "nbformat": 4,
 "nbformat_minor": 5
}
