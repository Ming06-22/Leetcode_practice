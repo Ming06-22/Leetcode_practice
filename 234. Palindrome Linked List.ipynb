{
 "cells": [
  {
   "cell_type": "markdown",
   "id": "923ef13c",
   "metadata": {},
   "source": [
    "# 234. Palindrome Linked List"
   ]
  },
  {
   "cell_type": "markdown",
   "id": "4ec5950d",
   "metadata": {},
   "source": [
    "Given the `head` of a singly linked list, return `true` if it is a palindrome or `false` otherwise.\n",
    "\n",
    "<https://leetcode.com/problems/palindrome-linked-list/?envType=daily-question&envId=2024-03-22>\n",
    "\n",
    "**Constraint:**\n",
    "* The number of nodes in the list is in the range <code>[1, 10<sup>5</sup>]</code>.\n",
    "* `0 <= Node.val <= 9`"
   ]
  },
  {
   "cell_type": "markdown",
   "id": "f8c3990c",
   "metadata": {},
   "source": [
    "Example 1:  \n",
    "\n",
    "<img src=\"./Images/234-1.png\" width=\"300\">\n",
    "\n",
    "> **Input:** head = [1,2,2,1]  \n",
    "> **Output:** true"
   ]
  },
  {
   "cell_type": "markdown",
   "id": "760b8bf1",
   "metadata": {},
   "source": [
    "Example 2:  \n",
    "\n",
    "<img src=\"./Images/234-2.png\" width=\"100\">\n",
    "\n",
    "> **Input:** head = [1,2]  \n",
    "> **Output:** false"
   ]
  },
  {
   "cell_type": "code",
   "execution_count": 2,
   "id": "e3f59cde",
   "metadata": {},
   "outputs": [],
   "source": [
    "from typing import Optional\n",
    "import math\n",
    "\n",
    "class ListNode:\n",
    "    def __init__(self, val = 0, next = None):\n",
    "        self.val = val\n",
    "        self.next = next\n",
    "        \n",
    "class Solution:\n",
    "    def isPalindrome(self, head: Optional[ListNode]) -> bool:\n",
    "        record = []\n",
    "        while head:\n",
    "            record.append(head.val)\n",
    "            head = head.next\n",
    "        \n",
    "        return record[: len(record) // 2] == record[math.ceil(len(record) / 2): ][: : -1]\n",
    "    \n",
    "    def display(self, head: Optional[ListNode]) -> None:\n",
    "        result = self.isPalindrome(head)\n",
    "        print(f\"Result: {result}\")"
   ]
  },
  {
   "cell_type": "code",
   "execution_count": 3,
   "id": "ad284d0b",
   "metadata": {},
   "outputs": [
    {
     "name": "stdout",
     "output_type": "stream",
     "text": [
      "Result: True\n"
     ]
    }
   ],
   "source": [
    "# Example 1\n",
    "\n",
    "head = ListNode(1, ListNode(2, ListNode(2, ListNode(1))))\n",
    "Solution().display(head)"
   ]
  },
  {
   "cell_type": "code",
   "execution_count": 4,
   "id": "071a9f67",
   "metadata": {
    "scrolled": true
   },
   "outputs": [
    {
     "name": "stdout",
     "output_type": "stream",
     "text": [
      "Result: False\n"
     ]
    }
   ],
   "source": [
    "# Example 2\n",
    "\n",
    "head = ListNode(1, ListNode(2))\n",
    "Solution().display(head)"
   ]
  },
  {
   "cell_type": "markdown",
   "id": "ad0774b8",
   "metadata": {},
   "source": [
    "**Idea:**  \n",
    "* Step1: Iterate the linked list to record all the values.\n",
    "* Step2: Check whether the list is palindrome.\n",
    "\n",
    "**Time Complexity:** $O(n)$  \n",
    "<img src=\"./Images/234-3.png\" width=\"500\">"
   ]
  }
 ],
 "metadata": {
  "kernelspec": {
   "display_name": "Python 3 (ipykernel)",
   "language": "python",
   "name": "python3"
  },
  "language_info": {
   "codemirror_mode": {
    "name": "ipython",
    "version": 3
   },
   "file_extension": ".py",
   "mimetype": "text/x-python",
   "name": "python",
   "nbconvert_exporter": "python",
   "pygments_lexer": "ipython3",
   "version": "3.9.13"
  }
 },
 "nbformat": 4,
 "nbformat_minor": 5
}
