{
 "cells": [
  {
   "cell_type": "markdown",
   "id": "923ef13c",
   "metadata": {},
   "source": [
    "# 1992. Find All Groups of Farmland"
   ]
  },
  {
   "cell_type": "markdown",
   "id": "4ec5950d",
   "metadata": {},
   "source": [
    "You are given a **0-indexed** `m x n` binary matrix `land` where a `0` represents a hectare of forested land and a `1` represents a hectare of farmland.\n",
    "\n",
    "To keep the land organized, there are designated rectangular areas of hectares that consist **entirely** of farmland. These rectangular areas are called **groups**. No two groups are adjacent, meaning farmland in one group is **not** four-directionally adjacent to another farmland in a different group.\n",
    "\n",
    "`land` can be represented by a coordinate system where the top left corner of `land` is `(0, 0)` and the bottom right corner of `land` is `(m-1, n-1)`. Find the coordinates of the top left and bottom right corner of each **group** of farmland. A **group** of farmland with a top left corner at `(r1, c1)` and a bottom right corner at `(r2, c2)` is represented by the 4-length array `[r1, c1, r2, c2]`.\n",
    "\n",
    "Return a 2D array containing the 4-length arrays described above for each **group** of farmland in `land`. If there are no groups of farmland, return an empty array. You may return the answer in **any order**.\n",
    "\n",
    "<https://leetcode.com/problems/find-all-groups-of-farmland/?envType=daily-question&envId=2024-04-20>\n",
    "\n",
    "**Constraint:**\n",
    "* `m == land.length`\n",
    "* `n == land[i].length`\n",
    "* `1 <= m, n <= 300`\n",
    "* `land` consists of only `0`'s and `1`'s.\n",
    "* Groups of farmland are **rectangular** in shape."
   ]
  },
  {
   "cell_type": "markdown",
   "id": "f8c3990c",
   "metadata": {},
   "source": [
    "Example 1:  \n",
    "\n",
    "<img src=\"./Images/1992-1.png\" width=\"150\">\n",
    "\n",
    "> **Input:** land = [[1,0,0],[0,1,1],[0,1,1]]  \n",
    "> **Output:** [[0,0,0,0],[1,1,2,2]]  \n",
    "> **Explanation:**  \n",
    "> The first group has a top left corner at land[0][0] and a bottom right corner at land[0][0].  \n",
    "> The second group has a top left corner at land[1][1] and a bottom right corner at land[2][2]."
   ]
  },
  {
   "cell_type": "markdown",
   "id": "31124197",
   "metadata": {},
   "source": [
    "Example 2:  \n",
    "\n",
    "<img src=\"./Images/1992-2.png\" width=\"100\">\n",
    "\n",
    "> **Input:** land = [[1,1],[1,1]]  \n",
    "> **Output:** [[0,0,1,1]]  \n",
    "> **Explanation:**  \n",
    "> The first group has a top left corner at land[0][0] and a bottom right corner at land[1][1]."
   ]
  },
  {
   "cell_type": "markdown",
   "id": "8af456e3",
   "metadata": {},
   "source": [
    "Example 3:  \n",
    "\n",
    "<img src=\"./Images/1992-3.png\" width=\"50\">\n",
    "\n",
    "> **Input:** land = [[0]]  \n",
    "> **Output:** []  \n",
    "> **Explanation:**  \n",
    "> There are no groups of farmland."
   ]
  },
  {
   "cell_type": "code",
   "execution_count": 1,
   "id": "e3f59cde",
   "metadata": {},
   "outputs": [],
   "source": [
    "from typing import List\n",
    "\n",
    "class Solution:\n",
    "    def findFarmland(self, land: List[List[int]]) -> List[List[int]]:\n",
    "        def expand(r, c):\n",
    "            while True:\n",
    "                flag = True\n",
    "                if r + 1 < len(land) and land[r + 1][c]:\n",
    "                    r += 1\n",
    "                    flag = False\n",
    "                if c + 1 < len(land[0]) and land[r][c + 1]:\n",
    "                    c += 1\n",
    "                    flag = False\n",
    "                \n",
    "                if flag:\n",
    "                    return r, c\n",
    "\n",
    "        result = []\n",
    "        for i in range(len(land)):\n",
    "            for j in range(len(land[0])):\n",
    "                if land[i][j]:\n",
    "                    x, y = expand(i, j)\n",
    "                    result.append([i, j, x, y])\n",
    "                    for a in range(i, x + 1):\n",
    "                        for b in range(j, y + 1):\n",
    "                            land[a][b] = 0\n",
    "\n",
    "        return result\n",
    "    \n",
    "    def display(self, land: List[List[int]]) -> None:\n",
    "        result = self.findFarmland(land)\n",
    "        print(f\"Result: {result}\")"
   ]
  },
  {
   "cell_type": "code",
   "execution_count": 2,
   "id": "ad284d0b",
   "metadata": {},
   "outputs": [
    {
     "name": "stdout",
     "output_type": "stream",
     "text": [
      "Result: [[0, 0, 0, 0], [1, 1, 2, 2]]\n"
     ]
    }
   ],
   "source": [
    "# Example 1\n",
    "\n",
    "land = [[1, 0, 0], [0, 1, 1], [0, 1, 1]]\n",
    "Solution().display(land)"
   ]
  },
  {
   "cell_type": "code",
   "execution_count": 3,
   "id": "b6ec416d",
   "metadata": {},
   "outputs": [
    {
     "name": "stdout",
     "output_type": "stream",
     "text": [
      "Result: [[0, 0, 1, 1]]\n"
     ]
    }
   ],
   "source": [
    "# Example 2\n",
    "\n",
    "land = [[1, 1], [1, 1]]\n",
    "Solution().display(land)"
   ]
  },
  {
   "cell_type": "code",
   "execution_count": 4,
   "id": "b98e3630",
   "metadata": {},
   "outputs": [
    {
     "name": "stdout",
     "output_type": "stream",
     "text": [
      "Result: []\n"
     ]
    }
   ],
   "source": [
    "# Example 3\n",
    "\n",
    "land = [[0]]\n",
    "Solution().display(land)"
   ]
  },
  {
   "cell_type": "markdown",
   "id": "ad0774b8",
   "metadata": {},
   "source": [
    "**Idea:**  \n",
    "* Step1: Iterate the graph.\n",
    "* Step2: When finding a farmland, find its lower right corner.\n",
    "* Step3: Convert the farmland into forested land.\n",
    "\n",
    "**Time Complexity:** $O(m * n)$  \n",
    "<img src=\"./Images/1992-4.png\" width=\"500\">"
   ]
  }
 ],
 "metadata": {
  "kernelspec": {
   "display_name": "Python 3 (ipykernel)",
   "language": "python",
   "name": "python3"
  },
  "language_info": {
   "codemirror_mode": {
    "name": "ipython",
    "version": 3
   },
   "file_extension": ".py",
   "mimetype": "text/x-python",
   "name": "python",
   "nbconvert_exporter": "python",
   "pygments_lexer": "ipython3",
   "version": "3.9.13"
  }
 },
 "nbformat": 4,
 "nbformat_minor": 5
}
