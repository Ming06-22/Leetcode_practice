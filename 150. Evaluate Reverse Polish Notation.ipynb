{
 "cells": [
  {
   "cell_type": "markdown",
   "id": "32cf5f33",
   "metadata": {},
   "source": [
    "# 150. Evaluate Reverse Polish Notation"
   ]
  },
  {
   "cell_type": "markdown",
   "id": "3cd28cfc",
   "metadata": {},
   "source": [
    "You are given an array of strings `tokens` that represents an arithmetic expression in a [Reverse Polish Notation](http://en.wikipedia.org/wiki/Reverse_Polish_notation).\n",
    "\n",
    "Evaluate the expression. Return an integer that represents the value of the expression.\n",
    "\n",
    "**Note** that:\n",
    "\n",
    "* The valid operators are `'+'`, `'-'`, `'*'`, and `'/'`.\n",
    "* Each operand may be an integer or another expression.\n",
    "* The division between two integers always **truncates toward zero**.\n",
    "* There will not be any division by zero.\n",
    "* The input represents a valid arithmetic expression in a reverse polish notation.\n",
    "* The answer and all the intermediate calculations can be represented in a **32-bit** integer.\n",
    "\n",
    "<https://leetcode.com/problems/evaluate-reverse-polish-notation/description/?envType=daily-question&envId=2024-01-30>"
   ]
  },
  {
   "cell_type": "markdown",
   "id": "ceca2308",
   "metadata": {},
   "source": [
    "**Constraints:**\n",
    "* `1 <= tokens.length <= 104`\n",
    "* `tokens[i]` is either an operator: `\"+\"`, `\"-\"`, `\"*\"`, or `\"/\"`, or an integer in the range `[-200, 200]`."
   ]
  },
  {
   "cell_type": "markdown",
   "id": "4746a0b9",
   "metadata": {},
   "source": [
    "Example 1:  \n",
    "> Input: tokens = [\"2\",\"1\",\"+\",\"3\",\"*\"]  \n",
    "> Output: 9  \n",
    "> Explanation: ((2 + 1) * 3) = 9  "
   ]
  },
  {
   "cell_type": "markdown",
   "id": "9b695331",
   "metadata": {},
   "source": [
    "Example 2:  \n",
    "> Input: tokens = [\"4\",\"13\",\"5\",\"/\",\"+\"]  \n",
    "> Output: 6  \n",
    "> Explanation: (4 + (13 / 5)) = 6  "
   ]
  },
  {
   "cell_type": "markdown",
   "id": "917ea4c0",
   "metadata": {},
   "source": [
    "Example 3:  \n",
    "> Input: tokens = [\"10\",\"6\",\"9\",\"3\",\"+\",\"-11\",\"*\",\"/\",\"*\",\"17\",\"+\",\"5\",\"+\"]  \n",
    "> Output: 22  \n",
    "> Explanation: ((10 * (6 / ((9 + 3) * -11))) + 17) + 5  \n",
    "= ((10 * (6 / (12 * -11))) + 17) + 5  \n",
    "= ((10 * (6 / -132)) + 17) + 5  \n",
    "= ((10 * 0) + 17) + 5  \n",
    "= (0 + 17) + 5  \n",
    "= 17 + 5  \n",
    "= 22  "
   ]
  },
  {
   "cell_type": "code",
   "execution_count": 2,
   "id": "71d7717f",
   "metadata": {},
   "outputs": [],
   "source": [
    "from typing import List\n",
    "\n",
    "class Solution:\n",
    "    def evalRPN(self, tokens: List[str]) -> int:\n",
    "        stack = []\n",
    "        for e in tokens:\n",
    "            if e.isnumeric() or (e[0] == \"-\" and len(e) != 1):\n",
    "                stack.append(int(e))\n",
    "                continue\n",
    "                \n",
    "            n1 = stack.pop()\n",
    "            n2 = stack.pop()\n",
    "            if e == \"+\":\n",
    "                stack.append(n1 + n2)\n",
    "            elif e == \"-\":\n",
    "                stack.append(n2 - n1)\n",
    "            elif e == \"*\":\n",
    "                stack.append(n1 * n2)\n",
    "            else:\n",
    "                stack.append(int(n2 / n1))\n",
    "                \n",
    "        return stack[0]\n",
    "    \n",
    "    def display(self, tokens: List[str]) -> None:\n",
    "        result = self.evalRPN(tokens = tokens)\n",
    "        print(f\"Result: {result}\")"
   ]
  },
  {
   "cell_type": "code",
   "execution_count": 3,
   "id": "b9ac7668",
   "metadata": {},
   "outputs": [
    {
     "name": "stdout",
     "output_type": "stream",
     "text": [
      "Result: 9\n"
     ]
    }
   ],
   "source": [
    "tokens = [\"2\",\"1\",\"+\",\"3\",\"*\"]\n",
    "Solution().display(tokens = tokens)"
   ]
  },
  {
   "cell_type": "code",
   "execution_count": 4,
   "id": "3fd5ac4f",
   "metadata": {},
   "outputs": [
    {
     "name": "stdout",
     "output_type": "stream",
     "text": [
      "Result: 6\n"
     ]
    }
   ],
   "source": [
    "tokens = [\"4\",\"13\",\"5\",\"/\",\"+\"]\n",
    "Solution().display(tokens = tokens)"
   ]
  },
  {
   "cell_type": "code",
   "execution_count": 5,
   "id": "e1e8f983",
   "metadata": {},
   "outputs": [
    {
     "name": "stdout",
     "output_type": "stream",
     "text": [
      "Result: 22\n"
     ]
    }
   ],
   "source": [
    "tokens = [\"10\",\"6\",\"9\",\"3\",\"+\",\"-11\",\"*\",\"/\",\"*\",\"17\",\"+\",\"5\",\"+\"]\n",
    "Solution().display(tokens = tokens)"
   ]
  },
  {
   "cell_type": "markdown",
   "id": "086ccddd",
   "metadata": {},
   "source": [
    "**Idea:**\n",
    "* Step1: Construct a stack to store elements. \n",
    "* Step2: Iterate the input. If the input is a number, append to the stack; if the input is a operation, take top two numbers in the stack and do the operation.  \n",
    "* Step3: Put the result back to the stack.  \n",
    "\n",
    "**Time Complexity:**\n",
    "<img src=\"./Images/150-1.png\" width=\"500\">"
   ]
  }
 ],
 "metadata": {
  "kernelspec": {
   "display_name": "Python 3 (ipykernel)",
   "language": "python",
   "name": "python3"
  },
  "language_info": {
   "codemirror_mode": {
    "name": "ipython",
    "version": 3
   },
   "file_extension": ".py",
   "mimetype": "text/x-python",
   "name": "python",
   "nbconvert_exporter": "python",
   "pygments_lexer": "ipython3",
   "version": "3.9.13"
  }
 },
 "nbformat": 4,
 "nbformat_minor": 5
}
