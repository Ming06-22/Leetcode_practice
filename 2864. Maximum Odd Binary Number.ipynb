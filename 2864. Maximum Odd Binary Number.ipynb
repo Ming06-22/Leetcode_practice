{
 "cells": [
  {
   "cell_type": "markdown",
   "id": "923ef13c",
   "metadata": {},
   "source": [
    "# 2864. Maximum Odd Binary Number"
   ]
  },
  {
   "cell_type": "markdown",
   "id": "4ec5950d",
   "metadata": {},
   "source": [
    "You are given a **binary** string `s` that contains at least one `'1'`.\n",
    "\n",
    "You have to **rearrange** the bits in such a way that the resulting binary number is the **maximum odd binary number** that can be created from this combination.\n",
    "\n",
    "Return a string representing the maximum odd binary number that can be created from the given combination.\n",
    "\n",
    "**Note** that the resulting string **can** have leading zeros.\n",
    "\n",
    "<https://leetcode.com/problems/maximum-odd-binary-number/?envType=daily-question&envId=2024-03-01>\n",
    "\n",
    "**Constraint:**\n",
    "* `1 <= s.length <= 100`\n",
    "* `s` consists only of `'0'` and `'1'`.\n",
    "* `s` contains at least one `'1'`."
   ]
  },
  {
   "cell_type": "markdown",
   "id": "f8c3990c",
   "metadata": {},
   "source": [
    "Example 1:  \n",
    "> **Input:** s = \"010\"  \n",
    "> **Output:** \"001\"  \n",
    "> **Explanation:** Because there is just one '1', it must be in the last position. So the answer is \"001\"."
   ]
  },
  {
   "cell_type": "markdown",
   "id": "2d853dc2-f4cf-4055-bdd1-46db8fcb167d",
   "metadata": {},
   "source": [
    "Example 2:  \n",
    "> **Input:** s = \"0101\"  \n",
    "> **Output:** \"1001\"  \n",
    "> **Explanation:** One of the '1's must be in the last position. The maximum number that can be made with the remaining digits is \"100\". So the answer is \"1001\"."
   ]
  },
  {
   "cell_type": "code",
   "execution_count": 1,
   "id": "e3f59cde",
   "metadata": {},
   "outputs": [],
   "source": [
    "from collections import Counter\n",
    "\n",
    "class Solution:\n",
    "    def maximumOddBinaryNumber(self, s: str) -> str:\n",
    "        record = Counter(s)\n",
    "        if record[\"1\"] == 1:\n",
    "            return \"0\" * (len(s) - 1) + \"1\"\n",
    "        else:\n",
    "            return \"1\" * (record[\"1\"] - 1) + \"0\" * record[\"0\"] + \"1\"\n",
    "\n",
    "    def display(self, s: str) -> None:\n",
    "        result = self.maximumOddBinaryNumber(s)\n",
    "        print(f\"Result: {result}\")"
   ]
  },
  {
   "cell_type": "code",
   "execution_count": 2,
   "id": "ad284d0b",
   "metadata": {},
   "outputs": [
    {
     "name": "stdout",
     "output_type": "stream",
     "text": [
      "Result: 001\n"
     ]
    }
   ],
   "source": [
    "# Example 1\n",
    "\n",
    "s = \"010\"\n",
    "Solution().display(s)"
   ]
  },
  {
   "cell_type": "code",
   "execution_count": 3,
   "id": "162692da-a71d-46c3-93ce-69daea1ff68e",
   "metadata": {},
   "outputs": [
    {
     "name": "stdout",
     "output_type": "stream",
     "text": [
      "Result: 1001\n"
     ]
    }
   ],
   "source": [
    "# Example 2\n",
    "\n",
    "s = \"0101\"\n",
    "Solution().display(s)"
   ]
  },
  {
   "cell_type": "markdown",
   "id": "ad0774b8",
   "metadata": {},
   "source": [
    "**Idea:**  \n",
    "* Step1: Record the frequency of the characters in the input string.\n",
    "* Step2: If the frequency of \"1\" is 1, return a string with a `1` be the last digit.\n",
    "* Step3: Return a string with a `1` in the last digit, and all the residual `1`s be the head of the string.\n",
    "\n",
    "**Time Complexity:** $O(n)$  \n",
    "<img src=\"./Images/2864-1.png\" width=\"500\">"
   ]
  }
 ],
 "metadata": {
  "kernelspec": {
   "display_name": "Python 3 (ipykernel)",
   "language": "python",
   "name": "python3"
  },
  "language_info": {
   "codemirror_mode": {
    "name": "ipython",
    "version": 3
   },
   "file_extension": ".py",
   "mimetype": "text/x-python",
   "name": "python",
   "nbconvert_exporter": "python",
   "pygments_lexer": "ipython3",
   "version": "3.9.18"
  }
 },
 "nbformat": 4,
 "nbformat_minor": 5
}
