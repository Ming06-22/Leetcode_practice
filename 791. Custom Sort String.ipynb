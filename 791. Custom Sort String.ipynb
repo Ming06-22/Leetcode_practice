{
 "cells": [
  {
   "cell_type": "markdown",
   "id": "923ef13c",
   "metadata": {},
   "source": [
    "# 791. Custom Sort String"
   ]
  },
  {
   "cell_type": "markdown",
   "id": "4ec5950d",
   "metadata": {},
   "source": [
    "You are given two strings `order` and `s`. All the characters of `order` are **unique** and were sorted in some custom order previously.\n",
    "\n",
    "Permute the characters of `s` so that they match the order that `order` was sorted. More specifically, if a character `x` occurs before a character `y` in `order`, then `x` should occur before `y` in the permuted string.\n",
    "\n",
    "Return any permutation of `s` that satisfies this property.\n",
    "\n",
    "<https://leetcode.com/problems/custom-sort-string/description/?envType=daily-question&envId=2024-03-11>\n",
    "\n",
    "**Constraint:**\n",
    "* `1 <= order.length <= 26`\n",
    "* `1 <= s.length <= 200`\n",
    "* `order` and `s` consist of lowercase English letters.\n",
    "* All the characters of `order` are **unique**."
   ]
  },
  {
   "cell_type": "markdown",
   "id": "f8c3990c",
   "metadata": {},
   "source": [
    "Example 1:  \n",
    "> **Input:** order = \"cba\", s = \"abcd\"  \n",
    "> **Output:** \"cbad\"  \n",
    "> **Explanation:** `\"a\"`, `\"b\"`, `\"c\"` appear in order, so the order of `\"a\"`, `\"b\"`, `\"c\"` should be `\"c\"`, `\"b\"`, and `\"a\"`.  \n",
    "Since `\"d\"` does not appear in `order`, it can be at any position in the returned string. `\"dcba\"`, `\"cdba\"`, `\"cbda\"` are also valid outputs."
   ]
  },
  {
   "cell_type": "markdown",
   "id": "5a34ba08-3bef-480f-b33b-42e66be89edd",
   "metadata": {},
   "source": [
    "Example 2:  \n",
    "> **Input:** order = \"bcafg\", s = \"abcd\"  \n",
    "> **Output:** \"bcad\"  \n",
    "> **Explanation:** The characters `\"b\"`, `\"c\"`, and `\"a\"` from `order` dictate the order for the characters in `s`. The character `\"d\"` in `s` does not appear in `order`, so its position is flexible.  \n",
    "Following the order of appearance in order, `\"b\"`, `\"c\"`, and `\"a\"` from s should be arranged as `\"b\"`, `\"c\"`, `\"a\"`. `\"d\"` can be placed at any position since it's not in order. The output \"bcad\" correctly follows this rule. Other arrangements like `\"bacd\"` or `\"bcda\"` would also be valid, as long as `\"b\"`, `\"c\"`, `\"a\"` maintain their order."
   ]
  },
  {
   "cell_type": "code",
   "execution_count": 1,
   "id": "e3f59cde",
   "metadata": {},
   "outputs": [],
   "source": [
    "from collections import Counter\n",
    "\n",
    "class Solution:\n",
    "    def customSortString(self, order: str, s: str) -> str:\n",
    "        record = Counter(s)\n",
    "        result = \"\"\n",
    "        for o in order:\n",
    "            if o in record:\n",
    "                result += o * record.pop(o)\n",
    "\n",
    "        for v, k in record.items():\n",
    "            result += v * k\n",
    "        return result\n",
    "\n",
    "    def display(self, order: str, s: str) -> None:\n",
    "        result = self.customSortString(order, s)\n",
    "        print(f\"Result: {result}\")"
   ]
  },
  {
   "cell_type": "code",
   "execution_count": 2,
   "id": "ad284d0b",
   "metadata": {},
   "outputs": [
    {
     "name": "stdout",
     "output_type": "stream",
     "text": [
      "Result: cbad\n"
     ]
    }
   ],
   "source": [
    "# Example 1\n",
    "\n",
    "order = \"cba\"\n",
    "s = \"abcd\"\n",
    "Solution().display(order, s)"
   ]
  },
  {
   "cell_type": "code",
   "execution_count": 3,
   "id": "bbfcea0f-316e-40da-996a-4c3132d9687f",
   "metadata": {},
   "outputs": [
    {
     "name": "stdout",
     "output_type": "stream",
     "text": [
      "Result: bcad\n"
     ]
    }
   ],
   "source": [
    "# Example 2\n",
    "\n",
    "order = \"bcafg\"\n",
    "s = \"abcd\"\n",
    "Solution().display(order, s)"
   ]
  },
  {
   "cell_type": "markdown",
   "id": "ad0774b8",
   "metadata": {},
   "source": [
    "**Idea:**  \n",
    "* Step1: Calculate the frequency of the inpust string.\n",
    "* Step2: Append the answer by the given order.\n",
    "* Step3: Append the residual elements.\n",
    "\n",
    "**Time Complexity:** $O(n)$  \n",
    "<img src=\"./Images/791-1.png\" width=\"500\">"
   ]
  }
 ],
 "metadata": {
  "kernelspec": {
   "display_name": "Python 3 (ipykernel)",
   "language": "python",
   "name": "python3"
  },
  "language_info": {
   "codemirror_mode": {
    "name": "ipython",
    "version": 3
   },
   "file_extension": ".py",
   "mimetype": "text/x-python",
   "name": "python",
   "nbconvert_exporter": "python",
   "pygments_lexer": "ipython3",
   "version": "3.9.18"
  }
 },
 "nbformat": 4,
 "nbformat_minor": 5
}
