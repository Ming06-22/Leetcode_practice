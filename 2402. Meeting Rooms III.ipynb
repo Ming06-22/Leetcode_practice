{
 "cells": [
  {
   "cell_type": "markdown",
   "id": "923ef13c",
   "metadata": {},
   "source": [
    "# 2402. Meeting Rooms III"
   ]
  },
  {
   "cell_type": "markdown",
   "id": "4ec5950d",
   "metadata": {},
   "source": [
    "You are given an integer `n`. There are `n` rooms numbered from `0` to `n - 1`.\n",
    "\n",
    "You are given a 2D integer array `meetings` where <code>meetings[i] = [start<sub>i</sub>, end<sub>i</sub>]</code> means that a meeting will be held during the half-closed time interval <code>[start<sub>i</sub>, end<sub>i</sub>)</code>. All the values of <code>start<sub>i</sub></code> are unique.\n",
    "\n",
    "Meetings are allocated to rooms in the following manner:\n",
    "\n",
    "1. Each meeting will take place in the unused room with the **lowest** number.\n",
    "2. If there are no available rooms, the meeting will be delayed until a room becomes free. The delayed meeting should have the **same** duration as the original meeting.\n",
    "3. When a room becomes unused, meetings that have an earlier original **start** time should be given the room.\n",
    "\n",
    "Return the **number** of the room that held the most meetings. If there are multiple rooms, return the room with the **lowest** number.\n",
    "\n",
    "A **half-closed interval** `[a, b)` is the interval between `a` and `b` **including** `a` and **not including** `b`.\n",
    "\n",
    "<https://leetcode.com/problems/meeting-rooms-iii/description/?envType=daily-question&envId=2024-02-18>\n",
    "\n",
    "**Constraint:**\n",
    "* `1 <= n <= 100`\n",
    "* <code>1 <= meetings.length <= 10<sup>5</sup></code>\n",
    "* `meetings[i].length == 2`\n",
    "* <code>0 <= start<sub>i</sub> < end<sub>i</sub> <= 5 * 10<sup>5</sup></code>\n",
    "* All the values of <code>start<sub>i</sub></code> are unique."
   ]
  },
  {
   "cell_type": "markdown",
   "id": "f8c3990c",
   "metadata": {},
   "source": [
    "Example 1:  \n",
    "> **Input:** n = 2, meetings = [[0,10],[1,5],[2,7],[3,4]]  \n",
    "> **Output:** 0  \n",
    "> **Explanation:**\n",
    "> - At time 0, both rooms are not being used. The first meeting starts in room 0.\n",
    "> - At time 1, only room 1 is not being used. The second meeting starts in room 1.\n",
    "> - At time 2, both rooms are being used. The third meeting is delayed.\n",
    "> - At time 3, both rooms are being used. The fourth meeting is delayed.\n",
    "> - At time 5, the meeting in room 1 finishes. The third meeting starts in room 1 for the time period [5,10).\n",
    "> - At time 10, the meetings in both rooms finish. The fourth meeting starts in room 0 for the time period [10,11).  \n",
    "> Both rooms 0 and 1 held 2 meetings, so we return 0."
   ]
  },
  {
   "cell_type": "markdown",
   "id": "c5392a72",
   "metadata": {},
   "source": [
    "Example 2:  \n",
    "> **Input:** n = 3, meetings = [[1,20],[2,10],[3,5],[4,9],[6,8]]  \n",
    "> **Output:** 1  \n",
    "> **Explanation:**  \n",
    "> - At time 1, all three rooms are not being used. The first meeting starts in room 0.\n",
    "> - At time 2, rooms 1 and 2 are not being used. The second meeting starts in room 1.\n",
    "> - At time 3, only room 2 is not being used. The third meeting starts in room 2.\n",
    "> - At time 4, all three rooms are being used. The fourth meeting is delayed.\n",
    "> - At time 5, the meeting in room 2 finishes. The fourth meeting starts in room 2 for the time period [5,10).\n",
    "> - At time 6, all three rooms are being used. The fifth meeting is delayed.\n",
    "> - At time 10, the meetings in rooms 1 and 2 finish. The fifth meeting starts in room 1 for the time period [10,12).  \n",
    "> Room 0 held 1 meeting while rooms 1 and 2 each held 2 meetings, so we return 1. "
   ]
  },
  {
   "cell_type": "code",
   "execution_count": 1,
   "id": "e3f59cde",
   "metadata": {},
   "outputs": [],
   "source": [
    "from typing import List\n",
    "import collections\n",
    "import heapq\n",
    "import math\n",
    "\n",
    "class Solution:\n",
    "    def mostBooked(self, n: int, meetings: List[List[int]]) -> int:\n",
    "        meetings.sort()\n",
    "        queue, record = [i for i in range(n)], []\n",
    "        result = collections.defaultdict(int)\n",
    "        \n",
    "        for start, end in meetings:\n",
    "            while record and record[0][0] <= start:\n",
    "                _, room = heapq.heappop(record)\n",
    "                heapq.heappush(queue, room)\n",
    "            \n",
    "            if queue:\n",
    "                room = heapq.heappop(queue)\n",
    "            else:\n",
    "                end_time, room = heapq.heappop(record)\n",
    "                end += end_time - start\n",
    "            \n",
    "            heapq.heappush(record, (end, room))\n",
    "            result[room] += 1\n",
    "        \n",
    "        temp = -math.inf\n",
    "        for i, r in result.items():\n",
    "            if r > temp:\n",
    "                temp = r\n",
    "                ans = i\n",
    "\n",
    "        return ans\n",
    "    \n",
    "    def display(self, n: int, meetings: List[List[int]]) -> None:\n",
    "        result = self.mostBooked(n = n, meetings = meetings)\n",
    "        print(f\"Result: {result}\")"
   ]
  },
  {
   "cell_type": "code",
   "execution_count": 2,
   "id": "ad284d0b",
   "metadata": {},
   "outputs": [
    {
     "name": "stdout",
     "output_type": "stream",
     "text": [
      "Result: 0\n"
     ]
    }
   ],
   "source": [
    "# Example 1\n",
    "\n",
    "n = 2\n",
    "meetings = [[0, 10], [1, 5], [2, 7], [3, 4]]\n",
    "Solution().display(n = n, meetings = meetings)"
   ]
  },
  {
   "cell_type": "code",
   "execution_count": 3,
   "id": "20e91fe6",
   "metadata": {},
   "outputs": [
    {
     "name": "stdout",
     "output_type": "stream",
     "text": [
      "Result: 1\n"
     ]
    }
   ],
   "source": [
    "# Example 2\n",
    "\n",
    "n = 3\n",
    "meetings = [[1, 20], [2, 10], [3, 5], [4, 9], [6, 8]]\n",
    "Solution().display(n = n, meetings = meetings)"
   ]
  },
  {
   "cell_type": "markdown",
   "id": "ad0774b8",
   "metadata": {},
   "source": [
    "**Idea:**  \n",
    "* Step1: Sort the input array, and iterate the input string.\n",
    "* Step2: Pop the meeting that the end time is earlier than the current meeting.\n",
    "* Step3: Find the meeting's room and end time and Arrange the meeting.\n",
    "\n",
    "**Time Complexity:** $O(nlogn)$  \n",
    "<img src=\"./Images/2402-1.png\" width=\"500\">"
   ]
  }
 ],
 "metadata": {
  "kernelspec": {
   "display_name": "Python 3 (ipykernel)",
   "language": "python",
   "name": "python3"
  },
  "language_info": {
   "codemirror_mode": {
    "name": "ipython",
    "version": 3
   },
   "file_extension": ".py",
   "mimetype": "text/x-python",
   "name": "python",
   "nbconvert_exporter": "python",
   "pygments_lexer": "ipython3",
   "version": "3.9.13"
  }
 },
 "nbformat": 4,
 "nbformat_minor": 5
}
