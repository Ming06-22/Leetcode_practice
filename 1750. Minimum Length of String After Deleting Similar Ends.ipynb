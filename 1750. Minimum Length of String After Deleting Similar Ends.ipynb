{
 "cells": [
  {
   "cell_type": "markdown",
   "id": "923ef13c",
   "metadata": {},
   "source": [
    "# 1750. Minimum Length of String After Deleting Similar Ends"
   ]
  },
  {
   "cell_type": "markdown",
   "id": "4ec5950d",
   "metadata": {},
   "source": [
    "Given a string `s` consisting only of characters `'a'`, `'b'`, and `'c'`. You are asked to apply the following algorithm on the string any number of times:\n",
    "\n",
    "1. Pick a **non-empty** prefix from the string `s` where all the characters in the prefix are equal.  \n",
    "2. Pick a **non-empty** suffix from the string `s` where all the characters in this suffix are equal.  \n",
    "3. The prefix and the suffix should not intersect at any index.  \n",
    "4. The characters from the prefix and suffix must be the same.  \n",
    "5. Delete both the prefix and the suffix.  \n",
    "\n",
    "Return the **minimum length** of `s` after performing the above operation any number of times (possibly zero times).\n",
    "\n",
    "<https://leetcode.com/problems/minimum-length-of-string-after-deleting-similar-ends/description/?envType=daily-question&envId=2024-03-05>\n",
    "\n",
    "**Constraint:**\n",
    "* <code>1 <= s.length <= 10<sup>5</sup></code>\n",
    "* `s` only consists of characters `'a'`, `'b'`, and `'c'`."
   ]
  },
  {
   "cell_type": "markdown",
   "id": "f8c3990c",
   "metadata": {},
   "source": [
    "Example 1:  \n",
    "> **Input:** s = \"ca\"  \n",
    "> **Output:** 2  \n",
    "> **Explanation:** You can't remove any characters, so the string stays as is."
   ]
  },
  {
   "cell_type": "markdown",
   "id": "d5cdbb01-fed7-4db0-a10d-9af2bf50ec8d",
   "metadata": {},
   "source": [
    "Example 2:  \n",
    "> **Input:** s = \"cabaabac\"  \n",
    "> **Output:** 0  \n",
    "> **Explanation:** An optimal sequence of operations is:  \n",
    "> - Take prefix = \"c\" and suffix = \"c\" and remove them, s = \"abaaba\".  \n",
    "> - Take prefix = \"a\" and suffix = \"a\" and remove them, s = \"baab\".  \n",
    "> - Take prefix = \"b\" and suffix = \"b\" and remove them, s = \"aa\".  \n",
    "> - Take prefix = \"a\" and suffix = \"a\" and remove them, s = \"\".  "
   ]
  },
  {
   "cell_type": "markdown",
   "id": "6a9cb85b-8a3a-48f6-9066-316d799d378c",
   "metadata": {},
   "source": [
    "Example 3:  \n",
    "> **Input:** s = \"aabccabba\"  \n",
    "> **Output:** 3  \n",
    "> **Explanation:** An optimal sequence of operations is:  \n",
    "> - Take prefix = \"aa\" and suffix = \"a\" and remove them, s = \"bccabb\".  \n",
    "> - Take prefix = \"b\" and suffix = \"bb\" and remove them, s = \"cca\"."
   ]
  },
  {
   "cell_type": "code",
   "execution_count": 1,
   "id": "e3f59cde",
   "metadata": {},
   "outputs": [],
   "source": [
    "class Solution:\n",
    "    def minimumLength(self, s: str) -> int:\n",
    "        l, r = 0, len(s) - 1\n",
    "        while l < r and s[l] == s[r]:\n",
    "            temp = s[l]\n",
    "            while l <= r and s[l] == temp:\n",
    "                l += 1\n",
    "            while r >= l and s[r] == temp:\n",
    "                r -= 1\n",
    "        \n",
    "        return r - l + 1\n",
    "\n",
    "    def display(self, s: str) -> None:\n",
    "        result = self.minimumLength(s)\n",
    "        print(f\"Result: {result}\")"
   ]
  },
  {
   "cell_type": "code",
   "execution_count": 2,
   "id": "ad284d0b",
   "metadata": {},
   "outputs": [
    {
     "name": "stdout",
     "output_type": "stream",
     "text": [
      "Result: 2\n"
     ]
    }
   ],
   "source": [
    "# Example 1\n",
    "\n",
    "s = \"ca\"\n",
    "Solution().display(s)"
   ]
  },
  {
   "cell_type": "code",
   "execution_count": 3,
   "id": "de23384a-e9c2-4fb1-9e02-7c4c9af43ce1",
   "metadata": {},
   "outputs": [
    {
     "name": "stdout",
     "output_type": "stream",
     "text": [
      "Result: 0\n"
     ]
    }
   ],
   "source": [
    "# Example 2\n",
    "\n",
    "s = \"cabaabac\"\n",
    "Solution().display(s)"
   ]
  },
  {
   "cell_type": "code",
   "execution_count": 4,
   "id": "fa17ad0a-c3d4-4108-88be-6f0b40029ff2",
   "metadata": {},
   "outputs": [
    {
     "name": "stdout",
     "output_type": "stream",
     "text": [
      "Result: 3\n"
     ]
    }
   ],
   "source": [
    "# Example 3\n",
    "\n",
    "s = \"aabccabba\"\n",
    "Solution().display(s)"
   ]
  },
  {
   "cell_type": "markdown",
   "id": "ad0774b8",
   "metadata": {},
   "source": [
    "**Idea:**  \n",
    "* Step1: Use two pointer to point to the head and the tail of the input array.\n",
    "* Step2: While left and right are same character, do the while loop.\n",
    "* Step3: Check whether the length of prefix and suffix, and move the pointers.\n",
    "\n",
    "**Time Complexity:** $O(n)$  \n",
    "<img src=\"./Images/1750-1.png\" width=\"500\">"
   ]
  }
 ],
 "metadata": {
  "kernelspec": {
   "display_name": "Python 3 (ipykernel)",
   "language": "python",
   "name": "python3"
  },
  "language_info": {
   "codemirror_mode": {
    "name": "ipython",
    "version": 3
   },
   "file_extension": ".py",
   "mimetype": "text/x-python",
   "name": "python",
   "nbconvert_exporter": "python",
   "pygments_lexer": "ipython3",
   "version": "3.9.18"
  }
 },
 "nbformat": 4,
 "nbformat_minor": 5
}
