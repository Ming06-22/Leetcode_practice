{
 "cells": [
  {
   "cell_type": "markdown",
   "id": "923ef13c",
   "metadata": {},
   "source": [
    "# 1971. Find if Path Exists in Graph"
   ]
  },
  {
   "cell_type": "markdown",
   "id": "4ec5950d",
   "metadata": {},
   "source": [
    "There is a **bi-directional** graph with `n` vertices, where each vertex is labeled from `0` to `n - 1` (**inclusive**). The edges in the graph are represented as a 2D integer array `edges`, where each <code>edges[i] = [u<sub>i</sub>, v<sub>i,</sub>]</code> denotes a bi-directional edge between vertex <code>u<sub>i</sub></code> and vertex <code>v<sub>i</sub></code>. Every vertex pair is connected by **at most one** edge, and no vertex has an edge to itself.\n",
    "\n",
    "You want to determine if there is a **valid path** that exists from vertex `source` to vertex `destination`.\n",
    "\n",
    "Given `edges` and the integers `n`, `source`, and `destination`, return `true` if there is a **valid path** from `source` to `destination`, or `false` otherwise.\n",
    "\n",
    "<https://leetcode.com/problems/find-if-path-exists-in-graph/description/?envType=daily-question&envId=2024-04-21>\n",
    "\n",
    "**Constraint:**\n",
    "* <code>1 <= n <= 2 * 10<sup>5</sup></code>\n",
    "* <code>0 <= edges.length <= 2 * 10<sup>5</sup></code>\n",
    "* `edges[i].length == 2`\n",
    "* <code>0 <= u<sub>i</sub>, v<sub>i</sub> <= n - 1</code>\n",
    "* <code>u<sub>i</sub> != v<sub>i</sub></code>\n",
    "* `0 <= source, destination <= n - 1`\n",
    "* There are no duplicate edges.\n",
    "* There are no self edges."
   ]
  },
  {
   "cell_type": "markdown",
   "id": "f8c3990c",
   "metadata": {},
   "source": [
    "Example 1:  \n",
    "\n",
    "<img src=\"./Images/1971-1.png\" width=\"100\">\n",
    "\n",
    "> **Input:** n = 3, edges = [[0,1],[1,2],[2,0]], source = 0, destination = 2  \n",
    "> **Output:** true  \n",
    "> **Explanation:** There are two paths from vertex 0 to vertex 2:  \n",
    "> - 0 → 1 → 2  \n",
    "> - 0 → 2"
   ]
  },
  {
   "cell_type": "markdown",
   "id": "73297a8b",
   "metadata": {},
   "source": [
    "Example 2:  \n",
    "\n",
    "<img src=\"./Images/1971-2.png\" width=\"200\">\n",
    "\n",
    "> **Input:** n = 6, edges = [[0,1],[0,2],[3,5],[5,4],[4,3]], source = 0, destination = 5  \n",
    "> **Output:** false  \n",
    "> **Explanation:** There is no path from vertex 0 to vertex 5."
   ]
  },
  {
   "cell_type": "code",
   "execution_count": 1,
   "id": "e3f59cde",
   "metadata": {},
   "outputs": [],
   "source": [
    "from typing import List\n",
    "from collections import defaultdict\n",
    "\n",
    "class Solution:\n",
    "    def validPath(self, n: int, edges: List[List[int]], source: int, destination: int) -> bool:\n",
    "        graph = defaultdict(set)\n",
    "        for x, y in edges:\n",
    "            graph[x].add(y)\n",
    "            graph[y].add(x)\n",
    "\n",
    "        def bfs():\n",
    "            nonlocal record, queue\n",
    "\n",
    "            temp = set()\n",
    "            for q in queue:\n",
    "                record.add(q)\n",
    "                for node in graph[q]:\n",
    "                    if node not in record:\n",
    "                        temp.add(node)\n",
    "            \n",
    "            queue = temp\n",
    "        \n",
    "        record, queue = set(), set()\n",
    "        queue.add(source)\n",
    "        while queue:\n",
    "            bfs()\n",
    "            if destination in record:\n",
    "                return True\n",
    "        return False\n",
    "    \n",
    "    def display(self, n: int, edges: List[List[int]], source: int, destination: int) -> None:\n",
    "        result = self.validPath(n, edges, source, destination)\n",
    "        print(f\"Result: {result}\")"
   ]
  },
  {
   "cell_type": "code",
   "execution_count": 2,
   "id": "ad284d0b",
   "metadata": {},
   "outputs": [
    {
     "name": "stdout",
     "output_type": "stream",
     "text": [
      "Result: True\n"
     ]
    }
   ],
   "source": [
    "# Example 1\n",
    "\n",
    "n = 3\n",
    "edges = [[0, 1], [1, 2], [2, 0]]\n",
    "source, destination = 0, 2\n",
    "Solution().display(n, edges, source, destination)"
   ]
  },
  {
   "cell_type": "code",
   "execution_count": 3,
   "id": "9abbaea0",
   "metadata": {},
   "outputs": [
    {
     "name": "stdout",
     "output_type": "stream",
     "text": [
      "Result: False\n"
     ]
    }
   ],
   "source": [
    "# Example 2\n",
    "\n",
    "n = 6\n",
    "edges = [[0, 1], [0, 2], [3, 5], [5, 4], [4, 3]]\n",
    "source, destination = 0, 5\n",
    "Solution().display(n, edges, source, destination)"
   ]
  },
  {
   "cell_type": "markdown",
   "id": "ad0774b8",
   "metadata": {},
   "source": [
    "**Idea:**  \n",
    "* Step1: Convert `edge` into a graph.\n",
    "* Step2: Apply BFS to expand the `source`.\n",
    "* Step3: Check whether the `destination` is in the result.\n",
    "\n",
    "**Time Complexity:** $O(n)$  \n",
    "<img src=\"./Images/1971-3.png\" width=\"500\">"
   ]
  }
 ],
 "metadata": {
  "kernelspec": {
   "display_name": "Python 3 (ipykernel)",
   "language": "python",
   "name": "python3"
  },
  "language_info": {
   "codemirror_mode": {
    "name": "ipython",
    "version": 3
   },
   "file_extension": ".py",
   "mimetype": "text/x-python",
   "name": "python",
   "nbconvert_exporter": "python",
   "pygments_lexer": "ipython3",
   "version": "3.9.13"
  }
 },
 "nbformat": 4,
 "nbformat_minor": 5
}
