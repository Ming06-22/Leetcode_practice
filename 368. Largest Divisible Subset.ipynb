{
 "cells": [
  {
   "cell_type": "markdown",
   "id": "923ef13c",
   "metadata": {},
   "source": [
    "# 368. Largest Divisible Subset"
   ]
  },
  {
   "cell_type": "markdown",
   "id": "4ec5950d",
   "metadata": {},
   "source": [
    "Given a set of **distinct** positive integers `nums`, return the largest subset `answer` such that every pair `(answer[i], answer[j])` of elements in this subset satisfies:\n",
    "\n",
    "* `answer[i] % answer[j] == 0`, or\n",
    "* `answer[j] % answer[i] == 0`\n",
    "\n",
    "If there are multiple solutions, return any of them.\n",
    "\n",
    "<https://leetcode.com/problems/largest-divisible-subset/?envType=daily-question&envId=2024-02-09>\n",
    "\n",
    "**Constraint:**\n",
    "* `1 <= nums.length <= 1000`\n",
    "* <code>1 <= nums[i] <= 2 * 10<sup>9</sup></code>\n",
    "* All the integers in `nums` are **unique**."
   ]
  },
  {
   "cell_type": "markdown",
   "id": "f8c3990c",
   "metadata": {},
   "source": [
    "Example 1:  \n",
    "> **Input:** nums = [1,2,3]  \n",
    "> **Output:** [1,2]  \n",
    "> **Explanation:** [1,3] is also accepted.  "
   ]
  },
  {
   "cell_type": "markdown",
   "id": "f11e65e9",
   "metadata": {},
   "source": [
    "Example 2:  \n",
    "> **Input:** nums = [1,2,4,8]  \n",
    "> **Output:** [1,2,4,8]  "
   ]
  },
  {
   "cell_type": "code",
   "execution_count": 1,
   "id": "e3f59cde",
   "metadata": {},
   "outputs": [],
   "source": [
    "from typing import List\n",
    "\n",
    "class Solution:\n",
    "    def largestDivisibleSubset(self, nums: List[int]) -> List[int]:\n",
    "        nums.sort()\n",
    "        \n",
    "        dp = [1] * len(nums)\n",
    "        prev = [-1] * len(nums)\n",
    "        \n",
    "        max_size = 1\n",
    "        max_index = 0\n",
    "        for i in range(1, len(nums)):\n",
    "            for j in range(i):\n",
    "                if nums[i] % nums[j] == 0 and dp[j] + 1 > dp[i]:\n",
    "                    dp[i] = dp[j] + 1\n",
    "                    prev[i] = j\n",
    "            if dp[i] > max_size:\n",
    "                max_size = dp[i]\n",
    "                max_index = i\n",
    "        \n",
    "        result = []\n",
    "        while max_index != -1:\n",
    "            result.append(nums[max_index])\n",
    "            max_index = prev[max_index]\n",
    "        \n",
    "        return result[: : -1]\n",
    "    \n",
    "    def display(self, nums: List[int]) -> None:\n",
    "        result = self.largestDivisibleSubset(nums = nums)\n",
    "        print(f\"Result: {result}\")"
   ]
  },
  {
   "cell_type": "code",
   "execution_count": 2,
   "id": "ad284d0b",
   "metadata": {},
   "outputs": [
    {
     "name": "stdout",
     "output_type": "stream",
     "text": [
      "Result: [1, 2]\n"
     ]
    }
   ],
   "source": [
    "# Example 1\n",
    "\n",
    "nums = [1, 2, 3]\n",
    "Solution().display(nums = nums)"
   ]
  },
  {
   "cell_type": "code",
   "execution_count": 3,
   "id": "aaf45104",
   "metadata": {},
   "outputs": [
    {
     "name": "stdout",
     "output_type": "stream",
     "text": [
      "Result: [1, 2, 4, 8]\n"
     ]
    }
   ],
   "source": [
    "# Example 2\n",
    "\n",
    "nums = [1,2,4,8]\n",
    "Solution().display(nums = nums)"
   ]
  },
  {
   "cell_type": "markdown",
   "id": "ad0774b8",
   "metadata": {},
   "source": [
    "**Idea:**  \n",
    "* Step1: Construct `dp` for storing max size, `prev` for storing previous index.  \n",
    "* Step2: Use a nested loop to iterate the input array.  \n",
    "* Step3: If the current elemenys satisfy the condition, modify `dp` and `prev`.  \n",
    "* Step4: Construct the result by `prev` and return it.  \n",
    "\n",
    "**Time Complexity:** $O(n^2)$  \n",
    "<img src=\"./Images/368-1.png\" width=\"500\">"
   ]
  }
 ],
 "metadata": {
  "kernelspec": {
   "display_name": "Python 3 (ipykernel)",
   "language": "python",
   "name": "python3"
  },
  "language_info": {
   "codemirror_mode": {
    "name": "ipython",
    "version": 3
   },
   "file_extension": ".py",
   "mimetype": "text/x-python",
   "name": "python",
   "nbconvert_exporter": "python",
   "pygments_lexer": "ipython3",
   "version": "3.9.13"
  }
 },
 "nbformat": 4,
 "nbformat_minor": 5
}
