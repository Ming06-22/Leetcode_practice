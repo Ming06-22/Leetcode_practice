{
 "cells": [
  {
   "cell_type": "markdown",
   "id": "923ef13c",
   "metadata": {},
   "source": [
    "# 543. Diameter of Binary Tree"
   ]
  },
  {
   "cell_type": "markdown",
   "id": "4ec5950d",
   "metadata": {},
   "source": [
    "Given the `root` of a binary tree, return the length of the **diameter** of the tree.\n",
    "\n",
    "The **diameter** of a binary tree is the **length** of the longest path between any two nodes in a tree. This path may or may not pass through the root.\n",
    "\n",
    "The **length** of a path between two nodes is represented by the number of edges between them.\n",
    "\n",
    "<https://leetcode.com/problems/diameter-of-binary-tree/?envType=daily-question&envId=2024-02-27>\n",
    "\n",
    "**Constraint:**\n",
    "* The number of nodes in the tree is in the range <code>[1, 10<sup>4</sup>]</code>.\n",
    "* `-100 <= Node.val <= 100`"
   ]
  },
  {
   "cell_type": "markdown",
   "id": "f8c3990c",
   "metadata": {},
   "source": [
    "Example 1:  \n",
    "\n",
    "<img src=\"./Images/543-1.png\" width=\"300\">\n",
    "\n",
    "> **Input:** root = [1,2,3,4,5]  \n",
    "> **Output:** 3  \n",
    "> **Explanation:** 3 is the length of the path [4,2,1,3] or [5,2,1,3]."
   ]
  },
  {
   "cell_type": "markdown",
   "id": "2aeda265-37a4-459b-b008-c6be3b3a6b72",
   "metadata": {},
   "source": [
    "Example 2:  \n",
    "\n",
    "> **Input:** root = [1,2]  \n",
    "> **Output:** 1"
   ]
  },
  {
   "cell_type": "code",
   "execution_count": 1,
   "id": "e3f59cde",
   "metadata": {},
   "outputs": [],
   "source": [
    "from typing import Optional\n",
    "\n",
    "class TreeNode:\n",
    "    def __init__(self, val = 0, left = None, right = None):\n",
    "        self.val = val\n",
    "        self.left = left\n",
    "        self.right = right\n",
    "        \n",
    "class Solution:\n",
    "    def diameterOfBinaryTree(self, root: Optional[TreeNode]) -> int:\n",
    "        result = 0\n",
    "        def dfs(node, i):\n",
    "            nonlocal result\n",
    "\n",
    "            l = r = i\n",
    "            if node.left:\n",
    "                l = dfs(node.left, i + 1)\n",
    "            if node.right:\n",
    "                r = dfs(node.right, i + 1)\n",
    "\n",
    "            result = max(result, l + r - 2 * i)\n",
    "\n",
    "            return max(l, r)\n",
    "            \n",
    "        dfs(root, 0)\n",
    "\n",
    "        return result\n",
    "\n",
    "    def display(self, root: Optional[TreeNode]) -> None:\n",
    "        result = self.diameterOfBinaryTree(root)\n",
    "        print(f\"Result: {result}\")"
   ]
  },
  {
   "cell_type": "code",
   "execution_count": 2,
   "id": "ad284d0b",
   "metadata": {},
   "outputs": [
    {
     "name": "stdout",
     "output_type": "stream",
     "text": [
      "Result: 3\n"
     ]
    }
   ],
   "source": [
    "# Example 1\n",
    "\n",
    "root = TreeNode(1, TreeNode(2, TreeNode(4), TreeNode(5)), TreeNode(3))\n",
    "Solution().display(root)"
   ]
  },
  {
   "cell_type": "code",
   "execution_count": 3,
   "id": "404e5228-e6e1-482f-b15e-40d857f3f8b7",
   "metadata": {},
   "outputs": [
    {
     "name": "stdout",
     "output_type": "stream",
     "text": [
      "Result: 1\n"
     ]
    }
   ],
   "source": [
    "# Example 2\n",
    "\n",
    "root = TreeNode(1, TreeNode(2))\n",
    "Solution().display(root)"
   ]
  },
  {
   "cell_type": "markdown",
   "id": "ad0774b8",
   "metadata": {},
   "source": [
    "**Idea:**  \n",
    "* Step1: Using the strategy of DFS.\n",
    "* Step2: Record the length of left child and right child respectly.\n",
    "* Step3: Compare the result with the current node's maximum diameter. Then, return the maximum length of left child and right child.\n",
    "\n",
    "**Time Complexity:** $O(V + E)$  \n",
    "<img src=\"./Images/543-2.png\" width=\"500\">"
   ]
  }
 ],
 "metadata": {
  "kernelspec": {
   "display_name": "Python 3 (ipykernel)",
   "language": "python",
   "name": "python3"
  },
  "language_info": {
   "codemirror_mode": {
    "name": "ipython",
    "version": 3
   },
   "file_extension": ".py",
   "mimetype": "text/x-python",
   "name": "python",
   "nbconvert_exporter": "python",
   "pygments_lexer": "ipython3",
   "version": "3.9.18"
  }
 },
 "nbformat": 4,
 "nbformat_minor": 5
}
