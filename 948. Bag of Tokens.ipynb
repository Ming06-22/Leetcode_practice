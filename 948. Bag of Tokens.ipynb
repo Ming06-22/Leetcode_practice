{
 "cells": [
  {
   "cell_type": "markdown",
   "id": "923ef13c",
   "metadata": {},
   "source": [
    "# 948. Bag of Tokens"
   ]
  },
  {
   "cell_type": "markdown",
   "id": "4ec5950d",
   "metadata": {},
   "source": [
    "You start with an initial **power** of `power`, an initial **score** of `0`, and a bag of tokens given as an integer array `tokens`, where each `tokens[i]` donates the value of token<sub>i</sub>.\n",
    "\n",
    "Your goal is to **maximize** the total **score** by strategically playing these tokens. In one move, you can play an **unplayed** token in one of the two ways (but not both for the same token):\n",
    "\n",
    "* **Face-up**: If your current power is **at least** `tokens[i]`, you may play token<sub>i</sub>, losing `tokens[i]` power and gaining `1` score.\n",
    "* **Face-down**: If your current score is **at least** `1`, you may play tokeni, gaining `tokens[i]` power and losing `1` score.\n",
    "\n",
    "Return the **maximum** possible score you can achieve after playing **any** number of tokens.\n",
    "\n",
    "<https://leetcode.com/problems/bag-of-tokens/description/?envType=daily-question&envId=2024-03-04>\n",
    "\n",
    "**Constraint:**\n",
    "* `0 <= tokens.length <= 1000`\n",
    "* <code>0 <= tokens[i], power < 10<sup>4</sup></code>"
   ]
  },
  {
   "cell_type": "markdown",
   "id": "f8c3990c",
   "metadata": {},
   "source": [
    "Example 1:  \n",
    "> **Input:** tokens = [100], power = 50  \n",
    "> **Output:** 0  \n",
    "> **Explanation:** Since your score is `0` initially, you cannot play the token face-down. You also cannot play it face-up since your power (`50`) is less than `tokens[0]` (`100`)."
   ]
  },
  {
   "cell_type": "markdown",
   "id": "0cbc3e13-659f-4c92-b09b-888cbaf66282",
   "metadata": {},
   "source": [
    "Example 2:  \n",
    "> **Input:** tokens = [200,100], power = 150  \n",
    "> **Output:** 1  \n",
    "> **Explanation:** Play token<sub>1</sub> (`100`) face-up, reducing your power to `50` and increasing your score to `1`.  \n",
    "There is no need to play token<sub>0</sub>, since you cannot play it face-up to add to your score. The maximum score achievable is `1`."
   ]
  },
  {
   "cell_type": "markdown",
   "id": "f65a9b56-59c8-4299-93f6-af33f72dcd98",
   "metadata": {},
   "source": [
    "Example 3:  \n",
    "> **Input:** tokens = [100,200,300,400], power = 200  \n",
    "> **Output:** 2  \n",
    "> **Explanation:** Play the tokens in this order to get a score of `2`:  \n",
    "Play token<sub>0</sub> (`100`) face-up, reducing power to `100` and increasing score to `1`.  \n",
    "Play token<sub>3</sub> (`400`) face-down, increasing power to `500` and reducing score to `0`.  \n",
    "Play token<sub>1</sub> (`200`) face-up, reducing power to `300` and increasing score to `1`.  \n",
    "Play token<sub>2</sub> (`300`) face-up, reducing power to `0` and increasing score to `2`.  \n",
    "The maximum score achievable is `2`.  "
   ]
  },
  {
   "cell_type": "code",
   "execution_count": 1,
   "id": "e3f59cde",
   "metadata": {},
   "outputs": [],
   "source": [
    "from typing import List\n",
    "\n",
    "class Solution:\n",
    "    def bagOfTokensScore(self, tokens: List[int], power: int) -> int:\n",
    "        tokens.sort()\n",
    "        score = 0\n",
    "        current_score = 1\n",
    "        tokens.append(0)\n",
    "        while tokens and current_score > 0:\n",
    "            current_score -= 1\n",
    "            power += tokens.pop()\n",
    "            while tokens and power >= tokens[0]:\n",
    "                current_score += 1\n",
    "                power -= tokens.pop(0)\n",
    "                score = max(score, current_score)\n",
    "\n",
    "        return score\n",
    "\n",
    "    def display(self, tokens: List[int], power: int) -> None:\n",
    "        result = self.bagOfTokensScore(tokens, power)\n",
    "        print(f\"Result: {result}\")"
   ]
  },
  {
   "cell_type": "code",
   "execution_count": 2,
   "id": "ad284d0b",
   "metadata": {},
   "outputs": [
    {
     "name": "stdout",
     "output_type": "stream",
     "text": [
      "Result: 0\n"
     ]
    }
   ],
   "source": [
    "# Example 1\n",
    "\n",
    "tokens = [100]\n",
    "power = 50\n",
    "Solution().display(tokens, power)"
   ]
  },
  {
   "cell_type": "code",
   "execution_count": 3,
   "id": "2bce8578-c5ea-42e3-92f4-b5f016ad6838",
   "metadata": {},
   "outputs": [
    {
     "name": "stdout",
     "output_type": "stream",
     "text": [
      "Result: 1\n"
     ]
    }
   ],
   "source": [
    "# Example 2\n",
    "\n",
    "tokens = [200, 100]\n",
    "power = 150\n",
    "Solution().display(tokens, power)"
   ]
  },
  {
   "cell_type": "code",
   "execution_count": 4,
   "id": "4f7952e8-c732-418c-b04f-1ebf07b6e69b",
   "metadata": {},
   "outputs": [
    {
     "name": "stdout",
     "output_type": "stream",
     "text": [
      "Result: 2\n"
     ]
    }
   ],
   "source": [
    "# Example 1\n",
    "\n",
    "tokens = [100, 200, 300, 400]\n",
    "power = 200\n",
    "Solution().display(tokens, power)"
   ]
  },
  {
   "cell_type": "markdown",
   "id": "ad0774b8",
   "metadata": {},
   "source": [
    "**Idea:**  \n",
    "* Step1: Sort the input array.\n",
    "* Step2: Use a nested while loop to iterate the sorted input array.\n",
    "* Step3: While current score is larger than 0, we can convert score into power. While power is larger than smallest element in the array, we can convert power into score.\n",
    "\n",
    "**Time Complexity:** $O(n)$  \n",
    "<img src=\"./Images/948-1.png\" width=\"500\">"
   ]
  }
 ],
 "metadata": {
  "kernelspec": {
   "display_name": "Python 3 (ipykernel)",
   "language": "python",
   "name": "python3"
  },
  "language_info": {
   "codemirror_mode": {
    "name": "ipython",
    "version": 3
   },
   "file_extension": ".py",
   "mimetype": "text/x-python",
   "name": "python",
   "nbconvert_exporter": "python",
   "pygments_lexer": "ipython3",
   "version": "3.9.18"
  }
 },
 "nbformat": 4,
 "nbformat_minor": 5
}
